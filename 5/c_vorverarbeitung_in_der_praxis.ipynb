{
 "cells": [
  {
   "cell_type": "markdown",
   "metadata": {
    "pycharm": {
     "name": "#%% md\n"
    }
   },
   "source": [
    "### Vorverarbeitung in der Praxis (Kapitel 3.4.4.)"
   ]
  },
  {
   "cell_type": "markdown",
   "metadata": {
    "pycharm": {
     "name": "#%% md\n"
    }
   },
   "source": [
    "#### 1) Daten laden"
   ]
  },
  {
   "cell_type": "code",
   "metadata": {
    "pycharm": {
     "name": "#%%\n"
    },
    "ExecuteTime": {
     "end_time": "2024-11-11T11:01:25.339558Z",
     "start_time": "2024-11-11T11:01:25.331299Z"
    }
   },
   "source": [
    "import pandas as pd\n",
    "import numpy as np\n",
    "\n",
    "df = pd.read_csv('insurance.csv')\n",
    "df['region'].unique()"
   ],
   "outputs": [
    {
     "data": {
      "text/plain": [
       "array(['southwest', 'southeast', 'northwest', 'northeast'], dtype=object)"
      ]
     },
     "execution_count": 15,
     "metadata": {},
     "output_type": "execute_result"
    }
   ],
   "execution_count": 15
  },
  {
   "cell_type": "markdown",
   "metadata": {
    "pycharm": {
     "name": "#%% md\n"
    }
   },
   "source": [
    "### Teil 1 - Anlernprozess durchführen"
   ]
  },
  {
   "cell_type": "markdown",
   "metadata": {
    "pycharm": {
     "name": "#%% md\n"
    }
   },
   "source": [
    "#### a) Trainings- und Testdaten separieren"
   ]
  },
  {
   "cell_type": "code",
   "metadata": {
    "pycharm": {
     "name": "#%%\n"
    },
    "ExecuteTime": {
     "end_time": "2024-11-11T11:01:25.371073Z",
     "start_time": "2024-11-11T11:01:25.362111Z"
    }
   },
   "source": [
    "from sklearn.model_selection import train_test_split\n",
    "X = df[['age', 'sex', 'bmi', 'children', 'smoker', 'region']]\n",
    "y = df['charges']\n",
    "X_train, X_test, y_train, y_test = train_test_split(X, y, \n",
    "                                   test_size=0.2, random_state=11)\n",
    "X_train.shape, X_test.shape, y_train.shape, y_test.shape"
   ],
   "outputs": [
    {
     "data": {
      "text/plain": [
       "((1070, 6), (268, 6), (1070,), (268,))"
      ]
     },
     "execution_count": 16,
     "metadata": {},
     "output_type": "execute_result"
    }
   ],
   "execution_count": 16
  },
  {
   "cell_type": "markdown",
   "metadata": {
    "pycharm": {
     "name": "#%% md\n"
    }
   },
   "source": [
    "#### b) Kategoriale Variablen aus Trainingsdaten ziehen, mit dem OneHotEncoder anlernen und transformieren"
   ]
  },
  {
   "cell_type": "code",
   "metadata": {
    "pycharm": {
     "name": "#%%\n"
    },
    "ExecuteTime": {
     "end_time": "2024-11-11T11:01:25.501012Z",
     "start_time": "2024-11-11T11:01:25.474331Z"
    }
   },
   "source": [
    "from sklearn.preprocessing import OneHotEncoder\n",
    "X_train_ohe = X_train[['sex', 'smoker', 'region']]\n",
    "ohe = OneHotEncoder(sparse_output=False)\n",
    "X_train_ohe = ohe.fit_transform(X_train_ohe)\n",
    "X_train_ohe"
   ],
   "outputs": [
    {
     "data": {
      "text/plain": [
       "array([[0., 1., 1., ..., 1., 0., 0.],\n",
       "       [1., 0., 1., ..., 0., 0., 1.],\n",
       "       [0., 1., 1., ..., 0., 1., 0.],\n",
       "       ...,\n",
       "       [0., 1., 1., ..., 1., 0., 0.],\n",
       "       [0., 1., 1., ..., 0., 1., 0.],\n",
       "       [0., 1., 1., ..., 0., 0., 1.]])"
      ]
     },
     "execution_count": 17,
     "metadata": {},
     "output_type": "execute_result"
    }
   ],
   "execution_count": 17
  },
  {
   "cell_type": "markdown",
   "metadata": {
    "pycharm": {
     "name": "#%% md\n"
    }
   },
   "source": [
    "#### c) Numerische Variablen aus Trainingsdaten extrahieren, den Standardisierer anlernen, die Daten transformieren"
   ]
  },
  {
   "cell_type": "code",
   "metadata": {
    "pycharm": {
     "name": "#%%\n"
    },
    "ExecuteTime": {
     "end_time": "2024-11-11T11:01:25.577803Z",
     "start_time": "2024-11-11T11:01:25.553350Z"
    }
   },
   "source": [
    "from sklearn.preprocessing import StandardScaler\n",
    "X_train_std = X_train[['age', 'bmi', 'children']]\n",
    "scaler = StandardScaler()\n",
    "\n",
    "X_train_std = scaler.fit_transform(X_train_std)\n",
    "X_train_std.shape"
   ],
   "outputs": [
    {
     "data": {
      "text/plain": [
       "(1070, 3)"
      ]
     },
     "execution_count": 18,
     "metadata": {},
     "output_type": "execute_result"
    }
   ],
   "execution_count": 18
  },
  {
   "cell_type": "markdown",
   "metadata": {
    "pycharm": {
     "name": "#%% md\n"
    }
   },
   "source": [
    "#### d) Die beiden separierten Arrays wieder zusammenführen, um sie der fit-Methode des Regressors zum Anlernen zu übergeben"
   ]
  },
  {
   "cell_type": "code",
   "metadata": {
    "pycharm": {
     "name": "#%%\n"
    },
    "ExecuteTime": {
     "end_time": "2024-11-11T11:01:25.639344Z",
     "start_time": "2024-11-11T11:01:25.633454Z"
    }
   },
   "source": [
    "import numpy as np\n",
    "X_train_compl = np.concatenate([X_train_ohe, X_train_std], axis=1)\n",
    "X_train_compl.shape"
   ],
   "outputs": [
    {
     "data": {
      "text/plain": [
       "(1070, 11)"
      ]
     },
     "execution_count": 19,
     "metadata": {},
     "output_type": "execute_result"
    }
   ],
   "execution_count": 19
  },
  {
   "cell_type": "markdown",
   "metadata": {
    "pycharm": {
     "name": "#%% md\n"
    }
   },
   "source": [
    "#### e) Den angelernten OneHotEncoder und den angelernten Standardisierer abspeichern"
   ]
  },
  {
   "cell_type": "code",
   "metadata": {
    "pycharm": {
     "name": "#%%\n"
    },
    "ExecuteTime": {
     "end_time": "2024-11-11T11:01:25.816964Z",
     "start_time": "2024-11-11T11:01:25.810264Z"
    }
   },
   "source": [
    "import joblib\n",
    "joblib.dump(ohe, 'ohe.pkl')\n",
    "joblib.dump(scaler, 'scaler.pkl')"
   ],
   "outputs": [
    {
     "data": {
      "text/plain": [
       "['scaler.pkl']"
      ]
     },
     "execution_count": 20,
     "metadata": {},
     "output_type": "execute_result"
    }
   ],
   "execution_count": 20
  },
  {
   "cell_type": "markdown",
   "metadata": {
    "pycharm": {
     "name": "#%% md\n"
    }
   },
   "source": [
    "#### Modell mit vorbereiteten Daten anlernen und angelerntes Modell abspeichern"
   ]
  },
  {
   "cell_type": "code",
   "metadata": {
    "pycharm": {
     "name": "#%%\n"
    },
    "ExecuteTime": {
     "end_time": "2024-11-11T11:01:25.916986Z",
     "start_time": "2024-11-11T11:01:25.910604Z"
    }
   },
   "source": [
    "from sklearn.linear_model import LinearRegression\n",
    "model = LinearRegression()\n",
    "model.fit(X_train_compl, y_train)\n",
    "joblib.dump(model, 'model.pkl')"
   ],
   "outputs": [
    {
     "data": {
      "text/plain": [
       "['model.pkl']"
      ]
     },
     "execution_count": 21,
     "metadata": {},
     "output_type": "execute_result"
    }
   ],
   "execution_count": 21
  },
  {
   "cell_type": "markdown",
   "metadata": {
    "pycharm": {
     "name": "#%% md\n"
    }
   },
   "source": [
    "### Teil II: Objektorientierter Ansatz"
   ]
  },
  {
   "cell_type": "markdown",
   "metadata": {
    "pycharm": {
     "name": "#%% md\n"
    }
   },
   "source": [
    "#### a) Klasse erzeugen, die die Vorverarbeitung und den Schätzprozess übernimmt"
   ]
  },
  {
   "cell_type": "code",
   "metadata": {
    "pycharm": {
     "name": "#%%\n"
    },
    "ExecuteTime": {
     "end_time": "2024-11-11T11:01:26.019178Z",
     "start_time": "2024-11-11T11:01:26.011623Z"
    }
   },
   "source": [
    "import joblib\n",
    "import numpy as np\n",
    "from sklearn.metrics import mean_absolute_error, r2_score\n",
    "\n",
    "class PredictInsurance():\n",
    "    \n",
    "    def __init__(self, ohe: str, scaler: str, model: str,\n",
    "                ohe_cols=['sex', 'smoker', 'region'],\n",
    "                scale_cols=['age', 'bmi', 'children']):\n",
    "        self.ohe = self.__load_file(ohe)\n",
    "        self.scaler = self.__load_file(scaler)\n",
    "        self.model = self.__load_file(model)\n",
    "        self.ohe_cols = ohe_cols\n",
    "        self.scale_cols = scale_cols\n",
    "\n",
    "    def predict(self, X_pred: pd.DataFrame) -> np.array:\n",
    "        X_compl = self.__preprocess(X_pred)\n",
    "        return self.model.predict(X_compl)\n",
    "\n",
    "    def evaluate(self, X_pred: pd.DataFrame, y_true: pd.Series) -> float:\n",
    "        y_pred = self.predict(X_pred)\n",
    "        return (mean_absolute_error(y_true, y_pred),\n",
    "                    r2_score(y_true, y_pred))\n",
    "\n",
    "    def __load_file(self, file):\n",
    "        return joblib.load(file)\n",
    "    \n",
    "    def __preprocess(self, X_pred):\n",
    "        X_ohe = self.__ohe(X_pred[self.ohe_cols])\n",
    "        X_std = self.__scale(X_pred[self.scale_cols])\n",
    "        return np.concatenate([X_ohe, X_std], axis=1)\n",
    "\n",
    "    def __ohe(self, X_ohe):\n",
    "        return self.ohe.transform(X_ohe)\n",
    "\n",
    "    def __scale(self, X_std):\n",
    "        return self.scaler.transform(X_std)"
   ],
   "outputs": [],
   "execution_count": 22
  },
  {
   "cell_type": "markdown",
   "metadata": {
    "pycharm": {
     "name": "#%% md\n"
    }
   },
   "source": [
    "#### 4) Evaluation durchführen"
   ]
  },
  {
   "cell_type": "code",
   "metadata": {
    "pycharm": {
     "name": "#%%\n"
    },
    "ExecuteTime": {
     "end_time": "2024-11-11T11:01:26.154364Z",
     "start_time": "2024-11-11T11:01:26.143328Z"
    }
   },
   "source": [
    "predictor = PredictInsurance( ohe='ohe.pkl', \n",
    "                              scaler='scaler.pkl',\n",
    "                              model='model.pkl')\n",
    "mae, r_square = predictor.evaluate(X_test, y_test)\n",
    "print('mae: {:.3f}, r2: {:.3f}'.format(mae, r_square))"
   ],
   "outputs": [
    {
     "name": "stdout",
     "output_type": "stream",
     "text": [
      "mae: 3798.304, r2: 0.801\n"
     ]
    }
   ],
   "execution_count": 23
  },
  {
   "cell_type": "markdown",
   "metadata": {
    "pycharm": {
     "name": "#%% md\n"
    }
   },
   "source": [
    "#### 5) Schätzung durchführen (Beispieldatensatz)"
   ]
  },
  {
   "cell_type": "code",
   "metadata": {
    "pycharm": {
     "name": "#%%\n"
    },
    "ExecuteTime": {
     "end_time": "2024-11-11T11:01:26.204078Z",
     "start_time": "2024-11-11T11:01:26.196389Z"
    }
   },
   "source": [
    "X_pred = pd.DataFrame([[35, 'female', 25.77, 1, 'no', 'southeast']],\n",
    "   columns=['age', 'sex', 'bmi', 'children', 'smoker', 'region'])\n",
    "y_pred = predictor.predict(X_pred)\n",
    "print('prediction (X_pred): {:.3f}'.format(y_pred[0]))"
   ],
   "outputs": [
    {
     "name": "stdout",
     "output_type": "stream",
     "text": [
      "prediction (X_pred): 5408.000\n"
     ]
    }
   ],
   "execution_count": 24
  }
 ],
 "metadata": {
  "kernelspec": {
   "display_name": "Python 3",
   "language": "python",
   "name": "python3"
  },
  "language_info": {
   "codemirror_mode": {
    "name": "ipython",
    "version": 3
   },
   "file_extension": ".py",
   "mimetype": "text/x-python",
   "name": "python",
   "nbconvert_exporter": "python",
   "pygments_lexer": "ipython3",
   "version": "3.7.7"
  }
 },
 "nbformat": 4,
 "nbformat_minor": 4
}
