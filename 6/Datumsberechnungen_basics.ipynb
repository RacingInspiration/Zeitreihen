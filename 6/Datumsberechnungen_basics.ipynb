{
 "cells": [
  {
   "cell_type": "markdown",
   "source": [
    "# Grundlegende Berechnungen zum Datum"
   ],
   "metadata": {
    "collapsed": false,
    "pycharm": {
     "name": "#%% md\n"
    }
   }
  },
  {
   "cell_type": "markdown",
   "source": [
    "#### Importiere Bibliothek zur Behandlung von Datum und Zeit\n",
    "from datetime import date, timedelta, datetime"
   ],
   "metadata": {
    "collapsed": false,
    "pycharm": {
     "name": "#%% md\n"
    }
   }
  },
  {
   "cell_type": "markdown",
   "source": [
    "#### Wandle Datumsangaben aus Datenframe in das Datumsformat um\n",
    "dates = [datetime.strptime(i, '%Y-%m-%d %H:%M:%S') for i in\n",
    "                 dataframe['Zeitangabe']]"
   ],
   "metadata": {
    "collapsed": false,
    "pycharm": {
     "name": "#%% md\n"
    }
   }
  },
  {
   "cell_type": "markdown",
   "source": [
    "#### Berechne eine verstrichene Zeit\n",
    "verstrichene_zeit = (datetime.now() - zeit_start)\n",
    "#### Umrechnung in Sekunden\n",
    "sekundenzahl = verstrichene_zeit.total_seconds()"
   ],
   "metadata": {
    "collapsed": false,
    "pycharm": {
     "name": "#%% md\n"
    }
   }
  },
  {
   "cell_type": "markdown",
   "source": [
    "### Für ein Datum die zugehörigen Datumsangaben herausziehen\n",
    "jahr = datum.year\n",
    "monat = datum.month\n",
    "woche = datum.isocalendar()[1]\n",
    "tag = datum.weekday\n",
    "stunde = datum.hour\n",
    "minute = datum.minute\n",
    "sekunde = datum.second\n"
   ],
   "metadata": {
    "collapsed": false,
    "pycharm": {
     "name": "#%% md\n"
    }
   }
  },
  {
   "cell_type": "markdown",
   "source": [
    "#### Andere Variante für Zeitdifferenz\n",
    "actual = timer()\n",
    "time_elapsed = (actual - start)\n",
    "#### Zeitpunkte in der Zukunft oder Vergangenheit berechnen\n",
    "init_datetime = datetime.now()\n",
    "future_datetime = init_datetime + timedelta(days = 730)"
   ],
   "metadata": {
    "collapsed": false,
    "pycharm": {
     "name": "#%% md\n"
    }
   }
  },
  {
   "cell_type": "markdown",
   "source": [
    "#### Zeitdauer durch Mischung von Einheiten definieren (s, h, min, day,a)\n",
    "delta = timedelta(\n",
    "    days=50,\n",
    "    seconds=27,\n",
    "    microseconds=10,\n",
    "    milliseconds=29000,\n",
    "    minutes=5,\n",
    "    hours=8,\n",
    "    weeks=2\n",
    ")"
   ],
   "metadata": {
    "collapsed": false,
    "pycharm": {
     "name": "#%% md\n"
    }
   }
  },
  {
   "cell_type": "code",
   "execution_count": null,
   "outputs": [],
   "source": [],
   "metadata": {
    "collapsed": false,
    "pycharm": {
     "name": "#%%\n"
    }
   }
  }
 ],
 "metadata": {
  "kernelspec": {
   "display_name": "Python 3",
   "language": "python",
   "name": "python3"
  },
  "language_info": {
   "codemirror_mode": {
    "name": "ipython",
    "version": 2
   },
   "file_extension": ".py",
   "mimetype": "text/x-python",
   "name": "python",
   "nbconvert_exporter": "python",
   "pygments_lexer": "ipython2",
   "version": "2.7.6"
  }
 },
 "nbformat": 4,
 "nbformat_minor": 0
}