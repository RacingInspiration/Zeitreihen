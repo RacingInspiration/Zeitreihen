{
 "cells": [
  {
   "cell_type": "markdown",
   "metadata": {
    "pycharm": {
     "name": "#%% md\n"
    }
   },
   "source": [
    "### Mit Interaktionsvariablen arbeiten (Kapitel 3.5.2)\n",
    "#### 1) Daten laden und Datumsindex einstellen"
   ]
  },
  {
   "cell_type": "code",
   "execution_count": 3,
   "metadata": {
    "pycharm": {
     "name": "#%%\n"
    }
   },
   "outputs": [
    {
     "data": {
      "text/plain": "                     number_trips     duration  max_temperature_f  \\\nstart_date                                                          \n2013-08-29 09:00:00            12  1022.500000               74.0   \n2013-08-29 10:00:00            14  1677.857143               74.0   \n2013-08-29 11:00:00            42  2203.809524               74.0   \n2013-08-29 12:00:00           120   934.833333               74.0   \n2013-08-29 13:00:00            87  3934.103448               74.0   \n\n                     mean_temperature_f  min_temperature_f  max_dew_point_f  \\\nstart_date                                                                    \n2013-08-29 09:00:00                68.0               61.0             61.0   \n2013-08-29 10:00:00                68.0               61.0             61.0   \n2013-08-29 11:00:00                68.0               61.0             61.0   \n2013-08-29 12:00:00                68.0               61.0             61.0   \n2013-08-29 13:00:00                68.0               61.0             61.0   \n\n                     mean_dew_point_f  min_dew_point_f  max_humidity  \\\nstart_date                                                             \n2013-08-29 09:00:00              58.0             56.0          93.0   \n2013-08-29 10:00:00              58.0             56.0          93.0   \n2013-08-29 11:00:00              58.0             56.0          93.0   \n2013-08-29 12:00:00              58.0             56.0          93.0   \n2013-08-29 13:00:00              58.0             56.0          93.0   \n\n                     mean_humidity  ...  mean_visibility_miles  \\\nstart_date                          ...                          \n2013-08-29 09:00:00           75.0  ...                   10.0   \n2013-08-29 10:00:00           75.0  ...                   10.0   \n2013-08-29 11:00:00           75.0  ...                   10.0   \n2013-08-29 12:00:00           75.0  ...                   10.0   \n2013-08-29 13:00:00           75.0  ...                   10.0   \n\n                     min_visibility_miles  max_wind_Speed_mph  \\\nstart_date                                                      \n2013-08-29 09:00:00                  10.0                23.0   \n2013-08-29 10:00:00                  10.0                23.0   \n2013-08-29 11:00:00                  10.0                23.0   \n2013-08-29 12:00:00                  10.0                23.0   \n2013-08-29 13:00:00                  10.0                23.0   \n\n                     mean_wind_speed_mph  max_gust_speed_mph  \\\nstart_date                                                     \n2013-08-29 09:00:00                 11.0                28.0   \n2013-08-29 10:00:00                 11.0                28.0   \n2013-08-29 11:00:00                 11.0                28.0   \n2013-08-29 12:00:00                 11.0                28.0   \n2013-08-29 13:00:00                 11.0                28.0   \n\n                     precipitation_inches  cloud_cover  events  \\\nstart_date                                                       \n2013-08-29 09:00:00                     0          4.0     NaN   \n2013-08-29 10:00:00                     0          4.0     NaN   \n2013-08-29 11:00:00                     0          4.0     NaN   \n2013-08-29 12:00:00                     0          4.0     NaN   \n2013-08-29 13:00:00                     0          4.0     NaN   \n\n                     wind_dir_degrees  zip_code  \nstart_date                                       \n2013-08-29 09:00:00             286.0     94107  \n2013-08-29 10:00:00             286.0     94107  \n2013-08-29 11:00:00             286.0     94107  \n2013-08-29 12:00:00             286.0     94107  \n2013-08-29 13:00:00             286.0     94107  \n\n[5 rows x 25 columns]",
      "text/html": "<div>\n<style scoped>\n    .dataframe tbody tr th:only-of-type {\n        vertical-align: middle;\n    }\n\n    .dataframe tbody tr th {\n        vertical-align: top;\n    }\n\n    .dataframe thead th {\n        text-align: right;\n    }\n</style>\n<table border=\"1\" class=\"dataframe\">\n  <thead>\n    <tr style=\"text-align: right;\">\n      <th></th>\n      <th>number_trips</th>\n      <th>duration</th>\n      <th>max_temperature_f</th>\n      <th>mean_temperature_f</th>\n      <th>min_temperature_f</th>\n      <th>max_dew_point_f</th>\n      <th>mean_dew_point_f</th>\n      <th>min_dew_point_f</th>\n      <th>max_humidity</th>\n      <th>mean_humidity</th>\n      <th>...</th>\n      <th>mean_visibility_miles</th>\n      <th>min_visibility_miles</th>\n      <th>max_wind_Speed_mph</th>\n      <th>mean_wind_speed_mph</th>\n      <th>max_gust_speed_mph</th>\n      <th>precipitation_inches</th>\n      <th>cloud_cover</th>\n      <th>events</th>\n      <th>wind_dir_degrees</th>\n      <th>zip_code</th>\n    </tr>\n    <tr>\n      <th>start_date</th>\n      <th></th>\n      <th></th>\n      <th></th>\n      <th></th>\n      <th></th>\n      <th></th>\n      <th></th>\n      <th></th>\n      <th></th>\n      <th></th>\n      <th></th>\n      <th></th>\n      <th></th>\n      <th></th>\n      <th></th>\n      <th></th>\n      <th></th>\n      <th></th>\n      <th></th>\n      <th></th>\n      <th></th>\n    </tr>\n  </thead>\n  <tbody>\n    <tr>\n      <th>2013-08-29 09:00:00</th>\n      <td>12</td>\n      <td>1022.500000</td>\n      <td>74.0</td>\n      <td>68.0</td>\n      <td>61.0</td>\n      <td>61.0</td>\n      <td>58.0</td>\n      <td>56.0</td>\n      <td>93.0</td>\n      <td>75.0</td>\n      <td>...</td>\n      <td>10.0</td>\n      <td>10.0</td>\n      <td>23.0</td>\n      <td>11.0</td>\n      <td>28.0</td>\n      <td>0</td>\n      <td>4.0</td>\n      <td>NaN</td>\n      <td>286.0</td>\n      <td>94107</td>\n    </tr>\n    <tr>\n      <th>2013-08-29 10:00:00</th>\n      <td>14</td>\n      <td>1677.857143</td>\n      <td>74.0</td>\n      <td>68.0</td>\n      <td>61.0</td>\n      <td>61.0</td>\n      <td>58.0</td>\n      <td>56.0</td>\n      <td>93.0</td>\n      <td>75.0</td>\n      <td>...</td>\n      <td>10.0</td>\n      <td>10.0</td>\n      <td>23.0</td>\n      <td>11.0</td>\n      <td>28.0</td>\n      <td>0</td>\n      <td>4.0</td>\n      <td>NaN</td>\n      <td>286.0</td>\n      <td>94107</td>\n    </tr>\n    <tr>\n      <th>2013-08-29 11:00:00</th>\n      <td>42</td>\n      <td>2203.809524</td>\n      <td>74.0</td>\n      <td>68.0</td>\n      <td>61.0</td>\n      <td>61.0</td>\n      <td>58.0</td>\n      <td>56.0</td>\n      <td>93.0</td>\n      <td>75.0</td>\n      <td>...</td>\n      <td>10.0</td>\n      <td>10.0</td>\n      <td>23.0</td>\n      <td>11.0</td>\n      <td>28.0</td>\n      <td>0</td>\n      <td>4.0</td>\n      <td>NaN</td>\n      <td>286.0</td>\n      <td>94107</td>\n    </tr>\n    <tr>\n      <th>2013-08-29 12:00:00</th>\n      <td>120</td>\n      <td>934.833333</td>\n      <td>74.0</td>\n      <td>68.0</td>\n      <td>61.0</td>\n      <td>61.0</td>\n      <td>58.0</td>\n      <td>56.0</td>\n      <td>93.0</td>\n      <td>75.0</td>\n      <td>...</td>\n      <td>10.0</td>\n      <td>10.0</td>\n      <td>23.0</td>\n      <td>11.0</td>\n      <td>28.0</td>\n      <td>0</td>\n      <td>4.0</td>\n      <td>NaN</td>\n      <td>286.0</td>\n      <td>94107</td>\n    </tr>\n    <tr>\n      <th>2013-08-29 13:00:00</th>\n      <td>87</td>\n      <td>3934.103448</td>\n      <td>74.0</td>\n      <td>68.0</td>\n      <td>61.0</td>\n      <td>61.0</td>\n      <td>58.0</td>\n      <td>56.0</td>\n      <td>93.0</td>\n      <td>75.0</td>\n      <td>...</td>\n      <td>10.0</td>\n      <td>10.0</td>\n      <td>23.0</td>\n      <td>11.0</td>\n      <td>28.0</td>\n      <td>0</td>\n      <td>4.0</td>\n      <td>NaN</td>\n      <td>286.0</td>\n      <td>94107</td>\n    </tr>\n  </tbody>\n</table>\n<p>5 rows × 25 columns</p>\n</div>"
     },
     "execution_count": 3,
     "metadata": {},
     "output_type": "execute_result"
    }
   ],
   "source": [
    "import pandas as pd\n",
    "from math import ceil\n",
    "\n",
    "pd.set_option('display.max_columns', 20)\n",
    "\n",
    "data_url=r'https://github.com/tplusone/hanser_ml_zeitreihen/blob/master/Daten/trip_weather_hourly.csv?raw=true'\n",
    "df = pd.read_csv(data_url)\n",
    "df['start_date'] = pd.to_datetime(df['start_date'])\n",
    "df = df.set_index('start_date')\n",
    "df.head()"
   ]
  },
  {
   "cell_type": "markdown",
   "metadata": {
    "pycharm": {
     "name": "#%% md\n"
    }
   },
   "source": [
    "#### 2) Features aus Datum extrahieren"
   ]
  },
  {
   "cell_type": "code",
   "execution_count": 4,
   "metadata": {
    "pycharm": {
     "name": "#%%\n"
    }
   },
   "outputs": [
    {
     "data": {
      "text/plain": "                     weekday  month  hour\nstart_date                               \n2013-08-29 09:00:00        3      8     9\n2013-08-29 10:00:00        3      8    10\n2013-08-29 11:00:00        3      8    11\n2013-08-29 12:00:00        3      8    12\n2013-08-29 13:00:00        3      8    13",
      "text/html": "<div>\n<style scoped>\n    .dataframe tbody tr th:only-of-type {\n        vertical-align: middle;\n    }\n\n    .dataframe tbody tr th {\n        vertical-align: top;\n    }\n\n    .dataframe thead th {\n        text-align: right;\n    }\n</style>\n<table border=\"1\" class=\"dataframe\">\n  <thead>\n    <tr style=\"text-align: right;\">\n      <th></th>\n      <th>weekday</th>\n      <th>month</th>\n      <th>hour</th>\n    </tr>\n    <tr>\n      <th>start_date</th>\n      <th></th>\n      <th></th>\n      <th></th>\n    </tr>\n  </thead>\n  <tbody>\n    <tr>\n      <th>2013-08-29 09:00:00</th>\n      <td>3</td>\n      <td>8</td>\n      <td>9</td>\n    </tr>\n    <tr>\n      <th>2013-08-29 10:00:00</th>\n      <td>3</td>\n      <td>8</td>\n      <td>10</td>\n    </tr>\n    <tr>\n      <th>2013-08-29 11:00:00</th>\n      <td>3</td>\n      <td>8</td>\n      <td>11</td>\n    </tr>\n    <tr>\n      <th>2013-08-29 12:00:00</th>\n      <td>3</td>\n      <td>8</td>\n      <td>12</td>\n    </tr>\n    <tr>\n      <th>2013-08-29 13:00:00</th>\n      <td>3</td>\n      <td>8</td>\n      <td>13</td>\n    </tr>\n  </tbody>\n</table>\n</div>"
     },
     "execution_count": 4,
     "metadata": {},
     "output_type": "execute_result"
    }
   ],
   "source": [
    "df['weekday'] = df.index.weekday\n",
    "df['month'] = df.index.month\n",
    "df['hour'] = df.index.hour\n",
    "df[['weekday', 'month', 'hour']].head()"
   ]
  },
  {
   "cell_type": "markdown",
   "metadata": {
    "pycharm": {
     "name": "#%% md\n"
    }
   },
   "source": [
    "#### 2) Train-Test-Split durchführen"
   ]
  },
  {
   "cell_type": "code",
   "execution_count": 5,
   "metadata": {
    "pycharm": {
     "name": "#%%\n"
    }
   },
   "outputs": [
    {
     "data": {
      "text/plain": "((14066, 3), (3517, 3), (14066,), (3517,))"
     },
     "execution_count": 5,
     "metadata": {},
     "output_type": "execute_result"
    }
   ],
   "source": [
    "from sklearn.model_selection import train_test_split\n",
    "\n",
    "X = df[['month', 'weekday', 'hour']]\n",
    "y = df['number_trips']\n",
    "X_train, X_test, y_train, y_test = train_test_split(X, y, test_size=.2, \n",
    "                                            random_state=11)\n",
    "X_train.shape, X_test.shape, y_train.shape, y_test.shape"
   ]
  },
  {
   "cell_type": "markdown",
   "metadata": {
    "pycharm": {
     "name": "#%% md\n"
    }
   },
   "source": [
    "#### 3) Interaktionsvariable aus Weekday und hour bilden \n",
    "- Zunächst hour und weekday in One-Hot bzw. Dummy-Format bringen"
   ]
  },
  {
   "cell_type": "code",
   "execution_count": 12,
   "metadata": {
    "pycharm": {
     "name": "#%%\n"
    }
   },
   "outputs": [
    {
     "data": {
      "text/plain": "array([[0],\n       [0],\n       [0],\n       ...,\n       [0],\n       [1],\n       [1]], dtype=int64)"
     },
     "execution_count": 12,
     "metadata": {},
     "output_type": "execute_result"
    }
   ],
   "source": [
    "from sklearn.preprocessing import OneHotEncoder\n",
    "\n",
    "# Daten extrahieren\n",
    "X_train_hour = X_train[['hour']]\n",
    "X_test_hour = X_test[['hour']]\n",
    "\n",
    "# One-Hot-Encoding\n",
    "ohe = OneHotEncoder(sparse=False)\n",
    "ohe.fit(X_train_hour)\n",
    "X_train_hour = ohe.transform(X_train_hour)\n",
    "X_test_hour = ohe.transform(X_test_hour)\n",
    "\n",
    "# Dummy-Variable aus weekday erzeugen (Wochentage=0, Wochenende=1)\n",
    "X_train_wd = X_train['weekday'].map(lambda x:\n",
    "                                1 if x >= 5 else 0)\n",
    "X_test_wd = X_test['weekday'].map(lambda x:\n",
    "                                1 if x >= 5 else 0)\n",
    "# Array in 2D-Format bringen [[1,3,6,4]]\n",
    "\n",
    "X_train_wd = X_train_wd.values.reshape(-1, 1)\n",
    "X_test_wd = X_test_wd.values.reshape(-1, 1)\n",
    "X_train_wd\n"
   ]
  },
  {
   "cell_type": "markdown",
   "metadata": {
    "pycharm": {
     "name": "#%% md\n"
    }
   },
   "source": [
    "- Interaktionsvariable erzeugen und mit einfachen Variablen zusammenführen"
   ]
  },
  {
   "cell_type": "code",
   "execution_count": 14,
   "metadata": {
    "pycharm": {
     "name": "#%%\n"
    }
   },
   "outputs": [
    {
     "data": {
      "text/plain": "((14066, 49), (3517, 49))"
     },
     "execution_count": 14,
     "metadata": {},
     "output_type": "execute_result"
    }
   ],
   "source": [
    "import numpy as np\n",
    "\n",
    "# Interaktionsvariablen erzeugen\n",
    "y = c1*x1+c2*x2+c3*x3+c4*x3*x2.....\n",
    "X_train_int = X_train_wd * X_train_hour\n",
    "X_test_int = X_test_wd * X_test_hour\n",
    "\n",
    "# Variablen zusammenfügen\n",
    "X_train_compl = np.concatenate(\n",
    "    [X_train_wd, X_train_hour, X_train_int], \n",
    "    axis=1)\n",
    "X_test_compl = np.concatenate(\n",
    "    [X_test_wd, X_test_hour, X_test_int], \n",
    "    axis=1)\n",
    "X_train_compl.shape, X_test_compl.shape"
   ]
  },
  {
   "cell_type": "markdown",
   "metadata": {
    "pycharm": {
     "name": "#%% md\n"
    }
   },
   "source": [
    "#### 4) Regression anlernen"
   ]
  },
  {
   "cell_type": "code",
   "execution_count": 15,
   "metadata": {
    "pycharm": {
     "name": "#%%\n"
    }
   },
   "outputs": [
    {
     "name": "stdout",
     "output_type": "stream",
     "text": [
      "r2 0.829\n"
     ]
    }
   ],
   "source": [
    "from sklearn.linear_model import LinearRegression\n",
    "\n",
    "linear = LinearRegression()\n",
    "linear.fit(X_train_compl, y_train)\n",
    "r2 = linear.score(X_test_compl, y_test)\n",
    "print('r2 {:.3f}'.format(r2))"
   ]
  },
  {
   "cell_type": "code",
   "execution_count": null,
   "outputs": [],
   "source": [],
   "metadata": {
    "collapsed": false,
    "pycharm": {
     "name": "#%%\n"
    }
   }
  }
 ],
 "metadata": {
  "kernelspec": {
   "display_name": "Python 3",
   "language": "python",
   "name": "python3"
  },
  "language_info": {
   "codemirror_mode": {
    "name": "ipython",
    "version": 3
   },
   "file_extension": ".py",
   "mimetype": "text/x-python",
   "name": "python",
   "nbconvert_exporter": "python",
   "pygments_lexer": "ipython3",
   "version": "3.7.7"
  }
 },
 "nbformat": 4,
 "nbformat_minor": 4
}