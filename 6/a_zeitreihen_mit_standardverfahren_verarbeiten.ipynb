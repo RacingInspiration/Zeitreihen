{
 "cells": [
  {
   "cell_type": "markdown",
   "metadata": {
    "pycharm": {
     "name": "#%% md\n"
    }
   },
   "source": [
    "### Zeitreihen mit Standard-ML-Verfahren verarbeiten: Fahrradausleihen, SF\n",
    "#### 1) Daten laden und Datumsindex einstellen"
   ]
  },
  {
   "cell_type": "code",
   "execution_count": 61,
   "metadata": {
    "pycharm": {
     "name": "#%%\n"
    }
   },
   "outputs": [
    {
     "data": {
      "text/plain": "            start_date  number_trips     duration  max_temperature_f  \\\n0  2013-08-29 09:00:00            12  1022.500000               74.0   \n1  2013-08-29 10:00:00            14  1677.857143               74.0   \n2  2013-08-29 11:00:00            42  2203.809524               74.0   \n3  2013-08-29 12:00:00           120   934.833333               74.0   \n4  2013-08-29 13:00:00            87  3934.103448               74.0   \n\n   mean_temperature_f  min_temperature_f  max_dew_point_f  mean_dew_point_f  \\\n0                68.0               61.0             61.0              58.0   \n1                68.0               61.0             61.0              58.0   \n2                68.0               61.0             61.0              58.0   \n3                68.0               61.0             61.0              58.0   \n4                68.0               61.0             61.0              58.0   \n\n   min_dew_point_f  max_humidity  ...  mean_visibility_miles  \\\n0             56.0          93.0  ...                   10.0   \n1             56.0          93.0  ...                   10.0   \n2             56.0          93.0  ...                   10.0   \n3             56.0          93.0  ...                   10.0   \n4             56.0          93.0  ...                   10.0   \n\n   min_visibility_miles  max_wind_Speed_mph  mean_wind_speed_mph  \\\n0                  10.0                23.0                 11.0   \n1                  10.0                23.0                 11.0   \n2                  10.0                23.0                 11.0   \n3                  10.0                23.0                 11.0   \n4                  10.0                23.0                 11.0   \n\n   max_gust_speed_mph  precipitation_inches  cloud_cover  events  \\\n0                28.0                     0          4.0     NaN   \n1                28.0                     0          4.0     NaN   \n2                28.0                     0          4.0     NaN   \n3                28.0                     0          4.0     NaN   \n4                28.0                     0          4.0     NaN   \n\n   wind_dir_degrees  zip_code  \n0             286.0     94107  \n1             286.0     94107  \n2             286.0     94107  \n3             286.0     94107  \n4             286.0     94107  \n\n[5 rows x 26 columns]",
      "text/html": "<div>\n<style scoped>\n    .dataframe tbody tr th:only-of-type {\n        vertical-align: middle;\n    }\n\n    .dataframe tbody tr th {\n        vertical-align: top;\n    }\n\n    .dataframe thead th {\n        text-align: right;\n    }\n</style>\n<table border=\"1\" class=\"dataframe\">\n  <thead>\n    <tr style=\"text-align: right;\">\n      <th></th>\n      <th>start_date</th>\n      <th>number_trips</th>\n      <th>duration</th>\n      <th>max_temperature_f</th>\n      <th>mean_temperature_f</th>\n      <th>min_temperature_f</th>\n      <th>max_dew_point_f</th>\n      <th>mean_dew_point_f</th>\n      <th>min_dew_point_f</th>\n      <th>max_humidity</th>\n      <th>...</th>\n      <th>mean_visibility_miles</th>\n      <th>min_visibility_miles</th>\n      <th>max_wind_Speed_mph</th>\n      <th>mean_wind_speed_mph</th>\n      <th>max_gust_speed_mph</th>\n      <th>precipitation_inches</th>\n      <th>cloud_cover</th>\n      <th>events</th>\n      <th>wind_dir_degrees</th>\n      <th>zip_code</th>\n    </tr>\n  </thead>\n  <tbody>\n    <tr>\n      <th>0</th>\n      <td>2013-08-29 09:00:00</td>\n      <td>12</td>\n      <td>1022.500000</td>\n      <td>74.0</td>\n      <td>68.0</td>\n      <td>61.0</td>\n      <td>61.0</td>\n      <td>58.0</td>\n      <td>56.0</td>\n      <td>93.0</td>\n      <td>...</td>\n      <td>10.0</td>\n      <td>10.0</td>\n      <td>23.0</td>\n      <td>11.0</td>\n      <td>28.0</td>\n      <td>0</td>\n      <td>4.0</td>\n      <td>NaN</td>\n      <td>286.0</td>\n      <td>94107</td>\n    </tr>\n    <tr>\n      <th>1</th>\n      <td>2013-08-29 10:00:00</td>\n      <td>14</td>\n      <td>1677.857143</td>\n      <td>74.0</td>\n      <td>68.0</td>\n      <td>61.0</td>\n      <td>61.0</td>\n      <td>58.0</td>\n      <td>56.0</td>\n      <td>93.0</td>\n      <td>...</td>\n      <td>10.0</td>\n      <td>10.0</td>\n      <td>23.0</td>\n      <td>11.0</td>\n      <td>28.0</td>\n      <td>0</td>\n      <td>4.0</td>\n      <td>NaN</td>\n      <td>286.0</td>\n      <td>94107</td>\n    </tr>\n    <tr>\n      <th>2</th>\n      <td>2013-08-29 11:00:00</td>\n      <td>42</td>\n      <td>2203.809524</td>\n      <td>74.0</td>\n      <td>68.0</td>\n      <td>61.0</td>\n      <td>61.0</td>\n      <td>58.0</td>\n      <td>56.0</td>\n      <td>93.0</td>\n      <td>...</td>\n      <td>10.0</td>\n      <td>10.0</td>\n      <td>23.0</td>\n      <td>11.0</td>\n      <td>28.0</td>\n      <td>0</td>\n      <td>4.0</td>\n      <td>NaN</td>\n      <td>286.0</td>\n      <td>94107</td>\n    </tr>\n    <tr>\n      <th>3</th>\n      <td>2013-08-29 12:00:00</td>\n      <td>120</td>\n      <td>934.833333</td>\n      <td>74.0</td>\n      <td>68.0</td>\n      <td>61.0</td>\n      <td>61.0</td>\n      <td>58.0</td>\n      <td>56.0</td>\n      <td>93.0</td>\n      <td>...</td>\n      <td>10.0</td>\n      <td>10.0</td>\n      <td>23.0</td>\n      <td>11.0</td>\n      <td>28.0</td>\n      <td>0</td>\n      <td>4.0</td>\n      <td>NaN</td>\n      <td>286.0</td>\n      <td>94107</td>\n    </tr>\n    <tr>\n      <th>4</th>\n      <td>2013-08-29 13:00:00</td>\n      <td>87</td>\n      <td>3934.103448</td>\n      <td>74.0</td>\n      <td>68.0</td>\n      <td>61.0</td>\n      <td>61.0</td>\n      <td>58.0</td>\n      <td>56.0</td>\n      <td>93.0</td>\n      <td>...</td>\n      <td>10.0</td>\n      <td>10.0</td>\n      <td>23.0</td>\n      <td>11.0</td>\n      <td>28.0</td>\n      <td>0</td>\n      <td>4.0</td>\n      <td>NaN</td>\n      <td>286.0</td>\n      <td>94107</td>\n    </tr>\n  </tbody>\n</table>\n<p>5 rows × 26 columns</p>\n</div>"
     },
     "execution_count": 61,
     "metadata": {},
     "output_type": "execute_result"
    }
   ],
   "source": [
    "import pandas as pd\n",
    "\n",
    "data_url='trip_weather_hourly.csv'\n",
    "df = pd.read_csv(data_url)\n",
    "df.head()"
   ]
  },
  {
   "cell_type": "markdown",
   "metadata": {
    "pycharm": {
     "name": "#%% md\n"
    }
   },
   "source": [
    "#### 2) Features aus Datum extrahieren"
   ]
  },
  {
   "cell_type": "code",
   "execution_count": 66,
   "metadata": {
    "pycharm": {
     "name": "#%%\n"
    }
   },
   "outputs": [
    {
     "data": {
      "text/plain": "                start_date  number_trips     duration  max_temperature_f  \\\n0      2013-08-29 09:00:00            12  1022.500000               74.0   \n1      2013-08-29 10:00:00            14  1677.857143               74.0   \n2      2013-08-29 11:00:00            42  2203.809524               74.0   \n3      2013-08-29 12:00:00           120   934.833333               74.0   \n4      2013-08-29 13:00:00            87  3934.103448               74.0   \n...                    ...           ...          ...                ...   \n17578  2015-08-31 19:00:00            72   496.652778               78.0   \n17579  2015-08-31 20:00:00            35   544.514286               78.0   \n17580  2015-08-31 21:00:00            13   523.230769               78.0   \n17581  2015-08-31 22:00:00             2   190.500000               78.0   \n17582  2015-08-31 23:00:00             7   642.142857               78.0   \n\n       mean_temperature_f  min_temperature_f  max_dew_point_f  \\\n0                    68.0               61.0             61.0   \n1                    68.0               61.0             61.0   \n2                    68.0               61.0             61.0   \n3                    68.0               61.0             61.0   \n4                    68.0               61.0             61.0   \n...                   ...                ...              ...   \n17578                69.0               60.0             58.0   \n17579                69.0               60.0             58.0   \n17580                69.0               60.0             58.0   \n17581                69.0               60.0             58.0   \n17582                69.0               60.0             58.0   \n\n       mean_dew_point_f  min_dew_point_f  max_humidity  ...  \\\n0                  58.0             56.0          93.0  ...   \n1                  58.0             56.0          93.0  ...   \n2                  58.0             56.0          93.0  ...   \n3                  58.0             56.0          93.0  ...   \n4                  58.0             56.0          93.0  ...   \n...                 ...              ...           ...  ...   \n17578              57.0             54.0          84.0  ...   \n17579              57.0             54.0          84.0  ...   \n17580              57.0             54.0          84.0  ...   \n17581              57.0             54.0          84.0  ...   \n17582              57.0             54.0          84.0  ...   \n\n       mean_wind_speed_mph  max_gust_speed_mph  precipitation_inches  \\\n0                     11.0                28.0                     0   \n1                     11.0                28.0                     0   \n2                     11.0                28.0                     0   \n3                     11.0                28.0                     0   \n4                     11.0                28.0                     0   \n...                    ...                 ...                   ...   \n17578                  9.0                21.0                     0   \n17579                  9.0                21.0                     0   \n17580                  9.0                21.0                     0   \n17581                  9.0                21.0                     0   \n17582                  9.0                21.0                     0   \n\n       cloud_cover  events  wind_dir_degrees  zip_code  weekday  month  hour  \n0              4.0     NaN             286.0     94107        3      8     9  \n1              4.0     NaN             286.0     94107        3      8    10  \n2              4.0     NaN             286.0     94107        3      8    11  \n3              4.0     NaN             286.0     94107        3      8    12  \n4              4.0     NaN             286.0     94107        3      8    13  \n...            ...     ...               ...       ...      ...    ...   ...  \n17578          1.0     NaN             246.0     94107        0      8    19  \n17579          1.0     NaN             246.0     94107        0      8    20  \n17580          1.0     NaN             246.0     94107        0      8    21  \n17581          1.0     NaN             246.0     94107        0      8    22  \n17582          1.0     NaN             246.0     94107        0      8    23  \n\n[17583 rows x 29 columns]",
      "text/html": "<div>\n<style scoped>\n    .dataframe tbody tr th:only-of-type {\n        vertical-align: middle;\n    }\n\n    .dataframe tbody tr th {\n        vertical-align: top;\n    }\n\n    .dataframe thead th {\n        text-align: right;\n    }\n</style>\n<table border=\"1\" class=\"dataframe\">\n  <thead>\n    <tr style=\"text-align: right;\">\n      <th></th>\n      <th>start_date</th>\n      <th>number_trips</th>\n      <th>duration</th>\n      <th>max_temperature_f</th>\n      <th>mean_temperature_f</th>\n      <th>min_temperature_f</th>\n      <th>max_dew_point_f</th>\n      <th>mean_dew_point_f</th>\n      <th>min_dew_point_f</th>\n      <th>max_humidity</th>\n      <th>...</th>\n      <th>mean_wind_speed_mph</th>\n      <th>max_gust_speed_mph</th>\n      <th>precipitation_inches</th>\n      <th>cloud_cover</th>\n      <th>events</th>\n      <th>wind_dir_degrees</th>\n      <th>zip_code</th>\n      <th>weekday</th>\n      <th>month</th>\n      <th>hour</th>\n    </tr>\n  </thead>\n  <tbody>\n    <tr>\n      <th>0</th>\n      <td>2013-08-29 09:00:00</td>\n      <td>12</td>\n      <td>1022.500000</td>\n      <td>74.0</td>\n      <td>68.0</td>\n      <td>61.0</td>\n      <td>61.0</td>\n      <td>58.0</td>\n      <td>56.0</td>\n      <td>93.0</td>\n      <td>...</td>\n      <td>11.0</td>\n      <td>28.0</td>\n      <td>0</td>\n      <td>4.0</td>\n      <td>NaN</td>\n      <td>286.0</td>\n      <td>94107</td>\n      <td>3</td>\n      <td>8</td>\n      <td>9</td>\n    </tr>\n    <tr>\n      <th>1</th>\n      <td>2013-08-29 10:00:00</td>\n      <td>14</td>\n      <td>1677.857143</td>\n      <td>74.0</td>\n      <td>68.0</td>\n      <td>61.0</td>\n      <td>61.0</td>\n      <td>58.0</td>\n      <td>56.0</td>\n      <td>93.0</td>\n      <td>...</td>\n      <td>11.0</td>\n      <td>28.0</td>\n      <td>0</td>\n      <td>4.0</td>\n      <td>NaN</td>\n      <td>286.0</td>\n      <td>94107</td>\n      <td>3</td>\n      <td>8</td>\n      <td>10</td>\n    </tr>\n    <tr>\n      <th>2</th>\n      <td>2013-08-29 11:00:00</td>\n      <td>42</td>\n      <td>2203.809524</td>\n      <td>74.0</td>\n      <td>68.0</td>\n      <td>61.0</td>\n      <td>61.0</td>\n      <td>58.0</td>\n      <td>56.0</td>\n      <td>93.0</td>\n      <td>...</td>\n      <td>11.0</td>\n      <td>28.0</td>\n      <td>0</td>\n      <td>4.0</td>\n      <td>NaN</td>\n      <td>286.0</td>\n      <td>94107</td>\n      <td>3</td>\n      <td>8</td>\n      <td>11</td>\n    </tr>\n    <tr>\n      <th>3</th>\n      <td>2013-08-29 12:00:00</td>\n      <td>120</td>\n      <td>934.833333</td>\n      <td>74.0</td>\n      <td>68.0</td>\n      <td>61.0</td>\n      <td>61.0</td>\n      <td>58.0</td>\n      <td>56.0</td>\n      <td>93.0</td>\n      <td>...</td>\n      <td>11.0</td>\n      <td>28.0</td>\n      <td>0</td>\n      <td>4.0</td>\n      <td>NaN</td>\n      <td>286.0</td>\n      <td>94107</td>\n      <td>3</td>\n      <td>8</td>\n      <td>12</td>\n    </tr>\n    <tr>\n      <th>4</th>\n      <td>2013-08-29 13:00:00</td>\n      <td>87</td>\n      <td>3934.103448</td>\n      <td>74.0</td>\n      <td>68.0</td>\n      <td>61.0</td>\n      <td>61.0</td>\n      <td>58.0</td>\n      <td>56.0</td>\n      <td>93.0</td>\n      <td>...</td>\n      <td>11.0</td>\n      <td>28.0</td>\n      <td>0</td>\n      <td>4.0</td>\n      <td>NaN</td>\n      <td>286.0</td>\n      <td>94107</td>\n      <td>3</td>\n      <td>8</td>\n      <td>13</td>\n    </tr>\n    <tr>\n      <th>...</th>\n      <td>...</td>\n      <td>...</td>\n      <td>...</td>\n      <td>...</td>\n      <td>...</td>\n      <td>...</td>\n      <td>...</td>\n      <td>...</td>\n      <td>...</td>\n      <td>...</td>\n      <td>...</td>\n      <td>...</td>\n      <td>...</td>\n      <td>...</td>\n      <td>...</td>\n      <td>...</td>\n      <td>...</td>\n      <td>...</td>\n      <td>...</td>\n      <td>...</td>\n      <td>...</td>\n    </tr>\n    <tr>\n      <th>17578</th>\n      <td>2015-08-31 19:00:00</td>\n      <td>72</td>\n      <td>496.652778</td>\n      <td>78.0</td>\n      <td>69.0</td>\n      <td>60.0</td>\n      <td>58.0</td>\n      <td>57.0</td>\n      <td>54.0</td>\n      <td>84.0</td>\n      <td>...</td>\n      <td>9.0</td>\n      <td>21.0</td>\n      <td>0</td>\n      <td>1.0</td>\n      <td>NaN</td>\n      <td>246.0</td>\n      <td>94107</td>\n      <td>0</td>\n      <td>8</td>\n      <td>19</td>\n    </tr>\n    <tr>\n      <th>17579</th>\n      <td>2015-08-31 20:00:00</td>\n      <td>35</td>\n      <td>544.514286</td>\n      <td>78.0</td>\n      <td>69.0</td>\n      <td>60.0</td>\n      <td>58.0</td>\n      <td>57.0</td>\n      <td>54.0</td>\n      <td>84.0</td>\n      <td>...</td>\n      <td>9.0</td>\n      <td>21.0</td>\n      <td>0</td>\n      <td>1.0</td>\n      <td>NaN</td>\n      <td>246.0</td>\n      <td>94107</td>\n      <td>0</td>\n      <td>8</td>\n      <td>20</td>\n    </tr>\n    <tr>\n      <th>17580</th>\n      <td>2015-08-31 21:00:00</td>\n      <td>13</td>\n      <td>523.230769</td>\n      <td>78.0</td>\n      <td>69.0</td>\n      <td>60.0</td>\n      <td>58.0</td>\n      <td>57.0</td>\n      <td>54.0</td>\n      <td>84.0</td>\n      <td>...</td>\n      <td>9.0</td>\n      <td>21.0</td>\n      <td>0</td>\n      <td>1.0</td>\n      <td>NaN</td>\n      <td>246.0</td>\n      <td>94107</td>\n      <td>0</td>\n      <td>8</td>\n      <td>21</td>\n    </tr>\n    <tr>\n      <th>17581</th>\n      <td>2015-08-31 22:00:00</td>\n      <td>2</td>\n      <td>190.500000</td>\n      <td>78.0</td>\n      <td>69.0</td>\n      <td>60.0</td>\n      <td>58.0</td>\n      <td>57.0</td>\n      <td>54.0</td>\n      <td>84.0</td>\n      <td>...</td>\n      <td>9.0</td>\n      <td>21.0</td>\n      <td>0</td>\n      <td>1.0</td>\n      <td>NaN</td>\n      <td>246.0</td>\n      <td>94107</td>\n      <td>0</td>\n      <td>8</td>\n      <td>22</td>\n    </tr>\n    <tr>\n      <th>17582</th>\n      <td>2015-08-31 23:00:00</td>\n      <td>7</td>\n      <td>642.142857</td>\n      <td>78.0</td>\n      <td>69.0</td>\n      <td>60.0</td>\n      <td>58.0</td>\n      <td>57.0</td>\n      <td>54.0</td>\n      <td>84.0</td>\n      <td>...</td>\n      <td>9.0</td>\n      <td>21.0</td>\n      <td>0</td>\n      <td>1.0</td>\n      <td>NaN</td>\n      <td>246.0</td>\n      <td>94107</td>\n      <td>0</td>\n      <td>8</td>\n      <td>23</td>\n    </tr>\n  </tbody>\n</table>\n<p>17583 rows × 29 columns</p>\n</div>"
     },
     "execution_count": 66,
     "metadata": {},
     "output_type": "execute_result"
    }
   ],
   "source": [
    "from datetime import date, timedelta, datetime\n",
    "from datetime import datetime\n",
    "dates = [datetime.strptime(i, '%Y-%m-%d %H:%M:%S') for i in df['start_date']]\n",
    "df['weekday'] = [i.weekday() for i in dates]\n",
    "df['month'] = [i.month for i in dates]\n",
    "df['hour'] = [i.hour for i in dates]\n",
    "df"
   ]
  },
  {
   "cell_type": "markdown",
   "metadata": {
    "pycharm": {
     "name": "#%% md\n"
    }
   },
   "source": [
    "#### 3) Zusammenhang zwischen Ausleihen und  Monat, Wochentag und Stunde graphisch darstellen"
   ]
  },
  {
   "cell_type": "code",
   "execution_count": 67,
   "metadata": {
    "pycharm": {
     "name": "#%%\n"
    }
   },
   "outputs": [
    {
     "name": "stderr",
     "output_type": "stream",
     "text": [
      "C:\\Users\\TorstenSchmidt\\AppData\\Local\\Temp\\ipykernel_12108\\2339472787.py:5: FutureWarning: \n",
      "\n",
      "The `ci` parameter is deprecated. Use `errorbar=('ci', False)` for the same effect.\n",
      "\n",
      "  sns.barplot(data=df, x='month', y='number_trips', color='b', ax=axs[0], ci=False)\n",
      "C:\\Users\\TorstenSchmidt\\AppData\\Local\\Temp\\ipykernel_12108\\2339472787.py:6: FutureWarning: \n",
      "\n",
      "The `ci` parameter is deprecated. Use `errorbar=('ci', False)` for the same effect.\n",
      "\n",
      "  sns.barplot(data=df, x='weekday', y='number_trips', color='r', ax=axs[1], ci=False)\n",
      "C:\\Users\\TorstenSchmidt\\AppData\\Local\\Temp\\ipykernel_12108\\2339472787.py:7: FutureWarning: \n",
      "\n",
      "The `ci` parameter is deprecated. Use `errorbar=('ci', False)` for the same effect.\n",
      "\n",
      "  sns.barplot(data=df, x='hour', y='number_trips', color='g', ax=axs[2], ci=False)\n"
     ]
    },
    {
     "data": {
      "text/plain": "<Figure size 1500x400 with 3 Axes>",
      "image/png": "[encoded data removed]"
     },
     "metadata": {},
     "output_type": "display_data"
    }
   ],
   "source": [
    "import seaborn as sns\n",
    "import matplotlib.pyplot as plt\n",
    "\n",
    "fig, axs = plt.subplots(nrows=1, ncols=3, figsize=(15,4))\n",
    "sns.barplot(data=df, x='month', y='number_trips', color='b', ax=axs[0], ci=False)\n",
    "sns.barplot(data=df, x='weekday', y='number_trips', color='r', ax=axs[1], ci=False)\n",
    "sns.barplot(data=df, x='hour', y='number_trips', color='g', ax=axs[2], ci=False)\n",
    "plt.tight_layout()"
   ]
  },
  {
   "cell_type": "markdown",
   "metadata": {
    "pycharm": {
     "name": "#%% md\n"
    }
   },
   "source": [
    "### Regression mit Ausleihen als Zielvariable und Datumsangaben als Prädiktoren\n",
    "#### 1) Aufteilung der Daten in Trainings-/Testdaten"
   ]
  },
  {
   "cell_type": "code",
   "execution_count": 68,
   "metadata": {
    "pycharm": {
     "name": "#%%\n"
    }
   },
   "outputs": [
    {
     "data": {
      "text/plain": "((14066, 3), (3517, 3), (14066,), (3517,))"
     },
     "execution_count": 68,
     "metadata": {},
     "output_type": "execute_result"
    }
   ],
   "source": [
    "from sklearn.model_selection import train_test_split\n",
    "\n",
    "X = df[['month', 'weekday', 'hour']]\n",
    "y = df['number_trips']\n",
    "X_train, X_test, y_train, y_test = train_test_split(X, y, test_size=.2, \n",
    "                                            random_state=11)\n",
    "X_train.shape, X_test.shape, y_train.shape, y_test.shape"
   ]
  },
  {
   "cell_type": "markdown",
   "metadata": {
    "pycharm": {
     "name": "#%% md\n"
    }
   },
   "source": [
    "#### 2) One-Hot-Encodierung der Datumsangaben"
   ]
  },
  {
   "cell_type": "code",
   "execution_count": 58,
   "metadata": {
    "pycharm": {
     "name": "#%%\n"
    }
   },
   "outputs": [
    {
     "data": {
      "text/plain": "((14066, 43), (3517, 43))"
     },
     "execution_count": 58,
     "metadata": {},
     "output_type": "execute_result"
    }
   ],
   "source": [
    "from sklearn.preprocessing import OneHotEncoder\n",
    "\n",
    "ohe = OneHotEncoder()\n",
    "ohe.fit(X_train)\n",
    "X_train_ohe = ohe.transform(X_train)\n",
    "X_test_ohe = ohe.transform(X_test)\n",
    "X_train_ohe.shape, X_test_ohe.shape"
   ]
  },
  {
   "cell_type": "markdown",
   "metadata": {
    "pycharm": {
     "name": "#%% md\n"
    }
   },
   "source": [
    "#### 3) Anlernen der Regression und Evaluation"
   ]
  },
  {
   "cell_type": "code",
   "execution_count": 69,
   "metadata": {
    "pycharm": {
     "name": "#%%\n"
    }
   },
   "outputs": [
    {
     "name": "stdout",
     "output_type": "stream",
     "text": [
      "r2 0.665\n"
     ]
    }
   ],
   "source": [
    "from sklearn.linear_model import LinearRegression\n",
    "\n",
    "linear = LinearRegression()\n",
    "linear.fit(X_train_ohe, y_train)\n",
    "r2 = linear.score(X_test_ohe, y_test)\n",
    "print('r2 {:.3f}'.format(r2))"
   ]
  },
  {
   "cell_type": "code",
   "execution_count": 74,
   "metadata": {
    "pycharm": {
     "name": "#%%\n"
    }
   },
   "outputs": [
    {
     "data": {
      "text/plain": "2449    -0.201869\n2337    -0.133339\n5567    -0.012613\n9905          inf\n11499   -0.388604\n           ...   \n8475    -0.335725\n2888     2.094824\n9160          inf\n14906    0.169275\n10466   -0.553516\nName: number_trips, Length: 3517, dtype: float64"
     },
     "execution_count": 74,
     "metadata": {},
     "output_type": "execute_result"
    }
   ],
   "source": [
    "y_pred = linear.predict(X_test_ohe)\n",
    "#y_pred == y_test\n",
    "(y_pred-y_test)/y_test # Relativer Fehler der Prädiktion"
   ]
  },
  {
   "cell_type": "code",
   "execution_count": null,
   "outputs": [],
   "source": [],
   "metadata": {
    "collapsed": false,
    "pycharm": {
     "name": "#%%\n"
    }
   }
  }
 ],
 "metadata": {
  "kernelspec": {
   "display_name": "Python 3",
   "language": "python",
   "name": "python3"
  },
  "language_info": {
   "codemirror_mode": {
    "name": "ipython",
    "version": 3
   },
   "file_extension": ".py",
   "mimetype": "text/x-python",
   "name": "python",
   "nbconvert_exporter": "python",
   "pygments_lexer": "ipython3",
   "version": "3.7.7"
  }
 },
 "nbformat": 4,
 "nbformat_minor": 4
}