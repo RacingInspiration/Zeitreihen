{
 "cells": [
  {
   "cell_type": "markdown",
   "source": [
    "# Polynomiale Nichtlineare Regression"
   ],
   "metadata": {
    "collapsed": false,
    "pycharm": {
     "name": "#%% md\n"
    }
   }
  },
  {
   "cell_type": "code",
   "execution_count": 2,
   "outputs": [
    {
     "data": {
      "text/plain": "       month  weekday  hour           start_date  number_trips     duration  \\\n0          8        3     9  2013-08-29 09:00:00            12  1022.500000   \n1          8        3    10  2013-08-29 10:00:00            14  1677.857143   \n2          8        3    11  2013-08-29 11:00:00            42  2203.809524   \n3          8        3    12  2013-08-29 12:00:00           120   934.833333   \n4          8        3    13  2013-08-29 13:00:00            87  3934.103448   \n...      ...      ...   ...                  ...           ...          ...   \n17578      8        0    19  2015-08-31 19:00:00            72   496.652778   \n17579      8        0    20  2015-08-31 20:00:00            35   544.514286   \n17580      8        0    21  2015-08-31 21:00:00            13   523.230769   \n17581      8        0    22  2015-08-31 22:00:00             2   190.500000   \n17582      8        0    23  2015-08-31 23:00:00             7   642.142857   \n\n       max_temperature_f  mean_temperature_f  min_temperature_f  \\\n0                   74.0                68.0               61.0   \n1                   74.0                68.0               61.0   \n2                   74.0                68.0               61.0   \n3                   74.0                68.0               61.0   \n4                   74.0                68.0               61.0   \n...                  ...                 ...                ...   \n17578               78.0                69.0               60.0   \n17579               78.0                69.0               60.0   \n17580               78.0                69.0               60.0   \n17581               78.0                69.0               60.0   \n17582               78.0                69.0               60.0   \n\n       max_dew_point_f  ...  mean_visibility_miles  min_visibility_miles  \\\n0                 61.0  ...                   10.0                  10.0   \n1                 61.0  ...                   10.0                  10.0   \n2                 61.0  ...                   10.0                  10.0   \n3                 61.0  ...                   10.0                  10.0   \n4                 61.0  ...                   10.0                  10.0   \n...                ...  ...                    ...                   ...   \n17578             58.0  ...                   10.0                   9.0   \n17579             58.0  ...                   10.0                   9.0   \n17580             58.0  ...                   10.0                   9.0   \n17581             58.0  ...                   10.0                   9.0   \n17582             58.0  ...                   10.0                   9.0   \n\n       max_wind_Speed_mph  mean_wind_speed_mph  max_gust_speed_mph  \\\n0                    23.0                 11.0                28.0   \n1                    23.0                 11.0                28.0   \n2                    23.0                 11.0                28.0   \n3                    23.0                 11.0                28.0   \n4                    23.0                 11.0                28.0   \n...                   ...                  ...                 ...   \n17578                18.0                  9.0                21.0   \n17579                18.0                  9.0                21.0   \n17580                18.0                  9.0                21.0   \n17581                18.0                  9.0                21.0   \n17582                18.0                  9.0                21.0   \n\n       precipitation_inches  cloud_cover  events  wind_dir_degrees  zip_code  \n0                         0          4.0     NaN             286.0     94107  \n1                         0          4.0     NaN             286.0     94107  \n2                         0          4.0     NaN             286.0     94107  \n3                         0          4.0     NaN             286.0     94107  \n4                         0          4.0     NaN             286.0     94107  \n...                     ...          ...     ...               ...       ...  \n17578                     0          1.0     NaN             246.0     94107  \n17579                     0          1.0     NaN             246.0     94107  \n17580                     0          1.0     NaN             246.0     94107  \n17581                     0          1.0     NaN             246.0     94107  \n17582                     0          1.0     NaN             246.0     94107  \n\n[17583 rows x 29 columns]",
      "text/html": "<div>\n<style scoped>\n    .dataframe tbody tr th:only-of-type {\n        vertical-align: middle;\n    }\n\n    .dataframe tbody tr th {\n        vertical-align: top;\n    }\n\n    .dataframe thead th {\n        text-align: right;\n    }\n</style>\n<table border=\"1\" class=\"dataframe\">\n  <thead>\n    <tr style=\"text-align: right;\">\n      <th></th>\n      <th>month</th>\n      <th>weekday</th>\n      <th>hour</th>\n      <th>start_date</th>\n      <th>number_trips</th>\n      <th>duration</th>\n      <th>max_temperature_f</th>\n      <th>mean_temperature_f</th>\n      <th>min_temperature_f</th>\n      <th>max_dew_point_f</th>\n      <th>...</th>\n      <th>mean_visibility_miles</th>\n      <th>min_visibility_miles</th>\n      <th>max_wind_Speed_mph</th>\n      <th>mean_wind_speed_mph</th>\n      <th>max_gust_speed_mph</th>\n      <th>precipitation_inches</th>\n      <th>cloud_cover</th>\n      <th>events</th>\n      <th>wind_dir_degrees</th>\n      <th>zip_code</th>\n    </tr>\n  </thead>\n  <tbody>\n    <tr>\n      <th>0</th>\n      <td>8</td>\n      <td>3</td>\n      <td>9</td>\n      <td>2013-08-29 09:00:00</td>\n      <td>12</td>\n      <td>1022.500000</td>\n      <td>74.0</td>\n      <td>68.0</td>\n      <td>61.0</td>\n      <td>61.0</td>\n      <td>...</td>\n      <td>10.0</td>\n      <td>10.0</td>\n      <td>23.0</td>\n      <td>11.0</td>\n      <td>28.0</td>\n      <td>0</td>\n      <td>4.0</td>\n      <td>NaN</td>\n      <td>286.0</td>\n      <td>94107</td>\n    </tr>\n    <tr>\n      <th>1</th>\n      <td>8</td>\n      <td>3</td>\n      <td>10</td>\n      <td>2013-08-29 10:00:00</td>\n      <td>14</td>\n      <td>1677.857143</td>\n      <td>74.0</td>\n      <td>68.0</td>\n      <td>61.0</td>\n      <td>61.0</td>\n      <td>...</td>\n      <td>10.0</td>\n      <td>10.0</td>\n      <td>23.0</td>\n      <td>11.0</td>\n      <td>28.0</td>\n      <td>0</td>\n      <td>4.0</td>\n      <td>NaN</td>\n      <td>286.0</td>\n      <td>94107</td>\n    </tr>\n    <tr>\n      <th>2</th>\n      <td>8</td>\n      <td>3</td>\n      <td>11</td>\n      <td>2013-08-29 11:00:00</td>\n      <td>42</td>\n      <td>2203.809524</td>\n      <td>74.0</td>\n      <td>68.0</td>\n      <td>61.0</td>\n      <td>61.0</td>\n      <td>...</td>\n      <td>10.0</td>\n      <td>10.0</td>\n      <td>23.0</td>\n      <td>11.0</td>\n      <td>28.0</td>\n      <td>0</td>\n      <td>4.0</td>\n      <td>NaN</td>\n      <td>286.0</td>\n      <td>94107</td>\n    </tr>\n    <tr>\n      <th>3</th>\n      <td>8</td>\n      <td>3</td>\n      <td>12</td>\n      <td>2013-08-29 12:00:00</td>\n      <td>120</td>\n      <td>934.833333</td>\n      <td>74.0</td>\n      <td>68.0</td>\n      <td>61.0</td>\n      <td>61.0</td>\n      <td>...</td>\n      <td>10.0</td>\n      <td>10.0</td>\n      <td>23.0</td>\n      <td>11.0</td>\n      <td>28.0</td>\n      <td>0</td>\n      <td>4.0</td>\n      <td>NaN</td>\n      <td>286.0</td>\n      <td>94107</td>\n    </tr>\n    <tr>\n      <th>4</th>\n      <td>8</td>\n      <td>3</td>\n      <td>13</td>\n      <td>2013-08-29 13:00:00</td>\n      <td>87</td>\n      <td>3934.103448</td>\n      <td>74.0</td>\n      <td>68.0</td>\n      <td>61.0</td>\n      <td>61.0</td>\n      <td>...</td>\n      <td>10.0</td>\n      <td>10.0</td>\n      <td>23.0</td>\n      <td>11.0</td>\n      <td>28.0</td>\n      <td>0</td>\n      <td>4.0</td>\n      <td>NaN</td>\n      <td>286.0</td>\n      <td>94107</td>\n    </tr>\n    <tr>\n      <th>...</th>\n      <td>...</td>\n      <td>...</td>\n      <td>...</td>\n      <td>...</td>\n      <td>...</td>\n      <td>...</td>\n      <td>...</td>\n      <td>...</td>\n      <td>...</td>\n      <td>...</td>\n      <td>...</td>\n      <td>...</td>\n      <td>...</td>\n      <td>...</td>\n      <td>...</td>\n      <td>...</td>\n      <td>...</td>\n      <td>...</td>\n      <td>...</td>\n      <td>...</td>\n      <td>...</td>\n    </tr>\n    <tr>\n      <th>17578</th>\n      <td>8</td>\n      <td>0</td>\n      <td>19</td>\n      <td>2015-08-31 19:00:00</td>\n      <td>72</td>\n      <td>496.652778</td>\n      <td>78.0</td>\n      <td>69.0</td>\n      <td>60.0</td>\n      <td>58.0</td>\n      <td>...</td>\n      <td>10.0</td>\n      <td>9.0</td>\n      <td>18.0</td>\n      <td>9.0</td>\n      <td>21.0</td>\n      <td>0</td>\n      <td>1.0</td>\n      <td>NaN</td>\n      <td>246.0</td>\n      <td>94107</td>\n    </tr>\n    <tr>\n      <th>17579</th>\n      <td>8</td>\n      <td>0</td>\n      <td>20</td>\n      <td>2015-08-31 20:00:00</td>\n      <td>35</td>\n      <td>544.514286</td>\n      <td>78.0</td>\n      <td>69.0</td>\n      <td>60.0</td>\n      <td>58.0</td>\n      <td>...</td>\n      <td>10.0</td>\n      <td>9.0</td>\n      <td>18.0</td>\n      <td>9.0</td>\n      <td>21.0</td>\n      <td>0</td>\n      <td>1.0</td>\n      <td>NaN</td>\n      <td>246.0</td>\n      <td>94107</td>\n    </tr>\n    <tr>\n      <th>17580</th>\n      <td>8</td>\n      <td>0</td>\n      <td>21</td>\n      <td>2015-08-31 21:00:00</td>\n      <td>13</td>\n      <td>523.230769</td>\n      <td>78.0</td>\n      <td>69.0</td>\n      <td>60.0</td>\n      <td>58.0</td>\n      <td>...</td>\n      <td>10.0</td>\n      <td>9.0</td>\n      <td>18.0</td>\n      <td>9.0</td>\n      <td>21.0</td>\n      <td>0</td>\n      <td>1.0</td>\n      <td>NaN</td>\n      <td>246.0</td>\n      <td>94107</td>\n    </tr>\n    <tr>\n      <th>17581</th>\n      <td>8</td>\n      <td>0</td>\n      <td>22</td>\n      <td>2015-08-31 22:00:00</td>\n      <td>2</td>\n      <td>190.500000</td>\n      <td>78.0</td>\n      <td>69.0</td>\n      <td>60.0</td>\n      <td>58.0</td>\n      <td>...</td>\n      <td>10.0</td>\n      <td>9.0</td>\n      <td>18.0</td>\n      <td>9.0</td>\n      <td>21.0</td>\n      <td>0</td>\n      <td>1.0</td>\n      <td>NaN</td>\n      <td>246.0</td>\n      <td>94107</td>\n    </tr>\n    <tr>\n      <th>17582</th>\n      <td>8</td>\n      <td>0</td>\n      <td>23</td>\n      <td>2015-08-31 23:00:00</td>\n      <td>7</td>\n      <td>642.142857</td>\n      <td>78.0</td>\n      <td>69.0</td>\n      <td>60.0</td>\n      <td>58.0</td>\n      <td>...</td>\n      <td>10.0</td>\n      <td>9.0</td>\n      <td>18.0</td>\n      <td>9.0</td>\n      <td>21.0</td>\n      <td>0</td>\n      <td>1.0</td>\n      <td>NaN</td>\n      <td>246.0</td>\n      <td>94107</td>\n    </tr>\n  </tbody>\n</table>\n<p>17583 rows × 29 columns</p>\n</div>"
     },
     "execution_count": 2,
     "metadata": {},
     "output_type": "execute_result"
    }
   ],
   "source": [
    "import pandas as pd\n",
    "df = pd.read_csv('trip_weather_hourly.csv')\n",
    "df\n",
    "date_column = df['start_date']\n",
    "from datetime import datetime, timedelta\n",
    "date_colum1 = [datetime.strptime(i, '%Y-%m-%d %H:%M:%S') for i in date_column]\n",
    "# aus den Zeilen die Datumselemente auslesen\n",
    "start_date_month = pd.DataFrame([i.month for i in date_colum1], columns = ['month'])\n",
    "start_date_weekday = pd.DataFrame([i.weekday() for i in date_colum1], columns = ['weekday'])\n",
    "start_date_hour = pd.DataFrame([i.hour for i in date_colum1], columns = ['hour'])\n",
    "df_expand = pd.concat([start_date_month, start_date_weekday, start_date_hour, df], axis = 1)\n",
    "df_expand"
   ],
   "metadata": {
    "collapsed": false,
    "pycharm": {
     "name": "#%%\n"
    }
   }
  },
  {
   "cell_type": "markdown",
   "source": [
    "#### TrainTestSplit"
   ],
   "metadata": {
    "collapsed": false,
    "pycharm": {
     "name": "#%% md\n"
    }
   }
  },
  {
   "cell_type": "code",
   "execution_count": 4,
   "outputs": [
    {
     "data": {
      "text/plain": "((14066, 3), (3517, 3), (14066,), (3517,))"
     },
     "execution_count": 4,
     "metadata": {},
     "output_type": "execute_result"
    }
   ],
   "source": [
    "from sklearn.model_selection import train_test_split\n",
    "X = df_expand[['month','weekday','hour']]\n",
    "y = df_expand['number_trips']\n",
    "X_train, X_test, y_train, y_test = train_test_split(X, y, test_size=0.2, random_state=11)\n",
    "X_train.shape, X_test.shape, y_train.shape, y_test.shape"
   ],
   "metadata": {
    "collapsed": false,
    "pycharm": {
     "name": "#%%\n"
    }
   }
  },
  {
   "cell_type": "markdown",
   "source": [
    "#### 2. One Hot Encoding"
   ],
   "metadata": {
    "collapsed": false,
    "pycharm": {
     "name": "#%% md\n"
    }
   }
  },
  {
   "cell_type": "code",
   "execution_count": 8,
   "outputs": [],
   "source": [
    "from sklearn.preprocessing import OneHotEncoder\n",
    "ohe = OneHotEncoder()\n",
    "ohe.fit(X)\n",
    "X_train_ohe = ohe.transform(X_train)\n",
    "X_test_ohe = ohe.transform(X_test)"
   ],
   "metadata": {
    "collapsed": false,
    "pycharm": {
     "name": "#%%\n"
    }
   }
  },
  {
   "cell_type": "markdown",
   "source": [
    "#### Polynomiales Modell aufstellen\n",
    "# y = c1*x1+c2*x2+c3*x3...+c11*x1^2+c22*x2^2+c33*x3^2...+c12*x1*x2+c13*x1*x3+..."
   ],
   "metadata": {
    "collapsed": false,
    "pycharm": {
     "name": "#%% md\n"
    }
   }
  },
  {
   "cell_type": "code",
   "execution_count": 9,
   "outputs": [
    {
     "data": {
      "text/plain": "(14066, 989)"
     },
     "execution_count": 9,
     "metadata": {},
     "output_type": "execute_result"
    }
   ],
   "source": [
    "from sklearn.preprocessing import PolynomialFeatures\n",
    "poly= PolynomialFeatures(degree = 2, include_bias = False)\n",
    "poly.fit(X_train_ohe)\n",
    "X_train_poly = poly.transform(X_train_ohe)\n",
    "X_test_poly = poly.transform(X_test_ohe)\n",
    "X_train_poly.shape"
   ],
   "metadata": {
    "collapsed": false,
    "pycharm": {
     "name": "#%%\n"
    }
   }
  },
  {
   "cell_type": "markdown",
   "source": [
    "#### Regression vornehmen"
   ],
   "metadata": {
    "collapsed": false,
    "pycharm": {
     "name": "#%% md\n"
    }
   }
  },
  {
   "cell_type": "code",
   "execution_count": 22,
   "outputs": [
    {
     "name": "stdout",
     "output_type": "stream",
     "text": [
      "r2 = 0.8615023115106883\n"
     ]
    },
    {
     "data": {
      "text/plain": "2449     0.193864\n2337     0.198953\n5567     0.140811\n9905          inf\n11499    0.808530\n           ...   \n8475     0.227681\n2888     1.491147\n9160          inf\n14906    0.033354\n10466    0.045136\nName: number_trips, Length: 3517, dtype: float64"
     },
     "execution_count": 22,
     "metadata": {},
     "output_type": "execute_result"
    }
   ],
   "source": [
    "from sklearn.linear_model import LinearRegression\n",
    "linear_poly = LinearRegression()\n",
    "linear_poly.fit(X_train_poly, y_train)\n",
    "r2 = linear_poly.score(X_test_poly, y_test)\n",
    "print('r2 = '+str(r2))\n",
    "y_pred = linear_poly.predict(X_test_poly)\n",
    "ergebnis = pd.DataFrame()\n",
    "import numpy as np\n",
    "np.absolute((y_test-y_pred)/y_test)\n",
    "\n"
   ],
   "metadata": {
    "collapsed": false,
    "pycharm": {
     "name": "#%%\n"
    }
   }
  },
  {
   "cell_type": "code",
   "execution_count": null,
   "outputs": [],
   "source": [],
   "metadata": {
    "collapsed": false,
    "pycharm": {
     "name": "#%%\n"
    }
   }
  }
 ],
 "metadata": {
  "kernelspec": {
   "display_name": "Python 3",
   "language": "python",
   "name": "python3"
  },
  "language_info": {
   "codemirror_mode": {
    "name": "ipython",
    "version": 2
   },
   "file_extension": ".py",
   "mimetype": "text/x-python",
   "name": "python",
   "nbconvert_exporter": "python",
   "pygments_lexer": "ipython2",
   "version": "2.7.6"
  }
 },
 "nbformat": 4,
 "nbformat_minor": 0
}