{
 "cells": [
  {
   "cell_type": "code",
   "outputs": [],
   "source": [
    "# Dieses ipynb generiert Daten für den Energieverbrauch der Maschinen nach einem nichtlinearem Modell mit kleinen Störungen"
   ],
   "metadata": {
    "collapsed": false,
    "ExecuteTime": {
     "end_time": "2024-10-21T05:54:55.560077Z",
     "start_time": "2024-10-21T05:54:55.556633Z"
    }
   },
   "id": "7cb37d80816ca211",
   "execution_count": 36
  },
  {
   "cell_type": "code",
   "outputs": [],
   "source": [
    "import pandas as pd\n",
    "import numpy as np      "
   ],
   "metadata": {
    "collapsed": true,
    "ExecuteTime": {
     "end_time": "2024-10-21T05:54:55.600761Z",
     "start_time": "2024-10-21T05:54:55.563281Z"
    }
   },
   "id": "initial_id",
   "execution_count": 37
  },
  {
   "cell_type": "code",
   "outputs": [],
   "source": [
    "# Zufälligen Random Startpunkt wählen\n",
    "np.random.seed(42)\n",
    "# Anzahl der Datenpunkte\n",
    "anzahl_maschinen = 100\n",
    "# Daten simulieren\n",
    "betriebszeit = np.random.randint(1000, 3000, size=anzahl_maschinen)  # Betriebszeit in h"
   ],
   "metadata": {
    "collapsed": false,
    "ExecuteTime": {
     "end_time": "2024-10-21T05:54:55.608490Z",
     "start_time": "2024-10-21T05:54:55.601867Z"
    }
   },
   "id": "37c9271bc3b2c10d",
   "execution_count": 38
  },
  {
   "cell_type": "code",
   "outputs": [],
   "source": [
    "wartungskosten = np.random.randint(500, 800, size=anzahl_maschinen)  # Wartungskosten in Euro\n",
    "maschinenleistung = np.random.randint(75, 95, size=anzahl_maschinen)  # Maschinenleistung in kW"
   ],
   "metadata": {
    "collapsed": false,
    "ExecuteTime": {
     "end_time": "2024-10-21T05:54:55.665096Z",
     "start_time": "2024-10-21T05:54:55.609537Z"
    }
   },
   "id": "834607cb3ee20298",
   "execution_count": 39
  },
  {
   "cell_type": "code",
   "outputs": [],
   "source": [
    "# Nichtlineares Modell für den Energieverbrauch mit zufälligen Störungen\n",
    "# Energieverbrauch = 0.01 * (Wartungskosten)^2 + 0.5 * Betriebszeit + 0.3 * Maschinenleistung + Störung\n",
    "stoerung = np.random.normal(0, 200, size=anzahl_maschinen)  # Störungen mit normalverteiltem Rauschen\n",
    "energieverbrauch = 0.01 * wartungskosten**2 + 0.5 * betriebszeit + 0.3 * maschinenleistung + stoerung"
   ],
   "metadata": {
    "collapsed": false,
    "ExecuteTime": {
     "end_time": "2024-10-21T05:54:55.674119Z",
     "start_time": "2024-10-21T05:54:55.667101Z"
    }
   },
   "id": "ba1bd7c6d4e7faab",
   "execution_count": 40
  },
  {
   "cell_type": "code",
   "outputs": [
    {
     "name": "stdout",
     "output_type": "stream",
     "text": [
      "   MaschinenID  Betriebszeit  Wartungskosten  Maschinenleistung  \\\n",
      "0            1          2126             717                 86   \n",
      "1            2          2459             543                 89   \n",
      "2            3          1860             661                 83   \n",
      "3            4          2294             701                 94   \n",
      "4            5          2130             769                 91   \n",
      "\n",
      "   Energieverbrauch  \n",
      "0       6228.718611  \n",
      "1       4128.025339  \n",
      "2       5231.604628  \n",
      "3       5866.710529  \n",
      "4       7179.355900  \n"
     ]
    }
   ],
   "source": [
    "# Daten in einem DataFrame speichern\n",
    "daten = pd.DataFrame({\n",
    "    'MaschinenID': np.arange(1, anzahl_maschinen + 1),\n",
    "    'Betriebszeit': betriebszeit,\n",
    "    'Wartungskosten': wartungskosten,\n",
    "    'Maschinenleistung': maschinenleistung,\n",
    "    'Energieverbrauch': energieverbrauch\n",
    "})\n",
    "\n",
    "# CSV-Datei speichern (optional, falls benötigt)\n",
    "daten.to_csv('maschinendaten.csv', index=False)\n",
    "\n",
    "# Die ersten Zeilen anzeigen, um einen Eindruck von den simulierten Daten zu bekommen\n",
    "print(daten.head())"
   ],
   "metadata": {
    "collapsed": false,
    "ExecuteTime": {
     "end_time": "2024-10-21T05:54:55.685623Z",
     "start_time": "2024-10-21T05:54:55.675213Z"
    }
   },
   "id": "ba38651fbc6933b2",
   "execution_count": 41
  }
 ],
 "metadata": {
  "kernelspec": {
   "display_name": "Python 3",
   "language": "python",
   "name": "python3"
  },
  "language_info": {
   "codemirror_mode": {
    "name": "ipython",
    "version": 2
   },
   "file_extension": ".py",
   "mimetype": "text/x-python",
   "name": "python",
   "nbconvert_exporter": "python",
   "pygments_lexer": "ipython2",
   "version": "2.7.6"
  }
 },
 "nbformat": 4,
 "nbformat_minor": 5
}
