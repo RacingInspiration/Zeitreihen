{
 "cells": [
  {
   "cell_type": "code",
   "source": [
    "# Dieses ipynb generiert Daten für den Energieverbrauch der Maschinen nach einem nichtlinearem Modell mit kleinen Störungen"
   ],
   "metadata": {
    "collapsed": false,
    "ExecuteTime": {
     "end_time": "2024-11-04T09:14:51.959332Z",
     "start_time": "2024-11-04T09:14:51.955337Z"
    }
   },
   "id": "7cb37d80816ca211",
   "outputs": [],
   "execution_count": 3
  },
  {
   "cell_type": "code",
   "source": [
    "import pandas as pd\n",
    "import numpy as np      "
   ],
   "metadata": {
    "collapsed": true,
    "ExecuteTime": {
     "end_time": "2024-11-04T09:14:54.160963Z",
     "start_time": "2024-11-04T09:14:54.158202Z"
    }
   },
   "id": "initial_id",
   "outputs": [],
   "execution_count": 4
  },
  {
   "cell_type": "code",
   "source": [
    "# Zufälligen Random Startpunkt wählen\n",
    "np.random.seed(42)\n",
    "# Anzahl der Datenpunkte\n",
    "anzahl_maschinen = 100\n",
    "# Daten simulieren\n",
    "betriebszeit = np.random.randint(1000, 3000, size=anzahl_maschinen)  # Betriebszeit in h"
   ],
   "metadata": {
    "collapsed": false,
    "ExecuteTime": {
     "end_time": "2024-11-04T09:15:04.943783Z",
     "start_time": "2024-11-04T09:15:04.938271Z"
    }
   },
   "id": "37c9271bc3b2c10d",
   "outputs": [],
   "execution_count": 6
  },
  {
   "cell_type": "code",
   "source": [
    "wartungskosten = np.random.randint(500, 800, size=anzahl_maschinen)  # Wartungskosten in Euro\n",
    "maschinenleistung = np.random.randint(75, 95, size=anzahl_maschinen)  # Maschinenleistung in kW"
   ],
   "metadata": {
    "collapsed": false,
    "ExecuteTime": {
     "end_time": "2024-11-04T09:15:06.851029Z",
     "start_time": "2024-11-04T09:15:06.847435Z"
    }
   },
   "id": "834607cb3ee20298",
   "outputs": [],
   "execution_count": 7
  },
  {
   "metadata": {
    "ExecuteTime": {
     "end_time": "2024-11-04T09:15:08.260265Z",
     "start_time": "2024-11-04T09:15:08.254Z"
    }
   },
   "cell_type": "code",
   "source": "betriebszeit",
   "id": "e80166ac077fa184",
   "outputs": [
    {
     "data": {
      "text/plain": [
       "array([2126, 2459, 1860, 2294, 2130, 2095, 2724, 2044, 2638, 1121, 1466,\n",
       "       2238, 1330, 2482, 1087, 2396, 2123, 1871, 2687, 1130, 2685, 2332,\n",
       "       1769, 1343, 2515, 2437, 1805, 1385, 2215, 1955, 1276, 2184, 1459,\n",
       "       2337, 1021, 1252, 1747, 1856, 2584, 1474, 2082, 1510, 2705, 2499,\n",
       "       1699, 1975, 2806, 1189, 1957, 1686, 1957, 1562, 2899, 2590, 2267,\n",
       "       1831, 2528, 2154, 2508, 2842, 1646, 1020, 1840, 1166, 2297, 1387,\n",
       "       1600, 1315, 1013, 1241, 1776, 2369, 1564, 1897, 2363, 1091, 2390,\n",
       "       1955, 2478, 2451, 1508, 1775, 2966, 1034, 1205, 2104, 2955, 2585,\n",
       "       2895, 2411, 2025, 2021, 2413, 1565, 2129, 2795, 2845, 2500, 1702,\n",
       "       1401])"
      ]
     },
     "execution_count": 8,
     "metadata": {},
     "output_type": "execute_result"
    }
   ],
   "execution_count": 8
  },
  {
   "cell_type": "code",
   "source": [
    "# Nichtlineares Modell für den Energieverbrauch mit zufälligen Störungen\n",
    "# Energieverbrauch = 0.01 * (Wartungskosten)^2 + 0.5 * Betriebszeit + 0.3 * Maschinenleistung + Störung\n",
    "stoerung = np.random.normal(0, 200, size=anzahl_maschinen)  # Störungen mit normalverteiltem Rauschen\n",
    "energieverbrauch = 0.01 * wartungskosten**2 + 0.5 * betriebszeit + 0.3 * maschinenleistung + stoerung\n",
    "stoerung"
   ],
   "metadata": {
    "collapsed": false,
    "ExecuteTime": {
     "end_time": "2024-11-04T09:17:01.713769Z",
     "start_time": "2024-11-04T09:17:01.706761Z"
    }
   },
   "id": "ba1bd7c6d4e7faab",
   "outputs": [
    {
     "data": {
      "text/plain": [
       "array([  -0.97138893,  -76.66466125,  -92.50537204, -222.49947087,\n",
       "        173.4458998 ,  191.68276724,   83.62370439, -377.30560916,\n",
       "        454.6690316 ,   29.39493009,  107.92184032, -299.65912747,\n",
       "         -2.28868949,   82.67081752,  -28.17971089,  174.43237187,\n",
       "        260.0690296 , -268.70475281,  170.02411642,   78.86799029,\n",
       "         -0.93919893, -314.16239671,  295.96975504,   79.35485625,\n",
       "       -356.65021243,  -48.62689208,   65.44467727,  101.31506033,\n",
       "        -25.52095886,   68.31816119,  423.77724245,  309.30735109,\n",
       "       -189.90380904, -119.37946631,  -22.24079996, -349.81388683,\n",
       "       -268.28069959, -324.33892419, -229.54399457,  277.92056563,\n",
       "       -171.04810378, -205.41235179,  176.5675321 ,  -89.86087722,\n",
       "         83.72789383, -145.63584987, -360.3775938 ,   93.5434155 ,\n",
       "       -310.28678882, -102.09864392, -146.59022701,   39.06929451,\n",
       "       -111.18897955,  -25.54696569, -312.11141449,  400.06961782,\n",
       "       -240.02634755,  240.27608884,   29.96674327,   28.18147361,\n",
       "         70.88391702, -376.06251769,  193.27840039, -102.18889346,\n",
       "        242.07972663,  -30.2471931 ,  -74.90431182, -258.24322263,\n",
       "       -153.10187316,   84.46275233, -261.58285993, -398.11990992,\n",
       "       -171.50977713,  168.00107532,  356.25821541, -135.48313354,\n",
       "       -309.76573596,  -68.62581282,   36.77110288,  115.57942702,\n",
       "        426.9282496 ,   45.3697644 ,  331.09232508,  -92.58508441,\n",
       "         17.3131629 , -118.57654649, -136.00086682,  -52.68116897,\n",
       "        -56.13097507, -120.7951839 , -109.85058147,  219.35925089,\n",
       "        422.62243139,  -99.68132454,  -64.87908951,  104.92180013,\n",
       "        637.40666761,   16.8327042 ,  194.52657338,  308.89496774])"
      ]
     },
     "execution_count": 9,
     "metadata": {},
     "output_type": "execute_result"
    }
   ],
   "execution_count": 9
  },
  {
   "cell_type": "code",
   "outputs": [
    {
     "name": "stdout",
     "output_type": "stream",
     "text": [
      "   MaschinenID  Betriebszeit  Wartungskosten  Maschinenleistung  \\\n",
      "0            1          2126             717                 86   \n",
      "1            2          2459             543                 89   \n",
      "2            3          1860             661                 83   \n",
      "3            4          2294             701                 94   \n",
      "4            5          2130             769                 91   \n",
      "\n",
      "   Energieverbrauch  \n",
      "0       6228.718611  \n",
      "1       4128.025339  \n",
      "2       5231.604628  \n",
      "3       5866.710529  \n",
      "4       7179.355900  \n"
     ]
    }
   ],
   "source": [
    "# Daten in einem DataFrame speichern\n",
    "daten = pd.DataFrame({\n",
    "    'MaschinenID': np.arange(1, anzahl_maschinen + 1),\n",
    "    'Betriebszeit': betriebszeit,\n",
    "    'Wartungskosten': wartungskosten,\n",
    "    'Maschinenleistung': maschinenleistung,\n",
    "    'Energieverbrauch': energieverbrauch\n",
    "})\n",
    "\n",
    "# CSV-Datei speichern (optional, falls benötigt)\n",
    "daten.to_csv('Maschinendaten.csv', index=False)\n",
    "\n",
    "# Die ersten Zeilen anzeigen, um einen Eindruck von den simulierten Daten zu bekommen\n",
    "print(daten.head())"
   ],
   "metadata": {
    "collapsed": false,
    "ExecuteTime": {
     "end_time": "2024-10-21T10:39:55.773949Z",
     "start_time": "2024-10-21T10:39:55.759181Z"
    }
   },
   "id": "ba38651fbc6933b2",
   "execution_count": 6
  },
  {
   "cell_type": "code",
   "outputs": [],
   "source": [],
   "metadata": {
    "collapsed": false,
    "ExecuteTime": {
     "end_time": "2024-10-21T10:39:55.778771Z",
     "start_time": "2024-10-21T10:39:55.774957Z"
    }
   },
   "id": "c4f82194b7399c16",
   "execution_count": 6
  }
 ],
 "metadata": {
  "kernelspec": {
   "display_name": "Python 3",
   "language": "python",
   "name": "python3"
  },
  "language_info": {
   "codemirror_mode": {
    "name": "ipython",
    "version": 2
   },
   "file_extension": ".py",
   "mimetype": "text/x-python",
   "name": "python",
   "nbconvert_exporter": "python",
   "pygments_lexer": "ipython2",
   "version": "2.7.6"
  }
 },
 "nbformat": 4,
 "nbformat_minor": 5
}
