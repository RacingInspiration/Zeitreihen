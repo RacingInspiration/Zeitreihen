{
 "cells": [
  {
   "cell_type": "markdown",
   "source": [
    "# Temperatur Jahresuhr"
   ],
   "metadata": {
    "collapsed": false,
    "pycharm": {
     "name": "#%% md\n"
    }
   }
  },
  {
   "cell_type": "code",
   "execution_count": 24,
   "outputs": [],
   "source": [
    "import pandas as pd\n",
    "import numpy as np\n",
    "import plotly.express as px\n"
   ],
   "metadata": {
    "collapsed": false,
    "pycharm": {
     "name": "#%%\n"
    }
   }
  },
  {
   "cell_type": "code",
   "execution_count": 40,
   "outputs": [
    {
     "data": {
      "text/plain": "      Year  Month  Temperature  Precipitation  prep_months\n1032  1950      1         -0.8           31.1           30\n1033  1950      2          3.2           66.9           60\n1034  1950      3          5.2           25.0           90\n1035  1950      4          6.6          122.8          120\n1036  1950      5         14.2           73.8          150\n1037  1950      6         18.2          102.5          180\n1038  1950      7         19.9           78.0          210\n1039  1950      8         17.4          122.3          240\n1040  1950      9         13.1          122.5          270\n1041  1950     10          8.4           47.2          300\n1042  1950     11          4.3          223.2          330\n1043  1950     12         -1.9           37.4          360\n1440  1984      1          0.8           96.2           30\n1441  1984      2         -0.6           62.4           60\n1442  1984      3          2.4           25.0           90\n1443  1984      4          7.1           70.8          120\n1444  1984      5          9.8           87.6          150\n1445  1984      6         15.1           84.6          180\n1446  1984      7         17.8           63.1          210\n1447  1984      8         16.8           77.7          240\n1448  1984      9         12.6          229.0          270\n1449  1984     10         10.1           69.7          300\n1450  1984     11          5.7           67.7          330\n1451  1984     12          1.7           60.1          360\n1896  2022      1          1.7           39.5           30\n1897  2022      2          4.5           54.4           60\n1898  2022      3          7.2           26.5           90\n1899  2022      4          9.2           85.2          120\n1900  2022      5         16.0           72.6          150\n1901  2022      6         19.5          126.6          180\n1902  2022      7         21.3           44.8          210\n1903  2022      8         20.4           75.1          240\n1904  2022      9         14.3          112.8          270\n1905  2022     10         13.7           69.4          300\n1906  2022     11          7.3           74.7          330\n1907  2022     12          2.7           90.3          360",
      "text/html": "<div>\n<style scoped>\n    .dataframe tbody tr th:only-of-type {\n        vertical-align: middle;\n    }\n\n    .dataframe tbody tr th {\n        vertical-align: top;\n    }\n\n    .dataframe thead th {\n        text-align: right;\n    }\n</style>\n<table border=\"1\" class=\"dataframe\">\n  <thead>\n    <tr style=\"text-align: right;\">\n      <th></th>\n      <th>Year</th>\n      <th>Month</th>\n      <th>Temperature</th>\n      <th>Precipitation</th>\n      <th>prep_months</th>\n    </tr>\n  </thead>\n  <tbody>\n    <tr>\n      <th>1032</th>\n      <td>1950</td>\n      <td>1</td>\n      <td>-0.8</td>\n      <td>31.1</td>\n      <td>30</td>\n    </tr>\n    <tr>\n      <th>1033</th>\n      <td>1950</td>\n      <td>2</td>\n      <td>3.2</td>\n      <td>66.9</td>\n      <td>60</td>\n    </tr>\n    <tr>\n      <th>1034</th>\n      <td>1950</td>\n      <td>3</td>\n      <td>5.2</td>\n      <td>25.0</td>\n      <td>90</td>\n    </tr>\n    <tr>\n      <th>1035</th>\n      <td>1950</td>\n      <td>4</td>\n      <td>6.6</td>\n      <td>122.8</td>\n      <td>120</td>\n    </tr>\n    <tr>\n      <th>1036</th>\n      <td>1950</td>\n      <td>5</td>\n      <td>14.2</td>\n      <td>73.8</td>\n      <td>150</td>\n    </tr>\n    <tr>\n      <th>1037</th>\n      <td>1950</td>\n      <td>6</td>\n      <td>18.2</td>\n      <td>102.5</td>\n      <td>180</td>\n    </tr>\n    <tr>\n      <th>1038</th>\n      <td>1950</td>\n      <td>7</td>\n      <td>19.9</td>\n      <td>78.0</td>\n      <td>210</td>\n    </tr>\n    <tr>\n      <th>1039</th>\n      <td>1950</td>\n      <td>8</td>\n      <td>17.4</td>\n      <td>122.3</td>\n      <td>240</td>\n    </tr>\n    <tr>\n      <th>1040</th>\n      <td>1950</td>\n      <td>9</td>\n      <td>13.1</td>\n      <td>122.5</td>\n      <td>270</td>\n    </tr>\n    <tr>\n      <th>1041</th>\n      <td>1950</td>\n      <td>10</td>\n      <td>8.4</td>\n      <td>47.2</td>\n      <td>300</td>\n    </tr>\n    <tr>\n      <th>1042</th>\n      <td>1950</td>\n      <td>11</td>\n      <td>4.3</td>\n      <td>223.2</td>\n      <td>330</td>\n    </tr>\n    <tr>\n      <th>1043</th>\n      <td>1950</td>\n      <td>12</td>\n      <td>-1.9</td>\n      <td>37.4</td>\n      <td>360</td>\n    </tr>\n    <tr>\n      <th>1440</th>\n      <td>1984</td>\n      <td>1</td>\n      <td>0.8</td>\n      <td>96.2</td>\n      <td>30</td>\n    </tr>\n    <tr>\n      <th>1441</th>\n      <td>1984</td>\n      <td>2</td>\n      <td>-0.6</td>\n      <td>62.4</td>\n      <td>60</td>\n    </tr>\n    <tr>\n      <th>1442</th>\n      <td>1984</td>\n      <td>3</td>\n      <td>2.4</td>\n      <td>25.0</td>\n      <td>90</td>\n    </tr>\n    <tr>\n      <th>1443</th>\n      <td>1984</td>\n      <td>4</td>\n      <td>7.1</td>\n      <td>70.8</td>\n      <td>120</td>\n    </tr>\n    <tr>\n      <th>1444</th>\n      <td>1984</td>\n      <td>5</td>\n      <td>9.8</td>\n      <td>87.6</td>\n      <td>150</td>\n    </tr>\n    <tr>\n      <th>1445</th>\n      <td>1984</td>\n      <td>6</td>\n      <td>15.1</td>\n      <td>84.6</td>\n      <td>180</td>\n    </tr>\n    <tr>\n      <th>1446</th>\n      <td>1984</td>\n      <td>7</td>\n      <td>17.8</td>\n      <td>63.1</td>\n      <td>210</td>\n    </tr>\n    <tr>\n      <th>1447</th>\n      <td>1984</td>\n      <td>8</td>\n      <td>16.8</td>\n      <td>77.7</td>\n      <td>240</td>\n    </tr>\n    <tr>\n      <th>1448</th>\n      <td>1984</td>\n      <td>9</td>\n      <td>12.6</td>\n      <td>229.0</td>\n      <td>270</td>\n    </tr>\n    <tr>\n      <th>1449</th>\n      <td>1984</td>\n      <td>10</td>\n      <td>10.1</td>\n      <td>69.7</td>\n      <td>300</td>\n    </tr>\n    <tr>\n      <th>1450</th>\n      <td>1984</td>\n      <td>11</td>\n      <td>5.7</td>\n      <td>67.7</td>\n      <td>330</td>\n    </tr>\n    <tr>\n      <th>1451</th>\n      <td>1984</td>\n      <td>12</td>\n      <td>1.7</td>\n      <td>60.1</td>\n      <td>360</td>\n    </tr>\n    <tr>\n      <th>1896</th>\n      <td>2022</td>\n      <td>1</td>\n      <td>1.7</td>\n      <td>39.5</td>\n      <td>30</td>\n    </tr>\n    <tr>\n      <th>1897</th>\n      <td>2022</td>\n      <td>2</td>\n      <td>4.5</td>\n      <td>54.4</td>\n      <td>60</td>\n    </tr>\n    <tr>\n      <th>1898</th>\n      <td>2022</td>\n      <td>3</td>\n      <td>7.2</td>\n      <td>26.5</td>\n      <td>90</td>\n    </tr>\n    <tr>\n      <th>1899</th>\n      <td>2022</td>\n      <td>4</td>\n      <td>9.2</td>\n      <td>85.2</td>\n      <td>120</td>\n    </tr>\n    <tr>\n      <th>1900</th>\n      <td>2022</td>\n      <td>5</td>\n      <td>16.0</td>\n      <td>72.6</td>\n      <td>150</td>\n    </tr>\n    <tr>\n      <th>1901</th>\n      <td>2022</td>\n      <td>6</td>\n      <td>19.5</td>\n      <td>126.6</td>\n      <td>180</td>\n    </tr>\n    <tr>\n      <th>1902</th>\n      <td>2022</td>\n      <td>7</td>\n      <td>21.3</td>\n      <td>44.8</td>\n      <td>210</td>\n    </tr>\n    <tr>\n      <th>1903</th>\n      <td>2022</td>\n      <td>8</td>\n      <td>20.4</td>\n      <td>75.1</td>\n      <td>240</td>\n    </tr>\n    <tr>\n      <th>1904</th>\n      <td>2022</td>\n      <td>9</td>\n      <td>14.3</td>\n      <td>112.8</td>\n      <td>270</td>\n    </tr>\n    <tr>\n      <th>1905</th>\n      <td>2022</td>\n      <td>10</td>\n      <td>13.7</td>\n      <td>69.4</td>\n      <td>300</td>\n    </tr>\n    <tr>\n      <th>1906</th>\n      <td>2022</td>\n      <td>11</td>\n      <td>7.3</td>\n      <td>74.7</td>\n      <td>330</td>\n    </tr>\n    <tr>\n      <th>1907</th>\n      <td>2022</td>\n      <td>12</td>\n      <td>2.7</td>\n      <td>90.3</td>\n      <td>360</td>\n    </tr>\n  </tbody>\n</table>\n</div>"
     },
     "execution_count": 40,
     "metadata": {},
     "output_type": "execute_result"
    }
   ],
   "source": [
    "# Importiere die Temperaturdaten\n",
    "df = pd.read_table('Zuerich.txt', delim_whitespace = True)\n",
    "df['prep_months'] = df['Month']*30\n",
    "df_reduced =  df[(df['Year']==1950) | (df['Year']==1984) | (df['Year']==2022)]\n",
    "df_reduced"
   ],
   "metadata": {
    "collapsed": false,
    "pycharm": {
     "name": "#%%\n"
    }
   }
  },
  {
   "cell_type": "code",
   "execution_count": 32,
   "outputs": [
    {
     "data": {
      "application/vnd.plotly.v1+json": {
       "data": [
        {
         "hovertemplate": "Year=1950<br>Month=%{x}<br>Temperature=%{y}<extra></extra>",
         "legendgroup": "1950",
         "line": {
          "color": "#636efa",
          "dash": "solid"
         },
         "marker": {
          "symbol": "circle"
         },
         "mode": "lines",
         "name": "1950",
         "orientation": "v",
         "showlegend": true,
         "x": [
          1,
          2,
          3,
          4,
          5,
          6,
          7,
          8,
          9,
          10,
          11,
          12
         ],
         "xaxis": "x",
         "y": [
          -0.8,
          3.2,
          5.2,
          6.6,
          14.2,
          18.2,
          19.9,
          17.4,
          13.1,
          8.4,
          4.3,
          -1.9
         ],
         "yaxis": "y",
         "type": "scatter"
        },
        {
         "hovertemplate": "Year=1984<br>Month=%{x}<br>Temperature=%{y}<extra></extra>",
         "legendgroup": "1984",
         "line": {
          "color": "#EF553B",
          "dash": "solid"
         },
         "marker": {
          "symbol": "circle"
         },
         "mode": "lines",
         "name": "1984",
         "orientation": "v",
         "showlegend": true,
         "x": [
          1,
          2,
          3,
          4,
          5,
          6,
          7,
          8,
          9,
          10,
          11,
          12
         ],
         "xaxis": "x",
         "y": [
          0.8,
          -0.6,
          2.4,
          7.1,
          9.8,
          15.1,
          17.8,
          16.8,
          12.6,
          10.1,
          5.7,
          1.7
         ],
         "yaxis": "y",
         "type": "scatter"
        },
        {
         "hovertemplate": "Year=2022<br>Month=%{x}<br>Temperature=%{y}<extra></extra>",
         "legendgroup": "2022",
         "line": {
          "color": "#00cc96",
          "dash": "solid"
         },
         "marker": {
          "symbol": "circle"
         },
         "mode": "lines",
         "name": "2022",
         "orientation": "v",
         "showlegend": true,
         "x": [
          1,
          2,
          3,
          4,
          5,
          6,
          7,
          8,
          9,
          10,
          11,
          12
         ],
         "xaxis": "x",
         "y": [
          1.7,
          4.5,
          7.2,
          9.2,
          16.0,
          19.5,
          21.3,
          20.4,
          14.3,
          13.7,
          7.3,
          2.7
         ],
         "yaxis": "y",
         "type": "scatter"
        }
       ],
       "layout": {
        "template": {
         "data": {
          "histogram2dcontour": [
           {
            "type": "histogram2dcontour",
            "colorbar": {
             "outlinewidth": 0,
             "ticks": ""
            },
            "colorscale": [
             [
              0.0,
              "#0d0887"
             ],
             [
              0.1111111111111111,
              "#46039f"
             ],
             [
              0.2222222222222222,
              "#7201a8"
             ],
             [
              0.3333333333333333,
              "#9c179e"
             ],
             [
              0.4444444444444444,
              "#bd3786"
             ],
             [
              0.5555555555555556,
              "#d8576b"
             ],
             [
              0.6666666666666666,
              "#ed7953"
             ],
             [
              0.7777777777777778,
              "#fb9f3a"
             ],
             [
              0.8888888888888888,
              "#fdca26"
             ],
             [
              1.0,
              "#f0f921"
             ]
            ]
           }
          ],
          "choropleth": [
           {
            "type": "choropleth",
            "colorbar": {
             "outlinewidth": 0,
             "ticks": ""
            }
           }
          ],
          "histogram2d": [
           {
            "type": "histogram2d",
            "colorbar": {
             "outlinewidth": 0,
             "ticks": ""
            },
            "colorscale": [
             [
              0.0,
              "#0d0887"
             ],
             [
              0.1111111111111111,
              "#46039f"
             ],
             [
              0.2222222222222222,
              "#7201a8"
             ],
             [
              0.3333333333333333,
              "#9c179e"
             ],
             [
              0.4444444444444444,
              "#bd3786"
             ],
             [
              0.5555555555555556,
              "#d8576b"
             ],
             [
              0.6666666666666666,
              "#ed7953"
             ],
             [
              0.7777777777777778,
              "#fb9f3a"
             ],
             [
              0.8888888888888888,
              "#fdca26"
             ],
             [
              1.0,
              "#f0f921"
             ]
            ]
           }
          ],
          "heatmap": [
           {
            "type": "heatmap",
            "colorbar": {
             "outlinewidth": 0,
             "ticks": ""
            },
            "colorscale": [
             [
              0.0,
              "#0d0887"
             ],
             [
              0.1111111111111111,
              "#46039f"
             ],
             [
              0.2222222222222222,
              "#7201a8"
             ],
             [
              0.3333333333333333,
              "#9c179e"
             ],
             [
              0.4444444444444444,
              "#bd3786"
             ],
             [
              0.5555555555555556,
              "#d8576b"
             ],
             [
              0.6666666666666666,
              "#ed7953"
             ],
             [
              0.7777777777777778,
              "#fb9f3a"
             ],
             [
              0.8888888888888888,
              "#fdca26"
             ],
             [
              1.0,
              "#f0f921"
             ]
            ]
           }
          ],
          "heatmapgl": [
           {
            "type": "heatmapgl",
            "colorbar": {
             "outlinewidth": 0,
             "ticks": ""
            },
            "colorscale": [
             [
              0.0,
              "#0d0887"
             ],
             [
              0.1111111111111111,
              "#46039f"
             ],
             [
              0.2222222222222222,
              "#7201a8"
             ],
             [
              0.3333333333333333,
              "#9c179e"
             ],
             [
              0.4444444444444444,
              "#bd3786"
             ],
             [
              0.5555555555555556,
              "#d8576b"
             ],
             [
              0.6666666666666666,
              "#ed7953"
             ],
             [
              0.7777777777777778,
              "#fb9f3a"
             ],
             [
              0.8888888888888888,
              "#fdca26"
             ],
             [
              1.0,
              "#f0f921"
             ]
            ]
           }
          ],
          "contourcarpet": [
           {
            "type": "contourcarpet",
            "colorbar": {
             "outlinewidth": 0,
             "ticks": ""
            }
           }
          ],
          "contour": [
           {
            "type": "contour",
            "colorbar": {
             "outlinewidth": 0,
             "ticks": ""
            },
            "colorscale": [
             [
              0.0,
              "#0d0887"
             ],
             [
              0.1111111111111111,
              "#46039f"
             ],
             [
              0.2222222222222222,
              "#7201a8"
             ],
             [
              0.3333333333333333,
              "#9c179e"
             ],
             [
              0.4444444444444444,
              "#bd3786"
             ],
             [
              0.5555555555555556,
              "#d8576b"
             ],
             [
              0.6666666666666666,
              "#ed7953"
             ],
             [
              0.7777777777777778,
              "#fb9f3a"
             ],
             [
              0.8888888888888888,
              "#fdca26"
             ],
             [
              1.0,
              "#f0f921"
             ]
            ]
           }
          ],
          "surface": [
           {
            "type": "surface",
            "colorbar": {
             "outlinewidth": 0,
             "ticks": ""
            },
            "colorscale": [
             [
              0.0,
              "#0d0887"
             ],
             [
              0.1111111111111111,
              "#46039f"
             ],
             [
              0.2222222222222222,
              "#7201a8"
             ],
             [
              0.3333333333333333,
              "#9c179e"
             ],
             [
              0.4444444444444444,
              "#bd3786"
             ],
             [
              0.5555555555555556,
              "#d8576b"
             ],
             [
              0.6666666666666666,
              "#ed7953"
             ],
             [
              0.7777777777777778,
              "#fb9f3a"
             ],
             [
              0.8888888888888888,
              "#fdca26"
             ],
             [
              1.0,
              "#f0f921"
             ]
            ]
           }
          ],
          "mesh3d": [
           {
            "type": "mesh3d",
            "colorbar": {
             "outlinewidth": 0,
             "ticks": ""
            }
           }
          ],
          "scatter": [
           {
            "fillpattern": {
             "fillmode": "overlay",
             "size": 10,
             "solidity": 0.2
            },
            "type": "scatter"
           }
          ],
          "parcoords": [
           {
            "type": "parcoords",
            "line": {
             "colorbar": {
              "outlinewidth": 0,
              "ticks": ""
             }
            }
           }
          ],
          "scatterpolargl": [
           {
            "type": "scatterpolargl",
            "marker": {
             "colorbar": {
              "outlinewidth": 0,
              "ticks": ""
             }
            }
           }
          ],
          "bar": [
           {
            "error_x": {
             "color": "#2a3f5f"
            },
            "error_y": {
             "color": "#2a3f5f"
            },
            "marker": {
             "line": {
              "color": "#E5ECF6",
              "width": 0.5
             },
             "pattern": {
              "fillmode": "overlay",
              "size": 10,
              "solidity": 0.2
             }
            },
            "type": "bar"
           }
          ],
          "scattergeo": [
           {
            "type": "scattergeo",
            "marker": {
             "colorbar": {
              "outlinewidth": 0,
              "ticks": ""
             }
            }
           }
          ],
          "scatterpolar": [
           {
            "type": "scatterpolar",
            "marker": {
             "colorbar": {
              "outlinewidth": 0,
              "ticks": ""
             }
            }
           }
          ],
          "histogram": [
           {
            "marker": {
             "pattern": {
              "fillmode": "overlay",
              "size": 10,
              "solidity": 0.2
             }
            },
            "type": "histogram"
           }
          ],
          "scattergl": [
           {
            "type": "scattergl",
            "marker": {
             "colorbar": {
              "outlinewidth": 0,
              "ticks": ""
             }
            }
           }
          ],
          "scatter3d": [
           {
            "type": "scatter3d",
            "line": {
             "colorbar": {
              "outlinewidth": 0,
              "ticks": ""
             }
            },
            "marker": {
             "colorbar": {
              "outlinewidth": 0,
              "ticks": ""
             }
            }
           }
          ],
          "scattermapbox": [
           {
            "type": "scattermapbox",
            "marker": {
             "colorbar": {
              "outlinewidth": 0,
              "ticks": ""
             }
            }
           }
          ],
          "scatterternary": [
           {
            "type": "scatterternary",
            "marker": {
             "colorbar": {
              "outlinewidth": 0,
              "ticks": ""
             }
            }
           }
          ],
          "scattercarpet": [
           {
            "type": "scattercarpet",
            "marker": {
             "colorbar": {
              "outlinewidth": 0,
              "ticks": ""
             }
            }
           }
          ],
          "carpet": [
           {
            "aaxis": {
             "endlinecolor": "#2a3f5f",
             "gridcolor": "white",
             "linecolor": "white",
             "minorgridcolor": "white",
             "startlinecolor": "#2a3f5f"
            },
            "baxis": {
             "endlinecolor": "#2a3f5f",
             "gridcolor": "white",
             "linecolor": "white",
             "minorgridcolor": "white",
             "startlinecolor": "#2a3f5f"
            },
            "type": "carpet"
           }
          ],
          "table": [
           {
            "cells": {
             "fill": {
              "color": "#EBF0F8"
             },
             "line": {
              "color": "white"
             }
            },
            "header": {
             "fill": {
              "color": "#C8D4E3"
             },
             "line": {
              "color": "white"
             }
            },
            "type": "table"
           }
          ],
          "barpolar": [
           {
            "marker": {
             "line": {
              "color": "#E5ECF6",
              "width": 0.5
             },
             "pattern": {
              "fillmode": "overlay",
              "size": 10,
              "solidity": 0.2
             }
            },
            "type": "barpolar"
           }
          ],
          "pie": [
           {
            "automargin": true,
            "type": "pie"
           }
          ]
         },
         "layout": {
          "autotypenumbers": "strict",
          "colorway": [
           "#636efa",
           "#EF553B",
           "#00cc96",
           "#ab63fa",
           "#FFA15A",
           "#19d3f3",
           "#FF6692",
           "#B6E880",
           "#FF97FF",
           "#FECB52"
          ],
          "font": {
           "color": "#2a3f5f"
          },
          "hovermode": "closest",
          "hoverlabel": {
           "align": "left"
          },
          "paper_bgcolor": "white",
          "plot_bgcolor": "#E5ECF6",
          "polar": {
           "bgcolor": "#E5ECF6",
           "angularaxis": {
            "gridcolor": "white",
            "linecolor": "white",
            "ticks": ""
           },
           "radialaxis": {
            "gridcolor": "white",
            "linecolor": "white",
            "ticks": ""
           }
          },
          "ternary": {
           "bgcolor": "#E5ECF6",
           "aaxis": {
            "gridcolor": "white",
            "linecolor": "white",
            "ticks": ""
           },
           "baxis": {
            "gridcolor": "white",
            "linecolor": "white",
            "ticks": ""
           },
           "caxis": {
            "gridcolor": "white",
            "linecolor": "white",
            "ticks": ""
           }
          },
          "coloraxis": {
           "colorbar": {
            "outlinewidth": 0,
            "ticks": ""
           }
          },
          "colorscale": {
           "sequential": [
            [
             0.0,
             "#0d0887"
            ],
            [
             0.1111111111111111,
             "#46039f"
            ],
            [
             0.2222222222222222,
             "#7201a8"
            ],
            [
             0.3333333333333333,
             "#9c179e"
            ],
            [
             0.4444444444444444,
             "#bd3786"
            ],
            [
             0.5555555555555556,
             "#d8576b"
            ],
            [
             0.6666666666666666,
             "#ed7953"
            ],
            [
             0.7777777777777778,
             "#fb9f3a"
            ],
            [
             0.8888888888888888,
             "#fdca26"
            ],
            [
             1.0,
             "#f0f921"
            ]
           ],
           "sequentialminus": [
            [
             0.0,
             "#0d0887"
            ],
            [
             0.1111111111111111,
             "#46039f"
            ],
            [
             0.2222222222222222,
             "#7201a8"
            ],
            [
             0.3333333333333333,
             "#9c179e"
            ],
            [
             0.4444444444444444,
             "#bd3786"
            ],
            [
             0.5555555555555556,
             "#d8576b"
            ],
            [
             0.6666666666666666,
             "#ed7953"
            ],
            [
             0.7777777777777778,
             "#fb9f3a"
            ],
            [
             0.8888888888888888,
             "#fdca26"
            ],
            [
             1.0,
             "#f0f921"
            ]
           ],
           "diverging": [
            [
             0,
             "#8e0152"
            ],
            [
             0.1,
             "#c51b7d"
            ],
            [
             0.2,
             "#de77ae"
            ],
            [
             0.3,
             "#f1b6da"
            ],
            [
             0.4,
             "#fde0ef"
            ],
            [
             0.5,
             "#f7f7f7"
            ],
            [
             0.6,
             "#e6f5d0"
            ],
            [
             0.7,
             "#b8e186"
            ],
            [
             0.8,
             "#7fbc41"
            ],
            [
             0.9,
             "#4d9221"
            ],
            [
             1,
             "#276419"
            ]
           ]
          },
          "xaxis": {
           "gridcolor": "white",
           "linecolor": "white",
           "ticks": "",
           "title": {
            "standoff": 15
           },
           "zerolinecolor": "white",
           "automargin": true,
           "zerolinewidth": 2
          },
          "yaxis": {
           "gridcolor": "white",
           "linecolor": "white",
           "ticks": "",
           "title": {
            "standoff": 15
           },
           "zerolinecolor": "white",
           "automargin": true,
           "zerolinewidth": 2
          },
          "scene": {
           "xaxis": {
            "backgroundcolor": "#E5ECF6",
            "gridcolor": "white",
            "linecolor": "white",
            "showbackground": true,
            "ticks": "",
            "zerolinecolor": "white",
            "gridwidth": 2
           },
           "yaxis": {
            "backgroundcolor": "#E5ECF6",
            "gridcolor": "white",
            "linecolor": "white",
            "showbackground": true,
            "ticks": "",
            "zerolinecolor": "white",
            "gridwidth": 2
           },
           "zaxis": {
            "backgroundcolor": "#E5ECF6",
            "gridcolor": "white",
            "linecolor": "white",
            "showbackground": true,
            "ticks": "",
            "zerolinecolor": "white",
            "gridwidth": 2
           }
          },
          "shapedefaults": {
           "line": {
            "color": "#2a3f5f"
           }
          },
          "annotationdefaults": {
           "arrowcolor": "#2a3f5f",
           "arrowhead": 0,
           "arrowwidth": 1
          },
          "geo": {
           "bgcolor": "white",
           "landcolor": "#E5ECF6",
           "subunitcolor": "white",
           "showland": true,
           "showlakes": true,
           "lakecolor": "white"
          },
          "title": {
           "x": 0.05
          },
          "mapbox": {
           "style": "light"
          }
         }
        },
        "xaxis": {
         "anchor": "y",
         "domain": [
          0.0,
          1.0
         ],
         "title": {
          "text": "Month"
         }
        },
        "yaxis": {
         "anchor": "x",
         "domain": [
          0.0,
          1.0
         ],
         "title": {
          "text": "Temperature"
         }
        },
        "legend": {
         "title": {
          "text": "Year"
         },
         "tracegroupgap": 0
        },
        "margin": {
         "t": 60
        }
       },
       "config": {
        "plotlyServerURL": "https://plot.ly"
       }
      },
      "text/html": "<div>                            <div id=\"b5270a1a-aeb1-4d82-a81d-ec0c9e680a88\" class=\"plotly-graph-div\" style=\"height:525px; width:100%;\"></div>            <script type=\"text/javascript\">                require([\"plotly\"], function(Plotly) {                    window.PLOTLYENV=window.PLOTLYENV || {};                                    if (document.getElementById(\"b5270a1a-aeb1-4d82-a81d-ec0c9e680a88\")) {                    Plotly.newPlot(                        \"b5270a1a-aeb1-4d82-a81d-ec0c9e680a88\",                        [{\"hovertemplate\":\"Year=1950<br>Month=%{x}<br>Temperature=%{y}<extra></extra>\",\"legendgroup\":\"1950\",\"line\":{\"color\":\"#636efa\",\"dash\":\"solid\"},\"marker\":{\"symbol\":\"circle\"},\"mode\":\"lines\",\"name\":\"1950\",\"orientation\":\"v\",\"showlegend\":true,\"x\":[1,2,3,4,5,6,7,8,9,10,11,12],\"xaxis\":\"x\",\"y\":[-0.8,3.2,5.2,6.6,14.2,18.2,19.9,17.4,13.1,8.4,4.3,-1.9],\"yaxis\":\"y\",\"type\":\"scatter\"},{\"hovertemplate\":\"Year=1984<br>Month=%{x}<br>Temperature=%{y}<extra></extra>\",\"legendgroup\":\"1984\",\"line\":{\"color\":\"#EF553B\",\"dash\":\"solid\"},\"marker\":{\"symbol\":\"circle\"},\"mode\":\"lines\",\"name\":\"1984\",\"orientation\":\"v\",\"showlegend\":true,\"x\":[1,2,3,4,5,6,7,8,9,10,11,12],\"xaxis\":\"x\",\"y\":[0.8,-0.6,2.4,7.1,9.8,15.1,17.8,16.8,12.6,10.1,5.7,1.7],\"yaxis\":\"y\",\"type\":\"scatter\"},{\"hovertemplate\":\"Year=2022<br>Month=%{x}<br>Temperature=%{y}<extra></extra>\",\"legendgroup\":\"2022\",\"line\":{\"color\":\"#00cc96\",\"dash\":\"solid\"},\"marker\":{\"symbol\":\"circle\"},\"mode\":\"lines\",\"name\":\"2022\",\"orientation\":\"v\",\"showlegend\":true,\"x\":[1,2,3,4,5,6,7,8,9,10,11,12],\"xaxis\":\"x\",\"y\":[1.7,4.5,7.2,9.2,16.0,19.5,21.3,20.4,14.3,13.7,7.3,2.7],\"yaxis\":\"y\",\"type\":\"scatter\"}],                        {\"template\":{\"data\":{\"histogram2dcontour\":[{\"type\":\"histogram2dcontour\",\"colorbar\":{\"outlinewidth\":0,\"ticks\":\"\"},\"colorscale\":[[0.0,\"#0d0887\"],[0.1111111111111111,\"#46039f\"],[0.2222222222222222,\"#7201a8\"],[0.3333333333333333,\"#9c179e\"],[0.4444444444444444,\"#bd3786\"],[0.5555555555555556,\"#d8576b\"],[0.6666666666666666,\"#ed7953\"],[0.7777777777777778,\"#fb9f3a\"],[0.8888888888888888,\"#fdca26\"],[1.0,\"#f0f921\"]]}],\"choropleth\":[{\"type\":\"choropleth\",\"colorbar\":{\"outlinewidth\":0,\"ticks\":\"\"}}],\"histogram2d\":[{\"type\":\"histogram2d\",\"colorbar\":{\"outlinewidth\":0,\"ticks\":\"\"},\"colorscale\":[[0.0,\"#0d0887\"],[0.1111111111111111,\"#46039f\"],[0.2222222222222222,\"#7201a8\"],[0.3333333333333333,\"#9c179e\"],[0.4444444444444444,\"#bd3786\"],[0.5555555555555556,\"#d8576b\"],[0.6666666666666666,\"#ed7953\"],[0.7777777777777778,\"#fb9f3a\"],[0.8888888888888888,\"#fdca26\"],[1.0,\"#f0f921\"]]}],\"heatmap\":[{\"type\":\"heatmap\",\"colorbar\":{\"outlinewidth\":0,\"ticks\":\"\"},\"colorscale\":[[0.0,\"#0d0887\"],[0.1111111111111111,\"#46039f\"],[0.2222222222222222,\"#7201a8\"],[0.3333333333333333,\"#9c179e\"],[0.4444444444444444,\"#bd3786\"],[0.5555555555555556,\"#d8576b\"],[0.6666666666666666,\"#ed7953\"],[0.7777777777777778,\"#fb9f3a\"],[0.8888888888888888,\"#fdca26\"],[1.0,\"#f0f921\"]]}],\"heatmapgl\":[{\"type\":\"heatmapgl\",\"colorbar\":{\"outlinewidth\":0,\"ticks\":\"\"},\"colorscale\":[[0.0,\"#0d0887\"],[0.1111111111111111,\"#46039f\"],[0.2222222222222222,\"#7201a8\"],[0.3333333333333333,\"#9c179e\"],[0.4444444444444444,\"#bd3786\"],[0.5555555555555556,\"#d8576b\"],[0.6666666666666666,\"#ed7953\"],[0.7777777777777778,\"#fb9f3a\"],[0.8888888888888888,\"#fdca26\"],[1.0,\"#f0f921\"]]}],\"contourcarpet\":[{\"type\":\"contourcarpet\",\"colorbar\":{\"outlinewidth\":0,\"ticks\":\"\"}}],\"contour\":[{\"type\":\"contour\",\"colorbar\":{\"outlinewidth\":0,\"ticks\":\"\"},\"colorscale\":[[0.0,\"#0d0887\"],[0.1111111111111111,\"#46039f\"],[0.2222222222222222,\"#7201a8\"],[0.3333333333333333,\"#9c179e\"],[0.4444444444444444,\"#bd3786\"],[0.5555555555555556,\"#d8576b\"],[0.6666666666666666,\"#ed7953\"],[0.7777777777777778,\"#fb9f3a\"],[0.8888888888888888,\"#fdca26\"],[1.0,\"#f0f921\"]]}],\"surface\":[{\"type\":\"surface\",\"colorbar\":{\"outlinewidth\":0,\"ticks\":\"\"},\"colorscale\":[[0.0,\"#0d0887\"],[0.1111111111111111,\"#46039f\"],[0.2222222222222222,\"#7201a8\"],[0.3333333333333333,\"#9c179e\"],[0.4444444444444444,\"#bd3786\"],[0.5555555555555556,\"#d8576b\"],[0.6666666666666666,\"#ed7953\"],[0.7777777777777778,\"#fb9f3a\"],[0.8888888888888888,\"#fdca26\"],[1.0,\"#f0f921\"]]}],\"mesh3d\":[{\"type\":\"mesh3d\",\"colorbar\":{\"outlinewidth\":0,\"ticks\":\"\"}}],\"scatter\":[{\"fillpattern\":{\"fillmode\":\"overlay\",\"size\":10,\"solidity\":0.2},\"type\":\"scatter\"}],\"parcoords\":[{\"type\":\"parcoords\",\"line\":{\"colorbar\":{\"outlinewidth\":0,\"ticks\":\"\"}}}],\"scatterpolargl\":[{\"type\":\"scatterpolargl\",\"marker\":{\"colorbar\":{\"outlinewidth\":0,\"ticks\":\"\"}}}],\"bar\":[{\"error_x\":{\"color\":\"#2a3f5f\"},\"error_y\":{\"color\":\"#2a3f5f\"},\"marker\":{\"line\":{\"color\":\"#E5ECF6\",\"width\":0.5},\"pattern\":{\"fillmode\":\"overlay\",\"size\":10,\"solidity\":0.2}},\"type\":\"bar\"}],\"scattergeo\":[{\"type\":\"scattergeo\",\"marker\":{\"colorbar\":{\"outlinewidth\":0,\"ticks\":\"\"}}}],\"scatterpolar\":[{\"type\":\"scatterpolar\",\"marker\":{\"colorbar\":{\"outlinewidth\":0,\"ticks\":\"\"}}}],\"histogram\":[{\"marker\":{\"pattern\":{\"fillmode\":\"overlay\",\"size\":10,\"solidity\":0.2}},\"type\":\"histogram\"}],\"scattergl\":[{\"type\":\"scattergl\",\"marker\":{\"colorbar\":{\"outlinewidth\":0,\"ticks\":\"\"}}}],\"scatter3d\":[{\"type\":\"scatter3d\",\"line\":{\"colorbar\":{\"outlinewidth\":0,\"ticks\":\"\"}},\"marker\":{\"colorbar\":{\"outlinewidth\":0,\"ticks\":\"\"}}}],\"scattermapbox\":[{\"type\":\"scattermapbox\",\"marker\":{\"colorbar\":{\"outlinewidth\":0,\"ticks\":\"\"}}}],\"scatterternary\":[{\"type\":\"scatterternary\",\"marker\":{\"colorbar\":{\"outlinewidth\":0,\"ticks\":\"\"}}}],\"scattercarpet\":[{\"type\":\"scattercarpet\",\"marker\":{\"colorbar\":{\"outlinewidth\":0,\"ticks\":\"\"}}}],\"carpet\":[{\"aaxis\":{\"endlinecolor\":\"#2a3f5f\",\"gridcolor\":\"white\",\"linecolor\":\"white\",\"minorgridcolor\":\"white\",\"startlinecolor\":\"#2a3f5f\"},\"baxis\":{\"endlinecolor\":\"#2a3f5f\",\"gridcolor\":\"white\",\"linecolor\":\"white\",\"minorgridcolor\":\"white\",\"startlinecolor\":\"#2a3f5f\"},\"type\":\"carpet\"}],\"table\":[{\"cells\":{\"fill\":{\"color\":\"#EBF0F8\"},\"line\":{\"color\":\"white\"}},\"header\":{\"fill\":{\"color\":\"#C8D4E3\"},\"line\":{\"color\":\"white\"}},\"type\":\"table\"}],\"barpolar\":[{\"marker\":{\"line\":{\"color\":\"#E5ECF6\",\"width\":0.5},\"pattern\":{\"fillmode\":\"overlay\",\"size\":10,\"solidity\":0.2}},\"type\":\"barpolar\"}],\"pie\":[{\"automargin\":true,\"type\":\"pie\"}]},\"layout\":{\"autotypenumbers\":\"strict\",\"colorway\":[\"#636efa\",\"#EF553B\",\"#00cc96\",\"#ab63fa\",\"#FFA15A\",\"#19d3f3\",\"#FF6692\",\"#B6E880\",\"#FF97FF\",\"#FECB52\"],\"font\":{\"color\":\"#2a3f5f\"},\"hovermode\":\"closest\",\"hoverlabel\":{\"align\":\"left\"},\"paper_bgcolor\":\"white\",\"plot_bgcolor\":\"#E5ECF6\",\"polar\":{\"bgcolor\":\"#E5ECF6\",\"angularaxis\":{\"gridcolor\":\"white\",\"linecolor\":\"white\",\"ticks\":\"\"},\"radialaxis\":{\"gridcolor\":\"white\",\"linecolor\":\"white\",\"ticks\":\"\"}},\"ternary\":{\"bgcolor\":\"#E5ECF6\",\"aaxis\":{\"gridcolor\":\"white\",\"linecolor\":\"white\",\"ticks\":\"\"},\"baxis\":{\"gridcolor\":\"white\",\"linecolor\":\"white\",\"ticks\":\"\"},\"caxis\":{\"gridcolor\":\"white\",\"linecolor\":\"white\",\"ticks\":\"\"}},\"coloraxis\":{\"colorbar\":{\"outlinewidth\":0,\"ticks\":\"\"}},\"colorscale\":{\"sequential\":[[0.0,\"#0d0887\"],[0.1111111111111111,\"#46039f\"],[0.2222222222222222,\"#7201a8\"],[0.3333333333333333,\"#9c179e\"],[0.4444444444444444,\"#bd3786\"],[0.5555555555555556,\"#d8576b\"],[0.6666666666666666,\"#ed7953\"],[0.7777777777777778,\"#fb9f3a\"],[0.8888888888888888,\"#fdca26\"],[1.0,\"#f0f921\"]],\"sequentialminus\":[[0.0,\"#0d0887\"],[0.1111111111111111,\"#46039f\"],[0.2222222222222222,\"#7201a8\"],[0.3333333333333333,\"#9c179e\"],[0.4444444444444444,\"#bd3786\"],[0.5555555555555556,\"#d8576b\"],[0.6666666666666666,\"#ed7953\"],[0.7777777777777778,\"#fb9f3a\"],[0.8888888888888888,\"#fdca26\"],[1.0,\"#f0f921\"]],\"diverging\":[[0,\"#8e0152\"],[0.1,\"#c51b7d\"],[0.2,\"#de77ae\"],[0.3,\"#f1b6da\"],[0.4,\"#fde0ef\"],[0.5,\"#f7f7f7\"],[0.6,\"#e6f5d0\"],[0.7,\"#b8e186\"],[0.8,\"#7fbc41\"],[0.9,\"#4d9221\"],[1,\"#276419\"]]},\"xaxis\":{\"gridcolor\":\"white\",\"linecolor\":\"white\",\"ticks\":\"\",\"title\":{\"standoff\":15},\"zerolinecolor\":\"white\",\"automargin\":true,\"zerolinewidth\":2},\"yaxis\":{\"gridcolor\":\"white\",\"linecolor\":\"white\",\"ticks\":\"\",\"title\":{\"standoff\":15},\"zerolinecolor\":\"white\",\"automargin\":true,\"zerolinewidth\":2},\"scene\":{\"xaxis\":{\"backgroundcolor\":\"#E5ECF6\",\"gridcolor\":\"white\",\"linecolor\":\"white\",\"showbackground\":true,\"ticks\":\"\",\"zerolinecolor\":\"white\",\"gridwidth\":2},\"yaxis\":{\"backgroundcolor\":\"#E5ECF6\",\"gridcolor\":\"white\",\"linecolor\":\"white\",\"showbackground\":true,\"ticks\":\"\",\"zerolinecolor\":\"white\",\"gridwidth\":2},\"zaxis\":{\"backgroundcolor\":\"#E5ECF6\",\"gridcolor\":\"white\",\"linecolor\":\"white\",\"showbackground\":true,\"ticks\":\"\",\"zerolinecolor\":\"white\",\"gridwidth\":2}},\"shapedefaults\":{\"line\":{\"color\":\"#2a3f5f\"}},\"annotationdefaults\":{\"arrowcolor\":\"#2a3f5f\",\"arrowhead\":0,\"arrowwidth\":1},\"geo\":{\"bgcolor\":\"white\",\"landcolor\":\"#E5ECF6\",\"subunitcolor\":\"white\",\"showland\":true,\"showlakes\":true,\"lakecolor\":\"white\"},\"title\":{\"x\":0.05},\"mapbox\":{\"style\":\"light\"}}},\"xaxis\":{\"anchor\":\"y\",\"domain\":[0.0,1.0],\"title\":{\"text\":\"Month\"}},\"yaxis\":{\"anchor\":\"x\",\"domain\":[0.0,1.0],\"title\":{\"text\":\"Temperature\"}},\"legend\":{\"title\":{\"text\":\"Year\"},\"tracegroupgap\":0},\"margin\":{\"t\":60}},                        {\"responsive\": true}                    ).then(function(){\n                            \nvar gd = document.getElementById('b5270a1a-aeb1-4d82-a81d-ec0c9e680a88');\nvar x = new MutationObserver(function (mutations, observer) {{\n        var display = window.getComputedStyle(gd).display;\n        if (!display || display === 'none') {{\n            console.log([gd, 'removed!']);\n            Plotly.purge(gd);\n            observer.disconnect();\n        }}\n}});\n\n// Listen for the removal of the full notebook cells\nvar notebookContainer = gd.closest('#notebook-container');\nif (notebookContainer) {{\n    x.observe(notebookContainer, {childList: true});\n}}\n\n// Listen for the clearing of the current output cell\nvar outputEl = gd.closest('.output');\nif (outputEl) {{\n    x.observe(outputEl, {childList: true});\n}}\n\n                        })                };                });            </script>        </div>"
     },
     "metadata": {},
     "output_type": "display_data"
    }
   ],
   "source": [
    "fig = px.line(df_reduced, x='Month', y=\"Temperature\", color='Year')\n",
    "fig.show()"
   ],
   "metadata": {
    "collapsed": false,
    "pycharm": {
     "name": "#%%\n"
    }
   }
  },
  {
   "cell_type": "code",
   "execution_count": 36,
   "outputs": [],
   "source": [
    "# Anzeige eines Charts der Jahresmittel-Temperatur\n",
    "#df.groupby('Year', as_index = False).Temperature.mean()\n",
    "df_agg = df.groupby('Year', as_index = False)['Temperature'].aggregate('mean')"
   ],
   "metadata": {
    "collapsed": false,
    "pycharm": {
     "name": "#%%\n"
    }
   }
  },
  {
   "cell_type": "code",
   "execution_count": 37,
   "outputs": [
    {
     "data": {
      "application/vnd.plotly.v1+json": {
       "data": [
        {
         "hovertemplate": "Year=%{x}<br>Temperature=%{y}<extra></extra>",
         "legendgroup": "",
         "line": {
          "color": "#636efa",
          "dash": "solid"
         },
         "marker": {
          "symbol": "circle"
         },
         "mode": "lines",
         "name": "",
         "orientation": "v",
         "showlegend": false,
         "x": [
          1864,
          1865,
          1866,
          1867,
          1868,
          1869,
          1870,
          1871,
          1872,
          1873,
          1874,
          1875,
          1876,
          1877,
          1878,
          1879,
          1880,
          1881,
          1882,
          1883,
          1884,
          1885,
          1886,
          1887,
          1888,
          1889,
          1890,
          1891,
          1892,
          1893,
          1894,
          1895,
          1896,
          1897,
          1898,
          1899,
          1900,
          1901,
          1902,
          1903,
          1904,
          1905,
          1906,
          1907,
          1908,
          1909,
          1910,
          1911,
          1912,
          1913,
          1914,
          1915,
          1916,
          1917,
          1918,
          1919,
          1920,
          1921,
          1922,
          1923,
          1924,
          1925,
          1926,
          1927,
          1928,
          1929,
          1930,
          1931,
          1932,
          1933,
          1934,
          1935,
          1936,
          1937,
          1938,
          1939,
          1940,
          1941,
          1942,
          1943,
          1944,
          1945,
          1946,
          1947,
          1948,
          1949,
          1950,
          1951,
          1952,
          1953,
          1954,
          1955,
          1956,
          1957,
          1958,
          1959,
          1960,
          1961,
          1962,
          1963,
          1964,
          1965,
          1966,
          1967,
          1968,
          1969,
          1970,
          1971,
          1972,
          1973,
          1974,
          1975,
          1976,
          1977,
          1978,
          1979,
          1980,
          1981,
          1982,
          1983,
          1984,
          1985,
          1986,
          1987,
          1988,
          1989,
          1990,
          1991,
          1992,
          1993,
          1994,
          1995,
          1996,
          1997,
          1998,
          1999,
          2000,
          2001,
          2002,
          2003,
          2004,
          2005,
          2006,
          2007,
          2008,
          2009,
          2010,
          2011,
          2012,
          2013,
          2014,
          2015,
          2016,
          2017,
          2018,
          2019,
          2020,
          2021,
          2022,
          2023
         ],
         "xaxis": "x",
         "y": [
          6.691666666666666,
          8.4,
          8.758333333333333,
          8.083333333333334,
          9.191666666666666,
          8.208333333333334,
          7.375,
          6.858333333333333,
          8.808333333333334,
          8.441666666666666,
          7.875,
          8.0,
          8.341666666666667,
          8.45,
          7.616666666666666,
          6.491666666666667,
          8.391666666666667,
          7.875,
          8.141666666666667,
          7.741666666666667,
          8.358333333333333,
          7.983333333333333,
          8.091666666666667,
          6.7,
          7.0249999999999995,
          7.091666666666666,
          6.833333333333333,
          6.958333333333333,
          7.991666666666667,
          8.241666666666667,
          7.9750000000000005,
          7.608333333333333,
          7.283333333333332,
          8.283333333333333,
          8.6,
          8.541666666666666,
          8.575000000000001,
          7.466666666666668,
          7.658333333333334,
          7.941666666666666,
          8.6,
          7.841666666666668,
          8.133333333333333,
          7.900000000000001,
          7.4750000000000005,
          7.375,
          8.008333333333333,
          8.958333333333334,
          7.758333333333333,
          8.308333333333334,
          7.808333333333334,
          7.900000000000001,
          8.35,
          7.3500000000000005,
          8.116666666666665,
          7.616666666666667,
          8.633333333333333,
          9.0,
          7.566666666666666,
          8.483333333333333,
          7.550000000000001,
          8.083333333333334,
          8.633333333333335,
          8.25,
          8.991666666666667,
          7.858333333333333,
          8.808333333333334,
          7.425,
          7.825,
          7.591666666666666,
          8.908333333333333,
          8.174999999999999,
          8.441666666666666,
          8.641666666666667,
          8.225,
          7.8999999999999995,
          7.091666666666666,
          7.441666666666666,
          7.891666666666667,
          9.166666666666666,
          8.15,
          8.966666666666667,
          8.558333333333334,
          9.416666666666666,
          8.924999999999999,
          9.441666666666666,
          8.983333333333333,
          8.633333333333335,
          8.566666666666666,
          8.491666666666667,
          7.991666666666667,
          8.049999999999999,
          7.075,
          8.549999999999999,
          8.566666666666666,
          9.216666666666667,
          8.641666666666667,
          9.466666666666667,
          7.616666666666667,
          7.383333333333333,
          8.450000000000001,
          7.55,
          8.741666666666667,
          8.666666666666666,
          8.191666666666666,
          7.958333333333333,
          7.916666666666667,
          8.275,
          7.8999999999999995,
          8.033333333333333,
          8.883333333333333,
          8.641666666666667,
          8.616666666666667,
          8.875,
          7.875,
          8.450000000000001,
          7.8999999999999995,
          8.591666666666667,
          9.208333333333334,
          9.258333333333333,
          8.275,
          8.183333333333334,
          8.391666666666667,
          8.325,
          9.416666666666666,
          9.433333333333334,
          9.7,
          8.866666666666665,
          9.5,
          9.108333333333333,
          10.466666666666667,
          9.233333333333333,
          8.125000000000002,
          9.441666666666666,
          9.491666666666667,
          9.358333333333334,
          10.166666666666666,
          9.433333333333334,
          10.191666666666666,
          10.125,
          9.45,
          9.25,
          9.75,
          10.091666666666667,
          9.625,
          9.866666666666667,
          8.808333333333332,
          10.466666666666667,
          9.708333333333334,
          9.058333333333334,
          10.608333333333333,
          10.566666666666666,
          9.9,
          10.158333333333333,
          11.083333333333334,
          10.516666666666667,
          10.9,
          9.6,
          11.483333333333334,
          9.233333333333333
         ],
         "yaxis": "y",
         "type": "scatter"
        }
       ],
       "layout": {
        "template": {
         "data": {
          "histogram2dcontour": [
           {
            "type": "histogram2dcontour",
            "colorbar": {
             "outlinewidth": 0,
             "ticks": ""
            },
            "colorscale": [
             [
              0.0,
              "#0d0887"
             ],
             [
              0.1111111111111111,
              "#46039f"
             ],
             [
              0.2222222222222222,
              "#7201a8"
             ],
             [
              0.3333333333333333,
              "#9c179e"
             ],
             [
              0.4444444444444444,
              "#bd3786"
             ],
             [
              0.5555555555555556,
              "#d8576b"
             ],
             [
              0.6666666666666666,
              "#ed7953"
             ],
             [
              0.7777777777777778,
              "#fb9f3a"
             ],
             [
              0.8888888888888888,
              "#fdca26"
             ],
             [
              1.0,
              "#f0f921"
             ]
            ]
           }
          ],
          "choropleth": [
           {
            "type": "choropleth",
            "colorbar": {
             "outlinewidth": 0,
             "ticks": ""
            }
           }
          ],
          "histogram2d": [
           {
            "type": "histogram2d",
            "colorbar": {
             "outlinewidth": 0,
             "ticks": ""
            },
            "colorscale": [
             [
              0.0,
              "#0d0887"
             ],
             [
              0.1111111111111111,
              "#46039f"
             ],
             [
              0.2222222222222222,
              "#7201a8"
             ],
             [
              0.3333333333333333,
              "#9c179e"
             ],
             [
              0.4444444444444444,
              "#bd3786"
             ],
             [
              0.5555555555555556,
              "#d8576b"
             ],
             [
              0.6666666666666666,
              "#ed7953"
             ],
             [
              0.7777777777777778,
              "#fb9f3a"
             ],
             [
              0.8888888888888888,
              "#fdca26"
             ],
             [
              1.0,
              "#f0f921"
             ]
            ]
           }
          ],
          "heatmap": [
           {
            "type": "heatmap",
            "colorbar": {
             "outlinewidth": 0,
             "ticks": ""
            },
            "colorscale": [
             [
              0.0,
              "#0d0887"
             ],
             [
              0.1111111111111111,
              "#46039f"
             ],
             [
              0.2222222222222222,
              "#7201a8"
             ],
             [
              0.3333333333333333,
              "#9c179e"
             ],
             [
              0.4444444444444444,
              "#bd3786"
             ],
             [
              0.5555555555555556,
              "#d8576b"
             ],
             [
              0.6666666666666666,
              "#ed7953"
             ],
             [
              0.7777777777777778,
              "#fb9f3a"
             ],
             [
              0.8888888888888888,
              "#fdca26"
             ],
             [
              1.0,
              "#f0f921"
             ]
            ]
           }
          ],
          "heatmapgl": [
           {
            "type": "heatmapgl",
            "colorbar": {
             "outlinewidth": 0,
             "ticks": ""
            },
            "colorscale": [
             [
              0.0,
              "#0d0887"
             ],
             [
              0.1111111111111111,
              "#46039f"
             ],
             [
              0.2222222222222222,
              "#7201a8"
             ],
             [
              0.3333333333333333,
              "#9c179e"
             ],
             [
              0.4444444444444444,
              "#bd3786"
             ],
             [
              0.5555555555555556,
              "#d8576b"
             ],
             [
              0.6666666666666666,
              "#ed7953"
             ],
             [
              0.7777777777777778,
              "#fb9f3a"
             ],
             [
              0.8888888888888888,
              "#fdca26"
             ],
             [
              1.0,
              "#f0f921"
             ]
            ]
           }
          ],
          "contourcarpet": [
           {
            "type": "contourcarpet",
            "colorbar": {
             "outlinewidth": 0,
             "ticks": ""
            }
           }
          ],
          "contour": [
           {
            "type": "contour",
            "colorbar": {
             "outlinewidth": 0,
             "ticks": ""
            },
            "colorscale": [
             [
              0.0,
              "#0d0887"
             ],
             [
              0.1111111111111111,
              "#46039f"
             ],
             [
              0.2222222222222222,
              "#7201a8"
             ],
             [
              0.3333333333333333,
              "#9c179e"
             ],
             [
              0.4444444444444444,
              "#bd3786"
             ],
             [
              0.5555555555555556,
              "#d8576b"
             ],
             [
              0.6666666666666666,
              "#ed7953"
             ],
             [
              0.7777777777777778,
              "#fb9f3a"
             ],
             [
              0.8888888888888888,
              "#fdca26"
             ],
             [
              1.0,
              "#f0f921"
             ]
            ]
           }
          ],
          "surface": [
           {
            "type": "surface",
            "colorbar": {
             "outlinewidth": 0,
             "ticks": ""
            },
            "colorscale": [
             [
              0.0,
              "#0d0887"
             ],
             [
              0.1111111111111111,
              "#46039f"
             ],
             [
              0.2222222222222222,
              "#7201a8"
             ],
             [
              0.3333333333333333,
              "#9c179e"
             ],
             [
              0.4444444444444444,
              "#bd3786"
             ],
             [
              0.5555555555555556,
              "#d8576b"
             ],
             [
              0.6666666666666666,
              "#ed7953"
             ],
             [
              0.7777777777777778,
              "#fb9f3a"
             ],
             [
              0.8888888888888888,
              "#fdca26"
             ],
             [
              1.0,
              "#f0f921"
             ]
            ]
           }
          ],
          "mesh3d": [
           {
            "type": "mesh3d",
            "colorbar": {
             "outlinewidth": 0,
             "ticks": ""
            }
           }
          ],
          "scatter": [
           {
            "fillpattern": {
             "fillmode": "overlay",
             "size": 10,
             "solidity": 0.2
            },
            "type": "scatter"
           }
          ],
          "parcoords": [
           {
            "type": "parcoords",
            "line": {
             "colorbar": {
              "outlinewidth": 0,
              "ticks": ""
             }
            }
           }
          ],
          "scatterpolargl": [
           {
            "type": "scatterpolargl",
            "marker": {
             "colorbar": {
              "outlinewidth": 0,
              "ticks": ""
             }
            }
           }
          ],
          "bar": [
           {
            "error_x": {
             "color": "#2a3f5f"
            },
            "error_y": {
             "color": "#2a3f5f"
            },
            "marker": {
             "line": {
              "color": "#E5ECF6",
              "width": 0.5
             },
             "pattern": {
              "fillmode": "overlay",
              "size": 10,
              "solidity": 0.2
             }
            },
            "type": "bar"
           }
          ],
          "scattergeo": [
           {
            "type": "scattergeo",
            "marker": {
             "colorbar": {
              "outlinewidth": 0,
              "ticks": ""
             }
            }
           }
          ],
          "scatterpolar": [
           {
            "type": "scatterpolar",
            "marker": {
             "colorbar": {
              "outlinewidth": 0,
              "ticks": ""
             }
            }
           }
          ],
          "histogram": [
           {
            "marker": {
             "pattern": {
              "fillmode": "overlay",
              "size": 10,
              "solidity": 0.2
             }
            },
            "type": "histogram"
           }
          ],
          "scattergl": [
           {
            "type": "scattergl",
            "marker": {
             "colorbar": {
              "outlinewidth": 0,
              "ticks": ""
             }
            }
           }
          ],
          "scatter3d": [
           {
            "type": "scatter3d",
            "line": {
             "colorbar": {
              "outlinewidth": 0,
              "ticks": ""
             }
            },
            "marker": {
             "colorbar": {
              "outlinewidth": 0,
              "ticks": ""
             }
            }
           }
          ],
          "scattermapbox": [
           {
            "type": "scattermapbox",
            "marker": {
             "colorbar": {
              "outlinewidth": 0,
              "ticks": ""
             }
            }
           }
          ],
          "scatterternary": [
           {
            "type": "scatterternary",
            "marker": {
             "colorbar": {
              "outlinewidth": 0,
              "ticks": ""
             }
            }
           }
          ],
          "scattercarpet": [
           {
            "type": "scattercarpet",
            "marker": {
             "colorbar": {
              "outlinewidth": 0,
              "ticks": ""
             }
            }
           }
          ],
          "carpet": [
           {
            "aaxis": {
             "endlinecolor": "#2a3f5f",
             "gridcolor": "white",
             "linecolor": "white",
             "minorgridcolor": "white",
             "startlinecolor": "#2a3f5f"
            },
            "baxis": {
             "endlinecolor": "#2a3f5f",
             "gridcolor": "white",
             "linecolor": "white",
             "minorgridcolor": "white",
             "startlinecolor": "#2a3f5f"
            },
            "type": "carpet"
           }
          ],
          "table": [
           {
            "cells": {
             "fill": {
              "color": "#EBF0F8"
             },
             "line": {
              "color": "white"
             }
            },
            "header": {
             "fill": {
              "color": "#C8D4E3"
             },
             "line": {
              "color": "white"
             }
            },
            "type": "table"
           }
          ],
          "barpolar": [
           {
            "marker": {
             "line": {
              "color": "#E5ECF6",
              "width": 0.5
             },
             "pattern": {
              "fillmode": "overlay",
              "size": 10,
              "solidity": 0.2
             }
            },
            "type": "barpolar"
           }
          ],
          "pie": [
           {
            "automargin": true,
            "type": "pie"
           }
          ]
         },
         "layout": {
          "autotypenumbers": "strict",
          "colorway": [
           "#636efa",
           "#EF553B",
           "#00cc96",
           "#ab63fa",
           "#FFA15A",
           "#19d3f3",
           "#FF6692",
           "#B6E880",
           "#FF97FF",
           "#FECB52"
          ],
          "font": {
           "color": "#2a3f5f"
          },
          "hovermode": "closest",
          "hoverlabel": {
           "align": "left"
          },
          "paper_bgcolor": "white",
          "plot_bgcolor": "#E5ECF6",
          "polar": {
           "bgcolor": "#E5ECF6",
           "angularaxis": {
            "gridcolor": "white",
            "linecolor": "white",
            "ticks": ""
           },
           "radialaxis": {
            "gridcolor": "white",
            "linecolor": "white",
            "ticks": ""
           }
          },
          "ternary": {
           "bgcolor": "#E5ECF6",
           "aaxis": {
            "gridcolor": "white",
            "linecolor": "white",
            "ticks": ""
           },
           "baxis": {
            "gridcolor": "white",
            "linecolor": "white",
            "ticks": ""
           },
           "caxis": {
            "gridcolor": "white",
            "linecolor": "white",
            "ticks": ""
           }
          },
          "coloraxis": {
           "colorbar": {
            "outlinewidth": 0,
            "ticks": ""
           }
          },
          "colorscale": {
           "sequential": [
            [
             0.0,
             "#0d0887"
            ],
            [
             0.1111111111111111,
             "#46039f"
            ],
            [
             0.2222222222222222,
             "#7201a8"
            ],
            [
             0.3333333333333333,
             "#9c179e"
            ],
            [
             0.4444444444444444,
             "#bd3786"
            ],
            [
             0.5555555555555556,
             "#d8576b"
            ],
            [
             0.6666666666666666,
             "#ed7953"
            ],
            [
             0.7777777777777778,
             "#fb9f3a"
            ],
            [
             0.8888888888888888,
             "#fdca26"
            ],
            [
             1.0,
             "#f0f921"
            ]
           ],
           "sequentialminus": [
            [
             0.0,
             "#0d0887"
            ],
            [
             0.1111111111111111,
             "#46039f"
            ],
            [
             0.2222222222222222,
             "#7201a8"
            ],
            [
             0.3333333333333333,
             "#9c179e"
            ],
            [
             0.4444444444444444,
             "#bd3786"
            ],
            [
             0.5555555555555556,
             "#d8576b"
            ],
            [
             0.6666666666666666,
             "#ed7953"
            ],
            [
             0.7777777777777778,
             "#fb9f3a"
            ],
            [
             0.8888888888888888,
             "#fdca26"
            ],
            [
             1.0,
             "#f0f921"
            ]
           ],
           "diverging": [
            [
             0,
             "#8e0152"
            ],
            [
             0.1,
             "#c51b7d"
            ],
            [
             0.2,
             "#de77ae"
            ],
            [
             0.3,
             "#f1b6da"
            ],
            [
             0.4,
             "#fde0ef"
            ],
            [
             0.5,
             "#f7f7f7"
            ],
            [
             0.6,
             "#e6f5d0"
            ],
            [
             0.7,
             "#b8e186"
            ],
            [
             0.8,
             "#7fbc41"
            ],
            [
             0.9,
             "#4d9221"
            ],
            [
             1,
             "#276419"
            ]
           ]
          },
          "xaxis": {
           "gridcolor": "white",
           "linecolor": "white",
           "ticks": "",
           "title": {
            "standoff": 15
           },
           "zerolinecolor": "white",
           "automargin": true,
           "zerolinewidth": 2
          },
          "yaxis": {
           "gridcolor": "white",
           "linecolor": "white",
           "ticks": "",
           "title": {
            "standoff": 15
           },
           "zerolinecolor": "white",
           "automargin": true,
           "zerolinewidth": 2
          },
          "scene": {
           "xaxis": {
            "backgroundcolor": "#E5ECF6",
            "gridcolor": "white",
            "linecolor": "white",
            "showbackground": true,
            "ticks": "",
            "zerolinecolor": "white",
            "gridwidth": 2
           },
           "yaxis": {
            "backgroundcolor": "#E5ECF6",
            "gridcolor": "white",
            "linecolor": "white",
            "showbackground": true,
            "ticks": "",
            "zerolinecolor": "white",
            "gridwidth": 2
           },
           "zaxis": {
            "backgroundcolor": "#E5ECF6",
            "gridcolor": "white",
            "linecolor": "white",
            "showbackground": true,
            "ticks": "",
            "zerolinecolor": "white",
            "gridwidth": 2
           }
          },
          "shapedefaults": {
           "line": {
            "color": "#2a3f5f"
           }
          },
          "annotationdefaults": {
           "arrowcolor": "#2a3f5f",
           "arrowhead": 0,
           "arrowwidth": 1
          },
          "geo": {
           "bgcolor": "white",
           "landcolor": "#E5ECF6",
           "subunitcolor": "white",
           "showland": true,
           "showlakes": true,
           "lakecolor": "white"
          },
          "title": {
           "x": 0.05
          },
          "mapbox": {
           "style": "light"
          }
         }
        },
        "xaxis": {
         "anchor": "y",
         "domain": [
          0.0,
          1.0
         ],
         "title": {
          "text": "Year"
         }
        },
        "yaxis": {
         "anchor": "x",
         "domain": [
          0.0,
          1.0
         ],
         "title": {
          "text": "Temperature"
         }
        },
        "legend": {
         "tracegroupgap": 0
        },
        "margin": {
         "t": 60
        }
       },
       "config": {
        "plotlyServerURL": "https://plot.ly"
       }
      },
      "text/html": "<div>                            <div id=\"7f97be85-8889-40ef-83d9-0ff65656e8d8\" class=\"plotly-graph-div\" style=\"height:525px; width:100%;\"></div>            <script type=\"text/javascript\">                require([\"plotly\"], function(Plotly) {                    window.PLOTLYENV=window.PLOTLYENV || {};                                    if (document.getElementById(\"7f97be85-8889-40ef-83d9-0ff65656e8d8\")) {                    Plotly.newPlot(                        \"7f97be85-8889-40ef-83d9-0ff65656e8d8\",                        [{\"hovertemplate\":\"Year=%{x}<br>Temperature=%{y}<extra></extra>\",\"legendgroup\":\"\",\"line\":{\"color\":\"#636efa\",\"dash\":\"solid\"},\"marker\":{\"symbol\":\"circle\"},\"mode\":\"lines\",\"name\":\"\",\"orientation\":\"v\",\"showlegend\":false,\"x\":[1864,1865,1866,1867,1868,1869,1870,1871,1872,1873,1874,1875,1876,1877,1878,1879,1880,1881,1882,1883,1884,1885,1886,1887,1888,1889,1890,1891,1892,1893,1894,1895,1896,1897,1898,1899,1900,1901,1902,1903,1904,1905,1906,1907,1908,1909,1910,1911,1912,1913,1914,1915,1916,1917,1918,1919,1920,1921,1922,1923,1924,1925,1926,1927,1928,1929,1930,1931,1932,1933,1934,1935,1936,1937,1938,1939,1940,1941,1942,1943,1944,1945,1946,1947,1948,1949,1950,1951,1952,1953,1954,1955,1956,1957,1958,1959,1960,1961,1962,1963,1964,1965,1966,1967,1968,1969,1970,1971,1972,1973,1974,1975,1976,1977,1978,1979,1980,1981,1982,1983,1984,1985,1986,1987,1988,1989,1990,1991,1992,1993,1994,1995,1996,1997,1998,1999,2000,2001,2002,2003,2004,2005,2006,2007,2008,2009,2010,2011,2012,2013,2014,2015,2016,2017,2018,2019,2020,2021,2022,2023],\"xaxis\":\"x\",\"y\":[6.691666666666666,8.4,8.758333333333333,8.083333333333334,9.191666666666666,8.208333333333334,7.375,6.858333333333333,8.808333333333334,8.441666666666666,7.875,8.0,8.341666666666667,8.45,7.616666666666666,6.491666666666667,8.391666666666667,7.875,8.141666666666667,7.741666666666667,8.358333333333333,7.983333333333333,8.091666666666667,6.7,7.0249999999999995,7.091666666666666,6.833333333333333,6.958333333333333,7.991666666666667,8.241666666666667,7.9750000000000005,7.608333333333333,7.283333333333332,8.283333333333333,8.6,8.541666666666666,8.575000000000001,7.466666666666668,7.658333333333334,7.941666666666666,8.6,7.841666666666668,8.133333333333333,7.900000000000001,7.4750000000000005,7.375,8.008333333333333,8.958333333333334,7.758333333333333,8.308333333333334,7.808333333333334,7.900000000000001,8.35,7.3500000000000005,8.116666666666665,7.616666666666667,8.633333333333333,9.0,7.566666666666666,8.483333333333333,7.550000000000001,8.083333333333334,8.633333333333335,8.25,8.991666666666667,7.858333333333333,8.808333333333334,7.425,7.825,7.591666666666666,8.908333333333333,8.174999999999999,8.441666666666666,8.641666666666667,8.225,7.8999999999999995,7.091666666666666,7.441666666666666,7.891666666666667,9.166666666666666,8.15,8.966666666666667,8.558333333333334,9.416666666666666,8.924999999999999,9.441666666666666,8.983333333333333,8.633333333333335,8.566666666666666,8.491666666666667,7.991666666666667,8.049999999999999,7.075,8.549999999999999,8.566666666666666,9.216666666666667,8.641666666666667,9.466666666666667,7.616666666666667,7.383333333333333,8.450000000000001,7.55,8.741666666666667,8.666666666666666,8.191666666666666,7.958333333333333,7.916666666666667,8.275,7.8999999999999995,8.033333333333333,8.883333333333333,8.641666666666667,8.616666666666667,8.875,7.875,8.450000000000001,7.8999999999999995,8.591666666666667,9.208333333333334,9.258333333333333,8.275,8.183333333333334,8.391666666666667,8.325,9.416666666666666,9.433333333333334,9.7,8.866666666666665,9.5,9.108333333333333,10.466666666666667,9.233333333333333,8.125000000000002,9.441666666666666,9.491666666666667,9.358333333333334,10.166666666666666,9.433333333333334,10.191666666666666,10.125,9.45,9.25,9.75,10.091666666666667,9.625,9.866666666666667,8.808333333333332,10.466666666666667,9.708333333333334,9.058333333333334,10.608333333333333,10.566666666666666,9.9,10.158333333333333,11.083333333333334,10.516666666666667,10.9,9.6,11.483333333333334,9.233333333333333],\"yaxis\":\"y\",\"type\":\"scatter\"}],                        {\"template\":{\"data\":{\"histogram2dcontour\":[{\"type\":\"histogram2dcontour\",\"colorbar\":{\"outlinewidth\":0,\"ticks\":\"\"},\"colorscale\":[[0.0,\"#0d0887\"],[0.1111111111111111,\"#46039f\"],[0.2222222222222222,\"#7201a8\"],[0.3333333333333333,\"#9c179e\"],[0.4444444444444444,\"#bd3786\"],[0.5555555555555556,\"#d8576b\"],[0.6666666666666666,\"#ed7953\"],[0.7777777777777778,\"#fb9f3a\"],[0.8888888888888888,\"#fdca26\"],[1.0,\"#f0f921\"]]}],\"choropleth\":[{\"type\":\"choropleth\",\"colorbar\":{\"outlinewidth\":0,\"ticks\":\"\"}}],\"histogram2d\":[{\"type\":\"histogram2d\",\"colorbar\":{\"outlinewidth\":0,\"ticks\":\"\"},\"colorscale\":[[0.0,\"#0d0887\"],[0.1111111111111111,\"#46039f\"],[0.2222222222222222,\"#7201a8\"],[0.3333333333333333,\"#9c179e\"],[0.4444444444444444,\"#bd3786\"],[0.5555555555555556,\"#d8576b\"],[0.6666666666666666,\"#ed7953\"],[0.7777777777777778,\"#fb9f3a\"],[0.8888888888888888,\"#fdca26\"],[1.0,\"#f0f921\"]]}],\"heatmap\":[{\"type\":\"heatmap\",\"colorbar\":{\"outlinewidth\":0,\"ticks\":\"\"},\"colorscale\":[[0.0,\"#0d0887\"],[0.1111111111111111,\"#46039f\"],[0.2222222222222222,\"#7201a8\"],[0.3333333333333333,\"#9c179e\"],[0.4444444444444444,\"#bd3786\"],[0.5555555555555556,\"#d8576b\"],[0.6666666666666666,\"#ed7953\"],[0.7777777777777778,\"#fb9f3a\"],[0.8888888888888888,\"#fdca26\"],[1.0,\"#f0f921\"]]}],\"heatmapgl\":[{\"type\":\"heatmapgl\",\"colorbar\":{\"outlinewidth\":0,\"ticks\":\"\"},\"colorscale\":[[0.0,\"#0d0887\"],[0.1111111111111111,\"#46039f\"],[0.2222222222222222,\"#7201a8\"],[0.3333333333333333,\"#9c179e\"],[0.4444444444444444,\"#bd3786\"],[0.5555555555555556,\"#d8576b\"],[0.6666666666666666,\"#ed7953\"],[0.7777777777777778,\"#fb9f3a\"],[0.8888888888888888,\"#fdca26\"],[1.0,\"#f0f921\"]]}],\"contourcarpet\":[{\"type\":\"contourcarpet\",\"colorbar\":{\"outlinewidth\":0,\"ticks\":\"\"}}],\"contour\":[{\"type\":\"contour\",\"colorbar\":{\"outlinewidth\":0,\"ticks\":\"\"},\"colorscale\":[[0.0,\"#0d0887\"],[0.1111111111111111,\"#46039f\"],[0.2222222222222222,\"#7201a8\"],[0.3333333333333333,\"#9c179e\"],[0.4444444444444444,\"#bd3786\"],[0.5555555555555556,\"#d8576b\"],[0.6666666666666666,\"#ed7953\"],[0.7777777777777778,\"#fb9f3a\"],[0.8888888888888888,\"#fdca26\"],[1.0,\"#f0f921\"]]}],\"surface\":[{\"type\":\"surface\",\"colorbar\":{\"outlinewidth\":0,\"ticks\":\"\"},\"colorscale\":[[0.0,\"#0d0887\"],[0.1111111111111111,\"#46039f\"],[0.2222222222222222,\"#7201a8\"],[0.3333333333333333,\"#9c179e\"],[0.4444444444444444,\"#bd3786\"],[0.5555555555555556,\"#d8576b\"],[0.6666666666666666,\"#ed7953\"],[0.7777777777777778,\"#fb9f3a\"],[0.8888888888888888,\"#fdca26\"],[1.0,\"#f0f921\"]]}],\"mesh3d\":[{\"type\":\"mesh3d\",\"colorbar\":{\"outlinewidth\":0,\"ticks\":\"\"}}],\"scatter\":[{\"fillpattern\":{\"fillmode\":\"overlay\",\"size\":10,\"solidity\":0.2},\"type\":\"scatter\"}],\"parcoords\":[{\"type\":\"parcoords\",\"line\":{\"colorbar\":{\"outlinewidth\":0,\"ticks\":\"\"}}}],\"scatterpolargl\":[{\"type\":\"scatterpolargl\",\"marker\":{\"colorbar\":{\"outlinewidth\":0,\"ticks\":\"\"}}}],\"bar\":[{\"error_x\":{\"color\":\"#2a3f5f\"},\"error_y\":{\"color\":\"#2a3f5f\"},\"marker\":{\"line\":{\"color\":\"#E5ECF6\",\"width\":0.5},\"pattern\":{\"fillmode\":\"overlay\",\"size\":10,\"solidity\":0.2}},\"type\":\"bar\"}],\"scattergeo\":[{\"type\":\"scattergeo\",\"marker\":{\"colorbar\":{\"outlinewidth\":0,\"ticks\":\"\"}}}],\"scatterpolar\":[{\"type\":\"scatterpolar\",\"marker\":{\"colorbar\":{\"outlinewidth\":0,\"ticks\":\"\"}}}],\"histogram\":[{\"marker\":{\"pattern\":{\"fillmode\":\"overlay\",\"size\":10,\"solidity\":0.2}},\"type\":\"histogram\"}],\"scattergl\":[{\"type\":\"scattergl\",\"marker\":{\"colorbar\":{\"outlinewidth\":0,\"ticks\":\"\"}}}],\"scatter3d\":[{\"type\":\"scatter3d\",\"line\":{\"colorbar\":{\"outlinewidth\":0,\"ticks\":\"\"}},\"marker\":{\"colorbar\":{\"outlinewidth\":0,\"ticks\":\"\"}}}],\"scattermapbox\":[{\"type\":\"scattermapbox\",\"marker\":{\"colorbar\":{\"outlinewidth\":0,\"ticks\":\"\"}}}],\"scatterternary\":[{\"type\":\"scatterternary\",\"marker\":{\"colorbar\":{\"outlinewidth\":0,\"ticks\":\"\"}}}],\"scattercarpet\":[{\"type\":\"scattercarpet\",\"marker\":{\"colorbar\":{\"outlinewidth\":0,\"ticks\":\"\"}}}],\"carpet\":[{\"aaxis\":{\"endlinecolor\":\"#2a3f5f\",\"gridcolor\":\"white\",\"linecolor\":\"white\",\"minorgridcolor\":\"white\",\"startlinecolor\":\"#2a3f5f\"},\"baxis\":{\"endlinecolor\":\"#2a3f5f\",\"gridcolor\":\"white\",\"linecolor\":\"white\",\"minorgridcolor\":\"white\",\"startlinecolor\":\"#2a3f5f\"},\"type\":\"carpet\"}],\"table\":[{\"cells\":{\"fill\":{\"color\":\"#EBF0F8\"},\"line\":{\"color\":\"white\"}},\"header\":{\"fill\":{\"color\":\"#C8D4E3\"},\"line\":{\"color\":\"white\"}},\"type\":\"table\"}],\"barpolar\":[{\"marker\":{\"line\":{\"color\":\"#E5ECF6\",\"width\":0.5},\"pattern\":{\"fillmode\":\"overlay\",\"size\":10,\"solidity\":0.2}},\"type\":\"barpolar\"}],\"pie\":[{\"automargin\":true,\"type\":\"pie\"}]},\"layout\":{\"autotypenumbers\":\"strict\",\"colorway\":[\"#636efa\",\"#EF553B\",\"#00cc96\",\"#ab63fa\",\"#FFA15A\",\"#19d3f3\",\"#FF6692\",\"#B6E880\",\"#FF97FF\",\"#FECB52\"],\"font\":{\"color\":\"#2a3f5f\"},\"hovermode\":\"closest\",\"hoverlabel\":{\"align\":\"left\"},\"paper_bgcolor\":\"white\",\"plot_bgcolor\":\"#E5ECF6\",\"polar\":{\"bgcolor\":\"#E5ECF6\",\"angularaxis\":{\"gridcolor\":\"white\",\"linecolor\":\"white\",\"ticks\":\"\"},\"radialaxis\":{\"gridcolor\":\"white\",\"linecolor\":\"white\",\"ticks\":\"\"}},\"ternary\":{\"bgcolor\":\"#E5ECF6\",\"aaxis\":{\"gridcolor\":\"white\",\"linecolor\":\"white\",\"ticks\":\"\"},\"baxis\":{\"gridcolor\":\"white\",\"linecolor\":\"white\",\"ticks\":\"\"},\"caxis\":{\"gridcolor\":\"white\",\"linecolor\":\"white\",\"ticks\":\"\"}},\"coloraxis\":{\"colorbar\":{\"outlinewidth\":0,\"ticks\":\"\"}},\"colorscale\":{\"sequential\":[[0.0,\"#0d0887\"],[0.1111111111111111,\"#46039f\"],[0.2222222222222222,\"#7201a8\"],[0.3333333333333333,\"#9c179e\"],[0.4444444444444444,\"#bd3786\"],[0.5555555555555556,\"#d8576b\"],[0.6666666666666666,\"#ed7953\"],[0.7777777777777778,\"#fb9f3a\"],[0.8888888888888888,\"#fdca26\"],[1.0,\"#f0f921\"]],\"sequentialminus\":[[0.0,\"#0d0887\"],[0.1111111111111111,\"#46039f\"],[0.2222222222222222,\"#7201a8\"],[0.3333333333333333,\"#9c179e\"],[0.4444444444444444,\"#bd3786\"],[0.5555555555555556,\"#d8576b\"],[0.6666666666666666,\"#ed7953\"],[0.7777777777777778,\"#fb9f3a\"],[0.8888888888888888,\"#fdca26\"],[1.0,\"#f0f921\"]],\"diverging\":[[0,\"#8e0152\"],[0.1,\"#c51b7d\"],[0.2,\"#de77ae\"],[0.3,\"#f1b6da\"],[0.4,\"#fde0ef\"],[0.5,\"#f7f7f7\"],[0.6,\"#e6f5d0\"],[0.7,\"#b8e186\"],[0.8,\"#7fbc41\"],[0.9,\"#4d9221\"],[1,\"#276419\"]]},\"xaxis\":{\"gridcolor\":\"white\",\"linecolor\":\"white\",\"ticks\":\"\",\"title\":{\"standoff\":15},\"zerolinecolor\":\"white\",\"automargin\":true,\"zerolinewidth\":2},\"yaxis\":{\"gridcolor\":\"white\",\"linecolor\":\"white\",\"ticks\":\"\",\"title\":{\"standoff\":15},\"zerolinecolor\":\"white\",\"automargin\":true,\"zerolinewidth\":2},\"scene\":{\"xaxis\":{\"backgroundcolor\":\"#E5ECF6\",\"gridcolor\":\"white\",\"linecolor\":\"white\",\"showbackground\":true,\"ticks\":\"\",\"zerolinecolor\":\"white\",\"gridwidth\":2},\"yaxis\":{\"backgroundcolor\":\"#E5ECF6\",\"gridcolor\":\"white\",\"linecolor\":\"white\",\"showbackground\":true,\"ticks\":\"\",\"zerolinecolor\":\"white\",\"gridwidth\":2},\"zaxis\":{\"backgroundcolor\":\"#E5ECF6\",\"gridcolor\":\"white\",\"linecolor\":\"white\",\"showbackground\":true,\"ticks\":\"\",\"zerolinecolor\":\"white\",\"gridwidth\":2}},\"shapedefaults\":{\"line\":{\"color\":\"#2a3f5f\"}},\"annotationdefaults\":{\"arrowcolor\":\"#2a3f5f\",\"arrowhead\":0,\"arrowwidth\":1},\"geo\":{\"bgcolor\":\"white\",\"landcolor\":\"#E5ECF6\",\"subunitcolor\":\"white\",\"showland\":true,\"showlakes\":true,\"lakecolor\":\"white\"},\"title\":{\"x\":0.05},\"mapbox\":{\"style\":\"light\"}}},\"xaxis\":{\"anchor\":\"y\",\"domain\":[0.0,1.0],\"title\":{\"text\":\"Year\"}},\"yaxis\":{\"anchor\":\"x\",\"domain\":[0.0,1.0],\"title\":{\"text\":\"Temperature\"}},\"legend\":{\"tracegroupgap\":0},\"margin\":{\"t\":60}},                        {\"responsive\": true}                    ).then(function(){\n                            \nvar gd = document.getElementById('7f97be85-8889-40ef-83d9-0ff65656e8d8');\nvar x = new MutationObserver(function (mutations, observer) {{\n        var display = window.getComputedStyle(gd).display;\n        if (!display || display === 'none') {{\n            console.log([gd, 'removed!']);\n            Plotly.purge(gd);\n            observer.disconnect();\n        }}\n}});\n\n// Listen for the removal of the full notebook cells\nvar notebookContainer = gd.closest('#notebook-container');\nif (notebookContainer) {{\n    x.observe(notebookContainer, {childList: true});\n}}\n\n// Listen for the clearing of the current output cell\nvar outputEl = gd.closest('.output');\nif (outputEl) {{\n    x.observe(outputEl, {childList: true});\n}}\n\n                        })                };                });            </script>        </div>"
     },
     "metadata": {},
     "output_type": "display_data"
    }
   ],
   "source": [
    "fig = px.line(df_agg, x='Year', y=\"Temperature\")\n",
    "fig.show()"
   ],
   "metadata": {
    "collapsed": false,
    "pycharm": {
     "name": "#%%\n"
    }
   }
  },
  {
   "cell_type": "code",
   "execution_count": 42,
   "outputs": [
    {
     "name": "stderr",
     "output_type": "stream",
     "text": [
      "D:\\Lehre\\Zeitreihen_Analyse_und_Prädiktion\\Code\\venv\\lib\\site-packages\\plotly\\express\\_core.py:271: FutureWarning:\n",
      "\n",
      "The frame.append method is deprecated and will be removed from pandas in a future version. Use pandas.concat instead.\n",
      "\n",
      "D:\\Lehre\\Zeitreihen_Analyse_und_Prädiktion\\Code\\venv\\lib\\site-packages\\plotly\\express\\_core.py:271: FutureWarning:\n",
      "\n",
      "The frame.append method is deprecated and will be removed from pandas in a future version. Use pandas.concat instead.\n",
      "\n",
      "D:\\Lehre\\Zeitreihen_Analyse_und_Prädiktion\\Code\\venv\\lib\\site-packages\\plotly\\express\\_core.py:271: FutureWarning:\n",
      "\n",
      "The frame.append method is deprecated and will be removed from pandas in a future version. Use pandas.concat instead.\n",
      "\n",
      "D:\\Lehre\\Zeitreihen_Analyse_und_Prädiktion\\Code\\venv\\lib\\site-packages\\plotly\\express\\_core.py:271: FutureWarning:\n",
      "\n",
      "The frame.append method is deprecated and will be removed from pandas in a future version. Use pandas.concat instead.\n",
      "\n",
      "D:\\Lehre\\Zeitreihen_Analyse_und_Prädiktion\\Code\\venv\\lib\\site-packages\\plotly\\express\\_core.py:271: FutureWarning:\n",
      "\n",
      "The frame.append method is deprecated and will be removed from pandas in a future version. Use pandas.concat instead.\n",
      "\n",
      "D:\\Lehre\\Zeitreihen_Analyse_und_Prädiktion\\Code\\venv\\lib\\site-packages\\plotly\\express\\_core.py:271: FutureWarning:\n",
      "\n",
      "The frame.append method is deprecated and will be removed from pandas in a future version. Use pandas.concat instead.\n",
      "\n",
      "D:\\Lehre\\Zeitreihen_Analyse_und_Prädiktion\\Code\\venv\\lib\\site-packages\\plotly\\express\\_core.py:271: FutureWarning:\n",
      "\n",
      "The frame.append method is deprecated and will be removed from pandas in a future version. Use pandas.concat instead.\n",
      "\n",
      "D:\\Lehre\\Zeitreihen_Analyse_und_Prädiktion\\Code\\venv\\lib\\site-packages\\plotly\\express\\_core.py:271: FutureWarning:\n",
      "\n",
      "The frame.append method is deprecated and will be removed from pandas in a future version. Use pandas.concat instead.\n",
      "\n",
      "D:\\Lehre\\Zeitreihen_Analyse_und_Prädiktion\\Code\\venv\\lib\\site-packages\\plotly\\express\\_core.py:271: FutureWarning:\n",
      "\n",
      "The frame.append method is deprecated and will be removed from pandas in a future version. Use pandas.concat instead.\n",
      "\n",
      "D:\\Lehre\\Zeitreihen_Analyse_und_Prädiktion\\Code\\venv\\lib\\site-packages\\plotly\\express\\_core.py:271: FutureWarning:\n",
      "\n",
      "The frame.append method is deprecated and will be removed from pandas in a future version. Use pandas.concat instead.\n",
      "\n",
      "D:\\Lehre\\Zeitreihen_Analyse_und_Prädiktion\\Code\\venv\\lib\\site-packages\\plotly\\express\\_core.py:271: FutureWarning:\n",
      "\n",
      "The frame.append method is deprecated and will be removed from pandas in a future version. Use pandas.concat instead.\n",
      "\n",
      "D:\\Lehre\\Zeitreihen_Analyse_und_Prädiktion\\Code\\venv\\lib\\site-packages\\plotly\\express\\_core.py:271: FutureWarning:\n",
      "\n",
      "The frame.append method is deprecated and will be removed from pandas in a future version. Use pandas.concat instead.\n",
      "\n",
      "D:\\Lehre\\Zeitreihen_Analyse_und_Prädiktion\\Code\\venv\\lib\\site-packages\\plotly\\express\\_core.py:271: FutureWarning:\n",
      "\n",
      "The frame.append method is deprecated and will be removed from pandas in a future version. Use pandas.concat instead.\n",
      "\n",
      "D:\\Lehre\\Zeitreihen_Analyse_und_Prädiktion\\Code\\venv\\lib\\site-packages\\plotly\\express\\_core.py:271: FutureWarning:\n",
      "\n",
      "The frame.append method is deprecated and will be removed from pandas in a future version. Use pandas.concat instead.\n",
      "\n",
      "D:\\Lehre\\Zeitreihen_Analyse_und_Prädiktion\\Code\\venv\\lib\\site-packages\\plotly\\express\\_core.py:271: FutureWarning:\n",
      "\n",
      "The frame.append method is deprecated and will be removed from pandas in a future version. Use pandas.concat instead.\n",
      "\n",
      "D:\\Lehre\\Zeitreihen_Analyse_und_Prädiktion\\Code\\venv\\lib\\site-packages\\plotly\\express\\_core.py:271: FutureWarning:\n",
      "\n",
      "The frame.append method is deprecated and will be removed from pandas in a future version. Use pandas.concat instead.\n",
      "\n",
      "D:\\Lehre\\Zeitreihen_Analyse_und_Prädiktion\\Code\\venv\\lib\\site-packages\\plotly\\express\\_core.py:271: FutureWarning:\n",
      "\n",
      "The frame.append method is deprecated and will be removed from pandas in a future version. Use pandas.concat instead.\n",
      "\n",
      "D:\\Lehre\\Zeitreihen_Analyse_und_Prädiktion\\Code\\venv\\lib\\site-packages\\plotly\\express\\_core.py:271: FutureWarning:\n",
      "\n",
      "The frame.append method is deprecated and will be removed from pandas in a future version. Use pandas.concat instead.\n",
      "\n",
      "D:\\Lehre\\Zeitreihen_Analyse_und_Prädiktion\\Code\\venv\\lib\\site-packages\\plotly\\express\\_core.py:271: FutureWarning:\n",
      "\n",
      "The frame.append method is deprecated and will be removed from pandas in a future version. Use pandas.concat instead.\n",
      "\n",
      "D:\\Lehre\\Zeitreihen_Analyse_und_Prädiktion\\Code\\venv\\lib\\site-packages\\plotly\\express\\_core.py:271: FutureWarning:\n",
      "\n",
      "The frame.append method is deprecated and will be removed from pandas in a future version. Use pandas.concat instead.\n",
      "\n",
      "D:\\Lehre\\Zeitreihen_Analyse_und_Prädiktion\\Code\\venv\\lib\\site-packages\\plotly\\express\\_core.py:271: FutureWarning:\n",
      "\n",
      "The frame.append method is deprecated and will be removed from pandas in a future version. Use pandas.concat instead.\n",
      "\n",
      "D:\\Lehre\\Zeitreihen_Analyse_und_Prädiktion\\Code\\venv\\lib\\site-packages\\plotly\\express\\_core.py:271: FutureWarning:\n",
      "\n",
      "The frame.append method is deprecated and will be removed from pandas in a future version. Use pandas.concat instead.\n",
      "\n",
      "D:\\Lehre\\Zeitreihen_Analyse_und_Prädiktion\\Code\\venv\\lib\\site-packages\\plotly\\express\\_core.py:271: FutureWarning:\n",
      "\n",
      "The frame.append method is deprecated and will be removed from pandas in a future version. Use pandas.concat instead.\n",
      "\n",
      "D:\\Lehre\\Zeitreihen_Analyse_und_Prädiktion\\Code\\venv\\lib\\site-packages\\plotly\\express\\_core.py:271: FutureWarning:\n",
      "\n",
      "The frame.append method is deprecated and will be removed from pandas in a future version. Use pandas.concat instead.\n",
      "\n",
      "D:\\Lehre\\Zeitreihen_Analyse_und_Prädiktion\\Code\\venv\\lib\\site-packages\\plotly\\express\\_core.py:271: FutureWarning:\n",
      "\n",
      "The frame.append method is deprecated and will be removed from pandas in a future version. Use pandas.concat instead.\n",
      "\n",
      "D:\\Lehre\\Zeitreihen_Analyse_und_Prädiktion\\Code\\venv\\lib\\site-packages\\plotly\\express\\_core.py:271: FutureWarning:\n",
      "\n",
      "The frame.append method is deprecated and will be removed from pandas in a future version. Use pandas.concat instead.\n",
      "\n",
      "D:\\Lehre\\Zeitreihen_Analyse_und_Prädiktion\\Code\\venv\\lib\\site-packages\\plotly\\express\\_core.py:271: FutureWarning:\n",
      "\n",
      "The frame.append method is deprecated and will be removed from pandas in a future version. Use pandas.concat instead.\n",
      "\n",
      "D:\\Lehre\\Zeitreihen_Analyse_und_Prädiktion\\Code\\venv\\lib\\site-packages\\plotly\\express\\_core.py:271: FutureWarning:\n",
      "\n",
      "The frame.append method is deprecated and will be removed from pandas in a future version. Use pandas.concat instead.\n",
      "\n",
      "D:\\Lehre\\Zeitreihen_Analyse_und_Prädiktion\\Code\\venv\\lib\\site-packages\\plotly\\express\\_core.py:271: FutureWarning:\n",
      "\n",
      "The frame.append method is deprecated and will be removed from pandas in a future version. Use pandas.concat instead.\n",
      "\n",
      "D:\\Lehre\\Zeitreihen_Analyse_und_Prädiktion\\Code\\venv\\lib\\site-packages\\plotly\\express\\_core.py:271: FutureWarning:\n",
      "\n",
      "The frame.append method is deprecated and will be removed from pandas in a future version. Use pandas.concat instead.\n",
      "\n",
      "D:\\Lehre\\Zeitreihen_Analyse_und_Prädiktion\\Code\\venv\\lib\\site-packages\\plotly\\express\\_core.py:271: FutureWarning:\n",
      "\n",
      "The frame.append method is deprecated and will be removed from pandas in a future version. Use pandas.concat instead.\n",
      "\n",
      "D:\\Lehre\\Zeitreihen_Analyse_und_Prädiktion\\Code\\venv\\lib\\site-packages\\plotly\\express\\_core.py:271: FutureWarning:\n",
      "\n",
      "The frame.append method is deprecated and will be removed from pandas in a future version. Use pandas.concat instead.\n",
      "\n",
      "D:\\Lehre\\Zeitreihen_Analyse_und_Prädiktion\\Code\\venv\\lib\\site-packages\\plotly\\express\\_core.py:271: FutureWarning:\n",
      "\n",
      "The frame.append method is deprecated and will be removed from pandas in a future version. Use pandas.concat instead.\n",
      "\n",
      "D:\\Lehre\\Zeitreihen_Analyse_und_Prädiktion\\Code\\venv\\lib\\site-packages\\plotly\\express\\_core.py:271: FutureWarning:\n",
      "\n",
      "The frame.append method is deprecated and will be removed from pandas in a future version. Use pandas.concat instead.\n",
      "\n",
      "D:\\Lehre\\Zeitreihen_Analyse_und_Prädiktion\\Code\\venv\\lib\\site-packages\\plotly\\express\\_core.py:271: FutureWarning:\n",
      "\n",
      "The frame.append method is deprecated and will be removed from pandas in a future version. Use pandas.concat instead.\n",
      "\n",
      "D:\\Lehre\\Zeitreihen_Analyse_und_Prädiktion\\Code\\venv\\lib\\site-packages\\plotly\\express\\_core.py:271: FutureWarning:\n",
      "\n",
      "The frame.append method is deprecated and will be removed from pandas in a future version. Use pandas.concat instead.\n",
      "\n",
      "D:\\Lehre\\Zeitreihen_Analyse_und_Prädiktion\\Code\\venv\\lib\\site-packages\\plotly\\express\\_core.py:271: FutureWarning:\n",
      "\n",
      "The frame.append method is deprecated and will be removed from pandas in a future version. Use pandas.concat instead.\n",
      "\n",
      "D:\\Lehre\\Zeitreihen_Analyse_und_Prädiktion\\Code\\venv\\lib\\site-packages\\plotly\\express\\_core.py:271: FutureWarning:\n",
      "\n",
      "The frame.append method is deprecated and will be removed from pandas in a future version. Use pandas.concat instead.\n",
      "\n",
      "D:\\Lehre\\Zeitreihen_Analyse_und_Prädiktion\\Code\\venv\\lib\\site-packages\\plotly\\express\\_core.py:271: FutureWarning:\n",
      "\n",
      "The frame.append method is deprecated and will be removed from pandas in a future version. Use pandas.concat instead.\n",
      "\n",
      "D:\\Lehre\\Zeitreihen_Analyse_und_Prädiktion\\Code\\venv\\lib\\site-packages\\plotly\\express\\_core.py:271: FutureWarning:\n",
      "\n",
      "The frame.append method is deprecated and will be removed from pandas in a future version. Use pandas.concat instead.\n",
      "\n",
      "D:\\Lehre\\Zeitreihen_Analyse_und_Prädiktion\\Code\\venv\\lib\\site-packages\\plotly\\express\\_core.py:271: FutureWarning:\n",
      "\n",
      "The frame.append method is deprecated and will be removed from pandas in a future version. Use pandas.concat instead.\n",
      "\n",
      "D:\\Lehre\\Zeitreihen_Analyse_und_Prädiktion\\Code\\venv\\lib\\site-packages\\plotly\\express\\_core.py:271: FutureWarning:\n",
      "\n",
      "The frame.append method is deprecated and will be removed from pandas in a future version. Use pandas.concat instead.\n",
      "\n",
      "D:\\Lehre\\Zeitreihen_Analyse_und_Prädiktion\\Code\\venv\\lib\\site-packages\\plotly\\express\\_core.py:271: FutureWarning:\n",
      "\n",
      "The frame.append method is deprecated and will be removed from pandas in a future version. Use pandas.concat instead.\n",
      "\n",
      "D:\\Lehre\\Zeitreihen_Analyse_und_Prädiktion\\Code\\venv\\lib\\site-packages\\plotly\\express\\_core.py:271: FutureWarning:\n",
      "\n",
      "The frame.append method is deprecated and will be removed from pandas in a future version. Use pandas.concat instead.\n",
      "\n",
      "D:\\Lehre\\Zeitreihen_Analyse_und_Prädiktion\\Code\\venv\\lib\\site-packages\\plotly\\express\\_core.py:271: FutureWarning:\n",
      "\n",
      "The frame.append method is deprecated and will be removed from pandas in a future version. Use pandas.concat instead.\n",
      "\n",
      "D:\\Lehre\\Zeitreihen_Analyse_und_Prädiktion\\Code\\venv\\lib\\site-packages\\plotly\\express\\_core.py:271: FutureWarning:\n",
      "\n",
      "The frame.append method is deprecated and will be removed from pandas in a future version. Use pandas.concat instead.\n",
      "\n",
      "D:\\Lehre\\Zeitreihen_Analyse_und_Prädiktion\\Code\\venv\\lib\\site-packages\\plotly\\express\\_core.py:271: FutureWarning:\n",
      "\n",
      "The frame.append method is deprecated and will be removed from pandas in a future version. Use pandas.concat instead.\n",
      "\n",
      "D:\\Lehre\\Zeitreihen_Analyse_und_Prädiktion\\Code\\venv\\lib\\site-packages\\plotly\\express\\_core.py:271: FutureWarning:\n",
      "\n",
      "The frame.append method is deprecated and will be removed from pandas in a future version. Use pandas.concat instead.\n",
      "\n",
      "D:\\Lehre\\Zeitreihen_Analyse_und_Prädiktion\\Code\\venv\\lib\\site-packages\\plotly\\express\\_core.py:271: FutureWarning:\n",
      "\n",
      "The frame.append method is deprecated and will be removed from pandas in a future version. Use pandas.concat instead.\n",
      "\n",
      "D:\\Lehre\\Zeitreihen_Analyse_und_Prädiktion\\Code\\venv\\lib\\site-packages\\plotly\\express\\_core.py:271: FutureWarning:\n",
      "\n",
      "The frame.append method is deprecated and will be removed from pandas in a future version. Use pandas.concat instead.\n",
      "\n",
      "D:\\Lehre\\Zeitreihen_Analyse_und_Prädiktion\\Code\\venv\\lib\\site-packages\\plotly\\express\\_core.py:271: FutureWarning:\n",
      "\n",
      "The frame.append method is deprecated and will be removed from pandas in a future version. Use pandas.concat instead.\n",
      "\n",
      "D:\\Lehre\\Zeitreihen_Analyse_und_Prädiktion\\Code\\venv\\lib\\site-packages\\plotly\\express\\_core.py:271: FutureWarning:\n",
      "\n",
      "The frame.append method is deprecated and will be removed from pandas in a future version. Use pandas.concat instead.\n",
      "\n",
      "D:\\Lehre\\Zeitreihen_Analyse_und_Prädiktion\\Code\\venv\\lib\\site-packages\\plotly\\express\\_core.py:271: FutureWarning:\n",
      "\n",
      "The frame.append method is deprecated and will be removed from pandas in a future version. Use pandas.concat instead.\n",
      "\n",
      "D:\\Lehre\\Zeitreihen_Analyse_und_Prädiktion\\Code\\venv\\lib\\site-packages\\plotly\\express\\_core.py:271: FutureWarning:\n",
      "\n",
      "The frame.append method is deprecated and will be removed from pandas in a future version. Use pandas.concat instead.\n",
      "\n",
      "D:\\Lehre\\Zeitreihen_Analyse_und_Prädiktion\\Code\\venv\\lib\\site-packages\\plotly\\express\\_core.py:271: FutureWarning:\n",
      "\n",
      "The frame.append method is deprecated and will be removed from pandas in a future version. Use pandas.concat instead.\n",
      "\n",
      "D:\\Lehre\\Zeitreihen_Analyse_und_Prädiktion\\Code\\venv\\lib\\site-packages\\plotly\\express\\_core.py:271: FutureWarning:\n",
      "\n",
      "The frame.append method is deprecated and will be removed from pandas in a future version. Use pandas.concat instead.\n",
      "\n",
      "D:\\Lehre\\Zeitreihen_Analyse_und_Prädiktion\\Code\\venv\\lib\\site-packages\\plotly\\express\\_core.py:271: FutureWarning:\n",
      "\n",
      "The frame.append method is deprecated and will be removed from pandas in a future version. Use pandas.concat instead.\n",
      "\n",
      "D:\\Lehre\\Zeitreihen_Analyse_und_Prädiktion\\Code\\venv\\lib\\site-packages\\plotly\\express\\_core.py:271: FutureWarning:\n",
      "\n",
      "The frame.append method is deprecated and will be removed from pandas in a future version. Use pandas.concat instead.\n",
      "\n",
      "D:\\Lehre\\Zeitreihen_Analyse_und_Prädiktion\\Code\\venv\\lib\\site-packages\\plotly\\express\\_core.py:271: FutureWarning:\n",
      "\n",
      "The frame.append method is deprecated and will be removed from pandas in a future version. Use pandas.concat instead.\n",
      "\n",
      "D:\\Lehre\\Zeitreihen_Analyse_und_Prädiktion\\Code\\venv\\lib\\site-packages\\plotly\\express\\_core.py:271: FutureWarning:\n",
      "\n",
      "The frame.append method is deprecated and will be removed from pandas in a future version. Use pandas.concat instead.\n",
      "\n",
      "D:\\Lehre\\Zeitreihen_Analyse_und_Prädiktion\\Code\\venv\\lib\\site-packages\\plotly\\express\\_core.py:271: FutureWarning:\n",
      "\n",
      "The frame.append method is deprecated and will be removed from pandas in a future version. Use pandas.concat instead.\n",
      "\n",
      "D:\\Lehre\\Zeitreihen_Analyse_und_Prädiktion\\Code\\venv\\lib\\site-packages\\plotly\\express\\_core.py:271: FutureWarning:\n",
      "\n",
      "The frame.append method is deprecated and will be removed from pandas in a future version. Use pandas.concat instead.\n",
      "\n",
      "D:\\Lehre\\Zeitreihen_Analyse_und_Prädiktion\\Code\\venv\\lib\\site-packages\\plotly\\express\\_core.py:271: FutureWarning:\n",
      "\n",
      "The frame.append method is deprecated and will be removed from pandas in a future version. Use pandas.concat instead.\n",
      "\n",
      "D:\\Lehre\\Zeitreihen_Analyse_und_Prädiktion\\Code\\venv\\lib\\site-packages\\plotly\\express\\_core.py:271: FutureWarning:\n",
      "\n",
      "The frame.append method is deprecated and will be removed from pandas in a future version. Use pandas.concat instead.\n",
      "\n",
      "D:\\Lehre\\Zeitreihen_Analyse_und_Prädiktion\\Code\\venv\\lib\\site-packages\\plotly\\express\\_core.py:271: FutureWarning:\n",
      "\n",
      "The frame.append method is deprecated and will be removed from pandas in a future version. Use pandas.concat instead.\n",
      "\n",
      "D:\\Lehre\\Zeitreihen_Analyse_und_Prädiktion\\Code\\venv\\lib\\site-packages\\plotly\\express\\_core.py:271: FutureWarning:\n",
      "\n",
      "The frame.append method is deprecated and will be removed from pandas in a future version. Use pandas.concat instead.\n",
      "\n",
      "D:\\Lehre\\Zeitreihen_Analyse_und_Prädiktion\\Code\\venv\\lib\\site-packages\\plotly\\express\\_core.py:271: FutureWarning:\n",
      "\n",
      "The frame.append method is deprecated and will be removed from pandas in a future version. Use pandas.concat instead.\n",
      "\n",
      "D:\\Lehre\\Zeitreihen_Analyse_und_Prädiktion\\Code\\venv\\lib\\site-packages\\plotly\\express\\_core.py:271: FutureWarning:\n",
      "\n",
      "The frame.append method is deprecated and will be removed from pandas in a future version. Use pandas.concat instead.\n",
      "\n",
      "D:\\Lehre\\Zeitreihen_Analyse_und_Prädiktion\\Code\\venv\\lib\\site-packages\\plotly\\express\\_core.py:271: FutureWarning:\n",
      "\n",
      "The frame.append method is deprecated and will be removed from pandas in a future version. Use pandas.concat instead.\n",
      "\n",
      "D:\\Lehre\\Zeitreihen_Analyse_und_Prädiktion\\Code\\venv\\lib\\site-packages\\plotly\\express\\_core.py:271: FutureWarning:\n",
      "\n",
      "The frame.append method is deprecated and will be removed from pandas in a future version. Use pandas.concat instead.\n",
      "\n",
      "D:\\Lehre\\Zeitreihen_Analyse_und_Prädiktion\\Code\\venv\\lib\\site-packages\\plotly\\express\\_core.py:271: FutureWarning:\n",
      "\n",
      "The frame.append method is deprecated and will be removed from pandas in a future version. Use pandas.concat instead.\n",
      "\n",
      "D:\\Lehre\\Zeitreihen_Analyse_und_Prädiktion\\Code\\venv\\lib\\site-packages\\plotly\\express\\_core.py:271: FutureWarning:\n",
      "\n",
      "The frame.append method is deprecated and will be removed from pandas in a future version. Use pandas.concat instead.\n",
      "\n",
      "D:\\Lehre\\Zeitreihen_Analyse_und_Prädiktion\\Code\\venv\\lib\\site-packages\\plotly\\express\\_core.py:271: FutureWarning:\n",
      "\n",
      "The frame.append method is deprecated and will be removed from pandas in a future version. Use pandas.concat instead.\n",
      "\n",
      "D:\\Lehre\\Zeitreihen_Analyse_und_Prädiktion\\Code\\venv\\lib\\site-packages\\plotly\\express\\_core.py:271: FutureWarning:\n",
      "\n",
      "The frame.append method is deprecated and will be removed from pandas in a future version. Use pandas.concat instead.\n",
      "\n",
      "D:\\Lehre\\Zeitreihen_Analyse_und_Prädiktion\\Code\\venv\\lib\\site-packages\\plotly\\express\\_core.py:271: FutureWarning:\n",
      "\n",
      "The frame.append method is deprecated and will be removed from pandas in a future version. Use pandas.concat instead.\n",
      "\n",
      "D:\\Lehre\\Zeitreihen_Analyse_und_Prädiktion\\Code\\venv\\lib\\site-packages\\plotly\\express\\_core.py:271: FutureWarning:\n",
      "\n",
      "The frame.append method is deprecated and will be removed from pandas in a future version. Use pandas.concat instead.\n",
      "\n",
      "D:\\Lehre\\Zeitreihen_Analyse_und_Prädiktion\\Code\\venv\\lib\\site-packages\\plotly\\express\\_core.py:271: FutureWarning:\n",
      "\n",
      "The frame.append method is deprecated and will be removed from pandas in a future version. Use pandas.concat instead.\n",
      "\n",
      "D:\\Lehre\\Zeitreihen_Analyse_und_Prädiktion\\Code\\venv\\lib\\site-packages\\plotly\\express\\_core.py:271: FutureWarning:\n",
      "\n",
      "The frame.append method is deprecated and will be removed from pandas in a future version. Use pandas.concat instead.\n",
      "\n",
      "D:\\Lehre\\Zeitreihen_Analyse_und_Prädiktion\\Code\\venv\\lib\\site-packages\\plotly\\express\\_core.py:271: FutureWarning:\n",
      "\n",
      "The frame.append method is deprecated and will be removed from pandas in a future version. Use pandas.concat instead.\n",
      "\n",
      "D:\\Lehre\\Zeitreihen_Analyse_und_Prädiktion\\Code\\venv\\lib\\site-packages\\plotly\\express\\_core.py:271: FutureWarning:\n",
      "\n",
      "The frame.append method is deprecated and will be removed from pandas in a future version. Use pandas.concat instead.\n",
      "\n",
      "D:\\Lehre\\Zeitreihen_Analyse_und_Prädiktion\\Code\\venv\\lib\\site-packages\\plotly\\express\\_core.py:271: FutureWarning:\n",
      "\n",
      "The frame.append method is deprecated and will be removed from pandas in a future version. Use pandas.concat instead.\n",
      "\n",
      "D:\\Lehre\\Zeitreihen_Analyse_und_Prädiktion\\Code\\venv\\lib\\site-packages\\plotly\\express\\_core.py:271: FutureWarning:\n",
      "\n",
      "The frame.append method is deprecated and will be removed from pandas in a future version. Use pandas.concat instead.\n",
      "\n",
      "D:\\Lehre\\Zeitreihen_Analyse_und_Prädiktion\\Code\\venv\\lib\\site-packages\\plotly\\express\\_core.py:271: FutureWarning:\n",
      "\n",
      "The frame.append method is deprecated and will be removed from pandas in a future version. Use pandas.concat instead.\n",
      "\n",
      "D:\\Lehre\\Zeitreihen_Analyse_und_Prädiktion\\Code\\venv\\lib\\site-packages\\plotly\\express\\_core.py:271: FutureWarning:\n",
      "\n",
      "The frame.append method is deprecated and will be removed from pandas in a future version. Use pandas.concat instead.\n",
      "\n",
      "D:\\Lehre\\Zeitreihen_Analyse_und_Prädiktion\\Code\\venv\\lib\\site-packages\\plotly\\express\\_core.py:271: FutureWarning:\n",
      "\n",
      "The frame.append method is deprecated and will be removed from pandas in a future version. Use pandas.concat instead.\n",
      "\n",
      "D:\\Lehre\\Zeitreihen_Analyse_und_Prädiktion\\Code\\venv\\lib\\site-packages\\plotly\\express\\_core.py:271: FutureWarning:\n",
      "\n",
      "The frame.append method is deprecated and will be removed from pandas in a future version. Use pandas.concat instead.\n",
      "\n",
      "D:\\Lehre\\Zeitreihen_Analyse_und_Prädiktion\\Code\\venv\\lib\\site-packages\\plotly\\express\\_core.py:271: FutureWarning:\n",
      "\n",
      "The frame.append method is deprecated and will be removed from pandas in a future version. Use pandas.concat instead.\n",
      "\n",
      "D:\\Lehre\\Zeitreihen_Analyse_und_Prädiktion\\Code\\venv\\lib\\site-packages\\plotly\\express\\_core.py:271: FutureWarning:\n",
      "\n",
      "The frame.append method is deprecated and will be removed from pandas in a future version. Use pandas.concat instead.\n",
      "\n",
      "D:\\Lehre\\Zeitreihen_Analyse_und_Prädiktion\\Code\\venv\\lib\\site-packages\\plotly\\express\\_core.py:271: FutureWarning:\n",
      "\n",
      "The frame.append method is deprecated and will be removed from pandas in a future version. Use pandas.concat instead.\n",
      "\n",
      "D:\\Lehre\\Zeitreihen_Analyse_und_Prädiktion\\Code\\venv\\lib\\site-packages\\plotly\\express\\_core.py:271: FutureWarning:\n",
      "\n",
      "The frame.append method is deprecated and will be removed from pandas in a future version. Use pandas.concat instead.\n",
      "\n",
      "D:\\Lehre\\Zeitreihen_Analyse_und_Prädiktion\\Code\\venv\\lib\\site-packages\\plotly\\express\\_core.py:271: FutureWarning:\n",
      "\n",
      "The frame.append method is deprecated and will be removed from pandas in a future version. Use pandas.concat instead.\n",
      "\n",
      "D:\\Lehre\\Zeitreihen_Analyse_und_Prädiktion\\Code\\venv\\lib\\site-packages\\plotly\\express\\_core.py:271: FutureWarning:\n",
      "\n",
      "The frame.append method is deprecated and will be removed from pandas in a future version. Use pandas.concat instead.\n",
      "\n",
      "D:\\Lehre\\Zeitreihen_Analyse_und_Prädiktion\\Code\\venv\\lib\\site-packages\\plotly\\express\\_core.py:271: FutureWarning:\n",
      "\n",
      "The frame.append method is deprecated and will be removed from pandas in a future version. Use pandas.concat instead.\n",
      "\n",
      "D:\\Lehre\\Zeitreihen_Analyse_und_Prädiktion\\Code\\venv\\lib\\site-packages\\plotly\\express\\_core.py:271: FutureWarning:\n",
      "\n",
      "The frame.append method is deprecated and will be removed from pandas in a future version. Use pandas.concat instead.\n",
      "\n",
      "D:\\Lehre\\Zeitreihen_Analyse_und_Prädiktion\\Code\\venv\\lib\\site-packages\\plotly\\express\\_core.py:271: FutureWarning:\n",
      "\n",
      "The frame.append method is deprecated and will be removed from pandas in a future version. Use pandas.concat instead.\n",
      "\n",
      "D:\\Lehre\\Zeitreihen_Analyse_und_Prädiktion\\Code\\venv\\lib\\site-packages\\plotly\\express\\_core.py:271: FutureWarning:\n",
      "\n",
      "The frame.append method is deprecated and will be removed from pandas in a future version. Use pandas.concat instead.\n",
      "\n",
      "D:\\Lehre\\Zeitreihen_Analyse_und_Prädiktion\\Code\\venv\\lib\\site-packages\\plotly\\express\\_core.py:271: FutureWarning:\n",
      "\n",
      "The frame.append method is deprecated and will be removed from pandas in a future version. Use pandas.concat instead.\n",
      "\n",
      "D:\\Lehre\\Zeitreihen_Analyse_und_Prädiktion\\Code\\venv\\lib\\site-packages\\plotly\\express\\_core.py:271: FutureWarning:\n",
      "\n",
      "The frame.append method is deprecated and will be removed from pandas in a future version. Use pandas.concat instead.\n",
      "\n",
      "D:\\Lehre\\Zeitreihen_Analyse_und_Prädiktion\\Code\\venv\\lib\\site-packages\\plotly\\express\\_core.py:271: FutureWarning:\n",
      "\n",
      "The frame.append method is deprecated and will be removed from pandas in a future version. Use pandas.concat instead.\n",
      "\n",
      "D:\\Lehre\\Zeitreihen_Analyse_und_Prädiktion\\Code\\venv\\lib\\site-packages\\plotly\\express\\_core.py:271: FutureWarning:\n",
      "\n",
      "The frame.append method is deprecated and will be removed from pandas in a future version. Use pandas.concat instead.\n",
      "\n",
      "D:\\Lehre\\Zeitreihen_Analyse_und_Prädiktion\\Code\\venv\\lib\\site-packages\\plotly\\express\\_core.py:271: FutureWarning:\n",
      "\n",
      "The frame.append method is deprecated and will be removed from pandas in a future version. Use pandas.concat instead.\n",
      "\n",
      "D:\\Lehre\\Zeitreihen_Analyse_und_Prädiktion\\Code\\venv\\lib\\site-packages\\plotly\\express\\_core.py:271: FutureWarning:\n",
      "\n",
      "The frame.append method is deprecated and will be removed from pandas in a future version. Use pandas.concat instead.\n",
      "\n",
      "D:\\Lehre\\Zeitreihen_Analyse_und_Prädiktion\\Code\\venv\\lib\\site-packages\\plotly\\express\\_core.py:271: FutureWarning:\n",
      "\n",
      "The frame.append method is deprecated and will be removed from pandas in a future version. Use pandas.concat instead.\n",
      "\n",
      "D:\\Lehre\\Zeitreihen_Analyse_und_Prädiktion\\Code\\venv\\lib\\site-packages\\plotly\\express\\_core.py:271: FutureWarning:\n",
      "\n",
      "The frame.append method is deprecated and will be removed from pandas in a future version. Use pandas.concat instead.\n",
      "\n",
      "D:\\Lehre\\Zeitreihen_Analyse_und_Prädiktion\\Code\\venv\\lib\\site-packages\\plotly\\express\\_core.py:271: FutureWarning:\n",
      "\n",
      "The frame.append method is deprecated and will be removed from pandas in a future version. Use pandas.concat instead.\n",
      "\n",
      "D:\\Lehre\\Zeitreihen_Analyse_und_Prädiktion\\Code\\venv\\lib\\site-packages\\plotly\\express\\_core.py:271: FutureWarning:\n",
      "\n",
      "The frame.append method is deprecated and will be removed from pandas in a future version. Use pandas.concat instead.\n",
      "\n",
      "D:\\Lehre\\Zeitreihen_Analyse_und_Prädiktion\\Code\\venv\\lib\\site-packages\\plotly\\express\\_core.py:271: FutureWarning:\n",
      "\n",
      "The frame.append method is deprecated and will be removed from pandas in a future version. Use pandas.concat instead.\n",
      "\n",
      "D:\\Lehre\\Zeitreihen_Analyse_und_Prädiktion\\Code\\venv\\lib\\site-packages\\plotly\\express\\_core.py:271: FutureWarning:\n",
      "\n",
      "The frame.append method is deprecated and will be removed from pandas in a future version. Use pandas.concat instead.\n",
      "\n",
      "D:\\Lehre\\Zeitreihen_Analyse_und_Prädiktion\\Code\\venv\\lib\\site-packages\\plotly\\express\\_core.py:271: FutureWarning:\n",
      "\n",
      "The frame.append method is deprecated and will be removed from pandas in a future version. Use pandas.concat instead.\n",
      "\n",
      "D:\\Lehre\\Zeitreihen_Analyse_und_Prädiktion\\Code\\venv\\lib\\site-packages\\plotly\\express\\_core.py:271: FutureWarning:\n",
      "\n",
      "The frame.append method is deprecated and will be removed from pandas in a future version. Use pandas.concat instead.\n",
      "\n",
      "D:\\Lehre\\Zeitreihen_Analyse_und_Prädiktion\\Code\\venv\\lib\\site-packages\\plotly\\express\\_core.py:271: FutureWarning:\n",
      "\n",
      "The frame.append method is deprecated and will be removed from pandas in a future version. Use pandas.concat instead.\n",
      "\n",
      "D:\\Lehre\\Zeitreihen_Analyse_und_Prädiktion\\Code\\venv\\lib\\site-packages\\plotly\\express\\_core.py:271: FutureWarning:\n",
      "\n",
      "The frame.append method is deprecated and will be removed from pandas in a future version. Use pandas.concat instead.\n",
      "\n",
      "D:\\Lehre\\Zeitreihen_Analyse_und_Prädiktion\\Code\\venv\\lib\\site-packages\\plotly\\express\\_core.py:271: FutureWarning:\n",
      "\n",
      "The frame.append method is deprecated and will be removed from pandas in a future version. Use pandas.concat instead.\n",
      "\n",
      "D:\\Lehre\\Zeitreihen_Analyse_und_Prädiktion\\Code\\venv\\lib\\site-packages\\plotly\\express\\_core.py:271: FutureWarning:\n",
      "\n",
      "The frame.append method is deprecated and will be removed from pandas in a future version. Use pandas.concat instead.\n",
      "\n",
      "D:\\Lehre\\Zeitreihen_Analyse_und_Prädiktion\\Code\\venv\\lib\\site-packages\\plotly\\express\\_core.py:271: FutureWarning:\n",
      "\n",
      "The frame.append method is deprecated and will be removed from pandas in a future version. Use pandas.concat instead.\n",
      "\n",
      "D:\\Lehre\\Zeitreihen_Analyse_und_Prädiktion\\Code\\venv\\lib\\site-packages\\plotly\\express\\_core.py:271: FutureWarning:\n",
      "\n",
      "The frame.append method is deprecated and will be removed from pandas in a future version. Use pandas.concat instead.\n",
      "\n",
      "D:\\Lehre\\Zeitreihen_Analyse_und_Prädiktion\\Code\\venv\\lib\\site-packages\\plotly\\express\\_core.py:271: FutureWarning:\n",
      "\n",
      "The frame.append method is deprecated and will be removed from pandas in a future version. Use pandas.concat instead.\n",
      "\n",
      "D:\\Lehre\\Zeitreihen_Analyse_und_Prädiktion\\Code\\venv\\lib\\site-packages\\plotly\\express\\_core.py:271: FutureWarning:\n",
      "\n",
      "The frame.append method is deprecated and will be removed from pandas in a future version. Use pandas.concat instead.\n",
      "\n",
      "D:\\Lehre\\Zeitreihen_Analyse_und_Prädiktion\\Code\\venv\\lib\\site-packages\\plotly\\express\\_core.py:271: FutureWarning:\n",
      "\n",
      "The frame.append method is deprecated and will be removed from pandas in a future version. Use pandas.concat instead.\n",
      "\n",
      "D:\\Lehre\\Zeitreihen_Analyse_und_Prädiktion\\Code\\venv\\lib\\site-packages\\plotly\\express\\_core.py:271: FutureWarning:\n",
      "\n",
      "The frame.append method is deprecated and will be removed from pandas in a future version. Use pandas.concat instead.\n",
      "\n",
      "D:\\Lehre\\Zeitreihen_Analyse_und_Prädiktion\\Code\\venv\\lib\\site-packages\\plotly\\express\\_core.py:271: FutureWarning:\n",
      "\n",
      "The frame.append method is deprecated and will be removed from pandas in a future version. Use pandas.concat instead.\n",
      "\n",
      "D:\\Lehre\\Zeitreihen_Analyse_und_Prädiktion\\Code\\venv\\lib\\site-packages\\plotly\\express\\_core.py:271: FutureWarning:\n",
      "\n",
      "The frame.append method is deprecated and will be removed from pandas in a future version. Use pandas.concat instead.\n",
      "\n",
      "D:\\Lehre\\Zeitreihen_Analyse_und_Prädiktion\\Code\\venv\\lib\\site-packages\\plotly\\express\\_core.py:271: FutureWarning:\n",
      "\n",
      "The frame.append method is deprecated and will be removed from pandas in a future version. Use pandas.concat instead.\n",
      "\n",
      "D:\\Lehre\\Zeitreihen_Analyse_und_Prädiktion\\Code\\venv\\lib\\site-packages\\plotly\\express\\_core.py:271: FutureWarning:\n",
      "\n",
      "The frame.append method is deprecated and will be removed from pandas in a future version. Use pandas.concat instead.\n",
      "\n",
      "D:\\Lehre\\Zeitreihen_Analyse_und_Prädiktion\\Code\\venv\\lib\\site-packages\\plotly\\express\\_core.py:271: FutureWarning:\n",
      "\n",
      "The frame.append method is deprecated and will be removed from pandas in a future version. Use pandas.concat instead.\n",
      "\n",
      "D:\\Lehre\\Zeitreihen_Analyse_und_Prädiktion\\Code\\venv\\lib\\site-packages\\plotly\\express\\_core.py:271: FutureWarning:\n",
      "\n",
      "The frame.append method is deprecated and will be removed from pandas in a future version. Use pandas.concat instead.\n",
      "\n",
      "D:\\Lehre\\Zeitreihen_Analyse_und_Prädiktion\\Code\\venv\\lib\\site-packages\\plotly\\express\\_core.py:271: FutureWarning:\n",
      "\n",
      "The frame.append method is deprecated and will be removed from pandas in a future version. Use pandas.concat instead.\n",
      "\n",
      "D:\\Lehre\\Zeitreihen_Analyse_und_Prädiktion\\Code\\venv\\lib\\site-packages\\plotly\\express\\_core.py:271: FutureWarning:\n",
      "\n",
      "The frame.append method is deprecated and will be removed from pandas in a future version. Use pandas.concat instead.\n",
      "\n",
      "D:\\Lehre\\Zeitreihen_Analyse_und_Prädiktion\\Code\\venv\\lib\\site-packages\\plotly\\express\\_core.py:271: FutureWarning:\n",
      "\n",
      "The frame.append method is deprecated and will be removed from pandas in a future version. Use pandas.concat instead.\n",
      "\n",
      "D:\\Lehre\\Zeitreihen_Analyse_und_Prädiktion\\Code\\venv\\lib\\site-packages\\plotly\\express\\_core.py:271: FutureWarning:\n",
      "\n",
      "The frame.append method is deprecated and will be removed from pandas in a future version. Use pandas.concat instead.\n",
      "\n",
      "D:\\Lehre\\Zeitreihen_Analyse_und_Prädiktion\\Code\\venv\\lib\\site-packages\\plotly\\express\\_core.py:271: FutureWarning:\n",
      "\n",
      "The frame.append method is deprecated and will be removed from pandas in a future version. Use pandas.concat instead.\n",
      "\n",
      "D:\\Lehre\\Zeitreihen_Analyse_und_Prädiktion\\Code\\venv\\lib\\site-packages\\plotly\\express\\_core.py:271: FutureWarning:\n",
      "\n",
      "The frame.append method is deprecated and will be removed from pandas in a future version. Use pandas.concat instead.\n",
      "\n",
      "D:\\Lehre\\Zeitreihen_Analyse_und_Prädiktion\\Code\\venv\\lib\\site-packages\\plotly\\express\\_core.py:271: FutureWarning:\n",
      "\n",
      "The frame.append method is deprecated and will be removed from pandas in a future version. Use pandas.concat instead.\n",
      "\n",
      "D:\\Lehre\\Zeitreihen_Analyse_und_Prädiktion\\Code\\venv\\lib\\site-packages\\plotly\\express\\_core.py:271: FutureWarning:\n",
      "\n",
      "The frame.append method is deprecated and will be removed from pandas in a future version. Use pandas.concat instead.\n",
      "\n",
      "D:\\Lehre\\Zeitreihen_Analyse_und_Prädiktion\\Code\\venv\\lib\\site-packages\\plotly\\express\\_core.py:271: FutureWarning:\n",
      "\n",
      "The frame.append method is deprecated and will be removed from pandas in a future version. Use pandas.concat instead.\n",
      "\n",
      "D:\\Lehre\\Zeitreihen_Analyse_und_Prädiktion\\Code\\venv\\lib\\site-packages\\plotly\\express\\_core.py:271: FutureWarning:\n",
      "\n",
      "The frame.append method is deprecated and will be removed from pandas in a future version. Use pandas.concat instead.\n",
      "\n",
      "D:\\Lehre\\Zeitreihen_Analyse_und_Prädiktion\\Code\\venv\\lib\\site-packages\\plotly\\express\\_core.py:271: FutureWarning:\n",
      "\n",
      "The frame.append method is deprecated and will be removed from pandas in a future version. Use pandas.concat instead.\n",
      "\n",
      "D:\\Lehre\\Zeitreihen_Analyse_und_Prädiktion\\Code\\venv\\lib\\site-packages\\plotly\\express\\_core.py:271: FutureWarning:\n",
      "\n",
      "The frame.append method is deprecated and will be removed from pandas in a future version. Use pandas.concat instead.\n",
      "\n",
      "D:\\Lehre\\Zeitreihen_Analyse_und_Prädiktion\\Code\\venv\\lib\\site-packages\\plotly\\express\\_core.py:271: FutureWarning:\n",
      "\n",
      "The frame.append method is deprecated and will be removed from pandas in a future version. Use pandas.concat instead.\n",
      "\n",
      "D:\\Lehre\\Zeitreihen_Analyse_und_Prädiktion\\Code\\venv\\lib\\site-packages\\plotly\\express\\_core.py:271: FutureWarning:\n",
      "\n",
      "The frame.append method is deprecated and will be removed from pandas in a future version. Use pandas.concat instead.\n",
      "\n",
      "D:\\Lehre\\Zeitreihen_Analyse_und_Prädiktion\\Code\\venv\\lib\\site-packages\\plotly\\express\\_core.py:271: FutureWarning:\n",
      "\n",
      "The frame.append method is deprecated and will be removed from pandas in a future version. Use pandas.concat instead.\n",
      "\n",
      "D:\\Lehre\\Zeitreihen_Analyse_und_Prädiktion\\Code\\venv\\lib\\site-packages\\plotly\\express\\_core.py:271: FutureWarning:\n",
      "\n",
      "The frame.append method is deprecated and will be removed from pandas in a future version. Use pandas.concat instead.\n",
      "\n",
      "D:\\Lehre\\Zeitreihen_Analyse_und_Prädiktion\\Code\\venv\\lib\\site-packages\\plotly\\express\\_core.py:271: FutureWarning:\n",
      "\n",
      "The frame.append method is deprecated and will be removed from pandas in a future version. Use pandas.concat instead.\n",
      "\n",
      "D:\\Lehre\\Zeitreihen_Analyse_und_Prädiktion\\Code\\venv\\lib\\site-packages\\plotly\\express\\_core.py:271: FutureWarning:\n",
      "\n",
      "The frame.append method is deprecated and will be removed from pandas in a future version. Use pandas.concat instead.\n",
      "\n",
      "D:\\Lehre\\Zeitreihen_Analyse_und_Prädiktion\\Code\\venv\\lib\\site-packages\\plotly\\express\\_core.py:271: FutureWarning:\n",
      "\n",
      "The frame.append method is deprecated and will be removed from pandas in a future version. Use pandas.concat instead.\n",
      "\n",
      "D:\\Lehre\\Zeitreihen_Analyse_und_Prädiktion\\Code\\venv\\lib\\site-packages\\plotly\\express\\_core.py:271: FutureWarning:\n",
      "\n",
      "The frame.append method is deprecated and will be removed from pandas in a future version. Use pandas.concat instead.\n",
      "\n",
      "D:\\Lehre\\Zeitreihen_Analyse_und_Prädiktion\\Code\\venv\\lib\\site-packages\\plotly\\express\\_core.py:271: FutureWarning:\n",
      "\n",
      "The frame.append method is deprecated and will be removed from pandas in a future version. Use pandas.concat instead.\n",
      "\n",
      "D:\\Lehre\\Zeitreihen_Analyse_und_Prädiktion\\Code\\venv\\lib\\site-packages\\plotly\\express\\_core.py:271: FutureWarning:\n",
      "\n",
      "The frame.append method is deprecated and will be removed from pandas in a future version. Use pandas.concat instead.\n",
      "\n",
      "D:\\Lehre\\Zeitreihen_Analyse_und_Prädiktion\\Code\\venv\\lib\\site-packages\\plotly\\express\\_core.py:271: FutureWarning:\n",
      "\n",
      "The frame.append method is deprecated and will be removed from pandas in a future version. Use pandas.concat instead.\n",
      "\n",
      "D:\\Lehre\\Zeitreihen_Analyse_und_Prädiktion\\Code\\venv\\lib\\site-packages\\plotly\\express\\_core.py:271: FutureWarning:\n",
      "\n",
      "The frame.append method is deprecated and will be removed from pandas in a future version. Use pandas.concat instead.\n",
      "\n",
      "D:\\Lehre\\Zeitreihen_Analyse_und_Prädiktion\\Code\\venv\\lib\\site-packages\\plotly\\express\\_core.py:271: FutureWarning:\n",
      "\n",
      "The frame.append method is deprecated and will be removed from pandas in a future version. Use pandas.concat instead.\n",
      "\n",
      "D:\\Lehre\\Zeitreihen_Analyse_und_Prädiktion\\Code\\venv\\lib\\site-packages\\plotly\\express\\_core.py:271: FutureWarning:\n",
      "\n",
      "The frame.append method is deprecated and will be removed from pandas in a future version. Use pandas.concat instead.\n",
      "\n",
      "D:\\Lehre\\Zeitreihen_Analyse_und_Prädiktion\\Code\\venv\\lib\\site-packages\\plotly\\express\\_core.py:271: FutureWarning:\n",
      "\n",
      "The frame.append method is deprecated and will be removed from pandas in a future version. Use pandas.concat instead.\n",
      "\n",
      "D:\\Lehre\\Zeitreihen_Analyse_und_Prädiktion\\Code\\venv\\lib\\site-packages\\plotly\\express\\_core.py:271: FutureWarning:\n",
      "\n",
      "The frame.append method is deprecated and will be removed from pandas in a future version. Use pandas.concat instead.\n",
      "\n",
      "D:\\Lehre\\Zeitreihen_Analyse_und_Prädiktion\\Code\\venv\\lib\\site-packages\\plotly\\express\\_core.py:271: FutureWarning:\n",
      "\n",
      "The frame.append method is deprecated and will be removed from pandas in a future version. Use pandas.concat instead.\n",
      "\n",
      "D:\\Lehre\\Zeitreihen_Analyse_und_Prädiktion\\Code\\venv\\lib\\site-packages\\plotly\\express\\_core.py:271: FutureWarning:\n",
      "\n",
      "The frame.append method is deprecated and will be removed from pandas in a future version. Use pandas.concat instead.\n",
      "\n",
      "D:\\Lehre\\Zeitreihen_Analyse_und_Prädiktion\\Code\\venv\\lib\\site-packages\\plotly\\express\\_core.py:271: FutureWarning:\n",
      "\n",
      "The frame.append method is deprecated and will be removed from pandas in a future version. Use pandas.concat instead.\n",
      "\n",
      "D:\\Lehre\\Zeitreihen_Analyse_und_Prädiktion\\Code\\venv\\lib\\site-packages\\plotly\\express\\_core.py:271: FutureWarning:\n",
      "\n",
      "The frame.append method is deprecated and will be removed from pandas in a future version. Use pandas.concat instead.\n",
      "\n",
      "D:\\Lehre\\Zeitreihen_Analyse_und_Prädiktion\\Code\\venv\\lib\\site-packages\\plotly\\express\\_core.py:271: FutureWarning:\n",
      "\n",
      "The frame.append method is deprecated and will be removed from pandas in a future version. Use pandas.concat instead.\n",
      "\n",
      "D:\\Lehre\\Zeitreihen_Analyse_und_Prädiktion\\Code\\venv\\lib\\site-packages\\plotly\\express\\_core.py:271: FutureWarning:\n",
      "\n",
      "The frame.append method is deprecated and will be removed from pandas in a future version. Use pandas.concat instead.\n",
      "\n"
     ]
    },
    {
     "data": {
      "application/vnd.plotly.v1+json": {
       "data": [
        {
         "hovertemplate": "Year=1864<br>Temperature=%{r}<br>prep_months=%{theta}<extra></extra>",
         "legendgroup": "1864",
         "line": {
          "color": "#f0f921",
          "dash": "solid"
         },
         "marker": {
          "symbol": "circle"
         },
         "mode": "lines",
         "name": "1864",
         "r": [
          -6.6,
          -1.5,
          4.5,
          6.8,
          12.3,
          14.7,
          16.9,
          15.3,
          12.9,
          6.7,
          2.5,
          -4.2,
          -6.6
         ],
         "showlegend": true,
         "subplot": "polar",
         "theta": [
          30.0,
          60.0,
          90.0,
          120.0,
          150.0,
          180.0,
          210.0,
          240.0,
          270.0,
          300.0,
          330.0,
          360.0,
          30.0
         ],
         "type": "scatterpolar"
        }
       ],
       "layout": {
        "template": {
         "data": {
          "barpolar": [
           {
            "marker": {
             "line": {
              "color": "rgb(17,17,17)",
              "width": 0.5
             },
             "pattern": {
              "fillmode": "overlay",
              "size": 10,
              "solidity": 0.2
             }
            },
            "type": "barpolar"
           }
          ],
          "bar": [
           {
            "error_x": {
             "color": "#f2f5fa"
            },
            "error_y": {
             "color": "#f2f5fa"
            },
            "marker": {
             "line": {
              "color": "rgb(17,17,17)",
              "width": 0.5
             },
             "pattern": {
              "fillmode": "overlay",
              "size": 10,
              "solidity": 0.2
             }
            },
            "type": "bar"
           }
          ],
          "carpet": [
           {
            "aaxis": {
             "endlinecolor": "#A2B1C6",
             "gridcolor": "#506784",
             "linecolor": "#506784",
             "minorgridcolor": "#506784",
             "startlinecolor": "#A2B1C6"
            },
            "baxis": {
             "endlinecolor": "#A2B1C6",
             "gridcolor": "#506784",
             "linecolor": "#506784",
             "minorgridcolor": "#506784",
             "startlinecolor": "#A2B1C6"
            },
            "type": "carpet"
           }
          ],
          "choropleth": [
           {
            "colorbar": {
             "outlinewidth": 0,
             "ticks": ""
            },
            "type": "choropleth"
           }
          ],
          "contourcarpet": [
           {
            "colorbar": {
             "outlinewidth": 0,
             "ticks": ""
            },
            "type": "contourcarpet"
           }
          ],
          "contour": [
           {
            "colorbar": {
             "outlinewidth": 0,
             "ticks": ""
            },
            "colorscale": [
             [
              0.0,
              "#0d0887"
             ],
             [
              0.1111111111111111,
              "#46039f"
             ],
             [
              0.2222222222222222,
              "#7201a8"
             ],
             [
              0.3333333333333333,
              "#9c179e"
             ],
             [
              0.4444444444444444,
              "#bd3786"
             ],
             [
              0.5555555555555556,
              "#d8576b"
             ],
             [
              0.6666666666666666,
              "#ed7953"
             ],
             [
              0.7777777777777778,
              "#fb9f3a"
             ],
             [
              0.8888888888888888,
              "#fdca26"
             ],
             [
              1.0,
              "#f0f921"
             ]
            ],
            "type": "contour"
           }
          ],
          "heatmapgl": [
           {
            "colorbar": {
             "outlinewidth": 0,
             "ticks": ""
            },
            "colorscale": [
             [
              0.0,
              "#0d0887"
             ],
             [
              0.1111111111111111,
              "#46039f"
             ],
             [
              0.2222222222222222,
              "#7201a8"
             ],
             [
              0.3333333333333333,
              "#9c179e"
             ],
             [
              0.4444444444444444,
              "#bd3786"
             ],
             [
              0.5555555555555556,
              "#d8576b"
             ],
             [
              0.6666666666666666,
              "#ed7953"
             ],
             [
              0.7777777777777778,
              "#fb9f3a"
             ],
             [
              0.8888888888888888,
              "#fdca26"
             ],
             [
              1.0,
              "#f0f921"
             ]
            ],
            "type": "heatmapgl"
           }
          ],
          "heatmap": [
           {
            "colorbar": {
             "outlinewidth": 0,
             "ticks": ""
            },
            "colorscale": [
             [
              0.0,
              "#0d0887"
             ],
             [
              0.1111111111111111,
              "#46039f"
             ],
             [
              0.2222222222222222,
              "#7201a8"
             ],
             [
              0.3333333333333333,
              "#9c179e"
             ],
             [
              0.4444444444444444,
              "#bd3786"
             ],
             [
              0.5555555555555556,
              "#d8576b"
             ],
             [
              0.6666666666666666,
              "#ed7953"
             ],
             [
              0.7777777777777778,
              "#fb9f3a"
             ],
             [
              0.8888888888888888,
              "#fdca26"
             ],
             [
              1.0,
              "#f0f921"
             ]
            ],
            "type": "heatmap"
           }
          ],
          "histogram2dcontour": [
           {
            "colorbar": {
             "outlinewidth": 0,
             "ticks": ""
            },
            "colorscale": [
             [
              0.0,
              "#0d0887"
             ],
             [
              0.1111111111111111,
              "#46039f"
             ],
             [
              0.2222222222222222,
              "#7201a8"
             ],
             [
              0.3333333333333333,
              "#9c179e"
             ],
             [
              0.4444444444444444,
              "#bd3786"
             ],
             [
              0.5555555555555556,
              "#d8576b"
             ],
             [
              0.6666666666666666,
              "#ed7953"
             ],
             [
              0.7777777777777778,
              "#fb9f3a"
             ],
             [
              0.8888888888888888,
              "#fdca26"
             ],
             [
              1.0,
              "#f0f921"
             ]
            ],
            "type": "histogram2dcontour"
           }
          ],
          "histogram2d": [
           {
            "colorbar": {
             "outlinewidth": 0,
             "ticks": ""
            },
            "colorscale": [
             [
              0.0,
              "#0d0887"
             ],
             [
              0.1111111111111111,
              "#46039f"
             ],
             [
              0.2222222222222222,
              "#7201a8"
             ],
             [
              0.3333333333333333,
              "#9c179e"
             ],
             [
              0.4444444444444444,
              "#bd3786"
             ],
             [
              0.5555555555555556,
              "#d8576b"
             ],
             [
              0.6666666666666666,
              "#ed7953"
             ],
             [
              0.7777777777777778,
              "#fb9f3a"
             ],
             [
              0.8888888888888888,
              "#fdca26"
             ],
             [
              1.0,
              "#f0f921"
             ]
            ],
            "type": "histogram2d"
           }
          ],
          "histogram": [
           {
            "marker": {
             "pattern": {
              "fillmode": "overlay",
              "size": 10,
              "solidity": 0.2
             }
            },
            "type": "histogram"
           }
          ],
          "mesh3d": [
           {
            "colorbar": {
             "outlinewidth": 0,
             "ticks": ""
            },
            "type": "mesh3d"
           }
          ],
          "parcoords": [
           {
            "line": {
             "colorbar": {
              "outlinewidth": 0,
              "ticks": ""
             }
            },
            "type": "parcoords"
           }
          ],
          "pie": [
           {
            "automargin": true,
            "type": "pie"
           }
          ],
          "scatter3d": [
           {
            "line": {
             "colorbar": {
              "outlinewidth": 0,
              "ticks": ""
             }
            },
            "marker": {
             "colorbar": {
              "outlinewidth": 0,
              "ticks": ""
             }
            },
            "type": "scatter3d"
           }
          ],
          "scattercarpet": [
           {
            "marker": {
             "colorbar": {
              "outlinewidth": 0,
              "ticks": ""
             }
            },
            "type": "scattercarpet"
           }
          ],
          "scattergeo": [
           {
            "marker": {
             "colorbar": {
              "outlinewidth": 0,
              "ticks": ""
             }
            },
            "type": "scattergeo"
           }
          ],
          "scattergl": [
           {
            "marker": {
             "line": {
              "color": "#283442"
             }
            },
            "type": "scattergl"
           }
          ],
          "scattermapbox": [
           {
            "marker": {
             "colorbar": {
              "outlinewidth": 0,
              "ticks": ""
             }
            },
            "type": "scattermapbox"
           }
          ],
          "scatterpolargl": [
           {
            "marker": {
             "colorbar": {
              "outlinewidth": 0,
              "ticks": ""
             }
            },
            "type": "scatterpolargl"
           }
          ],
          "scatterpolar": [
           {
            "marker": {
             "colorbar": {
              "outlinewidth": 0,
              "ticks": ""
             }
            },
            "type": "scatterpolar"
           }
          ],
          "scatter": [
           {
            "marker": {
             "line": {
              "color": "#283442"
             }
            },
            "type": "scatter"
           }
          ],
          "scatterternary": [
           {
            "marker": {
             "colorbar": {
              "outlinewidth": 0,
              "ticks": ""
             }
            },
            "type": "scatterternary"
           }
          ],
          "surface": [
           {
            "colorbar": {
             "outlinewidth": 0,
             "ticks": ""
            },
            "colorscale": [
             [
              0.0,
              "#0d0887"
             ],
             [
              0.1111111111111111,
              "#46039f"
             ],
             [
              0.2222222222222222,
              "#7201a8"
             ],
             [
              0.3333333333333333,
              "#9c179e"
             ],
             [
              0.4444444444444444,
              "#bd3786"
             ],
             [
              0.5555555555555556,
              "#d8576b"
             ],
             [
              0.6666666666666666,
              "#ed7953"
             ],
             [
              0.7777777777777778,
              "#fb9f3a"
             ],
             [
              0.8888888888888888,
              "#fdca26"
             ],
             [
              1.0,
              "#f0f921"
             ]
            ],
            "type": "surface"
           }
          ],
          "table": [
           {
            "cells": {
             "fill": {
              "color": "#506784"
             },
             "line": {
              "color": "rgb(17,17,17)"
             }
            },
            "header": {
             "fill": {
              "color": "#2a3f5f"
             },
             "line": {
              "color": "rgb(17,17,17)"
             }
            },
            "type": "table"
           }
          ]
         },
         "layout": {
          "annotationdefaults": {
           "arrowcolor": "#f2f5fa",
           "arrowhead": 0,
           "arrowwidth": 1
          },
          "autotypenumbers": "strict",
          "coloraxis": {
           "colorbar": {
            "outlinewidth": 0,
            "ticks": ""
           }
          },
          "colorscale": {
           "diverging": [
            [
             0,
             "#8e0152"
            ],
            [
             0.1,
             "#c51b7d"
            ],
            [
             0.2,
             "#de77ae"
            ],
            [
             0.3,
             "#f1b6da"
            ],
            [
             0.4,
             "#fde0ef"
            ],
            [
             0.5,
             "#f7f7f7"
            ],
            [
             0.6,
             "#e6f5d0"
            ],
            [
             0.7,
             "#b8e186"
            ],
            [
             0.8,
             "#7fbc41"
            ],
            [
             0.9,
             "#4d9221"
            ],
            [
             1,
             "#276419"
            ]
           ],
           "sequential": [
            [
             0.0,
             "#0d0887"
            ],
            [
             0.1111111111111111,
             "#46039f"
            ],
            [
             0.2222222222222222,
             "#7201a8"
            ],
            [
             0.3333333333333333,
             "#9c179e"
            ],
            [
             0.4444444444444444,
             "#bd3786"
            ],
            [
             0.5555555555555556,
             "#d8576b"
            ],
            [
             0.6666666666666666,
             "#ed7953"
            ],
            [
             0.7777777777777778,
             "#fb9f3a"
            ],
            [
             0.8888888888888888,
             "#fdca26"
            ],
            [
             1.0,
             "#f0f921"
            ]
           ],
           "sequentialminus": [
            [
             0.0,
             "#0d0887"
            ],
            [
             0.1111111111111111,
             "#46039f"
            ],
            [
             0.2222222222222222,
             "#7201a8"
            ],
            [
             0.3333333333333333,
             "#9c179e"
            ],
            [
             0.4444444444444444,
             "#bd3786"
            ],
            [
             0.5555555555555556,
             "#d8576b"
            ],
            [
             0.6666666666666666,
             "#ed7953"
            ],
            [
             0.7777777777777778,
             "#fb9f3a"
            ],
            [
             0.8888888888888888,
             "#fdca26"
            ],
            [
             1.0,
             "#f0f921"
            ]
           ]
          },
          "colorway": [
           "#636efa",
           "#EF553B",
           "#00cc96",
           "#ab63fa",
           "#FFA15A",
           "#19d3f3",
           "#FF6692",
           "#B6E880",
           "#FF97FF",
           "#FECB52"
          ],
          "font": {
           "color": "#f2f5fa"
          },
          "geo": {
           "bgcolor": "rgb(17,17,17)",
           "lakecolor": "rgb(17,17,17)",
           "landcolor": "rgb(17,17,17)",
           "showlakes": true,
           "showland": true,
           "subunitcolor": "#506784"
          },
          "hoverlabel": {
           "align": "left"
          },
          "hovermode": "closest",
          "mapbox": {
           "style": "dark"
          },
          "paper_bgcolor": "rgb(17,17,17)",
          "plot_bgcolor": "rgb(17,17,17)",
          "polar": {
           "angularaxis": {
            "gridcolor": "#506784",
            "linecolor": "#506784",
            "ticks": ""
           },
           "bgcolor": "rgb(17,17,17)",
           "radialaxis": {
            "gridcolor": "#506784",
            "linecolor": "#506784",
            "ticks": ""
           }
          },
          "scene": {
           "xaxis": {
            "backgroundcolor": "rgb(17,17,17)",
            "gridcolor": "#506784",
            "gridwidth": 2,
            "linecolor": "#506784",
            "showbackground": true,
            "ticks": "",
            "zerolinecolor": "#C8D4E3"
           },
           "yaxis": {
            "backgroundcolor": "rgb(17,17,17)",
            "gridcolor": "#506784",
            "gridwidth": 2,
            "linecolor": "#506784",
            "showbackground": true,
            "ticks": "",
            "zerolinecolor": "#C8D4E3"
           },
           "zaxis": {
            "backgroundcolor": "rgb(17,17,17)",
            "gridcolor": "#506784",
            "gridwidth": 2,
            "linecolor": "#506784",
            "showbackground": true,
            "ticks": "",
            "zerolinecolor": "#C8D4E3"
           }
          },
          "shapedefaults": {
           "line": {
            "color": "#f2f5fa"
           }
          },
          "sliderdefaults": {
           "bgcolor": "#C8D4E3",
           "bordercolor": "rgb(17,17,17)",
           "borderwidth": 1,
           "tickwidth": 0
          },
          "ternary": {
           "aaxis": {
            "gridcolor": "#506784",
            "linecolor": "#506784",
            "ticks": ""
           },
           "baxis": {
            "gridcolor": "#506784",
            "linecolor": "#506784",
            "ticks": ""
           },
           "bgcolor": "rgb(17,17,17)",
           "caxis": {
            "gridcolor": "#506784",
            "linecolor": "#506784",
            "ticks": ""
           }
          },
          "title": {
           "x": 0.05
          },
          "updatemenudefaults": {
           "bgcolor": "#506784",
           "borderwidth": 0
          },
          "xaxis": {
           "automargin": true,
           "gridcolor": "#283442",
           "linecolor": "#506784",
           "ticks": "",
           "title": {
            "standoff": 15
           },
           "zerolinecolor": "#283442",
           "zerolinewidth": 2
          },
          "yaxis": {
           "automargin": true,
           "gridcolor": "#283442",
           "linecolor": "#506784",
           "ticks": "",
           "title": {
            "standoff": 15
           },
           "zerolinecolor": "#283442",
           "zerolinewidth": 2
          }
         }
        },
        "polar": {
         "domain": {
          "x": [
           0.0,
           1.0
          ],
          "y": [
           0.0,
           1.0
          ]
         },
         "angularaxis": {
          "direction": "clockwise",
          "rotation": 90
         },
         "radialaxis": {
          "range": [
           0,
           20
          ]
         }
        },
        "legend": {
         "title": {
          "text": "Year"
         },
         "tracegroupgap": 0
        },
        "margin": {
         "t": 60
        },
        "updatemenus": [
         {
          "buttons": [
           {
            "args": [
             null,
             {
              "frame": {
               "duration": 500,
               "redraw": true
              },
              "mode": "immediate",
              "fromcurrent": true,
              "transition": {
               "duration": 500,
               "easing": "linear"
              }
             }
            ],
            "label": "&#9654;",
            "method": "animate"
           },
           {
            "args": [
             [
              null
             ],
             {
              "frame": {
               "duration": 0,
               "redraw": true
              },
              "mode": "immediate",
              "fromcurrent": true,
              "transition": {
               "duration": 0,
               "easing": "linear"
              }
             }
            ],
            "label": "&#9724;",
            "method": "animate"
           }
          ],
          "direction": "left",
          "pad": {
           "r": 10,
           "t": 70
          },
          "showactive": false,
          "type": "buttons",
          "x": 0.1,
          "xanchor": "right",
          "y": 0,
          "yanchor": "top"
         }
        ],
        "sliders": [
         {
          "active": 0,
          "currentvalue": {
           "prefix": "Year="
          },
          "len": 0.9,
          "pad": {
           "b": 10,
           "t": 60
          },
          "steps": [
           {
            "args": [
             [
              "1864"
             ],
             {
              "frame": {
               "duration": 0,
               "redraw": true
              },
              "mode": "immediate",
              "fromcurrent": true,
              "transition": {
               "duration": 0,
               "easing": "linear"
              }
             }
            ],
            "label": "1864",
            "method": "animate"
           },
           {
            "args": [
             [
              "1865"
             ],
             {
              "frame": {
               "duration": 0,
               "redraw": true
              },
              "mode": "immediate",
              "fromcurrent": true,
              "transition": {
               "duration": 0,
               "easing": "linear"
              }
             }
            ],
            "label": "1865",
            "method": "animate"
           },
           {
            "args": [
             [
              "1866"
             ],
             {
              "frame": {
               "duration": 0,
               "redraw": true
              },
              "mode": "immediate",
              "fromcurrent": true,
              "transition": {
               "duration": 0,
               "easing": "linear"
              }
             }
            ],
            "label": "1866",
            "method": "animate"
           },
           {
            "args": [
             [
              "1867"
             ],
             {
              "frame": {
               "duration": 0,
               "redraw": true
              },
              "mode": "immediate",
              "fromcurrent": true,
              "transition": {
               "duration": 0,
               "easing": "linear"
              }
             }
            ],
            "label": "1867",
            "method": "animate"
           },
           {
            "args": [
             [
              "1868"
             ],
             {
              "frame": {
               "duration": 0,
               "redraw": true
              },
              "mode": "immediate",
              "fromcurrent": true,
              "transition": {
               "duration": 0,
               "easing": "linear"
              }
             }
            ],
            "label": "1868",
            "method": "animate"
           },
           {
            "args": [
             [
              "1869"
             ],
             {
              "frame": {
               "duration": 0,
               "redraw": true
              },
              "mode": "immediate",
              "fromcurrent": true,
              "transition": {
               "duration": 0,
               "easing": "linear"
              }
             }
            ],
            "label": "1869",
            "method": "animate"
           },
           {
            "args": [
             [
              "1870"
             ],
             {
              "frame": {
               "duration": 0,
               "redraw": true
              },
              "mode": "immediate",
              "fromcurrent": true,
              "transition": {
               "duration": 0,
               "easing": "linear"
              }
             }
            ],
            "label": "1870",
            "method": "animate"
           },
           {
            "args": [
             [
              "1871"
             ],
             {
              "frame": {
               "duration": 0,
               "redraw": true
              },
              "mode": "immediate",
              "fromcurrent": true,
              "transition": {
               "duration": 0,
               "easing": "linear"
              }
             }
            ],
            "label": "1871",
            "method": "animate"
           },
           {
            "args": [
             [
              "1872"
             ],
             {
              "frame": {
               "duration": 0,
               "redraw": true
              },
              "mode": "immediate",
              "fromcurrent": true,
              "transition": {
               "duration": 0,
               "easing": "linear"
              }
             }
            ],
            "label": "1872",
            "method": "animate"
           },
           {
            "args": [
             [
              "1873"
             ],
             {
              "frame": {
               "duration": 0,
               "redraw": true
              },
              "mode": "immediate",
              "fromcurrent": true,
              "transition": {
               "duration": 0,
               "easing": "linear"
              }
             }
            ],
            "label": "1873",
            "method": "animate"
           },
           {
            "args": [
             [
              "1874"
             ],
             {
              "frame": {
               "duration": 0,
               "redraw": true
              },
              "mode": "immediate",
              "fromcurrent": true,
              "transition": {
               "duration": 0,
               "easing": "linear"
              }
             }
            ],
            "label": "1874",
            "method": "animate"
           },
           {
            "args": [
             [
              "1875"
             ],
             {
              "frame": {
               "duration": 0,
               "redraw": true
              },
              "mode": "immediate",
              "fromcurrent": true,
              "transition": {
               "duration": 0,
               "easing": "linear"
              }
             }
            ],
            "label": "1875",
            "method": "animate"
           },
           {
            "args": [
             [
              "1876"
             ],
             {
              "frame": {
               "duration": 0,
               "redraw": true
              },
              "mode": "immediate",
              "fromcurrent": true,
              "transition": {
               "duration": 0,
               "easing": "linear"
              }
             }
            ],
            "label": "1876",
            "method": "animate"
           },
           {
            "args": [
             [
              "1877"
             ],
             {
              "frame": {
               "duration": 0,
               "redraw": true
              },
              "mode": "immediate",
              "fromcurrent": true,
              "transition": {
               "duration": 0,
               "easing": "linear"
              }
             }
            ],
            "label": "1877",
            "method": "animate"
           },
           {
            "args": [
             [
              "1878"
             ],
             {
              "frame": {
               "duration": 0,
               "redraw": true
              },
              "mode": "immediate",
              "fromcurrent": true,
              "transition": {
               "duration": 0,
               "easing": "linear"
              }
             }
            ],
            "label": "1878",
            "method": "animate"
           },
           {
            "args": [
             [
              "1879"
             ],
             {
              "frame": {
               "duration": 0,
               "redraw": true
              },
              "mode": "immediate",
              "fromcurrent": true,
              "transition": {
               "duration": 0,
               "easing": "linear"
              }
             }
            ],
            "label": "1879",
            "method": "animate"
           },
           {
            "args": [
             [
              "1880"
             ],
             {
              "frame": {
               "duration": 0,
               "redraw": true
              },
              "mode": "immediate",
              "fromcurrent": true,
              "transition": {
               "duration": 0,
               "easing": "linear"
              }
             }
            ],
            "label": "1880",
            "method": "animate"
           },
           {
            "args": [
             [
              "1881"
             ],
             {
              "frame": {
               "duration": 0,
               "redraw": true
              },
              "mode": "immediate",
              "fromcurrent": true,
              "transition": {
               "duration": 0,
               "easing": "linear"
              }
             }
            ],
            "label": "1881",
            "method": "animate"
           },
           {
            "args": [
             [
              "1882"
             ],
             {
              "frame": {
               "duration": 0,
               "redraw": true
              },
              "mode": "immediate",
              "fromcurrent": true,
              "transition": {
               "duration": 0,
               "easing": "linear"
              }
             }
            ],
            "label": "1882",
            "method": "animate"
           },
           {
            "args": [
             [
              "1883"
             ],
             {
              "frame": {
               "duration": 0,
               "redraw": true
              },
              "mode": "immediate",
              "fromcurrent": true,
              "transition": {
               "duration": 0,
               "easing": "linear"
              }
             }
            ],
            "label": "1883",
            "method": "animate"
           },
           {
            "args": [
             [
              "1884"
             ],
             {
              "frame": {
               "duration": 0,
               "redraw": true
              },
              "mode": "immediate",
              "fromcurrent": true,
              "transition": {
               "duration": 0,
               "easing": "linear"
              }
             }
            ],
            "label": "1884",
            "method": "animate"
           },
           {
            "args": [
             [
              "1885"
             ],
             {
              "frame": {
               "duration": 0,
               "redraw": true
              },
              "mode": "immediate",
              "fromcurrent": true,
              "transition": {
               "duration": 0,
               "easing": "linear"
              }
             }
            ],
            "label": "1885",
            "method": "animate"
           },
           {
            "args": [
             [
              "1886"
             ],
             {
              "frame": {
               "duration": 0,
               "redraw": true
              },
              "mode": "immediate",
              "fromcurrent": true,
              "transition": {
               "duration": 0,
               "easing": "linear"
              }
             }
            ],
            "label": "1886",
            "method": "animate"
           },
           {
            "args": [
             [
              "1887"
             ],
             {
              "frame": {
               "duration": 0,
               "redraw": true
              },
              "mode": "immediate",
              "fromcurrent": true,
              "transition": {
               "duration": 0,
               "easing": "linear"
              }
             }
            ],
            "label": "1887",
            "method": "animate"
           },
           {
            "args": [
             [
              "1888"
             ],
             {
              "frame": {
               "duration": 0,
               "redraw": true
              },
              "mode": "immediate",
              "fromcurrent": true,
              "transition": {
               "duration": 0,
               "easing": "linear"
              }
             }
            ],
            "label": "1888",
            "method": "animate"
           },
           {
            "args": [
             [
              "1889"
             ],
             {
              "frame": {
               "duration": 0,
               "redraw": true
              },
              "mode": "immediate",
              "fromcurrent": true,
              "transition": {
               "duration": 0,
               "easing": "linear"
              }
             }
            ],
            "label": "1889",
            "method": "animate"
           },
           {
            "args": [
             [
              "1890"
             ],
             {
              "frame": {
               "duration": 0,
               "redraw": true
              },
              "mode": "immediate",
              "fromcurrent": true,
              "transition": {
               "duration": 0,
               "easing": "linear"
              }
             }
            ],
            "label": "1890",
            "method": "animate"
           },
           {
            "args": [
             [
              "1891"
             ],
             {
              "frame": {
               "duration": 0,
               "redraw": true
              },
              "mode": "immediate",
              "fromcurrent": true,
              "transition": {
               "duration": 0,
               "easing": "linear"
              }
             }
            ],
            "label": "1891",
            "method": "animate"
           },
           {
            "args": [
             [
              "1892"
             ],
             {
              "frame": {
               "duration": 0,
               "redraw": true
              },
              "mode": "immediate",
              "fromcurrent": true,
              "transition": {
               "duration": 0,
               "easing": "linear"
              }
             }
            ],
            "label": "1892",
            "method": "animate"
           },
           {
            "args": [
             [
              "1893"
             ],
             {
              "frame": {
               "duration": 0,
               "redraw": true
              },
              "mode": "immediate",
              "fromcurrent": true,
              "transition": {
               "duration": 0,
               "easing": "linear"
              }
             }
            ],
            "label": "1893",
            "method": "animate"
           },
           {
            "args": [
             [
              "1894"
             ],
             {
              "frame": {
               "duration": 0,
               "redraw": true
              },
              "mode": "immediate",
              "fromcurrent": true,
              "transition": {
               "duration": 0,
               "easing": "linear"
              }
             }
            ],
            "label": "1894",
            "method": "animate"
           },
           {
            "args": [
             [
              "1895"
             ],
             {
              "frame": {
               "duration": 0,
               "redraw": true
              },
              "mode": "immediate",
              "fromcurrent": true,
              "transition": {
               "duration": 0,
               "easing": "linear"
              }
             }
            ],
            "label": "1895",
            "method": "animate"
           },
           {
            "args": [
             [
              "1896"
             ],
             {
              "frame": {
               "duration": 0,
               "redraw": true
              },
              "mode": "immediate",
              "fromcurrent": true,
              "transition": {
               "duration": 0,
               "easing": "linear"
              }
             }
            ],
            "label": "1896",
            "method": "animate"
           },
           {
            "args": [
             [
              "1897"
             ],
             {
              "frame": {
               "duration": 0,
               "redraw": true
              },
              "mode": "immediate",
              "fromcurrent": true,
              "transition": {
               "duration": 0,
               "easing": "linear"
              }
             }
            ],
            "label": "1897",
            "method": "animate"
           },
           {
            "args": [
             [
              "1898"
             ],
             {
              "frame": {
               "duration": 0,
               "redraw": true
              },
              "mode": "immediate",
              "fromcurrent": true,
              "transition": {
               "duration": 0,
               "easing": "linear"
              }
             }
            ],
            "label": "1898",
            "method": "animate"
           },
           {
            "args": [
             [
              "1899"
             ],
             {
              "frame": {
               "duration": 0,
               "redraw": true
              },
              "mode": "immediate",
              "fromcurrent": true,
              "transition": {
               "duration": 0,
               "easing": "linear"
              }
             }
            ],
            "label": "1899",
            "method": "animate"
           },
           {
            "args": [
             [
              "1900"
             ],
             {
              "frame": {
               "duration": 0,
               "redraw": true
              },
              "mode": "immediate",
              "fromcurrent": true,
              "transition": {
               "duration": 0,
               "easing": "linear"
              }
             }
            ],
            "label": "1900",
            "method": "animate"
           },
           {
            "args": [
             [
              "1901"
             ],
             {
              "frame": {
               "duration": 0,
               "redraw": true
              },
              "mode": "immediate",
              "fromcurrent": true,
              "transition": {
               "duration": 0,
               "easing": "linear"
              }
             }
            ],
            "label": "1901",
            "method": "animate"
           },
           {
            "args": [
             [
              "1902"
             ],
             {
              "frame": {
               "duration": 0,
               "redraw": true
              },
              "mode": "immediate",
              "fromcurrent": true,
              "transition": {
               "duration": 0,
               "easing": "linear"
              }
             }
            ],
            "label": "1902",
            "method": "animate"
           },
           {
            "args": [
             [
              "1903"
             ],
             {
              "frame": {
               "duration": 0,
               "redraw": true
              },
              "mode": "immediate",
              "fromcurrent": true,
              "transition": {
               "duration": 0,
               "easing": "linear"
              }
             }
            ],
            "label": "1903",
            "method": "animate"
           },
           {
            "args": [
             [
              "1904"
             ],
             {
              "frame": {
               "duration": 0,
               "redraw": true
              },
              "mode": "immediate",
              "fromcurrent": true,
              "transition": {
               "duration": 0,
               "easing": "linear"
              }
             }
            ],
            "label": "1904",
            "method": "animate"
           },
           {
            "args": [
             [
              "1905"
             ],
             {
              "frame": {
               "duration": 0,
               "redraw": true
              },
              "mode": "immediate",
              "fromcurrent": true,
              "transition": {
               "duration": 0,
               "easing": "linear"
              }
             }
            ],
            "label": "1905",
            "method": "animate"
           },
           {
            "args": [
             [
              "1906"
             ],
             {
              "frame": {
               "duration": 0,
               "redraw": true
              },
              "mode": "immediate",
              "fromcurrent": true,
              "transition": {
               "duration": 0,
               "easing": "linear"
              }
             }
            ],
            "label": "1906",
            "method": "animate"
           },
           {
            "args": [
             [
              "1907"
             ],
             {
              "frame": {
               "duration": 0,
               "redraw": true
              },
              "mode": "immediate",
              "fromcurrent": true,
              "transition": {
               "duration": 0,
               "easing": "linear"
              }
             }
            ],
            "label": "1907",
            "method": "animate"
           },
           {
            "args": [
             [
              "1908"
             ],
             {
              "frame": {
               "duration": 0,
               "redraw": true
              },
              "mode": "immediate",
              "fromcurrent": true,
              "transition": {
               "duration": 0,
               "easing": "linear"
              }
             }
            ],
            "label": "1908",
            "method": "animate"
           },
           {
            "args": [
             [
              "1909"
             ],
             {
              "frame": {
               "duration": 0,
               "redraw": true
              },
              "mode": "immediate",
              "fromcurrent": true,
              "transition": {
               "duration": 0,
               "easing": "linear"
              }
             }
            ],
            "label": "1909",
            "method": "animate"
           },
           {
            "args": [
             [
              "1910"
             ],
             {
              "frame": {
               "duration": 0,
               "redraw": true
              },
              "mode": "immediate",
              "fromcurrent": true,
              "transition": {
               "duration": 0,
               "easing": "linear"
              }
             }
            ],
            "label": "1910",
            "method": "animate"
           },
           {
            "args": [
             [
              "1911"
             ],
             {
              "frame": {
               "duration": 0,
               "redraw": true
              },
              "mode": "immediate",
              "fromcurrent": true,
              "transition": {
               "duration": 0,
               "easing": "linear"
              }
             }
            ],
            "label": "1911",
            "method": "animate"
           },
           {
            "args": [
             [
              "1912"
             ],
             {
              "frame": {
               "duration": 0,
               "redraw": true
              },
              "mode": "immediate",
              "fromcurrent": true,
              "transition": {
               "duration": 0,
               "easing": "linear"
              }
             }
            ],
            "label": "1912",
            "method": "animate"
           },
           {
            "args": [
             [
              "1913"
             ],
             {
              "frame": {
               "duration": 0,
               "redraw": true
              },
              "mode": "immediate",
              "fromcurrent": true,
              "transition": {
               "duration": 0,
               "easing": "linear"
              }
             }
            ],
            "label": "1913",
            "method": "animate"
           },
           {
            "args": [
             [
              "1914"
             ],
             {
              "frame": {
               "duration": 0,
               "redraw": true
              },
              "mode": "immediate",
              "fromcurrent": true,
              "transition": {
               "duration": 0,
               "easing": "linear"
              }
             }
            ],
            "label": "1914",
            "method": "animate"
           },
           {
            "args": [
             [
              "1915"
             ],
             {
              "frame": {
               "duration": 0,
               "redraw": true
              },
              "mode": "immediate",
              "fromcurrent": true,
              "transition": {
               "duration": 0,
               "easing": "linear"
              }
             }
            ],
            "label": "1915",
            "method": "animate"
           },
           {
            "args": [
             [
              "1916"
             ],
             {
              "frame": {
               "duration": 0,
               "redraw": true
              },
              "mode": "immediate",
              "fromcurrent": true,
              "transition": {
               "duration": 0,
               "easing": "linear"
              }
             }
            ],
            "label": "1916",
            "method": "animate"
           },
           {
            "args": [
             [
              "1917"
             ],
             {
              "frame": {
               "duration": 0,
               "redraw": true
              },
              "mode": "immediate",
              "fromcurrent": true,
              "transition": {
               "duration": 0,
               "easing": "linear"
              }
             }
            ],
            "label": "1917",
            "method": "animate"
           },
           {
            "args": [
             [
              "1918"
             ],
             {
              "frame": {
               "duration": 0,
               "redraw": true
              },
              "mode": "immediate",
              "fromcurrent": true,
              "transition": {
               "duration": 0,
               "easing": "linear"
              }
             }
            ],
            "label": "1918",
            "method": "animate"
           },
           {
            "args": [
             [
              "1919"
             ],
             {
              "frame": {
               "duration": 0,
               "redraw": true
              },
              "mode": "immediate",
              "fromcurrent": true,
              "transition": {
               "duration": 0,
               "easing": "linear"
              }
             }
            ],
            "label": "1919",
            "method": "animate"
           },
           {
            "args": [
             [
              "1920"
             ],
             {
              "frame": {
               "duration": 0,
               "redraw": true
              },
              "mode": "immediate",
              "fromcurrent": true,
              "transition": {
               "duration": 0,
               "easing": "linear"
              }
             }
            ],
            "label": "1920",
            "method": "animate"
           },
           {
            "args": [
             [
              "1921"
             ],
             {
              "frame": {
               "duration": 0,
               "redraw": true
              },
              "mode": "immediate",
              "fromcurrent": true,
              "transition": {
               "duration": 0,
               "easing": "linear"
              }
             }
            ],
            "label": "1921",
            "method": "animate"
           },
           {
            "args": [
             [
              "1922"
             ],
             {
              "frame": {
               "duration": 0,
               "redraw": true
              },
              "mode": "immediate",
              "fromcurrent": true,
              "transition": {
               "duration": 0,
               "easing": "linear"
              }
             }
            ],
            "label": "1922",
            "method": "animate"
           },
           {
            "args": [
             [
              "1923"
             ],
             {
              "frame": {
               "duration": 0,
               "redraw": true
              },
              "mode": "immediate",
              "fromcurrent": true,
              "transition": {
               "duration": 0,
               "easing": "linear"
              }
             }
            ],
            "label": "1923",
            "method": "animate"
           },
           {
            "args": [
             [
              "1924"
             ],
             {
              "frame": {
               "duration": 0,
               "redraw": true
              },
              "mode": "immediate",
              "fromcurrent": true,
              "transition": {
               "duration": 0,
               "easing": "linear"
              }
             }
            ],
            "label": "1924",
            "method": "animate"
           },
           {
            "args": [
             [
              "1925"
             ],
             {
              "frame": {
               "duration": 0,
               "redraw": true
              },
              "mode": "immediate",
              "fromcurrent": true,
              "transition": {
               "duration": 0,
               "easing": "linear"
              }
             }
            ],
            "label": "1925",
            "method": "animate"
           },
           {
            "args": [
             [
              "1926"
             ],
             {
              "frame": {
               "duration": 0,
               "redraw": true
              },
              "mode": "immediate",
              "fromcurrent": true,
              "transition": {
               "duration": 0,
               "easing": "linear"
              }
             }
            ],
            "label": "1926",
            "method": "animate"
           },
           {
            "args": [
             [
              "1927"
             ],
             {
              "frame": {
               "duration": 0,
               "redraw": true
              },
              "mode": "immediate",
              "fromcurrent": true,
              "transition": {
               "duration": 0,
               "easing": "linear"
              }
             }
            ],
            "label": "1927",
            "method": "animate"
           },
           {
            "args": [
             [
              "1928"
             ],
             {
              "frame": {
               "duration": 0,
               "redraw": true
              },
              "mode": "immediate",
              "fromcurrent": true,
              "transition": {
               "duration": 0,
               "easing": "linear"
              }
             }
            ],
            "label": "1928",
            "method": "animate"
           },
           {
            "args": [
             [
              "1929"
             ],
             {
              "frame": {
               "duration": 0,
               "redraw": true
              },
              "mode": "immediate",
              "fromcurrent": true,
              "transition": {
               "duration": 0,
               "easing": "linear"
              }
             }
            ],
            "label": "1929",
            "method": "animate"
           },
           {
            "args": [
             [
              "1930"
             ],
             {
              "frame": {
               "duration": 0,
               "redraw": true
              },
              "mode": "immediate",
              "fromcurrent": true,
              "transition": {
               "duration": 0,
               "easing": "linear"
              }
             }
            ],
            "label": "1930",
            "method": "animate"
           },
           {
            "args": [
             [
              "1931"
             ],
             {
              "frame": {
               "duration": 0,
               "redraw": true
              },
              "mode": "immediate",
              "fromcurrent": true,
              "transition": {
               "duration": 0,
               "easing": "linear"
              }
             }
            ],
            "label": "1931",
            "method": "animate"
           },
           {
            "args": [
             [
              "1932"
             ],
             {
              "frame": {
               "duration": 0,
               "redraw": true
              },
              "mode": "immediate",
              "fromcurrent": true,
              "transition": {
               "duration": 0,
               "easing": "linear"
              }
             }
            ],
            "label": "1932",
            "method": "animate"
           },
           {
            "args": [
             [
              "1933"
             ],
             {
              "frame": {
               "duration": 0,
               "redraw": true
              },
              "mode": "immediate",
              "fromcurrent": true,
              "transition": {
               "duration": 0,
               "easing": "linear"
              }
             }
            ],
            "label": "1933",
            "method": "animate"
           },
           {
            "args": [
             [
              "1934"
             ],
             {
              "frame": {
               "duration": 0,
               "redraw": true
              },
              "mode": "immediate",
              "fromcurrent": true,
              "transition": {
               "duration": 0,
               "easing": "linear"
              }
             }
            ],
            "label": "1934",
            "method": "animate"
           },
           {
            "args": [
             [
              "1935"
             ],
             {
              "frame": {
               "duration": 0,
               "redraw": true
              },
              "mode": "immediate",
              "fromcurrent": true,
              "transition": {
               "duration": 0,
               "easing": "linear"
              }
             }
            ],
            "label": "1935",
            "method": "animate"
           },
           {
            "args": [
             [
              "1936"
             ],
             {
              "frame": {
               "duration": 0,
               "redraw": true
              },
              "mode": "immediate",
              "fromcurrent": true,
              "transition": {
               "duration": 0,
               "easing": "linear"
              }
             }
            ],
            "label": "1936",
            "method": "animate"
           },
           {
            "args": [
             [
              "1937"
             ],
             {
              "frame": {
               "duration": 0,
               "redraw": true
              },
              "mode": "immediate",
              "fromcurrent": true,
              "transition": {
               "duration": 0,
               "easing": "linear"
              }
             }
            ],
            "label": "1937",
            "method": "animate"
           },
           {
            "args": [
             [
              "1938"
             ],
             {
              "frame": {
               "duration": 0,
               "redraw": true
              },
              "mode": "immediate",
              "fromcurrent": true,
              "transition": {
               "duration": 0,
               "easing": "linear"
              }
             }
            ],
            "label": "1938",
            "method": "animate"
           },
           {
            "args": [
             [
              "1939"
             ],
             {
              "frame": {
               "duration": 0,
               "redraw": true
              },
              "mode": "immediate",
              "fromcurrent": true,
              "transition": {
               "duration": 0,
               "easing": "linear"
              }
             }
            ],
            "label": "1939",
            "method": "animate"
           },
           {
            "args": [
             [
              "1940"
             ],
             {
              "frame": {
               "duration": 0,
               "redraw": true
              },
              "mode": "immediate",
              "fromcurrent": true,
              "transition": {
               "duration": 0,
               "easing": "linear"
              }
             }
            ],
            "label": "1940",
            "method": "animate"
           },
           {
            "args": [
             [
              "1941"
             ],
             {
              "frame": {
               "duration": 0,
               "redraw": true
              },
              "mode": "immediate",
              "fromcurrent": true,
              "transition": {
               "duration": 0,
               "easing": "linear"
              }
             }
            ],
            "label": "1941",
            "method": "animate"
           },
           {
            "args": [
             [
              "1942"
             ],
             {
              "frame": {
               "duration": 0,
               "redraw": true
              },
              "mode": "immediate",
              "fromcurrent": true,
              "transition": {
               "duration": 0,
               "easing": "linear"
              }
             }
            ],
            "label": "1942",
            "method": "animate"
           },
           {
            "args": [
             [
              "1943"
             ],
             {
              "frame": {
               "duration": 0,
               "redraw": true
              },
              "mode": "immediate",
              "fromcurrent": true,
              "transition": {
               "duration": 0,
               "easing": "linear"
              }
             }
            ],
            "label": "1943",
            "method": "animate"
           },
           {
            "args": [
             [
              "1944"
             ],
             {
              "frame": {
               "duration": 0,
               "redraw": true
              },
              "mode": "immediate",
              "fromcurrent": true,
              "transition": {
               "duration": 0,
               "easing": "linear"
              }
             }
            ],
            "label": "1944",
            "method": "animate"
           },
           {
            "args": [
             [
              "1945"
             ],
             {
              "frame": {
               "duration": 0,
               "redraw": true
              },
              "mode": "immediate",
              "fromcurrent": true,
              "transition": {
               "duration": 0,
               "easing": "linear"
              }
             }
            ],
            "label": "1945",
            "method": "animate"
           },
           {
            "args": [
             [
              "1946"
             ],
             {
              "frame": {
               "duration": 0,
               "redraw": true
              },
              "mode": "immediate",
              "fromcurrent": true,
              "transition": {
               "duration": 0,
               "easing": "linear"
              }
             }
            ],
            "label": "1946",
            "method": "animate"
           },
           {
            "args": [
             [
              "1947"
             ],
             {
              "frame": {
               "duration": 0,
               "redraw": true
              },
              "mode": "immediate",
              "fromcurrent": true,
              "transition": {
               "duration": 0,
               "easing": "linear"
              }
             }
            ],
            "label": "1947",
            "method": "animate"
           },
           {
            "args": [
             [
              "1948"
             ],
             {
              "frame": {
               "duration": 0,
               "redraw": true
              },
              "mode": "immediate",
              "fromcurrent": true,
              "transition": {
               "duration": 0,
               "easing": "linear"
              }
             }
            ],
            "label": "1948",
            "method": "animate"
           },
           {
            "args": [
             [
              "1949"
             ],
             {
              "frame": {
               "duration": 0,
               "redraw": true
              },
              "mode": "immediate",
              "fromcurrent": true,
              "transition": {
               "duration": 0,
               "easing": "linear"
              }
             }
            ],
            "label": "1949",
            "method": "animate"
           },
           {
            "args": [
             [
              "1950"
             ],
             {
              "frame": {
               "duration": 0,
               "redraw": true
              },
              "mode": "immediate",
              "fromcurrent": true,
              "transition": {
               "duration": 0,
               "easing": "linear"
              }
             }
            ],
            "label": "1950",
            "method": "animate"
           },
           {
            "args": [
             [
              "1951"
             ],
             {
              "frame": {
               "duration": 0,
               "redraw": true
              },
              "mode": "immediate",
              "fromcurrent": true,
              "transition": {
               "duration": 0,
               "easing": "linear"
              }
             }
            ],
            "label": "1951",
            "method": "animate"
           },
           {
            "args": [
             [
              "1952"
             ],
             {
              "frame": {
               "duration": 0,
               "redraw": true
              },
              "mode": "immediate",
              "fromcurrent": true,
              "transition": {
               "duration": 0,
               "easing": "linear"
              }
             }
            ],
            "label": "1952",
            "method": "animate"
           },
           {
            "args": [
             [
              "1953"
             ],
             {
              "frame": {
               "duration": 0,
               "redraw": true
              },
              "mode": "immediate",
              "fromcurrent": true,
              "transition": {
               "duration": 0,
               "easing": "linear"
              }
             }
            ],
            "label": "1953",
            "method": "animate"
           },
           {
            "args": [
             [
              "1954"
             ],
             {
              "frame": {
               "duration": 0,
               "redraw": true
              },
              "mode": "immediate",
              "fromcurrent": true,
              "transition": {
               "duration": 0,
               "easing": "linear"
              }
             }
            ],
            "label": "1954",
            "method": "animate"
           },
           {
            "args": [
             [
              "1955"
             ],
             {
              "frame": {
               "duration": 0,
               "redraw": true
              },
              "mode": "immediate",
              "fromcurrent": true,
              "transition": {
               "duration": 0,
               "easing": "linear"
              }
             }
            ],
            "label": "1955",
            "method": "animate"
           },
           {
            "args": [
             [
              "1956"
             ],
             {
              "frame": {
               "duration": 0,
               "redraw": true
              },
              "mode": "immediate",
              "fromcurrent": true,
              "transition": {
               "duration": 0,
               "easing": "linear"
              }
             }
            ],
            "label": "1956",
            "method": "animate"
           },
           {
            "args": [
             [
              "1957"
             ],
             {
              "frame": {
               "duration": 0,
               "redraw": true
              },
              "mode": "immediate",
              "fromcurrent": true,
              "transition": {
               "duration": 0,
               "easing": "linear"
              }
             }
            ],
            "label": "1957",
            "method": "animate"
           },
           {
            "args": [
             [
              "1958"
             ],
             {
              "frame": {
               "duration": 0,
               "redraw": true
              },
              "mode": "immediate",
              "fromcurrent": true,
              "transition": {
               "duration": 0,
               "easing": "linear"
              }
             }
            ],
            "label": "1958",
            "method": "animate"
           },
           {
            "args": [
             [
              "1959"
             ],
             {
              "frame": {
               "duration": 0,
               "redraw": true
              },
              "mode": "immediate",
              "fromcurrent": true,
              "transition": {
               "duration": 0,
               "easing": "linear"
              }
             }
            ],
            "label": "1959",
            "method": "animate"
           },
           {
            "args": [
             [
              "1960"
             ],
             {
              "frame": {
               "duration": 0,
               "redraw": true
              },
              "mode": "immediate",
              "fromcurrent": true,
              "transition": {
               "duration": 0,
               "easing": "linear"
              }
             }
            ],
            "label": "1960",
            "method": "animate"
           },
           {
            "args": [
             [
              "1961"
             ],
             {
              "frame": {
               "duration": 0,
               "redraw": true
              },
              "mode": "immediate",
              "fromcurrent": true,
              "transition": {
               "duration": 0,
               "easing": "linear"
              }
             }
            ],
            "label": "1961",
            "method": "animate"
           },
           {
            "args": [
             [
              "1962"
             ],
             {
              "frame": {
               "duration": 0,
               "redraw": true
              },
              "mode": "immediate",
              "fromcurrent": true,
              "transition": {
               "duration": 0,
               "easing": "linear"
              }
             }
            ],
            "label": "1962",
            "method": "animate"
           },
           {
            "args": [
             [
              "1963"
             ],
             {
              "frame": {
               "duration": 0,
               "redraw": true
              },
              "mode": "immediate",
              "fromcurrent": true,
              "transition": {
               "duration": 0,
               "easing": "linear"
              }
             }
            ],
            "label": "1963",
            "method": "animate"
           },
           {
            "args": [
             [
              "1964"
             ],
             {
              "frame": {
               "duration": 0,
               "redraw": true
              },
              "mode": "immediate",
              "fromcurrent": true,
              "transition": {
               "duration": 0,
               "easing": "linear"
              }
             }
            ],
            "label": "1964",
            "method": "animate"
           },
           {
            "args": [
             [
              "1965"
             ],
             {
              "frame": {
               "duration": 0,
               "redraw": true
              },
              "mode": "immediate",
              "fromcurrent": true,
              "transition": {
               "duration": 0,
               "easing": "linear"
              }
             }
            ],
            "label": "1965",
            "method": "animate"
           },
           {
            "args": [
             [
              "1966"
             ],
             {
              "frame": {
               "duration": 0,
               "redraw": true
              },
              "mode": "immediate",
              "fromcurrent": true,
              "transition": {
               "duration": 0,
               "easing": "linear"
              }
             }
            ],
            "label": "1966",
            "method": "animate"
           },
           {
            "args": [
             [
              "1967"
             ],
             {
              "frame": {
               "duration": 0,
               "redraw": true
              },
              "mode": "immediate",
              "fromcurrent": true,
              "transition": {
               "duration": 0,
               "easing": "linear"
              }
             }
            ],
            "label": "1967",
            "method": "animate"
           },
           {
            "args": [
             [
              "1968"
             ],
             {
              "frame": {
               "duration": 0,
               "redraw": true
              },
              "mode": "immediate",
              "fromcurrent": true,
              "transition": {
               "duration": 0,
               "easing": "linear"
              }
             }
            ],
            "label": "1968",
            "method": "animate"
           },
           {
            "args": [
             [
              "1969"
             ],
             {
              "frame": {
               "duration": 0,
               "redraw": true
              },
              "mode": "immediate",
              "fromcurrent": true,
              "transition": {
               "duration": 0,
               "easing": "linear"
              }
             }
            ],
            "label": "1969",
            "method": "animate"
           },
           {
            "args": [
             [
              "1970"
             ],
             {
              "frame": {
               "duration": 0,
               "redraw": true
              },
              "mode": "immediate",
              "fromcurrent": true,
              "transition": {
               "duration": 0,
               "easing": "linear"
              }
             }
            ],
            "label": "1970",
            "method": "animate"
           },
           {
            "args": [
             [
              "1971"
             ],
             {
              "frame": {
               "duration": 0,
               "redraw": true
              },
              "mode": "immediate",
              "fromcurrent": true,
              "transition": {
               "duration": 0,
               "easing": "linear"
              }
             }
            ],
            "label": "1971",
            "method": "animate"
           },
           {
            "args": [
             [
              "1972"
             ],
             {
              "frame": {
               "duration": 0,
               "redraw": true
              },
              "mode": "immediate",
              "fromcurrent": true,
              "transition": {
               "duration": 0,
               "easing": "linear"
              }
             }
            ],
            "label": "1972",
            "method": "animate"
           },
           {
            "args": [
             [
              "1973"
             ],
             {
              "frame": {
               "duration": 0,
               "redraw": true
              },
              "mode": "immediate",
              "fromcurrent": true,
              "transition": {
               "duration": 0,
               "easing": "linear"
              }
             }
            ],
            "label": "1973",
            "method": "animate"
           },
           {
            "args": [
             [
              "1974"
             ],
             {
              "frame": {
               "duration": 0,
               "redraw": true
              },
              "mode": "immediate",
              "fromcurrent": true,
              "transition": {
               "duration": 0,
               "easing": "linear"
              }
             }
            ],
            "label": "1974",
            "method": "animate"
           },
           {
            "args": [
             [
              "1975"
             ],
             {
              "frame": {
               "duration": 0,
               "redraw": true
              },
              "mode": "immediate",
              "fromcurrent": true,
              "transition": {
               "duration": 0,
               "easing": "linear"
              }
             }
            ],
            "label": "1975",
            "method": "animate"
           },
           {
            "args": [
             [
              "1976"
             ],
             {
              "frame": {
               "duration": 0,
               "redraw": true
              },
              "mode": "immediate",
              "fromcurrent": true,
              "transition": {
               "duration": 0,
               "easing": "linear"
              }
             }
            ],
            "label": "1976",
            "method": "animate"
           },
           {
            "args": [
             [
              "1977"
             ],
             {
              "frame": {
               "duration": 0,
               "redraw": true
              },
              "mode": "immediate",
              "fromcurrent": true,
              "transition": {
               "duration": 0,
               "easing": "linear"
              }
             }
            ],
            "label": "1977",
            "method": "animate"
           },
           {
            "args": [
             [
              "1978"
             ],
             {
              "frame": {
               "duration": 0,
               "redraw": true
              },
              "mode": "immediate",
              "fromcurrent": true,
              "transition": {
               "duration": 0,
               "easing": "linear"
              }
             }
            ],
            "label": "1978",
            "method": "animate"
           },
           {
            "args": [
             [
              "1979"
             ],
             {
              "frame": {
               "duration": 0,
               "redraw": true
              },
              "mode": "immediate",
              "fromcurrent": true,
              "transition": {
               "duration": 0,
               "easing": "linear"
              }
             }
            ],
            "label": "1979",
            "method": "animate"
           },
           {
            "args": [
             [
              "1980"
             ],
             {
              "frame": {
               "duration": 0,
               "redraw": true
              },
              "mode": "immediate",
              "fromcurrent": true,
              "transition": {
               "duration": 0,
               "easing": "linear"
              }
             }
            ],
            "label": "1980",
            "method": "animate"
           },
           {
            "args": [
             [
              "1981"
             ],
             {
              "frame": {
               "duration": 0,
               "redraw": true
              },
              "mode": "immediate",
              "fromcurrent": true,
              "transition": {
               "duration": 0,
               "easing": "linear"
              }
             }
            ],
            "label": "1981",
            "method": "animate"
           },
           {
            "args": [
             [
              "1982"
             ],
             {
              "frame": {
               "duration": 0,
               "redraw": true
              },
              "mode": "immediate",
              "fromcurrent": true,
              "transition": {
               "duration": 0,
               "easing": "linear"
              }
             }
            ],
            "label": "1982",
            "method": "animate"
           },
           {
            "args": [
             [
              "1983"
             ],
             {
              "frame": {
               "duration": 0,
               "redraw": true
              },
              "mode": "immediate",
              "fromcurrent": true,
              "transition": {
               "duration": 0,
               "easing": "linear"
              }
             }
            ],
            "label": "1983",
            "method": "animate"
           },
           {
            "args": [
             [
              "1984"
             ],
             {
              "frame": {
               "duration": 0,
               "redraw": true
              },
              "mode": "immediate",
              "fromcurrent": true,
              "transition": {
               "duration": 0,
               "easing": "linear"
              }
             }
            ],
            "label": "1984",
            "method": "animate"
           },
           {
            "args": [
             [
              "1985"
             ],
             {
              "frame": {
               "duration": 0,
               "redraw": true
              },
              "mode": "immediate",
              "fromcurrent": true,
              "transition": {
               "duration": 0,
               "easing": "linear"
              }
             }
            ],
            "label": "1985",
            "method": "animate"
           },
           {
            "args": [
             [
              "1986"
             ],
             {
              "frame": {
               "duration": 0,
               "redraw": true
              },
              "mode": "immediate",
              "fromcurrent": true,
              "transition": {
               "duration": 0,
               "easing": "linear"
              }
             }
            ],
            "label": "1986",
            "method": "animate"
           },
           {
            "args": [
             [
              "1987"
             ],
             {
              "frame": {
               "duration": 0,
               "redraw": true
              },
              "mode": "immediate",
              "fromcurrent": true,
              "transition": {
               "duration": 0,
               "easing": "linear"
              }
             }
            ],
            "label": "1987",
            "method": "animate"
           },
           {
            "args": [
             [
              "1988"
             ],
             {
              "frame": {
               "duration": 0,
               "redraw": true
              },
              "mode": "immediate",
              "fromcurrent": true,
              "transition": {
               "duration": 0,
               "easing": "linear"
              }
             }
            ],
            "label": "1988",
            "method": "animate"
           },
           {
            "args": [
             [
              "1989"
             ],
             {
              "frame": {
               "duration": 0,
               "redraw": true
              },
              "mode": "immediate",
              "fromcurrent": true,
              "transition": {
               "duration": 0,
               "easing": "linear"
              }
             }
            ],
            "label": "1989",
            "method": "animate"
           },
           {
            "args": [
             [
              "1990"
             ],
             {
              "frame": {
               "duration": 0,
               "redraw": true
              },
              "mode": "immediate",
              "fromcurrent": true,
              "transition": {
               "duration": 0,
               "easing": "linear"
              }
             }
            ],
            "label": "1990",
            "method": "animate"
           },
           {
            "args": [
             [
              "1991"
             ],
             {
              "frame": {
               "duration": 0,
               "redraw": true
              },
              "mode": "immediate",
              "fromcurrent": true,
              "transition": {
               "duration": 0,
               "easing": "linear"
              }
             }
            ],
            "label": "1991",
            "method": "animate"
           },
           {
            "args": [
             [
              "1992"
             ],
             {
              "frame": {
               "duration": 0,
               "redraw": true
              },
              "mode": "immediate",
              "fromcurrent": true,
              "transition": {
               "duration": 0,
               "easing": "linear"
              }
             }
            ],
            "label": "1992",
            "method": "animate"
           },
           {
            "args": [
             [
              "1993"
             ],
             {
              "frame": {
               "duration": 0,
               "redraw": true
              },
              "mode": "immediate",
              "fromcurrent": true,
              "transition": {
               "duration": 0,
               "easing": "linear"
              }
             }
            ],
            "label": "1993",
            "method": "animate"
           },
           {
            "args": [
             [
              "1994"
             ],
             {
              "frame": {
               "duration": 0,
               "redraw": true
              },
              "mode": "immediate",
              "fromcurrent": true,
              "transition": {
               "duration": 0,
               "easing": "linear"
              }
             }
            ],
            "label": "1994",
            "method": "animate"
           },
           {
            "args": [
             [
              "1995"
             ],
             {
              "frame": {
               "duration": 0,
               "redraw": true
              },
              "mode": "immediate",
              "fromcurrent": true,
              "transition": {
               "duration": 0,
               "easing": "linear"
              }
             }
            ],
            "label": "1995",
            "method": "animate"
           },
           {
            "args": [
             [
              "1996"
             ],
             {
              "frame": {
               "duration": 0,
               "redraw": true
              },
              "mode": "immediate",
              "fromcurrent": true,
              "transition": {
               "duration": 0,
               "easing": "linear"
              }
             }
            ],
            "label": "1996",
            "method": "animate"
           },
           {
            "args": [
             [
              "1997"
             ],
             {
              "frame": {
               "duration": 0,
               "redraw": true
              },
              "mode": "immediate",
              "fromcurrent": true,
              "transition": {
               "duration": 0,
               "easing": "linear"
              }
             }
            ],
            "label": "1997",
            "method": "animate"
           },
           {
            "args": [
             [
              "1998"
             ],
             {
              "frame": {
               "duration": 0,
               "redraw": true
              },
              "mode": "immediate",
              "fromcurrent": true,
              "transition": {
               "duration": 0,
               "easing": "linear"
              }
             }
            ],
            "label": "1998",
            "method": "animate"
           },
           {
            "args": [
             [
              "1999"
             ],
             {
              "frame": {
               "duration": 0,
               "redraw": true
              },
              "mode": "immediate",
              "fromcurrent": true,
              "transition": {
               "duration": 0,
               "easing": "linear"
              }
             }
            ],
            "label": "1999",
            "method": "animate"
           },
           {
            "args": [
             [
              "2000"
             ],
             {
              "frame": {
               "duration": 0,
               "redraw": true
              },
              "mode": "immediate",
              "fromcurrent": true,
              "transition": {
               "duration": 0,
               "easing": "linear"
              }
             }
            ],
            "label": "2000",
            "method": "animate"
           },
           {
            "args": [
             [
              "2001"
             ],
             {
              "frame": {
               "duration": 0,
               "redraw": true
              },
              "mode": "immediate",
              "fromcurrent": true,
              "transition": {
               "duration": 0,
               "easing": "linear"
              }
             }
            ],
            "label": "2001",
            "method": "animate"
           },
           {
            "args": [
             [
              "2002"
             ],
             {
              "frame": {
               "duration": 0,
               "redraw": true
              },
              "mode": "immediate",
              "fromcurrent": true,
              "transition": {
               "duration": 0,
               "easing": "linear"
              }
             }
            ],
            "label": "2002",
            "method": "animate"
           },
           {
            "args": [
             [
              "2003"
             ],
             {
              "frame": {
               "duration": 0,
               "redraw": true
              },
              "mode": "immediate",
              "fromcurrent": true,
              "transition": {
               "duration": 0,
               "easing": "linear"
              }
             }
            ],
            "label": "2003",
            "method": "animate"
           },
           {
            "args": [
             [
              "2004"
             ],
             {
              "frame": {
               "duration": 0,
               "redraw": true
              },
              "mode": "immediate",
              "fromcurrent": true,
              "transition": {
               "duration": 0,
               "easing": "linear"
              }
             }
            ],
            "label": "2004",
            "method": "animate"
           },
           {
            "args": [
             [
              "2005"
             ],
             {
              "frame": {
               "duration": 0,
               "redraw": true
              },
              "mode": "immediate",
              "fromcurrent": true,
              "transition": {
               "duration": 0,
               "easing": "linear"
              }
             }
            ],
            "label": "2005",
            "method": "animate"
           },
           {
            "args": [
             [
              "2006"
             ],
             {
              "frame": {
               "duration": 0,
               "redraw": true
              },
              "mode": "immediate",
              "fromcurrent": true,
              "transition": {
               "duration": 0,
               "easing": "linear"
              }
             }
            ],
            "label": "2006",
            "method": "animate"
           },
           {
            "args": [
             [
              "2007"
             ],
             {
              "frame": {
               "duration": 0,
               "redraw": true
              },
              "mode": "immediate",
              "fromcurrent": true,
              "transition": {
               "duration": 0,
               "easing": "linear"
              }
             }
            ],
            "label": "2007",
            "method": "animate"
           },
           {
            "args": [
             [
              "2008"
             ],
             {
              "frame": {
               "duration": 0,
               "redraw": true
              },
              "mode": "immediate",
              "fromcurrent": true,
              "transition": {
               "duration": 0,
               "easing": "linear"
              }
             }
            ],
            "label": "2008",
            "method": "animate"
           },
           {
            "args": [
             [
              "2009"
             ],
             {
              "frame": {
               "duration": 0,
               "redraw": true
              },
              "mode": "immediate",
              "fromcurrent": true,
              "transition": {
               "duration": 0,
               "easing": "linear"
              }
             }
            ],
            "label": "2009",
            "method": "animate"
           },
           {
            "args": [
             [
              "2010"
             ],
             {
              "frame": {
               "duration": 0,
               "redraw": true
              },
              "mode": "immediate",
              "fromcurrent": true,
              "transition": {
               "duration": 0,
               "easing": "linear"
              }
             }
            ],
            "label": "2010",
            "method": "animate"
           },
           {
            "args": [
             [
              "2011"
             ],
             {
              "frame": {
               "duration": 0,
               "redraw": true
              },
              "mode": "immediate",
              "fromcurrent": true,
              "transition": {
               "duration": 0,
               "easing": "linear"
              }
             }
            ],
            "label": "2011",
            "method": "animate"
           },
           {
            "args": [
             [
              "2012"
             ],
             {
              "frame": {
               "duration": 0,
               "redraw": true
              },
              "mode": "immediate",
              "fromcurrent": true,
              "transition": {
               "duration": 0,
               "easing": "linear"
              }
             }
            ],
            "label": "2012",
            "method": "animate"
           },
           {
            "args": [
             [
              "2013"
             ],
             {
              "frame": {
               "duration": 0,
               "redraw": true
              },
              "mode": "immediate",
              "fromcurrent": true,
              "transition": {
               "duration": 0,
               "easing": "linear"
              }
             }
            ],
            "label": "2013",
            "method": "animate"
           },
           {
            "args": [
             [
              "2014"
             ],
             {
              "frame": {
               "duration": 0,
               "redraw": true
              },
              "mode": "immediate",
              "fromcurrent": true,
              "transition": {
               "duration": 0,
               "easing": "linear"
              }
             }
            ],
            "label": "2014",
            "method": "animate"
           },
           {
            "args": [
             [
              "2015"
             ],
             {
              "frame": {
               "duration": 0,
               "redraw": true
              },
              "mode": "immediate",
              "fromcurrent": true,
              "transition": {
               "duration": 0,
               "easing": "linear"
              }
             }
            ],
            "label": "2015",
            "method": "animate"
           },
           {
            "args": [
             [
              "2016"
             ],
             {
              "frame": {
               "duration": 0,
               "redraw": true
              },
              "mode": "immediate",
              "fromcurrent": true,
              "transition": {
               "duration": 0,
               "easing": "linear"
              }
             }
            ],
            "label": "2016",
            "method": "animate"
           },
           {
            "args": [
             [
              "2017"
             ],
             {
              "frame": {
               "duration": 0,
               "redraw": true
              },
              "mode": "immediate",
              "fromcurrent": true,
              "transition": {
               "duration": 0,
               "easing": "linear"
              }
             }
            ],
            "label": "2017",
            "method": "animate"
           },
           {
            "args": [
             [
              "2018"
             ],
             {
              "frame": {
               "duration": 0,
               "redraw": true
              },
              "mode": "immediate",
              "fromcurrent": true,
              "transition": {
               "duration": 0,
               "easing": "linear"
              }
             }
            ],
            "label": "2018",
            "method": "animate"
           },
           {
            "args": [
             [
              "2019"
             ],
             {
              "frame": {
               "duration": 0,
               "redraw": true
              },
              "mode": "immediate",
              "fromcurrent": true,
              "transition": {
               "duration": 0,
               "easing": "linear"
              }
             }
            ],
            "label": "2019",
            "method": "animate"
           },
           {
            "args": [
             [
              "2020"
             ],
             {
              "frame": {
               "duration": 0,
               "redraw": true
              },
              "mode": "immediate",
              "fromcurrent": true,
              "transition": {
               "duration": 0,
               "easing": "linear"
              }
             }
            ],
            "label": "2020",
            "method": "animate"
           },
           {
            "args": [
             [
              "2021"
             ],
             {
              "frame": {
               "duration": 0,
               "redraw": true
              },
              "mode": "immediate",
              "fromcurrent": true,
              "transition": {
               "duration": 0,
               "easing": "linear"
              }
             }
            ],
            "label": "2021",
            "method": "animate"
           },
           {
            "args": [
             [
              "2022"
             ],
             {
              "frame": {
               "duration": 0,
               "redraw": true
              },
              "mode": "immediate",
              "fromcurrent": true,
              "transition": {
               "duration": 0,
               "easing": "linear"
              }
             }
            ],
            "label": "2022",
            "method": "animate"
           },
           {
            "args": [
             [
              "2023"
             ],
             {
              "frame": {
               "duration": 0,
               "redraw": true
              },
              "mode": "immediate",
              "fromcurrent": true,
              "transition": {
               "duration": 0,
               "easing": "linear"
              }
             }
            ],
            "label": "2023",
            "method": "animate"
           }
          ],
          "x": 0.1,
          "xanchor": "left",
          "y": 0,
          "yanchor": "top"
         }
        ]
       },
       "frames": [
        {
         "data": [
          {
           "hovertemplate": "Year=1864<br>Temperature=%{r}<br>prep_months=%{theta}<extra></extra>",
           "legendgroup": "1864",
           "line": {
            "color": "#f0f921",
            "dash": "solid"
           },
           "marker": {
            "symbol": "circle"
           },
           "mode": "lines",
           "name": "1864",
           "r": [
            -6.6,
            -1.5,
            4.5,
            6.8,
            12.3,
            14.7,
            16.9,
            15.3,
            12.9,
            6.7,
            2.5,
            -4.2,
            -6.6
           ],
           "showlegend": true,
           "subplot": "polar",
           "theta": [
            30.0,
            60.0,
            90.0,
            120.0,
            150.0,
            180.0,
            210.0,
            240.0,
            270.0,
            300.0,
            330.0,
            360.0,
            30.0
           ],
           "type": "scatterpolar"
          }
         ],
         "name": "1864"
        },
        {
         "data": [
          {
           "hovertemplate": "Year=1865<br>Temperature=%{r}<br>prep_months=%{theta}<extra></extra>",
           "legendgroup": "1865",
           "line": {
            "color": "#fdca26",
            "dash": "solid"
           },
           "marker": {
            "symbol": "circle"
           },
           "mode": "lines",
           "name": "1865",
           "r": [
            0.0,
            -2.9,
            -1.2,
            11.9,
            15.2,
            16.0,
            19.0,
            15.8,
            15.4,
            9.3,
            4.2,
            -1.9,
            0.0
           ],
           "showlegend": true,
           "subplot": "polar",
           "theta": [
            30.0,
            60.0,
            90.0,
            120.0,
            150.0,
            180.0,
            210.0,
            240.0,
            270.0,
            300.0,
            330.0,
            360.0,
            30.0
           ],
           "type": "scatterpolar"
          }
         ],
         "name": "1865"
        },
        {
         "data": [
          {
           "hovertemplate": "Year=1866<br>Temperature=%{r}<br>prep_months=%{theta}<extra></extra>",
           "legendgroup": "1866",
           "line": {
            "color": "#fb9f3a",
            "dash": "solid"
           },
           "marker": {
            "symbol": "circle"
           },
           "mode": "lines",
           "name": "1866",
           "r": [
            1.7,
            3.7,
            3.7,
            9.1,
            9.7,
            17.5,
            17.4,
            14.7,
            14.3,
            8.0,
            3.6,
            1.7,
            1.7
           ],
           "showlegend": true,
           "subplot": "polar",
           "theta": [
            30.0,
            60.0,
            90.0,
            120.0,
            150.0,
            180.0,
            210.0,
            240.0,
            270.0,
            300.0,
            330.0,
            360.0,
            30.0
           ],
           "type": "scatterpolar"
          }
         ],
         "name": "1866"
        },
        {
         "data": [
          {
           "hovertemplate": "Year=1867<br>Temperature=%{r}<br>prep_months=%{theta}<extra></extra>",
           "legendgroup": "1867",
           "line": {
            "color": "#ed7953",
            "dash": "solid"
           },
           "marker": {
            "symbol": "circle"
           },
           "mode": "lines",
           "name": "1867",
           "r": [
            -1.2,
            4.7,
            3.7,
            8.2,
            12.8,
            15.7,
            16.3,
            17.6,
            14.2,
            6.7,
            0.9,
            -2.6,
            -1.2
           ],
           "showlegend": true,
           "subplot": "polar",
           "theta": [
            30.0,
            60.0,
            90.0,
            120.0,
            150.0,
            180.0,
            210.0,
            240.0,
            270.0,
            300.0,
            330.0,
            360.0,
            30.0
           ],
           "type": "scatterpolar"
          }
         ],
         "name": "1867"
        },
        {
         "data": [
          {
           "hovertemplate": "Year=1868<br>Temperature=%{r}<br>prep_months=%{theta}<extra></extra>",
           "legendgroup": "1868",
           "line": {
            "color": "#d8576b",
            "dash": "solid"
           },
           "marker": {
            "symbol": "circle"
           },
           "mode": "lines",
           "name": "1868",
           "r": [
            -2.5,
            2.3,
            2.6,
            7.3,
            17.6,
            17.3,
            18.1,
            17.5,
            15.6,
            8.8,
            0.6,
            5.1,
            -2.5
           ],
           "showlegend": true,
           "subplot": "polar",
           "theta": [
            30.0,
            60.0,
            90.0,
            120.0,
            150.0,
            180.0,
            210.0,
            240.0,
            270.0,
            300.0,
            330.0,
            360.0,
            30.0
           ],
           "type": "scatterpolar"
          }
         ],
         "name": "1868"
        },
        {
         "data": [
          {
           "hovertemplate": "Year=1869<br>Temperature=%{r}<br>prep_months=%{theta}<extra></extra>",
           "legendgroup": "1869",
           "line": {
            "color": "#bd3786",
            "dash": "solid"
           },
           "marker": {
            "symbol": "circle"
           },
           "mode": "lines",
           "name": "1869",
           "r": [
            -1.7,
            4.9,
            0.5,
            10.1,
            13.9,
            13.4,
            19.6,
            15.5,
            14.4,
            6.0,
            3.8,
            -1.9,
            -1.7
           ],
           "showlegend": true,
           "subplot": "polar",
           "theta": [
            30.0,
            60.0,
            90.0,
            120.0,
            150.0,
            180.0,
            210.0,
            240.0,
            270.0,
            300.0,
            330.0,
            360.0,
            30.0
           ],
           "type": "scatterpolar"
          }
         ],
         "name": "1869"
        },
        {
         "data": [
          {
           "hovertemplate": "Year=1870<br>Temperature=%{r}<br>prep_months=%{theta}<extra></extra>",
           "legendgroup": "1870",
           "line": {
            "color": "#9c179e",
            "dash": "solid"
           },
           "marker": {
            "symbol": "circle"
           },
           "mode": "lines",
           "name": "1870",
           "r": [
            -2.4,
            -3.1,
            1.7,
            8.0,
            14.0,
            16.9,
            19.7,
            15.1,
            11.9,
            8.1,
            2.9,
            -4.3,
            -2.4
           ],
           "showlegend": true,
           "subplot": "polar",
           "theta": [
            30.0,
            60.0,
            90.0,
            120.0,
            150.0,
            180.0,
            210.0,
            240.0,
            270.0,
            300.0,
            330.0,
            360.0,
            30.0
           ],
           "type": "scatterpolar"
          }
         ],
         "name": "1870"
        },
        {
         "data": [
          {
           "hovertemplate": "Year=1871<br>Temperature=%{r}<br>prep_months=%{theta}<extra></extra>",
           "legendgroup": "1871",
           "line": {
            "color": "#7201a8",
            "dash": "solid"
           },
           "marker": {
            "symbol": "circle"
           },
           "mode": "lines",
           "name": "1871",
           "r": [
            -5.1,
            0.9,
            4.1,
            8.5,
            11.6,
            12.6,
            18.1,
            17.5,
            15.3,
            6.2,
            -0.2,
            -7.2,
            -5.1
           ],
           "showlegend": true,
           "subplot": "polar",
           "theta": [
            30.0,
            60.0,
            90.0,
            120.0,
            150.0,
            180.0,
            210.0,
            240.0,
            270.0,
            300.0,
            330.0,
            360.0,
            30.0
           ],
           "type": "scatterpolar"
          }
         ],
         "name": "1871"
        },
        {
         "data": [
          {
           "hovertemplate": "Year=1872<br>Temperature=%{r}<br>prep_months=%{theta}<extra></extra>",
           "legendgroup": "1872",
           "line": {
            "color": "#46039f",
            "dash": "solid"
           },
           "marker": {
            "symbol": "circle"
           },
           "mode": "lines",
           "name": "1872",
           "r": [
            -0.5,
            0.3,
            5.3,
            9.0,
            11.3,
            15.1,
            18.5,
            15.5,
            14.1,
            9.3,
            5.6,
            2.2,
            -0.5
           ],
           "showlegend": true,
           "subplot": "polar",
           "theta": [
            30.0,
            60.0,
            90.0,
            120.0,
            150.0,
            180.0,
            210.0,
            240.0,
            270.0,
            300.0,
            330.0,
            360.0,
            30.0
           ],
           "type": "scatterpolar"
          }
         ],
         "name": "1872"
        },
        {
         "data": [
          {
           "hovertemplate": "Year=1873<br>Temperature=%{r}<br>prep_months=%{theta}<extra></extra>",
           "legendgroup": "1873",
           "line": {
            "color": "#0d0887",
            "dash": "solid"
           },
           "marker": {
            "symbol": "circle"
           },
           "mode": "lines",
           "name": "1873",
           "r": [
            0.3,
            -0.1,
            6.0,
            6.5,
            9.8,
            16.2,
            19.7,
            18.5,
            12.8,
            9.1,
            3.5,
            -1.0,
            0.3
           ],
           "showlegend": true,
           "subplot": "polar",
           "theta": [
            30.0,
            60.0,
            90.0,
            120.0,
            150.0,
            180.0,
            210.0,
            240.0,
            270.0,
            300.0,
            330.0,
            360.0,
            30.0
           ],
           "type": "scatterpolar"
          }
         ],
         "name": "1873"
        },
        {
         "data": [
          {
           "hovertemplate": "Year=1874<br>Temperature=%{r}<br>prep_months=%{theta}<extra></extra>",
           "legendgroup": "1874",
           "line": {
            "color": "#f0f921",
            "dash": "solid"
           },
           "marker": {
            "symbol": "circle"
           },
           "mode": "lines",
           "name": "1874",
           "r": [
            -1.0,
            -0.5,
            3.6,
            9.8,
            9.0,
            16.5,
            20.3,
            15.6,
            15.1,
            7.9,
            0.3,
            -2.1,
            -1.0
           ],
           "showlegend": true,
           "subplot": "polar",
           "theta": [
            30.0,
            60.0,
            90.0,
            120.0,
            150.0,
            180.0,
            210.0,
            240.0,
            270.0,
            300.0,
            330.0,
            360.0,
            30.0
           ],
           "type": "scatterpolar"
          }
         ],
         "name": "1874"
        },
        {
         "data": [
          {
           "hovertemplate": "Year=1875<br>Temperature=%{r}<br>prep_months=%{theta}<extra></extra>",
           "legendgroup": "1875",
           "line": {
            "color": "#fdca26",
            "dash": "solid"
           },
           "marker": {
            "symbol": "circle"
           },
           "mode": "lines",
           "name": "1875",
           "r": [
            1.1,
            -3.7,
            1.7,
            8.4,
            14.6,
            16.5,
            16.4,
            18.8,
            14.9,
            7.3,
            3.2,
            -3.2,
            1.1
           ],
           "showlegend": true,
           "subplot": "polar",
           "theta": [
            30.0,
            60.0,
            90.0,
            120.0,
            150.0,
            180.0,
            210.0,
            240.0,
            270.0,
            300.0,
            330.0,
            360.0,
            30.0
           ],
           "type": "scatterpolar"
          }
         ],
         "name": "1875"
        },
        {
         "data": [
          {
           "hovertemplate": "Year=1876<br>Temperature=%{r}<br>prep_months=%{theta}<extra></extra>",
           "legendgroup": "1876",
           "line": {
            "color": "#fb9f3a",
            "dash": "solid"
           },
           "marker": {
            "symbol": "circle"
           },
           "mode": "lines",
           "name": "1876",
           "r": [
            -3.2,
            1.5,
            3.9,
            8.0,
            9.1,
            15.5,
            18.9,
            18.1,
            12.5,
            10.5,
            1.9,
            3.4,
            -3.2
           ],
           "showlegend": true,
           "subplot": "polar",
           "theta": [
            30.0,
            60.0,
            90.0,
            120.0,
            150.0,
            180.0,
            210.0,
            240.0,
            270.0,
            300.0,
            330.0,
            360.0,
            30.0
           ],
           "type": "scatterpolar"
          }
         ],
         "name": "1876"
        },
        {
         "data": [
          {
           "hovertemplate": "Year=1877<br>Temperature=%{r}<br>prep_months=%{theta}<extra></extra>",
           "legendgroup": "1877",
           "line": {
            "color": "#ed7953",
            "dash": "solid"
           },
           "marker": {
            "symbol": "circle"
           },
           "mode": "lines",
           "name": "1877",
           "r": [
            2.0,
            3.0,
            2.3,
            7.3,
            9.8,
            18.9,
            16.9,
            18.1,
            11.1,
            6.3,
            5.2,
            0.5,
            2.0
           ],
           "showlegend": true,
           "subplot": "polar",
           "theta": [
            30.0,
            60.0,
            90.0,
            120.0,
            150.0,
            180.0,
            210.0,
            240.0,
            270.0,
            300.0,
            330.0,
            360.0,
            30.0
           ],
           "type": "scatterpolar"
          }
         ],
         "name": "1877"
        },
        {
         "data": [
          {
           "hovertemplate": "Year=1878<br>Temperature=%{r}<br>prep_months=%{theta}<extra></extra>",
           "legendgroup": "1878",
           "line": {
            "color": "#d8576b",
            "dash": "solid"
           },
           "marker": {
            "symbol": "circle"
           },
           "mode": "lines",
           "name": "1878",
           "r": [
            -2.9,
            0.3,
            2.6,
            8.0,
            13.4,
            15.2,
            16.8,
            16.9,
            13.4,
            9.2,
            1.5,
            -3.0,
            -2.9
           ],
           "showlegend": true,
           "subplot": "polar",
           "theta": [
            30.0,
            60.0,
            90.0,
            120.0,
            150.0,
            180.0,
            210.0,
            240.0,
            270.0,
            300.0,
            330.0,
            360.0,
            30.0
           ],
           "type": "scatterpolar"
          }
         ],
         "name": "1878"
        },
        {
         "data": [
          {
           "hovertemplate": "Year=1879<br>Temperature=%{r}<br>prep_months=%{theta}<extra></extra>",
           "legendgroup": "1879",
           "line": {
            "color": "#bd3786",
            "dash": "solid"
           },
           "marker": {
            "symbol": "circle"
           },
           "mode": "lines",
           "name": "1879",
           "r": [
            -1.6,
            1.2,
            3.9,
            6.0,
            8.1,
            16.0,
            14.9,
            18.4,
            13.5,
            6.8,
            -0.3,
            -9.0,
            -1.6
           ],
           "showlegend": true,
           "subplot": "polar",
           "theta": [
            30.0,
            60.0,
            90.0,
            120.0,
            150.0,
            180.0,
            210.0,
            240.0,
            270.0,
            300.0,
            330.0,
            360.0,
            30.0
           ],
           "type": "scatterpolar"
          }
         ],
         "name": "1879"
        },
        {
         "data": [
          {
           "hovertemplate": "Year=1880<br>Temperature=%{r}<br>prep_months=%{theta}<extra></extra>",
           "legendgroup": "1880",
           "line": {
            "color": "#9c179e",
            "dash": "solid"
           },
           "marker": {
            "symbol": "circle"
           },
           "mode": "lines",
           "name": "1880",
           "r": [
            -5.7,
            -0.1,
            6.3,
            8.3,
            11.0,
            14.7,
            18.7,
            16.2,
            14.1,
            8.4,
            4.2,
            4.6,
            -5.7
           ],
           "showlegend": true,
           "subplot": "polar",
           "theta": [
            30.0,
            60.0,
            90.0,
            120.0,
            150.0,
            180.0,
            210.0,
            240.0,
            270.0,
            300.0,
            330.0,
            360.0,
            30.0
           ],
           "type": "scatterpolar"
          }
         ],
         "name": "1880"
        },
        {
         "data": [
          {
           "hovertemplate": "Year=1881<br>Temperature=%{r}<br>prep_months=%{theta}<extra></extra>",
           "legendgroup": "1881",
           "line": {
            "color": "#7201a8",
            "dash": "solid"
           },
           "marker": {
            "symbol": "circle"
           },
           "mode": "lines",
           "name": "1881",
           "r": [
            -3.9,
            1.4,
            4.9,
            6.9,
            11.3,
            15.2,
            20.3,
            17.2,
            12.0,
            4.9,
            4.6,
            -0.3,
            -3.9
           ],
           "showlegend": true,
           "subplot": "polar",
           "theta": [
            30.0,
            60.0,
            90.0,
            120.0,
            150.0,
            180.0,
            210.0,
            240.0,
            270.0,
            300.0,
            330.0,
            360.0,
            30.0
           ],
           "type": "scatterpolar"
          }
         ],
         "name": "1881"
        },
        {
         "data": [
          {
           "hovertemplate": "Year=1882<br>Temperature=%{r}<br>prep_months=%{theta}<extra></extra>",
           "legendgroup": "1882",
           "line": {
            "color": "#46039f",
            "dash": "solid"
           },
           "marker": {
            "symbol": "circle"
           },
           "mode": "lines",
           "name": "1882",
           "r": [
            -1.5,
            0.3,
            6.0,
            7.9,
            12.7,
            14.7,
            15.8,
            15.1,
            12.0,
            9.3,
            4.6,
            0.8,
            -1.5
           ],
           "showlegend": true,
           "subplot": "polar",
           "theta": [
            30.0,
            60.0,
            90.0,
            120.0,
            150.0,
            180.0,
            210.0,
            240.0,
            270.0,
            300.0,
            330.0,
            360.0,
            30.0
           ],
           "type": "scatterpolar"
          }
         ],
         "name": "1882"
        },
        {
         "data": [
          {
           "hovertemplate": "Year=1883<br>Temperature=%{r}<br>prep_months=%{theta}<extra></extra>",
           "legendgroup": "1883",
           "line": {
            "color": "#0d0887",
            "dash": "solid"
           },
           "marker": {
            "symbol": "circle"
           },
           "mode": "lines",
           "name": "1883",
           "r": [
            0.0,
            2.4,
            -0.3,
            7.2,
            12.6,
            15.0,
            16.1,
            16.1,
            12.9,
            7.2,
            4.0,
            -0.3,
            0.0
           ],
           "showlegend": true,
           "subplot": "polar",
           "theta": [
            30.0,
            60.0,
            90.0,
            120.0,
            150.0,
            180.0,
            210.0,
            240.0,
            270.0,
            300.0,
            330.0,
            360.0,
            30.0
           ],
           "type": "scatterpolar"
          }
         ],
         "name": "1883"
        },
        {
         "data": [
          {
           "hovertemplate": "Year=1884<br>Temperature=%{r}<br>prep_months=%{theta}<extra></extra>",
           "legendgroup": "1884",
           "line": {
            "color": "#f0f921",
            "dash": "solid"
           },
           "marker": {
            "symbol": "circle"
           },
           "mode": "lines",
           "name": "1884",
           "r": [
            1.6,
            1.8,
            5.2,
            6.9,
            13.4,
            12.5,
            18.4,
            17.4,
            13.5,
            7.8,
            1.4,
            0.4,
            1.6
           ],
           "showlegend": true,
           "subplot": "polar",
           "theta": [
            30.0,
            60.0,
            90.0,
            120.0,
            150.0,
            180.0,
            210.0,
            240.0,
            270.0,
            300.0,
            330.0,
            360.0,
            30.0
           ],
           "type": "scatterpolar"
          }
         ],
         "name": "1884"
        },
        {
         "data": [
          {
           "hovertemplate": "Year=1885<br>Temperature=%{r}<br>prep_months=%{theta}<extra></extra>",
           "legendgroup": "1885",
           "line": {
            "color": "#fdca26",
            "dash": "solid"
           },
           "marker": {
            "symbol": "circle"
           },
           "mode": "lines",
           "name": "1885",
           "r": [
            -4.4,
            3.3,
            3.1,
            9.0,
            9.6,
            17.6,
            18.4,
            16.4,
            12.6,
            6.8,
            3.9,
            -0.5,
            -4.4
           ],
           "showlegend": true,
           "subplot": "polar",
           "theta": [
            30.0,
            60.0,
            90.0,
            120.0,
            150.0,
            180.0,
            210.0,
            240.0,
            270.0,
            300.0,
            330.0,
            360.0,
            30.0
           ],
           "type": "scatterpolar"
          }
         ],
         "name": "1885"
        },
        {
         "data": [
          {
           "hovertemplate": "Year=1886<br>Temperature=%{r}<br>prep_months=%{theta}<extra></extra>",
           "legendgroup": "1886",
           "line": {
            "color": "#fb9f3a",
            "dash": "solid"
           },
           "marker": {
            "symbol": "circle"
           },
           "mode": "lines",
           "name": "1886",
           "r": [
            -2.0,
            -2.8,
            2.1,
            9.3,
            12.6,
            13.7,
            17.6,
            16.9,
            15.5,
            9.4,
            4.1,
            0.7,
            -2.0
           ],
           "showlegend": true,
           "subplot": "polar",
           "theta": [
            30.0,
            60.0,
            90.0,
            120.0,
            150.0,
            180.0,
            210.0,
            240.0,
            270.0,
            300.0,
            330.0,
            360.0,
            30.0
           ],
           "type": "scatterpolar"
          }
         ],
         "name": "1886"
        },
        {
         "data": [
          {
           "hovertemplate": "Year=1887<br>Temperature=%{r}<br>prep_months=%{theta}<extra></extra>",
           "legendgroup": "1887",
           "line": {
            "color": "#ed7953",
            "dash": "solid"
           },
           "marker": {
            "symbol": "circle"
           },
           "mode": "lines",
           "name": "1887",
           "r": [
            -4.3,
            -2.1,
            0.5,
            7.6,
            9.3,
            17.1,
            19.3,
            16.4,
            11.7,
            4.6,
            1.9,
            -1.6,
            -4.3
           ],
           "showlegend": true,
           "subplot": "polar",
           "theta": [
            30.0,
            60.0,
            90.0,
            120.0,
            150.0,
            180.0,
            210.0,
            240.0,
            270.0,
            300.0,
            330.0,
            360.0,
            30.0
           ],
           "type": "scatterpolar"
          }
         ],
         "name": "1887"
        },
        {
         "data": [
          {
           "hovertemplate": "Year=1888<br>Temperature=%{r}<br>prep_months=%{theta}<extra></extra>",
           "legendgroup": "1888",
           "line": {
            "color": "#d8576b",
            "dash": "solid"
           },
           "marker": {
            "symbol": "circle"
           },
           "mode": "lines",
           "name": "1888",
           "r": [
            -3.4,
            -1.5,
            2.4,
            5.8,
            13.5,
            15.9,
            15.0,
            15.4,
            13.4,
            5.4,
            3.9,
            -1.5,
            -3.4
           ],
           "showlegend": true,
           "subplot": "polar",
           "theta": [
            30.0,
            60.0,
            90.0,
            120.0,
            150.0,
            180.0,
            210.0,
            240.0,
            270.0,
            300.0,
            330.0,
            360.0,
            30.0
           ],
           "type": "scatterpolar"
          }
         ],
         "name": "1888"
        },
        {
         "data": [
          {
           "hovertemplate": "Year=1889<br>Temperature=%{r}<br>prep_months=%{theta}<extra></extra>",
           "legendgroup": "1889",
           "line": {
            "color": "#bd3786",
            "dash": "solid"
           },
           "marker": {
            "symbol": "circle"
           },
           "mode": "lines",
           "name": "1889",
           "r": [
            -2.8,
            -1.9,
            0.9,
            6.6,
            13.8,
            16.9,
            16.8,
            15.6,
            11.7,
            7.5,
            2.6,
            -2.6,
            -2.8
           ],
           "showlegend": true,
           "subplot": "polar",
           "theta": [
            30.0,
            60.0,
            90.0,
            120.0,
            150.0,
            180.0,
            210.0,
            240.0,
            270.0,
            300.0,
            330.0,
            360.0,
            30.0
           ],
           "type": "scatterpolar"
          }
         ],
         "name": "1889"
        },
        {
         "data": [
          {
           "hovertemplate": "Year=1890<br>Temperature=%{r}<br>prep_months=%{theta}<extra></extra>",
           "legendgroup": "1890",
           "line": {
            "color": "#9c179e",
            "dash": "solid"
           },
           "marker": {
            "symbol": "circle"
           },
           "mode": "lines",
           "name": "1890",
           "r": [
            0.4,
            -3.8,
            3.5,
            7.1,
            13.5,
            14.5,
            15.6,
            16.0,
            12.3,
            5.9,
            2.8,
            -5.8,
            0.4
           ],
           "showlegend": true,
           "subplot": "polar",
           "theta": [
            30.0,
            60.0,
            90.0,
            120.0,
            150.0,
            180.0,
            210.0,
            240.0,
            270.0,
            300.0,
            330.0,
            360.0,
            30.0
           ],
           "type": "scatterpolar"
          }
         ],
         "name": "1890"
        },
        {
         "data": [
          {
           "hovertemplate": "Year=1891<br>Temperature=%{r}<br>prep_months=%{theta}<extra></extra>",
           "legendgroup": "1891",
           "line": {
            "color": "#7201a8",
            "dash": "solid"
           },
           "marker": {
            "symbol": "circle"
           },
           "mode": "lines",
           "name": "1891",
           "r": [
            -6.1,
            -3.0,
            2.9,
            5.5,
            11.8,
            15.6,
            15.9,
            15.4,
            13.6,
            8.9,
            2.2,
            0.8,
            -6.1
           ],
           "showlegend": true,
           "subplot": "polar",
           "theta": [
            30.0,
            60.0,
            90.0,
            120.0,
            150.0,
            180.0,
            210.0,
            240.0,
            270.0,
            300.0,
            330.0,
            360.0,
            30.0
           ],
           "type": "scatterpolar"
          }
         ],
         "name": "1891"
        },
        {
         "data": [
          {
           "hovertemplate": "Year=1892<br>Temperature=%{r}<br>prep_months=%{theta}<extra></extra>",
           "legendgroup": "1892",
           "line": {
            "color": "#46039f",
            "dash": "solid"
           },
           "marker": {
            "symbol": "circle"
           },
           "mode": "lines",
           "name": "1892",
           "r": [
            -1.9,
            1.1,
            0.6,
            7.8,
            12.6,
            15.8,
            17.0,
            18.3,
            13.9,
            7.7,
            5.1,
            -2.1,
            -1.9
           ],
           "showlegend": true,
           "subplot": "polar",
           "theta": [
            30.0,
            60.0,
            90.0,
            120.0,
            150.0,
            180.0,
            210.0,
            240.0,
            270.0,
            300.0,
            330.0,
            360.0,
            30.0
           ],
           "type": "scatterpolar"
          }
         ],
         "name": "1892"
        },
        {
         "data": [
          {
           "hovertemplate": "Year=1893<br>Temperature=%{r}<br>prep_months=%{theta}<extra></extra>",
           "legendgroup": "1893",
           "line": {
            "color": "#0d0887",
            "dash": "solid"
           },
           "marker": {
            "symbol": "circle"
           },
           "mode": "lines",
           "name": "1893",
           "r": [
            -6.6,
            1.6,
            5.1,
            11.4,
            12.2,
            15.8,
            17.3,
            18.0,
            13.7,
            9.4,
            2.2,
            -1.2,
            -6.6
           ],
           "showlegend": true,
           "subplot": "polar",
           "theta": [
            30.0,
            60.0,
            90.0,
            120.0,
            150.0,
            180.0,
            210.0,
            240.0,
            270.0,
            300.0,
            330.0,
            360.0,
            30.0
           ],
           "type": "scatterpolar"
          }
         ],
         "name": "1893"
        },
        {
         "data": [
          {
           "hovertemplate": "Year=1894<br>Temperature=%{r}<br>prep_months=%{theta}<extra></extra>",
           "legendgroup": "1894",
           "line": {
            "color": "#f0f921",
            "dash": "solid"
           },
           "marker": {
            "symbol": "circle"
           },
           "mode": "lines",
           "name": "1894",
           "r": [
            -2.8,
            0.6,
            4.6,
            10.2,
            11.2,
            14.9,
            17.8,
            16.1,
            11.8,
            8.6,
            3.8,
            -1.1,
            -2.8
           ],
           "showlegend": true,
           "subplot": "polar",
           "theta": [
            30.0,
            60.0,
            90.0,
            120.0,
            150.0,
            180.0,
            210.0,
            240.0,
            270.0,
            300.0,
            330.0,
            360.0,
            30.0
           ],
           "type": "scatterpolar"
          }
         ],
         "name": "1894"
        },
        {
         "data": [
          {
           "hovertemplate": "Year=1895<br>Temperature=%{r}<br>prep_months=%{theta}<extra></extra>",
           "legendgroup": "1895",
           "line": {
            "color": "#fdca26",
            "dash": "solid"
           },
           "marker": {
            "symbol": "circle"
           },
           "mode": "lines",
           "name": "1895",
           "r": [
            -5.2,
            -7.7,
            1.6,
            9.0,
            11.8,
            15.6,
            18.1,
            16.9,
            16.6,
            7.4,
            5.9,
            1.3,
            -5.2
           ],
           "showlegend": true,
           "subplot": "polar",
           "theta": [
            30.0,
            60.0,
            90.0,
            120.0,
            150.0,
            180.0,
            210.0,
            240.0,
            270.0,
            300.0,
            330.0,
            360.0,
            30.0
           ],
           "type": "scatterpolar"
          }
         ],
         "name": "1895"
        },
        {
         "data": [
          {
           "hovertemplate": "Year=1896<br>Temperature=%{r}<br>prep_months=%{theta}<extra></extra>",
           "legendgroup": "1896",
           "line": {
            "color": "#fb9f3a",
            "dash": "solid"
           },
           "marker": {
            "symbol": "circle"
           },
           "mode": "lines",
           "name": "1896",
           "r": [
            -2.2,
            -2.1,
            6.3,
            5.5,
            10.5,
            15.9,
            17.5,
            14.4,
            13.1,
            7.3,
            1.5,
            -0.3,
            -2.2
           ],
           "showlegend": true,
           "subplot": "polar",
           "theta": [
            30.0,
            60.0,
            90.0,
            120.0,
            150.0,
            180.0,
            210.0,
            240.0,
            270.0,
            300.0,
            330.0,
            360.0,
            30.0
           ],
           "type": "scatterpolar"
          }
         ],
         "name": "1896"
        },
        {
         "data": [
          {
           "hovertemplate": "Year=1897<br>Temperature=%{r}<br>prep_months=%{theta}<extra></extra>",
           "legendgroup": "1897",
           "line": {
            "color": "#ed7953",
            "dash": "solid"
           },
           "marker": {
            "symbol": "circle"
           },
           "mode": "lines",
           "name": "1897",
           "r": [
            -2.3,
            3.8,
            6.3,
            7.8,
            10.1,
            17.7,
            17.9,
            16.9,
            12.3,
            6.8,
            2.7,
            -0.6,
            -2.3
           ],
           "showlegend": true,
           "subplot": "polar",
           "theta": [
            30.0,
            60.0,
            90.0,
            120.0,
            150.0,
            180.0,
            210.0,
            240.0,
            270.0,
            300.0,
            330.0,
            360.0,
            30.0
           ],
           "type": "scatterpolar"
          }
         ],
         "name": "1897"
        },
        {
         "data": [
          {
           "hovertemplate": "Year=1898<br>Temperature=%{r}<br>prep_months=%{theta}<extra></extra>",
           "legendgroup": "1898",
           "line": {
            "color": "#d8576b",
            "dash": "solid"
           },
           "marker": {
            "symbol": "circle"
           },
           "mode": "lines",
           "name": "1898",
           "r": [
            0.4,
            0.5,
            3.0,
            8.1,
            11.3,
            14.5,
            16.3,
            18.6,
            15.0,
            10.1,
            4.8,
            0.6,
            0.4
           ],
           "showlegend": true,
           "subplot": "polar",
           "theta": [
            30.0,
            60.0,
            90.0,
            120.0,
            150.0,
            180.0,
            210.0,
            240.0,
            270.0,
            300.0,
            330.0,
            360.0,
            30.0
           ],
           "type": "scatterpolar"
          }
         ],
         "name": "1898"
        },
        {
         "data": [
          {
           "hovertemplate": "Year=1899<br>Temperature=%{r}<br>prep_months=%{theta}<extra></extra>",
           "legendgroup": "1899",
           "line": {
            "color": "#bd3786",
            "dash": "solid"
           },
           "marker": {
            "symbol": "circle"
           },
           "mode": "lines",
           "name": "1899",
           "r": [
            1.7,
            2.7,
            4.4,
            7.4,
            11.3,
            15.7,
            17.6,
            18.9,
            13.2,
            8.6,
            3.7,
            -2.7,
            1.7
           ],
           "showlegend": true,
           "subplot": "polar",
           "theta": [
            30.0,
            60.0,
            90.0,
            120.0,
            150.0,
            180.0,
            210.0,
            240.0,
            270.0,
            300.0,
            330.0,
            360.0,
            30.0
           ],
           "type": "scatterpolar"
          }
         ],
         "name": "1899"
        },
        {
         "data": [
          {
           "hovertemplate": "Year=1900<br>Temperature=%{r}<br>prep_months=%{theta}<extra></extra>",
           "legendgroup": "1900",
           "line": {
            "color": "#9c179e",
            "dash": "solid"
           },
           "marker": {
            "symbol": "circle"
           },
           "mode": "lines",
           "name": "1900",
           "r": [
            1.0,
            2.6,
            0.2,
            6.9,
            10.8,
            16.8,
            18.7,
            15.9,
            15.0,
            8.8,
            4.3,
            1.9,
            1.0
           ],
           "showlegend": true,
           "subplot": "polar",
           "theta": [
            30.0,
            60.0,
            90.0,
            120.0,
            150.0,
            180.0,
            210.0,
            240.0,
            270.0,
            300.0,
            330.0,
            360.0,
            30.0
           ],
           "type": "scatterpolar"
          }
         ],
         "name": "1900"
        },
        {
         "data": [
          {
           "hovertemplate": "Year=1901<br>Temperature=%{r}<br>prep_months=%{theta}<extra></extra>",
           "legendgroup": "1901",
           "line": {
            "color": "#7201a8",
            "dash": "solid"
           },
           "marker": {
            "symbol": "circle"
           },
           "mode": "lines",
           "name": "1901",
           "r": [
            -2.5,
            -4.8,
            2.3,
            8.2,
            13.1,
            16.2,
            18.1,
            16.0,
            13.5,
            7.9,
            1.1,
            0.5,
            -2.5
           ],
           "showlegend": true,
           "subplot": "polar",
           "theta": [
            30.0,
            60.0,
            90.0,
            120.0,
            150.0,
            180.0,
            210.0,
            240.0,
            270.0,
            300.0,
            330.0,
            360.0,
            30.0
           ],
           "type": "scatterpolar"
          }
         ],
         "name": "1901"
        },
        {
         "data": [
          {
           "hovertemplate": "Year=1902<br>Temperature=%{r}<br>prep_months=%{theta}<extra></extra>",
           "legendgroup": "1902",
           "line": {
            "color": "#46039f",
            "dash": "solid"
           },
           "marker": {
            "symbol": "circle"
           },
           "mode": "lines",
           "name": "1902",
           "r": [
            0.6,
            -0.7,
            4.1,
            9.9,
            8.0,
            14.7,
            17.7,
            16.1,
            13.0,
            7.7,
            2.1,
            -1.3,
            0.6
           ],
           "showlegend": true,
           "subplot": "polar",
           "theta": [
            30.0,
            60.0,
            90.0,
            120.0,
            150.0,
            180.0,
            210.0,
            240.0,
            270.0,
            300.0,
            330.0,
            360.0,
            30.0
           ],
           "type": "scatterpolar"
          }
         ],
         "name": "1902"
        },
        {
         "data": [
          {
           "hovertemplate": "Year=1903<br>Temperature=%{r}<br>prep_months=%{theta}<extra></extra>",
           "legendgroup": "1903",
           "line": {
            "color": "#0d0887",
            "dash": "solid"
           },
           "marker": {
            "symbol": "circle"
           },
           "mode": "lines",
           "name": "1903",
           "r": [
            -1.2,
            2.1,
            5.4,
            4.5,
            12.4,
            14.3,
            16.1,
            16.6,
            13.5,
            9.4,
            3.7,
            -1.5,
            -1.2
           ],
           "showlegend": true,
           "subplot": "polar",
           "theta": [
            30.0,
            60.0,
            90.0,
            120.0,
            150.0,
            180.0,
            210.0,
            240.0,
            270.0,
            300.0,
            330.0,
            360.0,
            30.0
           ],
           "type": "scatterpolar"
          }
         ],
         "name": "1903"
        },
        {
         "data": [
          {
           "hovertemplate": "Year=1904<br>Temperature=%{r}<br>prep_months=%{theta}<extra></extra>",
           "legendgroup": "1904",
           "line": {
            "color": "#f0f921",
            "dash": "solid"
           },
           "marker": {
            "symbol": "circle"
           },
           "mode": "lines",
           "name": "1904",
           "r": [
            -2.3,
            1.2,
            3.7,
            9.6,
            13.3,
            16.4,
            20.0,
            18.2,
            11.6,
            8.4,
            2.2,
            0.9,
            -2.3
           ],
           "showlegend": true,
           "subplot": "polar",
           "theta": [
            30.0,
            60.0,
            90.0,
            120.0,
            150.0,
            180.0,
            210.0,
            240.0,
            270.0,
            300.0,
            330.0,
            360.0,
            30.0
           ],
           "type": "scatterpolar"
          }
         ],
         "name": "1904"
        },
        {
         "data": [
          {
           "hovertemplate": "Year=1905<br>Temperature=%{r}<br>prep_months=%{theta}<extra></extra>",
           "legendgroup": "1905",
           "line": {
            "color": "#fdca26",
            "dash": "solid"
           },
           "marker": {
            "symbol": "circle"
           },
           "mode": "lines",
           "name": "1905",
           "r": [
            -3.2,
            0.7,
            4.7,
            7.9,
            10.8,
            16.5,
            20.0,
            16.8,
            13.4,
            3.8,
            3.0,
            -0.3,
            -3.2
           ],
           "showlegend": true,
           "subplot": "polar",
           "theta": [
            30.0,
            60.0,
            90.0,
            120.0,
            150.0,
            180.0,
            210.0,
            240.0,
            270.0,
            300.0,
            330.0,
            360.0,
            30.0
           ],
           "type": "scatterpolar"
          }
         ],
         "name": "1905"
        },
        {
         "data": [
          {
           "hovertemplate": "Year=1906<br>Temperature=%{r}<br>prep_months=%{theta}<extra></extra>",
           "legendgroup": "1906",
           "line": {
            "color": "#fb9f3a",
            "dash": "solid"
           },
           "marker": {
            "symbol": "circle"
           },
           "mode": "lines",
           "name": "1906",
           "r": [
            -0.1,
            -0.6,
            2.8,
            7.6,
            12.7,
            14.5,
            17.6,
            17.4,
            12.8,
            10.4,
            4.8,
            -2.3,
            -0.1
           ],
           "showlegend": true,
           "subplot": "polar",
           "theta": [
            30.0,
            60.0,
            90.0,
            120.0,
            150.0,
            180.0,
            210.0,
            240.0,
            270.0,
            300.0,
            330.0,
            360.0,
            30.0
           ],
           "type": "scatterpolar"
          }
         ],
         "name": "1906"
        },
        {
         "data": [
          {
           "hovertemplate": "Year=1907<br>Temperature=%{r}<br>prep_months=%{theta}<extra></extra>",
           "legendgroup": "1907",
           "line": {
            "color": "#ed7953",
            "dash": "solid"
           },
           "marker": {
            "symbol": "circle"
           },
           "mode": "lines",
           "name": "1907",
           "r": [
            -1.9,
            -2.5,
            2.7,
            6.2,
            12.9,
            15.2,
            15.4,
            17.3,
            13.7,
            9.4,
            4.2,
            2.2,
            -1.9
           ],
           "showlegend": true,
           "subplot": "polar",
           "theta": [
            30.0,
            60.0,
            90.0,
            120.0,
            150.0,
            180.0,
            210.0,
            240.0,
            270.0,
            300.0,
            330.0,
            360.0,
            30.0
           ],
           "type": "scatterpolar"
          }
         ],
         "name": "1907"
        },
        {
         "data": [
          {
           "hovertemplate": "Year=1908<br>Temperature=%{r}<br>prep_months=%{theta}<extra></extra>",
           "legendgroup": "1908",
           "line": {
            "color": "#d8576b",
            "dash": "solid"
           },
           "marker": {
            "symbol": "circle"
           },
           "mode": "lines",
           "name": "1908",
           "r": [
            -3.7,
            0.2,
            2.6,
            5.4,
            13.8,
            17.8,
            17.1,
            15.3,
            12.3,
            7.9,
            1.6,
            -0.6,
            -3.7
           ],
           "showlegend": true,
           "subplot": "polar",
           "theta": [
            30.0,
            60.0,
            90.0,
            120.0,
            150.0,
            180.0,
            210.0,
            240.0,
            270.0,
            300.0,
            330.0,
            360.0,
            30.0
           ],
           "type": "scatterpolar"
          }
         ],
         "name": "1908"
        },
        {
         "data": [
          {
           "hovertemplate": "Year=1909<br>Temperature=%{r}<br>prep_months=%{theta}<extra></extra>",
           "legendgroup": "1909",
           "line": {
            "color": "#bd3786",
            "dash": "solid"
           },
           "marker": {
            "symbol": "circle"
           },
           "mode": "lines",
           "name": "1909",
           "r": [
            -3.1,
            -2.2,
            1.7,
            9.1,
            11.4,
            13.9,
            15.0,
            16.2,
            12.7,
            9.9,
            2.1,
            1.8,
            -3.1
           ],
           "showlegend": true,
           "subplot": "polar",
           "theta": [
            30.0,
            60.0,
            90.0,
            120.0,
            150.0,
            180.0,
            210.0,
            240.0,
            270.0,
            300.0,
            330.0,
            360.0,
            30.0
           ],
           "type": "scatterpolar"
          }
         ],
         "name": "1909"
        },
        {
         "data": [
          {
           "hovertemplate": "Year=1910<br>Temperature=%{r}<br>prep_months=%{theta}<extra></extra>",
           "legendgroup": "1910",
           "line": {
            "color": "#9c179e",
            "dash": "solid"
           },
           "marker": {
            "symbol": "circle"
           },
           "mode": "lines",
           "name": "1910",
           "r": [
            0.3,
            1.4,
            4.0,
            7.0,
            10.7,
            15.7,
            15.5,
            16.2,
            11.0,
            9.2,
            2.9,
            2.2,
            0.3
           ],
           "showlegend": true,
           "subplot": "polar",
           "theta": [
            30.0,
            60.0,
            90.0,
            120.0,
            150.0,
            180.0,
            210.0,
            240.0,
            270.0,
            300.0,
            330.0,
            360.0,
            30.0
           ],
           "type": "scatterpolar"
          }
         ],
         "name": "1910"
        },
        {
         "data": [
          {
           "hovertemplate": "Year=1911<br>Temperature=%{r}<br>prep_months=%{theta}<extra></extra>",
           "legendgroup": "1911",
           "line": {
            "color": "#7201a8",
            "dash": "solid"
           },
           "marker": {
            "symbol": "circle"
           },
           "mode": "lines",
           "name": "1911",
           "r": [
            -4.3,
            0.5,
            4.2,
            7.1,
            12.5,
            15.0,
            20.3,
            20.4,
            15.5,
            8.6,
            5.3,
            2.4,
            -4.3
           ],
           "showlegend": true,
           "subplot": "polar",
           "theta": [
            30.0,
            60.0,
            90.0,
            120.0,
            150.0,
            180.0,
            210.0,
            240.0,
            270.0,
            300.0,
            330.0,
            360.0,
            30.0
           ],
           "type": "scatterpolar"
          }
         ],
         "name": "1911"
        },
        {
         "data": [
          {
           "hovertemplate": "Year=1912<br>Temperature=%{r}<br>prep_months=%{theta}<extra></extra>",
           "legendgroup": "1912",
           "line": {
            "color": "#46039f",
            "dash": "solid"
           },
           "marker": {
            "symbol": "circle"
           },
           "mode": "lines",
           "name": "1912",
           "r": [
            -0.1,
            3.6,
            6.6,
            7.0,
            12.9,
            15.5,
            16.5,
            13.7,
            8.4,
            6.8,
            1.4,
            0.8,
            -0.1
           ],
           "showlegend": true,
           "subplot": "polar",
           "theta": [
            30.0,
            60.0,
            90.0,
            120.0,
            150.0,
            180.0,
            210.0,
            240.0,
            270.0,
            300.0,
            330.0,
            360.0,
            30.0
           ],
           "type": "scatterpolar"
          }
         ],
         "name": "1912"
        },
        {
         "data": [
          {
           "hovertemplate": "Year=1913<br>Temperature=%{r}<br>prep_months=%{theta}<extra></extra>",
           "legendgroup": "1913",
           "line": {
            "color": "#0d0887",
            "dash": "solid"
           },
           "marker": {
            "symbol": "circle"
           },
           "mode": "lines",
           "name": "1913",
           "r": [
            0.2,
            0.3,
            6.3,
            7.4,
            11.8,
            14.8,
            14.3,
            15.4,
            12.4,
            9.3,
            6.6,
            0.9,
            0.2
           ],
           "showlegend": true,
           "subplot": "polar",
           "theta": [
            30.0,
            60.0,
            90.0,
            120.0,
            150.0,
            180.0,
            210.0,
            240.0,
            270.0,
            300.0,
            330.0,
            360.0,
            30.0
           ],
           "type": "scatterpolar"
          }
         ],
         "name": "1913"
        },
        {
         "data": [
          {
           "hovertemplate": "Year=1914<br>Temperature=%{r}<br>prep_months=%{theta}<extra></extra>",
           "legendgroup": "1914",
           "line": {
            "color": "#f0f921",
            "dash": "solid"
           },
           "marker": {
            "symbol": "circle"
           },
           "mode": "lines",
           "name": "1914",
           "r": [
            -4.5,
            1.3,
            4.7,
            10.1,
            10.0,
            14.1,
            15.9,
            16.6,
            12.6,
            7.8,
            2.5,
            2.6,
            -4.5
           ],
           "showlegend": true,
           "subplot": "polar",
           "theta": [
            30.0,
            60.0,
            90.0,
            120.0,
            150.0,
            180.0,
            210.0,
            240.0,
            270.0,
            300.0,
            330.0,
            360.0,
            30.0
           ],
           "type": "scatterpolar"
          }
         ],
         "name": "1914"
        },
        {
         "data": [
          {
           "hovertemplate": "Year=1915<br>Temperature=%{r}<br>prep_months=%{theta}<extra></extra>",
           "legendgroup": "1915",
           "line": {
            "color": "#fdca26",
            "dash": "solid"
           },
           "marker": {
            "symbol": "circle"
           },
           "mode": "lines",
           "name": "1915",
           "r": [
            0.0,
            0.1,
            2.4,
            6.4,
            14.2,
            17.6,
            16.1,
            15.3,
            11.2,
            6.0,
            1.1,
            4.4,
            0.0
           ],
           "showlegend": true,
           "subplot": "polar",
           "theta": [
            30.0,
            60.0,
            90.0,
            120.0,
            150.0,
            180.0,
            210.0,
            240.0,
            270.0,
            300.0,
            330.0,
            360.0,
            30.0
           ],
           "type": "scatterpolar"
          }
         ],
         "name": "1915"
        },
        {
         "data": [
          {
           "hovertemplate": "Year=1916<br>Temperature=%{r}<br>prep_months=%{theta}<extra></extra>",
           "legendgroup": "1916",
           "line": {
            "color": "#fb9f3a",
            "dash": "solid"
           },
           "marker": {
            "symbol": "circle"
           },
           "mode": "lines",
           "name": "1916",
           "r": [
            3.1,
            1.7,
            4.4,
            7.7,
            13.1,
            12.9,
            16.3,
            16.1,
            11.2,
            8.4,
            3.6,
            1.7,
            3.1
           ],
           "showlegend": true,
           "subplot": "polar",
           "theta": [
            30.0,
            60.0,
            90.0,
            120.0,
            150.0,
            180.0,
            210.0,
            240.0,
            270.0,
            300.0,
            330.0,
            360.0,
            30.0
           ],
           "type": "scatterpolar"
          }
         ],
         "name": "1916"
        },
        {
         "data": [
          {
           "hovertemplate": "Year=1917<br>Temperature=%{r}<br>prep_months=%{theta}<extra></extra>",
           "legendgroup": "1917",
           "line": {
            "color": "#ed7953",
            "dash": "solid"
           },
           "marker": {
            "symbol": "circle"
           },
           "mode": "lines",
           "name": "1917",
           "r": [
            -2.4,
            -2.8,
            1.4,
            4.2,
            15.2,
            17.8,
            16.9,
            16.1,
            15.4,
            7.0,
            3.8,
            -4.4,
            -2.4
           ],
           "showlegend": true,
           "subplot": "polar",
           "theta": [
            30.0,
            60.0,
            90.0,
            120.0,
            150.0,
            180.0,
            210.0,
            240.0,
            270.0,
            300.0,
            330.0,
            360.0,
            30.0
           ],
           "type": "scatterpolar"
          }
         ],
         "name": "1917"
        },
        {
         "data": [
          {
           "hovertemplate": "Year=1918<br>Temperature=%{r}<br>prep_months=%{theta}<extra></extra>",
           "legendgroup": "1918",
           "line": {
            "color": "#d8576b",
            "dash": "solid"
           },
           "marker": {
            "symbol": "circle"
           },
           "mode": "lines",
           "name": "1918",
           "r": [
            -0.6,
            0.3,
            4.0,
            7.7,
            13.6,
            12.9,
            16.9,
            16.5,
            13.3,
            6.6,
            2.9,
            3.3,
            -0.6
           ],
           "showlegend": true,
           "subplot": "polar",
           "theta": [
            30.0,
            60.0,
            90.0,
            120.0,
            150.0,
            180.0,
            210.0,
            240.0,
            270.0,
            300.0,
            330.0,
            360.0,
            30.0
           ],
           "type": "scatterpolar"
          }
         ],
         "name": "1918"
        },
        {
         "data": [
          {
           "hovertemplate": "Year=1919<br>Temperature=%{r}<br>prep_months=%{theta}<extra></extra>",
           "legendgroup": "1919",
           "line": {
            "color": "#bd3786",
            "dash": "solid"
           },
           "marker": {
            "symbol": "circle"
           },
           "mode": "lines",
           "name": "1919",
           "r": [
            0.1,
            -0.9,
            3.7,
            4.5,
            11.9,
            15.8,
            14.3,
            18.4,
            15.2,
            5.3,
            1.8,
            1.3,
            0.1
           ],
           "showlegend": true,
           "subplot": "polar",
           "theta": [
            30.0,
            60.0,
            90.0,
            120.0,
            150.0,
            180.0,
            210.0,
            240.0,
            270.0,
            300.0,
            330.0,
            360.0,
            30.0
           ],
           "type": "scatterpolar"
          }
         ],
         "name": "1919"
        },
        {
         "data": [
          {
           "hovertemplate": "Year=1920<br>Temperature=%{r}<br>prep_months=%{theta}<extra></extra>",
           "legendgroup": "1920",
           "line": {
            "color": "#9c179e",
            "dash": "solid"
           },
           "marker": {
            "symbol": "circle"
           },
           "mode": "lines",
           "name": "1920",
           "r": [
            2.4,
            2.3,
            5.9,
            8.5,
            14.6,
            15.1,
            17.0,
            15.0,
            13.3,
            7.8,
            1.5,
            0.2,
            2.4
           ],
           "showlegend": true,
           "subplot": "polar",
           "theta": [
            30.0,
            60.0,
            90.0,
            120.0,
            150.0,
            180.0,
            210.0,
            240.0,
            270.0,
            300.0,
            330.0,
            360.0,
            30.0
           ],
           "type": "scatterpolar"
          }
         ],
         "name": "1920"
        },
        {
         "data": [
          {
           "hovertemplate": "Year=1921<br>Temperature=%{r}<br>prep_months=%{theta}<extra></extra>",
           "legendgroup": "1921",
           "line": {
            "color": "#7201a8",
            "dash": "solid"
           },
           "marker": {
            "symbol": "circle"
           },
           "mode": "lines",
           "name": "1921",
           "r": [
            3.5,
            0.4,
            5.5,
            6.9,
            13.4,
            15.6,
            19.5,
            16.8,
            14.8,
            10.8,
            0.3,
            0.5,
            3.5
           ],
           "showlegend": true,
           "subplot": "polar",
           "theta": [
            30.0,
            60.0,
            90.0,
            120.0,
            150.0,
            180.0,
            210.0,
            240.0,
            270.0,
            300.0,
            330.0,
            360.0,
            30.0
           ],
           "type": "scatterpolar"
          }
         ],
         "name": "1921"
        },
        {
         "data": [
          {
           "hovertemplate": "Year=1922<br>Temperature=%{r}<br>prep_months=%{theta}<extra></extra>",
           "legendgroup": "1922",
           "line": {
            "color": "#46039f",
            "dash": "solid"
           },
           "marker": {
            "symbol": "circle"
           },
           "mode": "lines",
           "name": "1922",
           "r": [
            -0.9,
            -0.5,
            4.4,
            5.7,
            14.2,
            16.1,
            15.9,
            16.3,
            11.0,
            6.1,
            2.0,
            0.5,
            -0.9
           ],
           "showlegend": true,
           "subplot": "polar",
           "theta": [
            30.0,
            60.0,
            90.0,
            120.0,
            150.0,
            180.0,
            210.0,
            240.0,
            270.0,
            300.0,
            330.0,
            360.0,
            30.0
           ],
           "type": "scatterpolar"
          }
         ],
         "name": "1922"
        },
        {
         "data": [
          {
           "hovertemplate": "Year=1923<br>Temperature=%{r}<br>prep_months=%{theta}<extra></extra>",
           "legendgroup": "1923",
           "line": {
            "color": "#0d0887",
            "dash": "solid"
           },
           "marker": {
            "symbol": "circle"
           },
           "mode": "lines",
           "name": "1923",
           "r": [
            -0.5,
            3.0,
            4.5,
            7.6,
            11.9,
            11.8,
            19.3,
            17.3,
            13.2,
            10.5,
            3.2,
            0.0,
            -0.5
           ],
           "showlegend": true,
           "subplot": "polar",
           "theta": [
            30.0,
            60.0,
            90.0,
            120.0,
            150.0,
            180.0,
            210.0,
            240.0,
            270.0,
            300.0,
            330.0,
            360.0,
            30.0
           ],
           "type": "scatterpolar"
          }
         ],
         "name": "1923"
        },
        {
         "data": [
          {
           "hovertemplate": "Year=1924<br>Temperature=%{r}<br>prep_months=%{theta}<extra></extra>",
           "legendgroup": "1924",
           "line": {
            "color": "#f0f921",
            "dash": "solid"
           },
           "marker": {
            "symbol": "circle"
           },
           "mode": "lines",
           "name": "1924",
           "r": [
            -2.3,
            -2.4,
            3.4,
            7.7,
            13.2,
            14.8,
            16.8,
            13.7,
            13.3,
            9.1,
            3.2,
            0.1,
            -2.3
           ],
           "showlegend": true,
           "subplot": "polar",
           "theta": [
            30.0,
            60.0,
            90.0,
            120.0,
            150.0,
            180.0,
            210.0,
            240.0,
            270.0,
            300.0,
            330.0,
            360.0,
            30.0
           ],
           "type": "scatterpolar"
          }
         ],
         "name": "1924"
        },
        {
         "data": [
          {
           "hovertemplate": "Year=1925<br>Temperature=%{r}<br>prep_months=%{theta}<extra></extra>",
           "legendgroup": "1925",
           "line": {
            "color": "#fdca26",
            "dash": "solid"
           },
           "marker": {
            "symbol": "circle"
           },
           "mode": "lines",
           "name": "1925",
           "r": [
            1.3,
            3.1,
            1.0,
            7.9,
            12.5,
            16.0,
            16.9,
            16.1,
            10.9,
            8.9,
            1.9,
            0.5,
            1.3
           ],
           "showlegend": true,
           "subplot": "polar",
           "theta": [
            30.0,
            60.0,
            90.0,
            120.0,
            150.0,
            180.0,
            210.0,
            240.0,
            270.0,
            300.0,
            330.0,
            360.0,
            30.0
           ],
           "type": "scatterpolar"
          }
         ],
         "name": "1925"
        },
        {
         "data": [
          {
           "hovertemplate": "Year=1926<br>Temperature=%{r}<br>prep_months=%{theta}<extra></extra>",
           "legendgroup": "1926",
           "line": {
            "color": "#fb9f3a",
            "dash": "solid"
           },
           "marker": {
            "symbol": "circle"
           },
           "mode": "lines",
           "name": "1926",
           "r": [
            -0.2,
            4.7,
            4.5,
            9.6,
            10.4,
            13.0,
            16.6,
            16.6,
            15.4,
            9.0,
            5.0,
            -1.0,
            -0.2
           ],
           "showlegend": true,
           "subplot": "polar",
           "theta": [
            30.0,
            60.0,
            90.0,
            120.0,
            150.0,
            180.0,
            210.0,
            240.0,
            270.0,
            300.0,
            330.0,
            360.0,
            30.0
           ],
           "type": "scatterpolar"
          }
         ],
         "name": "1926"
        },
        {
         "data": [
          {
           "hovertemplate": "Year=1927<br>Temperature=%{r}<br>prep_months=%{theta}<extra></extra>",
           "legendgroup": "1927",
           "line": {
            "color": "#ed7953",
            "dash": "solid"
           },
           "marker": {
            "symbol": "circle"
           },
           "mode": "lines",
           "name": "1927",
           "r": [
            0.4,
            -0.2,
            4.9,
            8.3,
            12.8,
            15.3,
            17.4,
            15.9,
            13.4,
            8.1,
            3.7,
            -1.0,
            0.4
           ],
           "showlegend": true,
           "subplot": "polar",
           "theta": [
            30.0,
            60.0,
            90.0,
            120.0,
            150.0,
            180.0,
            210.0,
            240.0,
            270.0,
            300.0,
            330.0,
            360.0,
            30.0
           ],
           "type": "scatterpolar"
          }
         ],
         "name": "1927"
        },
        {
         "data": [
          {
           "hovertemplate": "Year=1928<br>Temperature=%{r}<br>prep_months=%{theta}<extra></extra>",
           "legendgroup": "1928",
           "line": {
            "color": "#d8576b",
            "dash": "solid"
           },
           "marker": {
            "symbol": "circle"
           },
           "mode": "lines",
           "name": "1928",
           "r": [
            1.9,
            2.6,
            4.3,
            7.9,
            9.9,
            15.7,
            20.6,
            17.9,
            13.2,
            8.4,
            5.4,
            0.1,
            1.9
           ],
           "showlegend": true,
           "subplot": "polar",
           "theta": [
            30.0,
            60.0,
            90.0,
            120.0,
            150.0,
            180.0,
            210.0,
            240.0,
            270.0,
            300.0,
            330.0,
            360.0,
            30.0
           ],
           "type": "scatterpolar"
          }
         ],
         "name": "1928"
        },
        {
         "data": [
          {
           "hovertemplate": "Year=1929<br>Temperature=%{r}<br>prep_months=%{theta}<extra></extra>",
           "legendgroup": "1929",
           "line": {
            "color": "#bd3786",
            "dash": "solid"
           },
           "marker": {
            "symbol": "circle"
           },
           "mode": "lines",
           "name": "1929",
           "r": [
            -5.1,
            -7.4,
            3.6,
            5.4,
            12.9,
            16.4,
            18.3,
            16.9,
            16.4,
            9.6,
            4.0,
            3.3,
            -5.1
           ],
           "showlegend": true,
           "subplot": "polar",
           "theta": [
            30.0,
            60.0,
            90.0,
            120.0,
            150.0,
            180.0,
            210.0,
            240.0,
            270.0,
            300.0,
            330.0,
            360.0,
            30.0
           ],
           "type": "scatterpolar"
          }
         ],
         "name": "1929"
        },
        {
         "data": [
          {
           "hovertemplate": "Year=1930<br>Temperature=%{r}<br>prep_months=%{theta}<extra></extra>",
           "legendgroup": "1930",
           "line": {
            "color": "#9c179e",
            "dash": "solid"
           },
           "marker": {
            "symbol": "circle"
           },
           "mode": "lines",
           "name": "1930",
           "r": [
            1.2,
            -0.3,
            4.9,
            8.7,
            11.0,
            18.2,
            15.9,
            16.3,
            13.9,
            8.5,
            6.4,
            1.0,
            1.2
           ],
           "showlegend": true,
           "subplot": "polar",
           "theta": [
            30.0,
            60.0,
            90.0,
            120.0,
            150.0,
            180.0,
            210.0,
            240.0,
            270.0,
            300.0,
            330.0,
            360.0,
            30.0
           ],
           "type": "scatterpolar"
          }
         ],
         "name": "1930"
        },
        {
         "data": [
          {
           "hovertemplate": "Year=1931<br>Temperature=%{r}<br>prep_months=%{theta}<extra></extra>",
           "legendgroup": "1931",
           "line": {
            "color": "#7201a8",
            "dash": "solid"
           },
           "marker": {
            "symbol": "circle"
           },
           "mode": "lines",
           "name": "1931",
           "r": [
            -0.3,
            -1.2,
            0.5,
            6.8,
            14.5,
            17.4,
            16.3,
            14.9,
            9.2,
            7.3,
            4.6,
            -0.9,
            -0.3
           ],
           "showlegend": true,
           "subplot": "polar",
           "theta": [
            30.0,
            60.0,
            90.0,
            120.0,
            150.0,
            180.0,
            210.0,
            240.0,
            270.0,
            300.0,
            330.0,
            360.0,
            30.0
           ],
           "type": "scatterpolar"
          }
         ],
         "name": "1931"
        },
        {
         "data": [
          {
           "hovertemplate": "Year=1932<br>Temperature=%{r}<br>prep_months=%{theta}<extra></extra>",
           "legendgroup": "1932",
           "line": {
            "color": "#46039f",
            "dash": "solid"
           },
           "marker": {
            "symbol": "circle"
           },
           "mode": "lines",
           "name": "1932",
           "r": [
            -0.2,
            -3.6,
            1.4,
            6.6,
            11.2,
            14.4,
            16.2,
            18.8,
            16.2,
            8.8,
            4.3,
            -0.2,
            -0.2
           ],
           "showlegend": true,
           "subplot": "polar",
           "theta": [
            30.0,
            60.0,
            90.0,
            120.0,
            150.0,
            180.0,
            210.0,
            240.0,
            270.0,
            300.0,
            330.0,
            360.0,
            30.0
           ],
           "type": "scatterpolar"
          }
         ],
         "name": "1932"
        },
        {
         "data": [
          {
           "hovertemplate": "Year=1933<br>Temperature=%{r}<br>prep_months=%{theta}<extra></extra>",
           "legendgroup": "1933",
           "line": {
            "color": "#0d0887",
            "dash": "solid"
           },
           "marker": {
            "symbol": "circle"
           },
           "mode": "lines",
           "name": "1933",
           "r": [
            -3.3,
            0.2,
            4.9,
            8.3,
            10.5,
            12.9,
            18.2,
            18.2,
            14.0,
            9.0,
            2.6,
            -4.4,
            -3.3
           ],
           "showlegend": true,
           "subplot": "polar",
           "theta": [
            30.0,
            60.0,
            90.0,
            120.0,
            150.0,
            180.0,
            210.0,
            240.0,
            270.0,
            300.0,
            330.0,
            360.0,
            30.0
           ],
           "type": "scatterpolar"
          }
         ],
         "name": "1933"
        },
        {
         "data": [
          {
           "hovertemplate": "Year=1934<br>Temperature=%{r}<br>prep_months=%{theta}<extra></extra>",
           "legendgroup": "1934",
           "line": {
            "color": "#f0f921",
            "dash": "solid"
           },
           "marker": {
            "symbol": "circle"
           },
           "mode": "lines",
           "name": "1934",
           "r": [
            -0.9,
            -0.5,
            3.7,
            10.8,
            14.2,
            15.7,
            18.2,
            15.7,
            15.1,
            8.7,
            2.3,
            3.9,
            -0.9
           ],
           "showlegend": true,
           "subplot": "polar",
           "theta": [
            30.0,
            60.0,
            90.0,
            120.0,
            150.0,
            180.0,
            210.0,
            240.0,
            270.0,
            300.0,
            330.0,
            360.0,
            30.0
           ],
           "type": "scatterpolar"
          }
         ],
         "name": "1934"
        },
        {
         "data": [
          {
           "hovertemplate": "Year=1935<br>Temperature=%{r}<br>prep_months=%{theta}<extra></extra>",
           "legendgroup": "1935",
           "line": {
            "color": "#fdca26",
            "dash": "solid"
           },
           "marker": {
            "symbol": "circle"
           },
           "mode": "lines",
           "name": "1935",
           "r": [
            -2.3,
            1.6,
            2.8,
            6.7,
            10.7,
            17.5,
            18.9,
            16.0,
            14.1,
            8.4,
            4.7,
            -1.0,
            -2.3
           ],
           "showlegend": true,
           "subplot": "polar",
           "theta": [
            30.0,
            60.0,
            90.0,
            120.0,
            150.0,
            180.0,
            210.0,
            240.0,
            270.0,
            300.0,
            330.0,
            360.0,
            30.0
           ],
           "type": "scatterpolar"
          }
         ],
         "name": "1935"
        },
        {
         "data": [
          {
           "hovertemplate": "Year=1936<br>Temperature=%{r}<br>prep_months=%{theta}<extra></extra>",
           "legendgroup": "1936",
           "line": {
            "color": "#fb9f3a",
            "dash": "solid"
           },
           "marker": {
            "symbol": "circle"
           },
           "mode": "lines",
           "name": "1936",
           "r": [
            3.5,
            0.9,
            5.8,
            7.2,
            12.6,
            15.0,
            16.0,
            16.2,
            13.3,
            5.6,
            3.8,
            1.4,
            3.5
           ],
           "showlegend": true,
           "subplot": "polar",
           "theta": [
            30.0,
            60.0,
            90.0,
            120.0,
            150.0,
            180.0,
            210.0,
            240.0,
            270.0,
            300.0,
            330.0,
            360.0,
            30.0
           ],
           "type": "scatterpolar"
          }
         ],
         "name": "1936"
        },
        {
         "data": [
          {
           "hovertemplate": "Year=1937<br>Temperature=%{r}<br>prep_months=%{theta}<extra></extra>",
           "legendgroup": "1937",
           "line": {
            "color": "#ed7953",
            "dash": "solid"
           },
           "marker": {
            "symbol": "circle"
           },
           "mode": "lines",
           "name": "1937",
           "r": [
            0.7,
            3.2,
            3.0,
            7.7,
            14.2,
            16.6,
            17.5,
            16.9,
            12.7,
            8.5,
            3.2,
            -0.5,
            0.7
           ],
           "showlegend": true,
           "subplot": "polar",
           "theta": [
            30.0,
            60.0,
            90.0,
            120.0,
            150.0,
            180.0,
            210.0,
            240.0,
            270.0,
            300.0,
            330.0,
            360.0,
            30.0
           ],
           "type": "scatterpolar"
          }
         ],
         "name": "1937"
        },
        {
         "data": [
          {
           "hovertemplate": "Year=1938<br>Temperature=%{r}<br>prep_months=%{theta}<extra></extra>",
           "legendgroup": "1938",
           "line": {
            "color": "#d8576b",
            "dash": "solid"
           },
           "marker": {
            "symbol": "circle"
           },
           "mode": "lines",
           "name": "1938",
           "r": [
            0.8,
            0.0,
            7.0,
            5.2,
            10.4,
            16.6,
            16.3,
            16.5,
            13.9,
            8.6,
            5.7,
            -2.3,
            0.8
           ],
           "showlegend": true,
           "subplot": "polar",
           "theta": [
            30.0,
            60.0,
            90.0,
            120.0,
            150.0,
            180.0,
            210.0,
            240.0,
            270.0,
            300.0,
            330.0,
            360.0,
            30.0
           ],
           "type": "scatterpolar"
          }
         ],
         "name": "1938"
        },
        {
         "data": [
          {
           "hovertemplate": "Year=1939<br>Temperature=%{r}<br>prep_months=%{theta}<extra></extra>",
           "legendgroup": "1939",
           "line": {
            "color": "#bd3786",
            "dash": "solid"
           },
           "marker": {
            "symbol": "circle"
           },
           "mode": "lines",
           "name": "1939",
           "r": [
            1.5,
            0.8,
            1.4,
            9.4,
            9.0,
            15.6,
            16.2,
            17.0,
            12.5,
            7.1,
            5.6,
            -1.3,
            1.5
           ],
           "showlegend": true,
           "subplot": "polar",
           "theta": [
            30.0,
            60.0,
            90.0,
            120.0,
            150.0,
            180.0,
            210.0,
            240.0,
            270.0,
            300.0,
            330.0,
            360.0,
            30.0
           ],
           "type": "scatterpolar"
          }
         ],
         "name": "1939"
        },
        {
         "data": [
          {
           "hovertemplate": "Year=1940<br>Temperature=%{r}<br>prep_months=%{theta}<extra></extra>",
           "legendgroup": "1940",
           "line": {
            "color": "#9c179e",
            "dash": "solid"
           },
           "marker": {
            "symbol": "circle"
           },
           "mode": "lines",
           "name": "1940",
           "r": [
            -6.2,
            -0.6,
            3.9,
            8.4,
            11.7,
            15.2,
            15.7,
            15.2,
            13.3,
            7.8,
            4.7,
            -4.0,
            -6.2
           ],
           "showlegend": true,
           "subplot": "polar",
           "theta": [
            30.0,
            60.0,
            90.0,
            120.0,
            150.0,
            180.0,
            210.0,
            240.0,
            270.0,
            300.0,
            330.0,
            360.0,
            30.0
           ],
           "type": "scatterpolar"
          }
         ],
         "name": "1940"
        },
        {
         "data": [
          {
           "hovertemplate": "Year=1941<br>Temperature=%{r}<br>prep_months=%{theta}<extra></extra>",
           "legendgroup": "1941",
           "line": {
            "color": "#7201a8",
            "dash": "solid"
           },
           "marker": {
            "symbol": "circle"
           },
           "mode": "lines",
           "name": "1941",
           "r": [
            -3.6,
            0.9,
            4.9,
            6.0,
            8.6,
            16.1,
            18.6,
            15.3,
            12.6,
            7.5,
            2.2,
            0.2,
            -3.6
           ],
           "showlegend": true,
           "subplot": "polar",
           "theta": [
            30.0,
            60.0,
            90.0,
            120.0,
            150.0,
            180.0,
            210.0,
            240.0,
            270.0,
            300.0,
            330.0,
            360.0,
            30.0
           ],
           "type": "scatterpolar"
          }
         ],
         "name": "1941"
        },
        {
         "data": [
          {
           "hovertemplate": "Year=1942<br>Temperature=%{r}<br>prep_months=%{theta}<extra></extra>",
           "legendgroup": "1942",
           "line": {
            "color": "#46039f",
            "dash": "solid"
           },
           "marker": {
            "symbol": "circle"
           },
           "mode": "lines",
           "name": "1942",
           "r": [
            -5.5,
            -4.1,
            4.4,
            8.3,
            12.3,
            15.8,
            17.1,
            16.9,
            15.7,
            11.2,
            2.1,
            0.5,
            -5.5
           ],
           "showlegend": true,
           "subplot": "polar",
           "theta": [
            30.0,
            60.0,
            90.0,
            120.0,
            150.0,
            180.0,
            210.0,
            240.0,
            270.0,
            300.0,
            330.0,
            360.0,
            30.0
           ],
           "type": "scatterpolar"
          }
         ],
         "name": "1942"
        },
        {
         "data": [
          {
           "hovertemplate": "Year=1943<br>Temperature=%{r}<br>prep_months=%{theta}<extra></extra>",
           "legendgroup": "1943",
           "line": {
            "color": "#0d0887",
            "dash": "solid"
           },
           "marker": {
            "symbol": "circle"
           },
           "mode": "lines",
           "name": "1943",
           "r": [
            -0.5,
            2.2,
            6.3,
            9.6,
            13.6,
            14.3,
            17.8,
            18.8,
            14.4,
            10.3,
            2.6,
            0.6,
            -0.5
           ],
           "showlegend": true,
           "subplot": "polar",
           "theta": [
            30.0,
            60.0,
            90.0,
            120.0,
            150.0,
            180.0,
            210.0,
            240.0,
            270.0,
            300.0,
            330.0,
            360.0,
            30.0
           ],
           "type": "scatterpolar"
          }
         ],
         "name": "1943"
        },
        {
         "data": [
          {
           "hovertemplate": "Year=1944<br>Temperature=%{r}<br>prep_months=%{theta}<extra></extra>",
           "legendgroup": "1944",
           "line": {
            "color": "#f0f921",
            "dash": "solid"
           },
           "marker": {
            "symbol": "circle"
           },
           "mode": "lines",
           "name": "1944",
           "r": [
            1.5,
            -2.4,
            0.9,
            10.0,
            12.3,
            14.3,
            17.1,
            20.3,
            13.0,
            7.9,
            3.6,
            -0.7,
            1.5
           ],
           "showlegend": true,
           "subplot": "polar",
           "theta": [
            30.0,
            60.0,
            90.0,
            120.0,
            150.0,
            180.0,
            210.0,
            240.0,
            270.0,
            300.0,
            330.0,
            360.0,
            30.0
           ],
           "type": "scatterpolar"
          }
         ],
         "name": "1944"
        },
        {
         "data": [
          {
           "hovertemplate": "Year=1945<br>Temperature=%{r}<br>prep_months=%{theta}<extra></extra>",
           "legendgroup": "1945",
           "line": {
            "color": "#fdca26",
            "dash": "solid"
           },
           "marker": {
            "symbol": "circle"
           },
           "mode": "lines",
           "name": "1945",
           "r": [
            -5.4,
            3.6,
            5.8,
            9.9,
            14.6,
            18.0,
            18.7,
            16.4,
            14.3,
            8.7,
            2.0,
            1.0,
            -5.4
           ],
           "showlegend": true,
           "subplot": "polar",
           "theta": [
            30.0,
            60.0,
            90.0,
            120.0,
            150.0,
            180.0,
            210.0,
            240.0,
            270.0,
            300.0,
            330.0,
            360.0,
            30.0
           ],
           "type": "scatterpolar"
          }
         ],
         "name": "1945"
        },
        {
         "data": [
          {
           "hovertemplate": "Year=1946<br>Temperature=%{r}<br>prep_months=%{theta}<extra></extra>",
           "legendgroup": "1946",
           "line": {
            "color": "#fb9f3a",
            "dash": "solid"
           },
           "marker": {
            "symbol": "circle"
           },
           "mode": "lines",
           "name": "1946",
           "r": [
            -2.5,
            3.2,
            5.3,
            11.0,
            13.7,
            14.5,
            17.9,
            16.4,
            14.0,
            7.3,
            3.3,
            -1.4,
            -2.5
           ],
           "showlegend": true,
           "subplot": "polar",
           "theta": [
            30.0,
            60.0,
            90.0,
            120.0,
            150.0,
            180.0,
            210.0,
            240.0,
            270.0,
            300.0,
            330.0,
            360.0,
            30.0
           ],
           "type": "scatterpolar"
          }
         ],
         "name": "1946"
        },
        {
         "data": [
          {
           "hovertemplate": "Year=1947<br>Temperature=%{r}<br>prep_months=%{theta}<extra></extra>",
           "legendgroup": "1947",
           "line": {
            "color": "#ed7953",
            "dash": "solid"
           },
           "marker": {
            "symbol": "circle"
           },
           "mode": "lines",
           "name": "1947",
           "r": [
            -3.8,
            -2.7,
            4.6,
            11.1,
            14.4,
            17.8,
            19.4,
            20.1,
            16.4,
            8.7,
            5.6,
            1.4,
            -3.8
           ],
           "showlegend": true,
           "subplot": "polar",
           "theta": [
            30.0,
            60.0,
            90.0,
            120.0,
            150.0,
            180.0,
            210.0,
            240.0,
            270.0,
            300.0,
            330.0,
            360.0,
            30.0
           ],
           "type": "scatterpolar"
          }
         ],
         "name": "1947"
        },
        {
         "data": [
          {
           "hovertemplate": "Year=1948<br>Temperature=%{r}<br>prep_months=%{theta}<extra></extra>",
           "legendgroup": "1948",
           "line": {
            "color": "#d8576b",
            "dash": "solid"
           },
           "marker": {
            "symbol": "circle"
           },
           "mode": "lines",
           "name": "1948",
           "r": [
            3.1,
            1.2,
            7.6,
            9.0,
            13.9,
            14.9,
            14.6,
            16.5,
            13.5,
            9.4,
            3.7,
            -0.3,
            3.1
           ],
           "showlegend": true,
           "subplot": "polar",
           "theta": [
            30.0,
            60.0,
            90.0,
            120.0,
            150.0,
            180.0,
            210.0,
            240.0,
            270.0,
            300.0,
            330.0,
            360.0,
            30.0
           ],
           "type": "scatterpolar"
          }
         ],
         "name": "1948"
        },
        {
         "data": [
          {
           "hovertemplate": "Year=1949<br>Temperature=%{r}<br>prep_months=%{theta}<extra></extra>",
           "legendgroup": "1949",
           "line": {
            "color": "#bd3786",
            "dash": "solid"
           },
           "marker": {
            "symbol": "circle"
           },
           "mode": "lines",
           "name": "1949",
           "r": [
            0.0,
            0.8,
            2.6,
            11.3,
            10.9,
            15.9,
            19.4,
            18.4,
            16.7,
            11.3,
            3.2,
            2.8,
            0.0
           ],
           "showlegend": true,
           "subplot": "polar",
           "theta": [
            30.0,
            60.0,
            90.0,
            120.0,
            150.0,
            180.0,
            210.0,
            240.0,
            270.0,
            300.0,
            330.0,
            360.0,
            30.0
           ],
           "type": "scatterpolar"
          }
         ],
         "name": "1949"
        },
        {
         "data": [
          {
           "hovertemplate": "Year=1950<br>Temperature=%{r}<br>prep_months=%{theta}<extra></extra>",
           "legendgroup": "1950",
           "line": {
            "color": "#9c179e",
            "dash": "solid"
           },
           "marker": {
            "symbol": "circle"
           },
           "mode": "lines",
           "name": "1950",
           "r": [
            -0.8,
            3.2,
            5.2,
            6.6,
            14.2,
            18.2,
            19.9,
            17.4,
            13.1,
            8.4,
            4.3,
            -1.9,
            -0.8
           ],
           "showlegend": true,
           "subplot": "polar",
           "theta": [
            30.0,
            60.0,
            90.0,
            120.0,
            150.0,
            180.0,
            210.0,
            240.0,
            270.0,
            300.0,
            330.0,
            360.0,
            30.0
           ],
           "type": "scatterpolar"
          }
         ],
         "name": "1950"
        },
        {
         "data": [
          {
           "hovertemplate": "Year=1951<br>Temperature=%{r}<br>prep_months=%{theta}<extra></extra>",
           "legendgroup": "1951",
           "line": {
            "color": "#7201a8",
            "dash": "solid"
           },
           "marker": {
            "symbol": "circle"
           },
           "mode": "lines",
           "name": "1951",
           "r": [
            1.3,
            1.9,
            3.2,
            7.9,
            11.5,
            15.1,
            17.8,
            16.8,
            14.4,
            7.3,
            6.1,
            0.3,
            1.3
           ],
           "showlegend": true,
           "subplot": "polar",
           "theta": [
            30.0,
            60.0,
            90.0,
            120.0,
            150.0,
            180.0,
            210.0,
            240.0,
            270.0,
            300.0,
            330.0,
            360.0,
            30.0
           ],
           "type": "scatterpolar"
          }
         ],
         "name": "1951"
        },
        {
         "data": [
          {
           "hovertemplate": "Year=1952<br>Temperature=%{r}<br>prep_months=%{theta}<extra></extra>",
           "legendgroup": "1952",
           "line": {
            "color": "#46039f",
            "dash": "solid"
           },
           "marker": {
            "symbol": "circle"
           },
           "mode": "lines",
           "name": "1952",
           "r": [
            -1.0,
            -1.6,
            5.0,
            10.4,
            13.2,
            16.7,
            20.4,
            18.3,
            10.7,
            8.2,
            2.6,
            -0.1,
            -1.0
           ],
           "showlegend": true,
           "subplot": "polar",
           "theta": [
            30.0,
            60.0,
            90.0,
            120.0,
            150.0,
            180.0,
            210.0,
            240.0,
            270.0,
            300.0,
            330.0,
            360.0,
            30.0
           ],
           "type": "scatterpolar"
          }
         ],
         "name": "1952"
        },
        {
         "data": [
          {
           "hovertemplate": "Year=1953<br>Temperature=%{r}<br>prep_months=%{theta}<extra></extra>",
           "legendgroup": "1953",
           "line": {
            "color": "#0d0887",
            "dash": "solid"
           },
           "marker": {
            "symbol": "circle"
           },
           "mode": "lines",
           "name": "1953",
           "r": [
            -3.0,
            -1.0,
            5.3,
            9.2,
            13.9,
            14.5,
            17.6,
            17.1,
            14.2,
            9.9,
            2.7,
            1.5,
            -3.0
           ],
           "showlegend": true,
           "subplot": "polar",
           "theta": [
            30.0,
            60.0,
            90.0,
            120.0,
            150.0,
            180.0,
            210.0,
            240.0,
            270.0,
            300.0,
            330.0,
            360.0,
            30.0
           ],
           "type": "scatterpolar"
          }
         ],
         "name": "1953"
        },
        {
         "data": [
          {
           "hovertemplate": "Year=1954<br>Temperature=%{r}<br>prep_months=%{theta}<extra></extra>",
           "legendgroup": "1954",
           "line": {
            "color": "#f0f921",
            "dash": "solid"
           },
           "marker": {
            "symbol": "circle"
           },
           "mode": "lines",
           "name": "1954",
           "r": [
            -2.9,
            -1.6,
            5.8,
            6.0,
            11.4,
            15.8,
            15.2,
            15.6,
            14.0,
            9.2,
            4.6,
            2.8,
            -2.9
           ],
           "showlegend": true,
           "subplot": "polar",
           "theta": [
            30.0,
            60.0,
            90.0,
            120.0,
            150.0,
            180.0,
            210.0,
            240.0,
            270.0,
            300.0,
            330.0,
            360.0,
            30.0
           ],
           "type": "scatterpolar"
          }
         ],
         "name": "1954"
        },
        {
         "data": [
          {
           "hovertemplate": "Year=1955<br>Temperature=%{r}<br>prep_months=%{theta}<extra></extra>",
           "legendgroup": "1955",
           "line": {
            "color": "#fdca26",
            "dash": "solid"
           },
           "marker": {
            "symbol": "circle"
           },
           "mode": "lines",
           "name": "1955",
           "r": [
            -0.4,
            0.2,
            1.8,
            8.4,
            11.4,
            15.5,
            17.0,
            16.2,
            13.1,
            7.5,
            2.4,
            3.5,
            -0.4
           ],
           "showlegend": true,
           "subplot": "polar",
           "theta": [
            30.0,
            60.0,
            90.0,
            120.0,
            150.0,
            180.0,
            210.0,
            240.0,
            270.0,
            300.0,
            330.0,
            360.0,
            30.0
           ],
           "type": "scatterpolar"
          }
         ],
         "name": "1955"
        },
        {
         "data": [
          {
           "hovertemplate": "Year=1956<br>Temperature=%{r}<br>prep_months=%{theta}<extra></extra>",
           "legendgroup": "1956",
           "line": {
            "color": "#fb9f3a",
            "dash": "solid"
           },
           "marker": {
            "symbol": "circle"
           },
           "mode": "lines",
           "name": "1956",
           "r": [
            1.8,
            -8.9,
            4.2,
            6.6,
            12.7,
            13.0,
            16.8,
            14.6,
            14.3,
            7.3,
            1.6,
            0.9,
            1.8
           ],
           "showlegend": true,
           "subplot": "polar",
           "theta": [
            30.0,
            60.0,
            90.0,
            120.0,
            150.0,
            180.0,
            210.0,
            240.0,
            270.0,
            300.0,
            330.0,
            360.0,
            30.0
           ],
           "type": "scatterpolar"
          }
         ],
         "name": "1956"
        },
        {
         "data": [
          {
           "hovertemplate": "Year=1957<br>Temperature=%{r}<br>prep_months=%{theta}<extra></extra>",
           "legendgroup": "1957",
           "line": {
            "color": "#ed7953",
            "dash": "solid"
           },
           "marker": {
            "symbol": "circle"
           },
           "mode": "lines",
           "name": "1957",
           "r": [
            -1.4,
            4.0,
            8.2,
            8.3,
            9.4,
            16.2,
            17.3,
            15.6,
            12.6,
            8.6,
            3.4,
            0.4,
            -1.4
           ],
           "showlegend": true,
           "subplot": "polar",
           "theta": [
            30.0,
            60.0,
            90.0,
            120.0,
            150.0,
            180.0,
            210.0,
            240.0,
            270.0,
            300.0,
            330.0,
            360.0,
            30.0
           ],
           "type": "scatterpolar"
          }
         ],
         "name": "1957"
        },
        {
         "data": [
          {
           "hovertemplate": "Year=1958<br>Temperature=%{r}<br>prep_months=%{theta}<extra></extra>",
           "legendgroup": "1958",
           "line": {
            "color": "#d8576b",
            "dash": "solid"
           },
           "marker": {
            "symbol": "circle"
           },
           "mode": "lines",
           "name": "1958",
           "r": [
            -0.2,
            3.5,
            0.6,
            5.4,
            14.3,
            15.0,
            17.7,
            17.5,
            15.1,
            8.0,
            3.4,
            2.5,
            -0.2
           ],
           "showlegend": true,
           "subplot": "polar",
           "theta": [
            30.0,
            60.0,
            90.0,
            120.0,
            150.0,
            180.0,
            210.0,
            240.0,
            270.0,
            300.0,
            330.0,
            360.0,
            30.0
           ],
           "type": "scatterpolar"
          }
         ],
         "name": "1958"
        },
        {
         "data": [
          {
           "hovertemplate": "Year=1959<br>Temperature=%{r}<br>prep_months=%{theta}<extra></extra>",
           "legendgroup": "1959",
           "line": {
            "color": "#bd3786",
            "dash": "solid"
           },
           "marker": {
            "symbol": "circle"
           },
           "mode": "lines",
           "name": "1959",
           "r": [
            -0.1,
            1.4,
            7.0,
            9.5,
            13.0,
            16.1,
            19.3,
            16.7,
            14.7,
            8.5,
            2.0,
            2.5,
            -0.1
           ],
           "showlegend": true,
           "subplot": "polar",
           "theta": [
            30.0,
            60.0,
            90.0,
            120.0,
            150.0,
            180.0,
            210.0,
            240.0,
            270.0,
            300.0,
            330.0,
            360.0,
            30.0
           ],
           "type": "scatterpolar"
          }
         ],
         "name": "1959"
        },
        {
         "data": [
          {
           "hovertemplate": "Year=1960<br>Temperature=%{r}<br>prep_months=%{theta}<extra></extra>",
           "legendgroup": "1960",
           "line": {
            "color": "#9c179e",
            "dash": "solid"
           },
           "marker": {
            "symbol": "circle"
           },
           "mode": "lines",
           "name": "1960",
           "r": [
            -0.3,
            1.9,
            5.9,
            7.9,
            13.6,
            16.5,
            15.1,
            16.3,
            11.9,
            8.4,
            6.1,
            0.4,
            -0.3
           ],
           "showlegend": true,
           "subplot": "polar",
           "theta": [
            30.0,
            60.0,
            90.0,
            120.0,
            150.0,
            180.0,
            210.0,
            240.0,
            270.0,
            300.0,
            330.0,
            360.0,
            30.0
           ],
           "type": "scatterpolar"
          }
         ],
         "name": "1960"
        },
        {
         "data": [
          {
           "hovertemplate": "Year=1961<br>Temperature=%{r}<br>prep_months=%{theta}<extra></extra>",
           "legendgroup": "1961",
           "line": {
            "color": "#7201a8",
            "dash": "solid"
           },
           "marker": {
            "symbol": "circle"
           },
           "mode": "lines",
           "name": "1961",
           "r": [
            -0.3,
            5.0,
            6.6,
            11.1,
            10.7,
            16.0,
            16.3,
            16.3,
            17.3,
            10.1,
            3.6,
            0.9,
            -0.3
           ],
           "showlegend": true,
           "subplot": "polar",
           "theta": [
            30.0,
            60.0,
            90.0,
            120.0,
            150.0,
            180.0,
            210.0,
            240.0,
            270.0,
            300.0,
            330.0,
            360.0,
            30.0
           ],
           "type": "scatterpolar"
          }
         ],
         "name": "1961"
        },
        {
         "data": [
          {
           "hovertemplate": "Year=1962<br>Temperature=%{r}<br>prep_months=%{theta}<extra></extra>",
           "legendgroup": "1962",
           "line": {
            "color": "#46039f",
            "dash": "solid"
           },
           "marker": {
            "symbol": "circle"
           },
           "mode": "lines",
           "name": "1962",
           "r": [
            1.2,
            -0.1,
            0.9,
            8.5,
            10.2,
            14.8,
            16.8,
            18.4,
            13.3,
            9.2,
            1.7,
            -3.5,
            1.2
           ],
           "showlegend": true,
           "subplot": "polar",
           "theta": [
            30.0,
            60.0,
            90.0,
            120.0,
            150.0,
            180.0,
            210.0,
            240.0,
            270.0,
            300.0,
            330.0,
            360.0,
            30.0
           ],
           "type": "scatterpolar"
          }
         ],
         "name": "1962"
        },
        {
         "data": [
          {
           "hovertemplate": "Year=1963<br>Temperature=%{r}<br>prep_months=%{theta}<extra></extra>",
           "legendgroup": "1963",
           "line": {
            "color": "#0d0887",
            "dash": "solid"
           },
           "marker": {
            "symbol": "circle"
           },
           "mode": "lines",
           "name": "1963",
           "r": [
            -6.3,
            -4.3,
            2.9,
            9.0,
            11.3,
            15.4,
            18.4,
            15.6,
            13.9,
            8.6,
            7.2,
            -3.1,
            -6.3
           ],
           "showlegend": true,
           "subplot": "polar",
           "theta": [
            30.0,
            60.0,
            90.0,
            120.0,
            150.0,
            180.0,
            210.0,
            240.0,
            270.0,
            300.0,
            330.0,
            360.0,
            30.0
           ],
           "type": "scatterpolar"
          }
         ],
         "name": "1963"
        },
        {
         "data": [
          {
           "hovertemplate": "Year=1964<br>Temperature=%{r}<br>prep_months=%{theta}<extra></extra>",
           "legendgroup": "1964",
           "line": {
            "color": "#f0f921",
            "dash": "solid"
           },
           "marker": {
            "symbol": "circle"
           },
           "mode": "lines",
           "name": "1964",
           "r": [
            -3.4,
            1.8,
            2.1,
            9.4,
            13.8,
            16.9,
            19.3,
            16.2,
            14.1,
            7.1,
            4.7,
            -0.6,
            -3.4
           ],
           "showlegend": true,
           "subplot": "polar",
           "theta": [
            30.0,
            60.0,
            90.0,
            120.0,
            150.0,
            180.0,
            210.0,
            240.0,
            270.0,
            300.0,
            330.0,
            360.0,
            30.0
           ],
           "type": "scatterpolar"
          }
         ],
         "name": "1964"
        },
        {
         "data": [
          {
           "hovertemplate": "Year=1965<br>Temperature=%{r}<br>prep_months=%{theta}<extra></extra>",
           "legendgroup": "1965",
           "line": {
            "color": "#fdca26",
            "dash": "solid"
           },
           "marker": {
            "symbol": "circle"
           },
           "mode": "lines",
           "name": "1965",
           "r": [
            0.7,
            -3.3,
            3.5,
            6.3,
            11.1,
            15.8,
            15.5,
            15.5,
            11.7,
            8.1,
            3.0,
            2.7,
            0.7
           ],
           "showlegend": true,
           "subplot": "polar",
           "theta": [
            30.0,
            60.0,
            90.0,
            120.0,
            150.0,
            180.0,
            210.0,
            240.0,
            270.0,
            300.0,
            330.0,
            360.0,
            30.0
           ],
           "type": "scatterpolar"
          }
         ],
         "name": "1965"
        },
        {
         "data": [
          {
           "hovertemplate": "Year=1966<br>Temperature=%{r}<br>prep_months=%{theta}<extra></extra>",
           "legendgroup": "1966",
           "line": {
            "color": "#fb9f3a",
            "dash": "solid"
           },
           "marker": {
            "symbol": "circle"
           },
           "mode": "lines",
           "name": "1966",
           "r": [
            -2.4,
            5.6,
            3.3,
            9.7,
            12.7,
            16.5,
            15.3,
            14.9,
            14.6,
            11.5,
            1.8,
            1.4,
            -2.4
           ],
           "showlegend": true,
           "subplot": "polar",
           "theta": [
            30.0,
            60.0,
            90.0,
            120.0,
            150.0,
            180.0,
            210.0,
            240.0,
            270.0,
            300.0,
            330.0,
            360.0,
            30.0
           ],
           "type": "scatterpolar"
          }
         ],
         "name": "1966"
        },
        {
         "data": [
          {
           "hovertemplate": "Year=1967<br>Temperature=%{r}<br>prep_months=%{theta}<extra></extra>",
           "legendgroup": "1967",
           "line": {
            "color": "#ed7953",
            "dash": "solid"
           },
           "marker": {
            "symbol": "circle"
           },
           "mode": "lines",
           "name": "1967",
           "r": [
            0.0,
            2.2,
            5.2,
            7.0,
            12.1,
            14.3,
            19.3,
            16.5,
            13.1,
            11.6,
            3.9,
            -1.2,
            0.0
           ],
           "showlegend": true,
           "subplot": "polar",
           "theta": [
            30.0,
            60.0,
            90.0,
            120.0,
            150.0,
            180.0,
            210.0,
            240.0,
            270.0,
            300.0,
            330.0,
            360.0,
            30.0
           ],
           "type": "scatterpolar"
          }
         ],
         "name": "1967"
        },
        {
         "data": [
          {
           "hovertemplate": "Year=1968<br>Temperature=%{r}<br>prep_months=%{theta}<extra></extra>",
           "legendgroup": "1968",
           "line": {
            "color": "#d8576b",
            "dash": "solid"
           },
           "marker": {
            "symbol": "circle"
           },
           "mode": "lines",
           "name": "1968",
           "r": [
            -1.1,
            1.4,
            4.6,
            9.3,
            11.3,
            15.4,
            16.7,
            15.2,
            12.6,
            10.7,
            3.6,
            -1.4,
            -1.1
           ],
           "showlegend": true,
           "subplot": "polar",
           "theta": [
            30.0,
            60.0,
            90.0,
            120.0,
            150.0,
            180.0,
            210.0,
            240.0,
            270.0,
            300.0,
            330.0,
            360.0,
            30.0
           ],
           "type": "scatterpolar"
          }
         ],
         "name": "1968"
        },
        {
         "data": [
          {
           "hovertemplate": "Year=1969<br>Temperature=%{r}<br>prep_months=%{theta}<extra></extra>",
           "legendgroup": "1969",
           "line": {
            "color": "#bd3786",
            "dash": "solid"
           },
           "marker": {
            "symbol": "circle"
           },
           "mode": "lines",
           "name": "1969",
           "r": [
            0.2,
            -1.2,
            3.4,
            7.3,
            13.6,
            13.4,
            18.3,
            15.9,
            14.3,
            9.6,
            4.7,
            -4.0,
            0.2
           ],
           "showlegend": true,
           "subplot": "polar",
           "theta": [
            30.0,
            60.0,
            90.0,
            120.0,
            150.0,
            180.0,
            210.0,
            240.0,
            270.0,
            300.0,
            330.0,
            360.0,
            30.0
           ],
           "type": "scatterpolar"
          }
         ],
         "name": "1969"
        },
        {
         "data": [
          {
           "hovertemplate": "Year=1970<br>Temperature=%{r}<br>prep_months=%{theta}<extra></extra>",
           "legendgroup": "1970",
           "line": {
            "color": "#9c179e",
            "dash": "solid"
           },
           "marker": {
            "symbol": "circle"
           },
           "mode": "lines",
           "name": "1970",
           "r": [
            -0.7,
            0.4,
            1.4,
            5.5,
            10.9,
            16.6,
            16.9,
            16.9,
            14.0,
            8.4,
            5.7,
            -1.0,
            -0.7
           ],
           "showlegend": true,
           "subplot": "polar",
           "theta": [
            30.0,
            60.0,
            90.0,
            120.0,
            150.0,
            180.0,
            210.0,
            240.0,
            270.0,
            300.0,
            330.0,
            360.0,
            30.0
           ],
           "type": "scatterpolar"
          }
         ],
         "name": "1970"
        },
        {
         "data": [
          {
           "hovertemplate": "Year=1971<br>Temperature=%{r}<br>prep_months=%{theta}<extra></extra>",
           "legendgroup": "1971",
           "line": {
            "color": "#7201a8",
            "dash": "solid"
           },
           "marker": {
            "symbol": "circle"
           },
           "mode": "lines",
           "name": "1971",
           "r": [
            -1.8,
            -0.3,
            0.4,
            10.6,
            13.8,
            13.7,
            18.6,
            17.8,
            12.7,
            9.8,
            2.8,
            1.2,
            -1.8
           ],
           "showlegend": true,
           "subplot": "polar",
           "theta": [
            30.0,
            60.0,
            90.0,
            120.0,
            150.0,
            180.0,
            210.0,
            240.0,
            270.0,
            300.0,
            330.0,
            360.0,
            30.0
           ],
           "type": "scatterpolar"
          }
         ],
         "name": "1971"
        },
        {
         "data": [
          {
           "hovertemplate": "Year=1972<br>Temperature=%{r}<br>prep_months=%{theta}<extra></extra>",
           "legendgroup": "1972",
           "line": {
            "color": "#46039f",
            "dash": "solid"
           },
           "marker": {
            "symbol": "circle"
           },
           "mode": "lines",
           "name": "1972",
           "r": [
            -0.3,
            3.0,
            6.4,
            7.2,
            11.2,
            14.0,
            16.8,
            15.7,
            10.5,
            6.8,
            4.2,
            -0.7,
            -0.3
           ],
           "showlegend": true,
           "subplot": "polar",
           "theta": [
            30.0,
            60.0,
            90.0,
            120.0,
            150.0,
            180.0,
            210.0,
            240.0,
            270.0,
            300.0,
            330.0,
            360.0,
            30.0
           ],
           "type": "scatterpolar"
          }
         ],
         "name": "1972"
        },
        {
         "data": [
          {
           "hovertemplate": "Year=1973<br>Temperature=%{r}<br>prep_months=%{theta}<extra></extra>",
           "legendgroup": "1973",
           "line": {
            "color": "#0d0887",
            "dash": "solid"
           },
           "marker": {
            "symbol": "circle"
           },
           "mode": "lines",
           "name": "1973",
           "r": [
            -1.2,
            -0.4,
            2.8,
            5.0,
            13.3,
            16.0,
            16.9,
            18.5,
            14.6,
            7.3,
            3.4,
            0.2,
            -1.2
           ],
           "showlegend": true,
           "subplot": "polar",
           "theta": [
            30.0,
            60.0,
            90.0,
            120.0,
            150.0,
            180.0,
            210.0,
            240.0,
            270.0,
            300.0,
            330.0,
            360.0,
            30.0
           ],
           "type": "scatterpolar"
          }
         ],
         "name": "1973"
        },
        {
         "data": [
          {
           "hovertemplate": "Year=1974<br>Temperature=%{r}<br>prep_months=%{theta}<extra></extra>",
           "legendgroup": "1974",
           "line": {
            "color": "#f0f921",
            "dash": "solid"
           },
           "marker": {
            "symbol": "circle"
           },
           "mode": "lines",
           "name": "1974",
           "r": [
            2.8,
            2.7,
            6.8,
            8.3,
            11.2,
            14.2,
            16.9,
            17.8,
            13.3,
            4.5,
            4.1,
            4.0,
            2.8
           ],
           "showlegend": true,
           "subplot": "polar",
           "theta": [
            30.0,
            60.0,
            90.0,
            120.0,
            150.0,
            180.0,
            210.0,
            240.0,
            270.0,
            300.0,
            330.0,
            360.0,
            30.0
           ],
           "type": "scatterpolar"
          }
         ],
         "name": "1974"
        },
        {
         "data": [
          {
           "hovertemplate": "Year=1975<br>Temperature=%{r}<br>prep_months=%{theta}<extra></extra>",
           "legendgroup": "1975",
           "line": {
            "color": "#fdca26",
            "dash": "solid"
           },
           "marker": {
            "symbol": "circle"
           },
           "mode": "lines",
           "name": "1975",
           "r": [
            3.5,
            1.6,
            3.3,
            7.5,
            12.3,
            13.9,
            17.6,
            17.3,
            15.8,
            7.4,
            4.2,
            -0.7,
            3.5
           ],
           "showlegend": true,
           "subplot": "polar",
           "theta": [
            30.0,
            60.0,
            90.0,
            120.0,
            150.0,
            180.0,
            210.0,
            240.0,
            270.0,
            300.0,
            330.0,
            360.0,
            30.0
           ],
           "type": "scatterpolar"
          }
         ],
         "name": "1975"
        },
        {
         "data": [
          {
           "hovertemplate": "Year=1976<br>Temperature=%{r}<br>prep_months=%{theta}<extra></extra>",
           "legendgroup": "1976",
           "line": {
            "color": "#fb9f3a",
            "dash": "solid"
           },
           "marker": {
            "symbol": "circle"
           },
           "mode": "lines",
           "name": "1976",
           "r": [
            1.2,
            0.9,
            3.4,
            7.8,
            13.0,
            17.9,
            18.8,
            15.4,
            12.2,
            10.2,
            4.3,
            -1.7,
            1.2
           ],
           "showlegend": true,
           "subplot": "polar",
           "theta": [
            30.0,
            60.0,
            90.0,
            120.0,
            150.0,
            180.0,
            210.0,
            240.0,
            270.0,
            300.0,
            330.0,
            360.0,
            30.0
           ],
           "type": "scatterpolar"
          }
         ],
         "name": "1976"
        },
        {
         "data": [
          {
           "hovertemplate": "Year=1977<br>Temperature=%{r}<br>prep_months=%{theta}<extra></extra>",
           "legendgroup": "1977",
           "line": {
            "color": "#ed7953",
            "dash": "solid"
           },
           "marker": {
            "symbol": "circle"
           },
           "mode": "lines",
           "name": "1977",
           "r": [
            0.6,
            4.6,
            7.3,
            6.1,
            11.3,
            14.9,
            16.9,
            15.6,
            12.2,
            10.5,
            5.0,
            1.5,
            0.6
           ],
           "showlegend": true,
           "subplot": "polar",
           "theta": [
            30.0,
            60.0,
            90.0,
            120.0,
            150.0,
            180.0,
            210.0,
            240.0,
            270.0,
            300.0,
            330.0,
            360.0,
            30.0
           ],
           "type": "scatterpolar"
          }
         ],
         "name": "1977"
        },
        {
         "data": [
          {
           "hovertemplate": "Year=1978<br>Temperature=%{r}<br>prep_months=%{theta}<extra></extra>",
           "legendgroup": "1978",
           "line": {
            "color": "#d8576b",
            "dash": "solid"
           },
           "marker": {
            "symbol": "circle"
           },
           "mode": "lines",
           "name": "1978",
           "r": [
            0.0,
            -0.5,
            4.8,
            7.2,
            10.8,
            14.2,
            16.2,
            15.5,
            13.2,
            8.2,
            3.2,
            1.7,
            0.0
           ],
           "showlegend": true,
           "subplot": "polar",
           "theta": [
            30.0,
            60.0,
            90.0,
            120.0,
            150.0,
            180.0,
            210.0,
            240.0,
            270.0,
            300.0,
            330.0,
            360.0,
            30.0
           ],
           "type": "scatterpolar"
          }
         ],
         "name": "1978"
        },
        {
         "data": [
          {
           "hovertemplate": "Year=1979<br>Temperature=%{r}<br>prep_months=%{theta}<extra></extra>",
           "legendgroup": "1979",
           "line": {
            "color": "#bd3786",
            "dash": "solid"
           },
           "marker": {
            "symbol": "circle"
           },
           "mode": "lines",
           "name": "1979",
           "r": [
            -3.0,
            1.9,
            5.0,
            6.0,
            12.3,
            16.0,
            17.1,
            15.5,
            13.7,
            9.6,
            3.6,
            3.7,
            -3.0
           ],
           "showlegend": true,
           "subplot": "polar",
           "theta": [
            30.0,
            60.0,
            90.0,
            120.0,
            150.0,
            180.0,
            210.0,
            240.0,
            270.0,
            300.0,
            330.0,
            360.0,
            30.0
           ],
           "type": "scatterpolar"
          }
         ],
         "name": "1979"
        },
        {
         "data": [
          {
           "hovertemplate": "Year=1980<br>Temperature=%{r}<br>prep_months=%{theta}<extra></extra>",
           "legendgroup": "1980",
           "line": {
            "color": "#9c179e",
            "dash": "solid"
           },
           "marker": {
            "symbol": "circle"
           },
           "mode": "lines",
           "name": "1980",
           "r": [
            -1.3,
            3.2,
            4.7,
            5.8,
            10.7,
            13.9,
            14.9,
            17.7,
            14.8,
            8.2,
            2.8,
            -0.6,
            -1.3
           ],
           "showlegend": true,
           "subplot": "polar",
           "theta": [
            30.0,
            60.0,
            90.0,
            120.0,
            150.0,
            180.0,
            210.0,
            240.0,
            270.0,
            300.0,
            330.0,
            360.0,
            30.0
           ],
           "type": "scatterpolar"
          }
         ],
         "name": "1980"
        },
        {
         "data": [
          {
           "hovertemplate": "Year=1981<br>Temperature=%{r}<br>prep_months=%{theta}<extra></extra>",
           "legendgroup": "1981",
           "line": {
            "color": "#7201a8",
            "dash": "solid"
           },
           "marker": {
            "symbol": "circle"
           },
           "mode": "lines",
           "name": "1981",
           "r": [
            -2.1,
            -1.1,
            7.4,
            9.5,
            12.0,
            15.6,
            16.2,
            17.5,
            13.9,
            9.1,
            4.6,
            0.5,
            -2.1
           ],
           "showlegend": true,
           "subplot": "polar",
           "theta": [
            30.0,
            60.0,
            90.0,
            120.0,
            150.0,
            180.0,
            210.0,
            240.0,
            270.0,
            300.0,
            330.0,
            360.0,
            30.0
           ],
           "type": "scatterpolar"
          }
         ],
         "name": "1981"
        },
        {
         "data": [
          {
           "hovertemplate": "Year=1982<br>Temperature=%{r}<br>prep_months=%{theta}<extra></extra>",
           "legendgroup": "1982",
           "line": {
            "color": "#46039f",
            "dash": "solid"
           },
           "marker": {
            "symbol": "circle"
           },
           "mode": "lines",
           "name": "1982",
           "r": [
            0.2,
            0.6,
            4.0,
            7.2,
            12.8,
            16.6,
            19.0,
            16.6,
            15.8,
            9.2,
            5.8,
            2.7,
            0.2
           ],
           "showlegend": true,
           "subplot": "polar",
           "theta": [
            30.0,
            60.0,
            90.0,
            120.0,
            150.0,
            180.0,
            210.0,
            240.0,
            270.0,
            300.0,
            330.0,
            360.0,
            30.0
           ],
           "type": "scatterpolar"
          }
         ],
         "name": "1982"
        },
        {
         "data": [
          {
           "hovertemplate": "Year=1983<br>Temperature=%{r}<br>prep_months=%{theta}<extra></extra>",
           "legendgroup": "1983",
           "line": {
            "color": "#0d0887",
            "dash": "solid"
           },
           "marker": {
            "symbol": "circle"
           },
           "mode": "lines",
           "name": "1983",
           "r": [
            2.8,
            -1.6,
            5.5,
            9.0,
            10.5,
            16.8,
            22.0,
            18.1,
            14.4,
            9.7,
            3.0,
            0.9,
            2.8
           ],
           "showlegend": true,
           "subplot": "polar",
           "theta": [
            30.0,
            60.0,
            90.0,
            120.0,
            150.0,
            180.0,
            210.0,
            240.0,
            270.0,
            300.0,
            330.0,
            360.0,
            30.0
           ],
           "type": "scatterpolar"
          }
         ],
         "name": "1983"
        },
        {
         "data": [
          {
           "hovertemplate": "Year=1984<br>Temperature=%{r}<br>prep_months=%{theta}<extra></extra>",
           "legendgroup": "1984",
           "line": {
            "color": "#f0f921",
            "dash": "solid"
           },
           "marker": {
            "symbol": "circle"
           },
           "mode": "lines",
           "name": "1984",
           "r": [
            0.8,
            -0.6,
            2.4,
            7.1,
            9.8,
            15.1,
            17.8,
            16.8,
            12.6,
            10.1,
            5.7,
            1.7,
            0.8
           ],
           "showlegend": true,
           "subplot": "polar",
           "theta": [
            30.0,
            60.0,
            90.0,
            120.0,
            150.0,
            180.0,
            210.0,
            240.0,
            270.0,
            300.0,
            330.0,
            360.0,
            30.0
           ],
           "type": "scatterpolar"
          }
         ],
         "name": "1984"
        },
        {
         "data": [
          {
           "hovertemplate": "Year=1985<br>Temperature=%{r}<br>prep_months=%{theta}<extra></extra>",
           "legendgroup": "1985",
           "line": {
            "color": "#fdca26",
            "dash": "solid"
           },
           "marker": {
            "symbol": "circle"
           },
           "mode": "lines",
           "name": "1985",
           "r": [
            -5.4,
            -0.6,
            3.0,
            8.5,
            12.6,
            14.1,
            19.1,
            17.2,
            15.4,
            9.5,
            1.2,
            3.6,
            -5.4
           ],
           "showlegend": true,
           "subplot": "polar",
           "theta": [
            30.0,
            60.0,
            90.0,
            120.0,
            150.0,
            180.0,
            210.0,
            240.0,
            270.0,
            300.0,
            330.0,
            360.0,
            30.0
           ],
           "type": "scatterpolar"
          }
         ],
         "name": "1985"
        },
        {
         "data": [
          {
           "hovertemplate": "Year=1986<br>Temperature=%{r}<br>prep_months=%{theta}<extra></extra>",
           "legendgroup": "1986",
           "line": {
            "color": "#fb9f3a",
            "dash": "solid"
           },
           "marker": {
            "symbol": "circle"
           },
           "mode": "lines",
           "name": "1986",
           "r": [
            0.9,
            -5.2,
            3.5,
            6.0,
            14.1,
            15.8,
            17.4,
            16.9,
            13.6,
            10.7,
            5.4,
            1.6,
            0.9
           ],
           "showlegend": true,
           "subplot": "polar",
           "theta": [
            30.0,
            60.0,
            90.0,
            120.0,
            150.0,
            180.0,
            210.0,
            240.0,
            270.0,
            300.0,
            330.0,
            360.0,
            30.0
           ],
           "type": "scatterpolar"
          }
         ],
         "name": "1986"
        },
        {
         "data": [
          {
           "hovertemplate": "Year=1987<br>Temperature=%{r}<br>prep_months=%{theta}<extra></extra>",
           "legendgroup": "1987",
           "line": {
            "color": "#ed7953",
            "dash": "solid"
           },
           "marker": {
            "symbol": "circle"
           },
           "mode": "lines",
           "name": "1987",
           "r": [
            -4.3,
            0.6,
            1.0,
            9.9,
            9.8,
            14.0,
            18.0,
            16.9,
            16.7,
            10.0,
            5.0,
            2.3,
            -4.3
           ],
           "showlegend": true,
           "subplot": "polar",
           "theta": [
            30.0,
            60.0,
            90.0,
            120.0,
            150.0,
            180.0,
            210.0,
            240.0,
            270.0,
            300.0,
            330.0,
            360.0,
            30.0
           ],
           "type": "scatterpolar"
          }
         ],
         "name": "1987"
        },
        {
         "data": [
          {
           "hovertemplate": "Year=1988<br>Temperature=%{r}<br>prep_months=%{theta}<extra></extra>",
           "legendgroup": "1988",
           "line": {
            "color": "#d8576b",
            "dash": "solid"
           },
           "marker": {
            "symbol": "circle"
           },
           "mode": "lines",
           "name": "1988",
           "r": [
            3.4,
            1.7,
            3.4,
            9.3,
            14.2,
            15.4,
            17.7,
            17.7,
            13.9,
            10.7,
            2.9,
            2.7,
            3.4
           ],
           "showlegend": true,
           "subplot": "polar",
           "theta": [
            30.0,
            60.0,
            90.0,
            120.0,
            150.0,
            180.0,
            210.0,
            240.0,
            270.0,
            300.0,
            330.0,
            360.0,
            30.0
           ],
           "type": "scatterpolar"
          }
         ],
         "name": "1988"
        },
        {
         "data": [
          {
           "hovertemplate": "Year=1989<br>Temperature=%{r}<br>prep_months=%{theta}<extra></extra>",
           "legendgroup": "1989",
           "line": {
            "color": "#bd3786",
            "dash": "solid"
           },
           "marker": {
            "symbol": "circle"
           },
           "mode": "lines",
           "name": "1989",
           "r": [
            1.0,
            3.0,
            8.3,
            7.1,
            14.2,
            15.1,
            18.2,
            17.4,
            13.9,
            10.3,
            2.4,
            2.3,
            1.0
           ],
           "showlegend": true,
           "subplot": "polar",
           "theta": [
            30.0,
            60.0,
            90.0,
            120.0,
            150.0,
            180.0,
            210.0,
            240.0,
            270.0,
            300.0,
            330.0,
            360.0,
            30.0
           ],
           "type": "scatterpolar"
          }
         ],
         "name": "1989"
        },
        {
         "data": [
          {
           "hovertemplate": "Year=1990<br>Temperature=%{r}<br>prep_months=%{theta}<extra></extra>",
           "legendgroup": "1990",
           "line": {
            "color": "#9c179e",
            "dash": "solid"
           },
           "marker": {
            "symbol": "circle"
           },
           "mode": "lines",
           "name": "1990",
           "r": [
            0.6,
            6.5,
            7.4,
            7.0,
            14.6,
            15.0,
            18.2,
            18.8,
            13.2,
            11.0,
            4.2,
            -0.1,
            0.6
           ],
           "showlegend": true,
           "subplot": "polar",
           "theta": [
            30.0,
            60.0,
            90.0,
            120.0,
            150.0,
            180.0,
            210.0,
            240.0,
            270.0,
            300.0,
            330.0,
            360.0,
            30.0
           ],
           "type": "scatterpolar"
          }
         ],
         "name": "1990"
        },
        {
         "data": [
          {
           "hovertemplate": "Year=1991<br>Temperature=%{r}<br>prep_months=%{theta}<extra></extra>",
           "legendgroup": "1991",
           "line": {
            "color": "#7201a8",
            "dash": "solid"
           },
           "marker": {
            "symbol": "circle"
           },
           "mode": "lines",
           "name": "1991",
           "r": [
            0.8,
            -1.1,
            7.1,
            7.6,
            9.6,
            14.6,
            19.7,
            19.8,
            16.4,
            8.5,
            3.9,
            -0.5,
            0.8
           ],
           "showlegend": true,
           "subplot": "polar",
           "theta": [
            30.0,
            60.0,
            90.0,
            120.0,
            150.0,
            180.0,
            210.0,
            240.0,
            270.0,
            300.0,
            330.0,
            360.0,
            30.0
           ],
           "type": "scatterpolar"
          }
         ],
         "name": "1991"
        },
        {
         "data": [
          {
           "hovertemplate": "Year=1992<br>Temperature=%{r}<br>prep_months=%{theta}<extra></extra>",
           "legendgroup": "1992",
           "line": {
            "color": "#46039f",
            "dash": "solid"
           },
           "marker": {
            "symbol": "circle"
           },
           "mode": "lines",
           "name": "1992",
           "r": [
            -0.8,
            1.7,
            6.1,
            8.2,
            14.7,
            15.6,
            18.8,
            20.7,
            14.4,
            7.7,
            6.3,
            0.6,
            -0.8
           ],
           "showlegend": true,
           "subplot": "polar",
           "theta": [
            30.0,
            60.0,
            90.0,
            120.0,
            150.0,
            180.0,
            210.0,
            240.0,
            270.0,
            300.0,
            330.0,
            360.0,
            30.0
           ],
           "type": "scatterpolar"
          }
         ],
         "name": "1992"
        },
        {
         "data": [
          {
           "hovertemplate": "Year=1993<br>Temperature=%{r}<br>prep_months=%{theta}<extra></extra>",
           "legendgroup": "1993",
           "line": {
            "color": "#0d0887",
            "dash": "solid"
           },
           "marker": {
            "symbol": "circle"
           },
           "mode": "lines",
           "name": "1993",
           "r": [
            3.5,
            -0.4,
            4.3,
            10.6,
            14.5,
            16.8,
            16.7,
            17.5,
            13.0,
            7.9,
            1.0,
            3.9,
            3.5
           ],
           "showlegend": true,
           "subplot": "polar",
           "theta": [
            30.0,
            60.0,
            90.0,
            120.0,
            150.0,
            180.0,
            210.0,
            240.0,
            270.0,
            300.0,
            330.0,
            360.0,
            30.0
           ],
           "type": "scatterpolar"
          }
         ],
         "name": "1993"
        },
        {
         "data": [
          {
           "hovertemplate": "Year=1994<br>Temperature=%{r}<br>prep_months=%{theta}<extra></extra>",
           "legendgroup": "1994",
           "line": {
            "color": "#f0f921",
            "dash": "solid"
           },
           "marker": {
            "symbol": "circle"
           },
           "mode": "lines",
           "name": "1994",
           "r": [
            2.5,
            2.1,
            9.1,
            7.2,
            12.9,
            16.8,
            21.4,
            19.2,
            13.7,
            9.3,
            7.8,
            3.6,
            2.5
           ],
           "showlegend": true,
           "subplot": "polar",
           "theta": [
            30.0,
            60.0,
            90.0,
            120.0,
            150.0,
            180.0,
            210.0,
            240.0,
            270.0,
            300.0,
            330.0,
            360.0,
            30.0
           ],
           "type": "scatterpolar"
          }
         ],
         "name": "1994"
        },
        {
         "data": [
          {
           "hovertemplate": "Year=1995<br>Temperature=%{r}<br>prep_months=%{theta}<extra></extra>",
           "legendgroup": "1995",
           "line": {
            "color": "#fdca26",
            "dash": "solid"
           },
           "marker": {
            "symbol": "circle"
           },
           "mode": "lines",
           "name": "1995",
           "r": [
            0.0,
            5.1,
            3.7,
            8.9,
            12.9,
            14.3,
            20.5,
            17.5,
            11.9,
            12.7,
            3.6,
            -0.3,
            0.0
           ],
           "showlegend": true,
           "subplot": "polar",
           "theta": [
            30.0,
            60.0,
            90.0,
            120.0,
            150.0,
            180.0,
            210.0,
            240.0,
            270.0,
            300.0,
            330.0,
            360.0,
            30.0
           ],
           "type": "scatterpolar"
          }
         ],
         "name": "1995"
        },
        {
         "data": [
          {
           "hovertemplate": "Year=1996<br>Temperature=%{r}<br>prep_months=%{theta}<extra></extra>",
           "legendgroup": "1996",
           "line": {
            "color": "#fb9f3a",
            "dash": "solid"
           },
           "marker": {
            "symbol": "circle"
           },
           "mode": "lines",
           "name": "1996",
           "r": [
            -0.7,
            -0.9,
            2.9,
            9.3,
            12.1,
            17.1,
            17.1,
            16.6,
            10.8,
            9.3,
            4.7,
            -0.8,
            -0.7
           ],
           "showlegend": true,
           "subplot": "polar",
           "theta": [
            30.0,
            60.0,
            90.0,
            120.0,
            150.0,
            180.0,
            210.0,
            240.0,
            270.0,
            300.0,
            330.0,
            360.0,
            30.0
           ],
           "type": "scatterpolar"
          }
         ],
         "name": "1996"
        },
        {
         "data": [
          {
           "hovertemplate": "Year=1997<br>Temperature=%{r}<br>prep_months=%{theta}<extra></extra>",
           "legendgroup": "1997",
           "line": {
            "color": "#ed7953",
            "dash": "solid"
           },
           "marker": {
            "symbol": "circle"
           },
           "mode": "lines",
           "name": "1997",
           "r": [
            -1.9,
            4.3,
            7.6,
            7.7,
            13.3,
            15.5,
            16.8,
            19.3,
            14.9,
            8.9,
            4.5,
            2.4,
            -1.9
           ],
           "showlegend": true,
           "subplot": "polar",
           "theta": [
            30.0,
            60.0,
            90.0,
            120.0,
            150.0,
            180.0,
            210.0,
            240.0,
            270.0,
            300.0,
            330.0,
            360.0,
            30.0
           ],
           "type": "scatterpolar"
          }
         ],
         "name": "1997"
        },
        {
         "data": [
          {
           "hovertemplate": "Year=1998<br>Temperature=%{r}<br>prep_months=%{theta}<extra></extra>",
           "legendgroup": "1998",
           "line": {
            "color": "#d8576b",
            "dash": "solid"
           },
           "marker": {
            "symbol": "circle"
           },
           "mode": "lines",
           "name": "1998",
           "r": [
            1.8,
            3.6,
            5.4,
            8.5,
            14.6,
            17.2,
            18.3,
            18.4,
            13.2,
            9.9,
            1.9,
            1.1,
            1.8
           ],
           "showlegend": true,
           "subplot": "polar",
           "theta": [
            30.0,
            60.0,
            90.0,
            120.0,
            150.0,
            180.0,
            210.0,
            240.0,
            270.0,
            300.0,
            330.0,
            360.0,
            30.0
           ],
           "type": "scatterpolar"
          }
         ],
         "name": "1998"
        },
        {
         "data": [
          {
           "hovertemplate": "Year=1999<br>Temperature=%{r}<br>prep_months=%{theta}<extra></extra>",
           "legendgroup": "1999",
           "line": {
            "color": "#bd3786",
            "dash": "solid"
           },
           "marker": {
            "symbol": "circle"
           },
           "mode": "lines",
           "name": "1999",
           "r": [
            2.0,
            -0.5,
            6.0,
            8.9,
            14.9,
            15.0,
            18.6,
            17.8,
            16.6,
            9.3,
            1.9,
            1.8,
            2.0
           ],
           "showlegend": true,
           "subplot": "polar",
           "theta": [
            30.0,
            60.0,
            90.0,
            120.0,
            150.0,
            180.0,
            210.0,
            240.0,
            270.0,
            300.0,
            330.0,
            360.0,
            30.0
           ],
           "type": "scatterpolar"
          }
         ],
         "name": "1999"
        },
        {
         "data": [
          {
           "hovertemplate": "Year=2000<br>Temperature=%{r}<br>prep_months=%{theta}<extra></extra>",
           "legendgroup": "2000",
           "line": {
            "color": "#9c179e",
            "dash": "solid"
           },
           "marker": {
            "symbol": "circle"
           },
           "mode": "lines",
           "name": "2000",
           "r": [
            -0.1,
            4.0,
            6.0,
            10.2,
            15.0,
            17.8,
            15.7,
            18.8,
            14.9,
            10.2,
            5.8,
            3.7,
            -0.1
           ],
           "showlegend": true,
           "subplot": "polar",
           "theta": [
            30.0,
            60.0,
            90.0,
            120.0,
            150.0,
            180.0,
            210.0,
            240.0,
            270.0,
            300.0,
            330.0,
            360.0,
            30.0
           ],
           "type": "scatterpolar"
          }
         ],
         "name": "2000"
        },
        {
         "data": [
          {
           "hovertemplate": "Year=2001<br>Temperature=%{r}<br>prep_months=%{theta}<extra></extra>",
           "legendgroup": "2001",
           "line": {
            "color": "#7201a8",
            "dash": "solid"
           },
           "marker": {
            "symbol": "circle"
           },
           "mode": "lines",
           "name": "2001",
           "r": [
            1.5,
            3.4,
            6.7,
            6.8,
            15.3,
            15.0,
            18.5,
            19.0,
            11.5,
            13.1,
            2.7,
            -0.3,
            1.5
           ],
           "showlegend": true,
           "subplot": "polar",
           "theta": [
            30.0,
            60.0,
            90.0,
            120.0,
            150.0,
            180.0,
            210.0,
            240.0,
            270.0,
            300.0,
            330.0,
            360.0,
            30.0
           ],
           "type": "scatterpolar"
          }
         ],
         "name": "2001"
        },
        {
         "data": [
          {
           "hovertemplate": "Year=2002<br>Temperature=%{r}<br>prep_months=%{theta}<extra></extra>",
           "legendgroup": "2002",
           "line": {
            "color": "#46039f",
            "dash": "solid"
           },
           "marker": {
            "symbol": "circle"
           },
           "mode": "lines",
           "name": "2002",
           "r": [
            0.6,
            5.5,
            7.0,
            8.9,
            12.8,
            19.1,
            18.0,
            17.5,
            12.8,
            9.9,
            6.5,
            3.7,
            0.6
           ],
           "showlegend": true,
           "subplot": "polar",
           "theta": [
            30.0,
            60.0,
            90.0,
            120.0,
            150.0,
            180.0,
            210.0,
            240.0,
            270.0,
            300.0,
            330.0,
            360.0,
            30.0
           ],
           "type": "scatterpolar"
          }
         ],
         "name": "2002"
        },
        {
         "data": [
          {
           "hovertemplate": "Year=2003<br>Temperature=%{r}<br>prep_months=%{theta}<extra></extra>",
           "legendgroup": "2003",
           "line": {
            "color": "#0d0887",
            "dash": "solid"
           },
           "marker": {
            "symbol": "circle"
           },
           "mode": "lines",
           "name": "2003",
           "r": [
            0.0,
            -2.0,
            7.4,
            9.2,
            14.6,
            22.3,
            19.8,
            22.7,
            14.5,
            6.4,
            5.4,
            1.2,
            0.0
           ],
           "showlegend": true,
           "subplot": "polar",
           "theta": [
            30.0,
            60.0,
            90.0,
            120.0,
            150.0,
            180.0,
            210.0,
            240.0,
            270.0,
            300.0,
            330.0,
            360.0,
            30.0
           ],
           "type": "scatterpolar"
          }
         ],
         "name": "2003"
        },
        {
         "data": [
          {
           "hovertemplate": "Year=2004<br>Temperature=%{r}<br>prep_months=%{theta}<extra></extra>",
           "legendgroup": "2004",
           "line": {
            "color": "#f0f921",
            "dash": "solid"
           },
           "marker": {
            "symbol": "circle"
           },
           "mode": "lines",
           "name": "2004",
           "r": [
            0.9,
            2.1,
            4.4,
            9.6,
            11.9,
            16.4,
            17.8,
            18.7,
            15.2,
            11.4,
            4.3,
            0.7,
            0.9
           ],
           "showlegend": true,
           "subplot": "polar",
           "theta": [
            30.0,
            60.0,
            90.0,
            120.0,
            150.0,
            180.0,
            210.0,
            240.0,
            270.0,
            300.0,
            330.0,
            360.0,
            30.0
           ],
           "type": "scatterpolar"
          }
         ],
         "name": "2004"
        },
        {
         "data": [
          {
           "hovertemplate": "Year=2005<br>Temperature=%{r}<br>prep_months=%{theta}<extra></extra>",
           "legendgroup": "2005",
           "line": {
            "color": "#fdca26",
            "dash": "solid"
           },
           "marker": {
            "symbol": "circle"
           },
           "mode": "lines",
           "name": "2005",
           "r": [
            0.5,
            -1.1,
            5.6,
            9.3,
            13.7,
            18.3,
            18.3,
            16.3,
            15.6,
            11.0,
            3.9,
            -0.4,
            0.5
           ],
           "showlegend": true,
           "subplot": "polar",
           "theta": [
            30.0,
            60.0,
            90.0,
            120.0,
            150.0,
            180.0,
            210.0,
            240.0,
            270.0,
            300.0,
            330.0,
            360.0,
            30.0
           ],
           "type": "scatterpolar"
          }
         ],
         "name": "2005"
        },
        {
         "data": [
          {
           "hovertemplate": "Year=2006<br>Temperature=%{r}<br>prep_months=%{theta}<extra></extra>",
           "legendgroup": "2006",
           "line": {
            "color": "#fb9f3a",
            "dash": "solid"
           },
           "marker": {
            "symbol": "circle"
           },
           "mode": "lines",
           "name": "2006",
           "r": [
            -2.2,
            0.0,
            3.1,
            8.8,
            13.3,
            17.7,
            22.5,
            14.7,
            16.9,
            12.7,
            7.0,
            2.5,
            -2.2
           ],
           "showlegend": true,
           "subplot": "polar",
           "theta": [
            30.0,
            60.0,
            90.0,
            120.0,
            150.0,
            180.0,
            210.0,
            240.0,
            270.0,
            300.0,
            330.0,
            360.0,
            30.0
           ],
           "type": "scatterpolar"
          }
         ],
         "name": "2006"
        },
        {
         "data": [
          {
           "hovertemplate": "Year=2007<br>Temperature=%{r}<br>prep_months=%{theta}<extra></extra>",
           "legendgroup": "2007",
           "line": {
            "color": "#ed7953",
            "dash": "solid"
           },
           "marker": {
            "symbol": "circle"
           },
           "mode": "lines",
           "name": "2007",
           "r": [
            4.5,
            4.8,
            5.7,
            13.9,
            14.6,
            17.2,
            17.6,
            17.0,
            13.0,
            9.3,
            2.9,
            0.6,
            4.5
           ],
           "showlegend": true,
           "subplot": "polar",
           "theta": [
            30.0,
            60.0,
            90.0,
            120.0,
            150.0,
            180.0,
            210.0,
            240.0,
            270.0,
            300.0,
            330.0,
            360.0,
            30.0
           ],
           "type": "scatterpolar"
          }
         ],
         "name": "2007"
        },
        {
         "data": [
          {
           "hovertemplate": "Year=2008<br>Temperature=%{r}<br>prep_months=%{theta}<extra></extra>",
           "legendgroup": "2008",
           "line": {
            "color": "#d8576b",
            "dash": "solid"
           },
           "marker": {
            "symbol": "circle"
           },
           "mode": "lines",
           "name": "2008",
           "r": [
            3.1,
            3.9,
            4.7,
            7.9,
            15.4,
            17.3,
            18.4,
            17.7,
            12.3,
            10.0,
            4.3,
            0.5,
            3.1
           ],
           "showlegend": true,
           "subplot": "polar",
           "theta": [
            30.0,
            60.0,
            90.0,
            120.0,
            150.0,
            180.0,
            210.0,
            240.0,
            270.0,
            300.0,
            330.0,
            360.0,
            30.0
           ],
           "type": "scatterpolar"
          }
         ],
         "name": "2008"
        },
        {
         "data": [
          {
           "hovertemplate": "Year=2009<br>Temperature=%{r}<br>prep_months=%{theta}<extra></extra>",
           "legendgroup": "2009",
           "line": {
            "color": "#bd3786",
            "dash": "solid"
           },
           "marker": {
            "symbol": "circle"
           },
           "mode": "lines",
           "name": "2009",
           "r": [
            -1.9,
            0.4,
            4.2,
            12.0,
            15.4,
            16.5,
            18.6,
            19.9,
            15.4,
            9.6,
            7.2,
            1.1,
            -1.9
           ],
           "showlegend": true,
           "subplot": "polar",
           "theta": [
            30.0,
            60.0,
            90.0,
            120.0,
            150.0,
            180.0,
            210.0,
            240.0,
            270.0,
            300.0,
            330.0,
            360.0,
            30.0
           ],
           "type": "scatterpolar"
          }
         ],
         "name": "2009"
        },
        {
         "data": [
          {
           "hovertemplate": "Year=2010<br>Temperature=%{r}<br>prep_months=%{theta}<extra></extra>",
           "legendgroup": "2010",
           "line": {
            "color": "#9c179e",
            "dash": "solid"
           },
           "marker": {
            "symbol": "circle"
           },
           "mode": "lines",
           "name": "2010",
           "r": [
            -1.9,
            0.9,
            4.6,
            10.1,
            11.5,
            16.9,
            20.0,
            17.2,
            13.2,
            8.7,
            5.3,
            -0.8,
            -1.9
           ],
           "showlegend": true,
           "subplot": "polar",
           "theta": [
            30.0,
            60.0,
            90.0,
            120.0,
            150.0,
            180.0,
            210.0,
            240.0,
            270.0,
            300.0,
            330.0,
            360.0,
            30.0
           ],
           "type": "scatterpolar"
          }
         ],
         "name": "2010"
        },
        {
         "data": [
          {
           "hovertemplate": "Year=2011<br>Temperature=%{r}<br>prep_months=%{theta}<extra></extra>",
           "legendgroup": "2011",
           "line": {
            "color": "#7201a8",
            "dash": "solid"
           },
           "marker": {
            "symbol": "circle"
           },
           "mode": "lines",
           "name": "2011",
           "r": [
            1.2,
            2.7,
            6.6,
            12.7,
            15.3,
            16.8,
            16.5,
            19.2,
            16.4,
            9.5,
            5.1,
            3.6,
            1.2
           ],
           "showlegend": true,
           "subplot": "polar",
           "theta": [
            30.0,
            60.0,
            90.0,
            120.0,
            150.0,
            180.0,
            210.0,
            240.0,
            270.0,
            300.0,
            330.0,
            360.0,
            30.0
           ],
           "type": "scatterpolar"
          }
         ],
         "name": "2011"
        },
        {
         "data": [
          {
           "hovertemplate": "Year=2012<br>Temperature=%{r}<br>prep_months=%{theta}<extra></extra>",
           "legendgroup": "2012",
           "line": {
            "color": "#46039f",
            "dash": "solid"
           },
           "marker": {
            "symbol": "circle"
           },
           "mode": "lines",
           "name": "2012",
           "r": [
            2.0,
            -3.5,
            8.2,
            9.0,
            14.2,
            17.5,
            17.9,
            19.5,
            14.2,
            9.7,
            5.8,
            2.0,
            2.0
           ],
           "showlegend": true,
           "subplot": "polar",
           "theta": [
            30.0,
            60.0,
            90.0,
            120.0,
            150.0,
            180.0,
            210.0,
            240.0,
            270.0,
            300.0,
            330.0,
            360.0,
            30.0
           ],
           "type": "scatterpolar"
          }
         ],
         "name": "2012"
        },
        {
         "data": [
          {
           "hovertemplate": "Year=2013<br>Temperature=%{r}<br>prep_months=%{theta}<extra></extra>",
           "legendgroup": "2013",
           "line": {
            "color": "#0d0887",
            "dash": "solid"
           },
           "marker": {
            "symbol": "circle"
           },
           "mode": "lines",
           "name": "2013",
           "r": [
            0.6,
            -1.3,
            2.5,
            8.8,
            10.9,
            16.1,
            20.7,
            18.7,
            14.7,
            11.3,
            4.0,
            1.7,
            0.6
           ],
           "showlegend": true,
           "subplot": "polar",
           "theta": [
            30.0,
            60.0,
            90.0,
            120.0,
            150.0,
            180.0,
            210.0,
            240.0,
            270.0,
            300.0,
            330.0,
            360.0,
            30.0
           ],
           "type": "scatterpolar"
          }
         ],
         "name": "2013"
        },
        {
         "data": [
          {
           "hovertemplate": "Year=2014<br>Temperature=%{r}<br>prep_months=%{theta}<extra></extra>",
           "legendgroup": "2014",
           "line": {
            "color": "#f0f921",
            "dash": "solid"
           },
           "marker": {
            "symbol": "circle"
           },
           "mode": "lines",
           "name": "2014",
           "r": [
            3.1,
            4.1,
            7.3,
            10.9,
            12.6,
            18.0,
            17.6,
            16.4,
            15.2,
            12.4,
            6.6,
            3.1,
            3.1
           ],
           "showlegend": true,
           "subplot": "polar",
           "theta": [
            30.0,
            60.0,
            90.0,
            120.0,
            150.0,
            180.0,
            210.0,
            240.0,
            270.0,
            300.0,
            330.0,
            360.0,
            30.0
           ],
           "type": "scatterpolar"
          }
         ],
         "name": "2014"
        },
        {
         "data": [
          {
           "hovertemplate": "Year=2015<br>Temperature=%{r}<br>prep_months=%{theta}<extra></extra>",
           "legendgroup": "2015",
           "line": {
            "color": "#fdca26",
            "dash": "solid"
           },
           "marker": {
            "symbol": "circle"
           },
           "mode": "lines",
           "name": "2015",
           "r": [
            1.9,
            -0.5,
            6.4,
            10.1,
            13.8,
            17.9,
            22.2,
            20.4,
            13.2,
            9.2,
            7.8,
            4.4,
            1.9
           ],
           "showlegend": true,
           "subplot": "polar",
           "theta": [
            30.0,
            60.0,
            90.0,
            120.0,
            150.0,
            180.0,
            210.0,
            240.0,
            270.0,
            300.0,
            330.0,
            360.0,
            30.0
           ],
           "type": "scatterpolar"
          }
         ],
         "name": "2015"
        },
        {
         "data": [
          {
           "hovertemplate": "Year=2016<br>Temperature=%{r}<br>prep_months=%{theta}<extra></extra>",
           "legendgroup": "2016",
           "line": {
            "color": "#fb9f3a",
            "dash": "solid"
           },
           "marker": {
            "symbol": "circle"
           },
           "mode": "lines",
           "name": "2016",
           "r": [
            2.8,
            3.9,
            4.7,
            8.9,
            12.8,
            16.4,
            19.4,
            19.0,
            16.8,
            8.5,
            4.9,
            0.7,
            2.8
           ],
           "showlegend": true,
           "subplot": "polar",
           "theta": [
            30.0,
            60.0,
            90.0,
            120.0,
            150.0,
            180.0,
            210.0,
            240.0,
            270.0,
            300.0,
            330.0,
            360.0,
            30.0
           ],
           "type": "scatterpolar"
          }
         ],
         "name": "2016"
        },
        {
         "data": [
          {
           "hovertemplate": "Year=2017<br>Temperature=%{r}<br>prep_months=%{theta}<extra></extra>",
           "legendgroup": "2017",
           "line": {
            "color": "#ed7953",
            "dash": "solid"
           },
           "marker": {
            "symbol": "circle"
           },
           "mode": "lines",
           "name": "2017",
           "r": [
            -3.0,
            3.7,
            8.5,
            8.8,
            14.8,
            19.9,
            19.2,
            19.5,
            13.1,
            11.3,
            4.8,
            1.3,
            -3.0
           ],
           "showlegend": true,
           "subplot": "polar",
           "theta": [
            30.0,
            60.0,
            90.0,
            120.0,
            150.0,
            180.0,
            210.0,
            240.0,
            270.0,
            300.0,
            330.0,
            360.0,
            30.0
           ],
           "type": "scatterpolar"
          }
         ],
         "name": "2017"
        },
        {
         "data": [
          {
           "hovertemplate": "Year=2018<br>Temperature=%{r}<br>prep_months=%{theta}<extra></extra>",
           "legendgroup": "2018",
           "line": {
            "color": "#d8576b",
            "dash": "solid"
           },
           "marker": {
            "symbol": "circle"
           },
           "mode": "lines",
           "name": "2018",
           "r": [
            4.8,
            -1.5,
            3.8,
            13.5,
            15.4,
            18.5,
            21.2,
            20.8,
            16.4,
            11.2,
            5.4,
            3.5,
            4.8
           ],
           "showlegend": true,
           "subplot": "polar",
           "theta": [
            30.0,
            60.0,
            90.0,
            120.0,
            150.0,
            180.0,
            210.0,
            240.0,
            270.0,
            300.0,
            330.0,
            360.0,
            30.0
           ],
           "type": "scatterpolar"
          }
         ],
         "name": "2018"
        },
        {
         "data": [
          {
           "hovertemplate": "Year=2019<br>Temperature=%{r}<br>prep_months=%{theta}<extra></extra>",
           "legendgroup": "2019",
           "line": {
            "color": "#bd3786",
            "dash": "solid"
           },
           "marker": {
            "symbol": "circle"
           },
           "mode": "lines",
           "name": "2019",
           "r": [
            0.1,
            3.9,
            7.2,
            9.3,
            10.6,
            19.6,
            20.7,
            18.9,
            15.0,
            11.6,
            5.5,
            3.8,
            0.1
           ],
           "showlegend": true,
           "subplot": "polar",
           "theta": [
            30.0,
            60.0,
            90.0,
            120.0,
            150.0,
            180.0,
            210.0,
            240.0,
            270.0,
            300.0,
            330.0,
            360.0,
            30.0
           ],
           "type": "scatterpolar"
          }
         ],
         "name": "2019"
        },
        {
         "data": [
          {
           "hovertemplate": "Year=2020<br>Temperature=%{r}<br>prep_months=%{theta}<extra></extra>",
           "legendgroup": "2020",
           "line": {
            "color": "#9c179e",
            "dash": "solid"
           },
           "marker": {
            "symbol": "circle"
           },
           "mode": "lines",
           "name": "2020",
           "r": [
            2.6,
            6.2,
            5.9,
            12.9,
            13.6,
            16.3,
            20.0,
            19.7,
            16.1,
            9.5,
            5.9,
            2.1,
            2.6
           ],
           "showlegend": true,
           "subplot": "polar",
           "theta": [
            30.0,
            60.0,
            90.0,
            120.0,
            150.0,
            180.0,
            210.0,
            240.0,
            270.0,
            300.0,
            330.0,
            360.0,
            30.0
           ],
           "type": "scatterpolar"
          }
         ],
         "name": "2020"
        },
        {
         "data": [
          {
           "hovertemplate": "Year=2021<br>Temperature=%{r}<br>prep_months=%{theta}<extra></extra>",
           "legendgroup": "2021",
           "line": {
            "color": "#7201a8",
            "dash": "solid"
           },
           "marker": {
            "symbol": "circle"
           },
           "mode": "lines",
           "name": "2021",
           "r": [
            0.6,
            4.0,
            5.6,
            8.1,
            10.9,
            18.9,
            17.8,
            17.2,
            16.1,
            9.5,
            3.8,
            2.7,
            0.6
           ],
           "showlegend": true,
           "subplot": "polar",
           "theta": [
            30.0,
            60.0,
            90.0,
            120.0,
            150.0,
            180.0,
            210.0,
            240.0,
            270.0,
            300.0,
            330.0,
            360.0,
            30.0
           ],
           "type": "scatterpolar"
          }
         ],
         "name": "2021"
        },
        {
         "data": [
          {
           "hovertemplate": "Year=2022<br>Temperature=%{r}<br>prep_months=%{theta}<extra></extra>",
           "legendgroup": "2022",
           "line": {
            "color": "#46039f",
            "dash": "solid"
           },
           "marker": {
            "symbol": "circle"
           },
           "mode": "lines",
           "name": "2022",
           "r": [
            1.7,
            4.5,
            7.2,
            9.2,
            16.0,
            19.5,
            21.3,
            20.4,
            14.3,
            13.7,
            7.3,
            2.7,
            1.7
           ],
           "showlegend": true,
           "subplot": "polar",
           "theta": [
            30.0,
            60.0,
            90.0,
            120.0,
            150.0,
            180.0,
            210.0,
            240.0,
            270.0,
            300.0,
            330.0,
            360.0,
            30.0
           ],
           "type": "scatterpolar"
          }
         ],
         "name": "2022"
        },
        {
         "data": [
          {
           "hovertemplate": "Year=2023<br>Temperature=%{r}<br>prep_months=%{theta}<extra></extra>",
           "legendgroup": "2023",
           "line": {
            "color": "#0d0887",
            "dash": "solid"
           },
           "marker": {
            "symbol": "circle"
           },
           "mode": "lines",
           "name": "2023",
           "r": [
            2.9,
            3.5,
            7.0,
            8.2,
            13.8,
            20.0,
            2.9
           ],
           "showlegend": true,
           "subplot": "polar",
           "theta": [
            30.0,
            60.0,
            90.0,
            120.0,
            150.0,
            180.0,
            30.0
           ],
           "type": "scatterpolar"
          }
         ],
         "name": "2023"
        }
       ],
       "config": {
        "plotlyServerURL": "https://plot.ly"
       }
      },
      "text/html": "<div>                            <div id=\"f0477fba-91d6-496f-89d0-08a04619dcc0\" class=\"plotly-graph-div\" style=\"height:525px; width:100%;\"></div>            <script type=\"text/javascript\">                require([\"plotly\"], function(Plotly) {                    window.PLOTLYENV=window.PLOTLYENV || {};                                    if (document.getElementById(\"f0477fba-91d6-496f-89d0-08a04619dcc0\")) {                    Plotly.newPlot(                        \"f0477fba-91d6-496f-89d0-08a04619dcc0\",                        [{\"hovertemplate\":\"Year=1864<br>Temperature=%{r}<br>prep_months=%{theta}<extra></extra>\",\"legendgroup\":\"1864\",\"line\":{\"color\":\"#f0f921\",\"dash\":\"solid\"},\"marker\":{\"symbol\":\"circle\"},\"mode\":\"lines\",\"name\":\"1864\",\"r\":[-6.6,-1.5,4.5,6.8,12.3,14.7,16.9,15.3,12.9,6.7,2.5,-4.2,-6.6],\"showlegend\":true,\"subplot\":\"polar\",\"theta\":[30.0,60.0,90.0,120.0,150.0,180.0,210.0,240.0,270.0,300.0,330.0,360.0,30.0],\"type\":\"scatterpolar\"}],                        {\"template\":{\"data\":{\"barpolar\":[{\"marker\":{\"line\":{\"color\":\"rgb(17,17,17)\",\"width\":0.5},\"pattern\":{\"fillmode\":\"overlay\",\"size\":10,\"solidity\":0.2}},\"type\":\"barpolar\"}],\"bar\":[{\"error_x\":{\"color\":\"#f2f5fa\"},\"error_y\":{\"color\":\"#f2f5fa\"},\"marker\":{\"line\":{\"color\":\"rgb(17,17,17)\",\"width\":0.5},\"pattern\":{\"fillmode\":\"overlay\",\"size\":10,\"solidity\":0.2}},\"type\":\"bar\"}],\"carpet\":[{\"aaxis\":{\"endlinecolor\":\"#A2B1C6\",\"gridcolor\":\"#506784\",\"linecolor\":\"#506784\",\"minorgridcolor\":\"#506784\",\"startlinecolor\":\"#A2B1C6\"},\"baxis\":{\"endlinecolor\":\"#A2B1C6\",\"gridcolor\":\"#506784\",\"linecolor\":\"#506784\",\"minorgridcolor\":\"#506784\",\"startlinecolor\":\"#A2B1C6\"},\"type\":\"carpet\"}],\"choropleth\":[{\"colorbar\":{\"outlinewidth\":0,\"ticks\":\"\"},\"type\":\"choropleth\"}],\"contourcarpet\":[{\"colorbar\":{\"outlinewidth\":0,\"ticks\":\"\"},\"type\":\"contourcarpet\"}],\"contour\":[{\"colorbar\":{\"outlinewidth\":0,\"ticks\":\"\"},\"colorscale\":[[0.0,\"#0d0887\"],[0.1111111111111111,\"#46039f\"],[0.2222222222222222,\"#7201a8\"],[0.3333333333333333,\"#9c179e\"],[0.4444444444444444,\"#bd3786\"],[0.5555555555555556,\"#d8576b\"],[0.6666666666666666,\"#ed7953\"],[0.7777777777777778,\"#fb9f3a\"],[0.8888888888888888,\"#fdca26\"],[1.0,\"#f0f921\"]],\"type\":\"contour\"}],\"heatmapgl\":[{\"colorbar\":{\"outlinewidth\":0,\"ticks\":\"\"},\"colorscale\":[[0.0,\"#0d0887\"],[0.1111111111111111,\"#46039f\"],[0.2222222222222222,\"#7201a8\"],[0.3333333333333333,\"#9c179e\"],[0.4444444444444444,\"#bd3786\"],[0.5555555555555556,\"#d8576b\"],[0.6666666666666666,\"#ed7953\"],[0.7777777777777778,\"#fb9f3a\"],[0.8888888888888888,\"#fdca26\"],[1.0,\"#f0f921\"]],\"type\":\"heatmapgl\"}],\"heatmap\":[{\"colorbar\":{\"outlinewidth\":0,\"ticks\":\"\"},\"colorscale\":[[0.0,\"#0d0887\"],[0.1111111111111111,\"#46039f\"],[0.2222222222222222,\"#7201a8\"],[0.3333333333333333,\"#9c179e\"],[0.4444444444444444,\"#bd3786\"],[0.5555555555555556,\"#d8576b\"],[0.6666666666666666,\"#ed7953\"],[0.7777777777777778,\"#fb9f3a\"],[0.8888888888888888,\"#fdca26\"],[1.0,\"#f0f921\"]],\"type\":\"heatmap\"}],\"histogram2dcontour\":[{\"colorbar\":{\"outlinewidth\":0,\"ticks\":\"\"},\"colorscale\":[[0.0,\"#0d0887\"],[0.1111111111111111,\"#46039f\"],[0.2222222222222222,\"#7201a8\"],[0.3333333333333333,\"#9c179e\"],[0.4444444444444444,\"#bd3786\"],[0.5555555555555556,\"#d8576b\"],[0.6666666666666666,\"#ed7953\"],[0.7777777777777778,\"#fb9f3a\"],[0.8888888888888888,\"#fdca26\"],[1.0,\"#f0f921\"]],\"type\":\"histogram2dcontour\"}],\"histogram2d\":[{\"colorbar\":{\"outlinewidth\":0,\"ticks\":\"\"},\"colorscale\":[[0.0,\"#0d0887\"],[0.1111111111111111,\"#46039f\"],[0.2222222222222222,\"#7201a8\"],[0.3333333333333333,\"#9c179e\"],[0.4444444444444444,\"#bd3786\"],[0.5555555555555556,\"#d8576b\"],[0.6666666666666666,\"#ed7953\"],[0.7777777777777778,\"#fb9f3a\"],[0.8888888888888888,\"#fdca26\"],[1.0,\"#f0f921\"]],\"type\":\"histogram2d\"}],\"histogram\":[{\"marker\":{\"pattern\":{\"fillmode\":\"overlay\",\"size\":10,\"solidity\":0.2}},\"type\":\"histogram\"}],\"mesh3d\":[{\"colorbar\":{\"outlinewidth\":0,\"ticks\":\"\"},\"type\":\"mesh3d\"}],\"parcoords\":[{\"line\":{\"colorbar\":{\"outlinewidth\":0,\"ticks\":\"\"}},\"type\":\"parcoords\"}],\"pie\":[{\"automargin\":true,\"type\":\"pie\"}],\"scatter3d\":[{\"line\":{\"colorbar\":{\"outlinewidth\":0,\"ticks\":\"\"}},\"marker\":{\"colorbar\":{\"outlinewidth\":0,\"ticks\":\"\"}},\"type\":\"scatter3d\"}],\"scattercarpet\":[{\"marker\":{\"colorbar\":{\"outlinewidth\":0,\"ticks\":\"\"}},\"type\":\"scattercarpet\"}],\"scattergeo\":[{\"marker\":{\"colorbar\":{\"outlinewidth\":0,\"ticks\":\"\"}},\"type\":\"scattergeo\"}],\"scattergl\":[{\"marker\":{\"line\":{\"color\":\"#283442\"}},\"type\":\"scattergl\"}],\"scattermapbox\":[{\"marker\":{\"colorbar\":{\"outlinewidth\":0,\"ticks\":\"\"}},\"type\":\"scattermapbox\"}],\"scatterpolargl\":[{\"marker\":{\"colorbar\":{\"outlinewidth\":0,\"ticks\":\"\"}},\"type\":\"scatterpolargl\"}],\"scatterpolar\":[{\"marker\":{\"colorbar\":{\"outlinewidth\":0,\"ticks\":\"\"}},\"type\":\"scatterpolar\"}],\"scatter\":[{\"marker\":{\"line\":{\"color\":\"#283442\"}},\"type\":\"scatter\"}],\"scatterternary\":[{\"marker\":{\"colorbar\":{\"outlinewidth\":0,\"ticks\":\"\"}},\"type\":\"scatterternary\"}],\"surface\":[{\"colorbar\":{\"outlinewidth\":0,\"ticks\":\"\"},\"colorscale\":[[0.0,\"#0d0887\"],[0.1111111111111111,\"#46039f\"],[0.2222222222222222,\"#7201a8\"],[0.3333333333333333,\"#9c179e\"],[0.4444444444444444,\"#bd3786\"],[0.5555555555555556,\"#d8576b\"],[0.6666666666666666,\"#ed7953\"],[0.7777777777777778,\"#fb9f3a\"],[0.8888888888888888,\"#fdca26\"],[1.0,\"#f0f921\"]],\"type\":\"surface\"}],\"table\":[{\"cells\":{\"fill\":{\"color\":\"#506784\"},\"line\":{\"color\":\"rgb(17,17,17)\"}},\"header\":{\"fill\":{\"color\":\"#2a3f5f\"},\"line\":{\"color\":\"rgb(17,17,17)\"}},\"type\":\"table\"}]},\"layout\":{\"annotationdefaults\":{\"arrowcolor\":\"#f2f5fa\",\"arrowhead\":0,\"arrowwidth\":1},\"autotypenumbers\":\"strict\",\"coloraxis\":{\"colorbar\":{\"outlinewidth\":0,\"ticks\":\"\"}},\"colorscale\":{\"diverging\":[[0,\"#8e0152\"],[0.1,\"#c51b7d\"],[0.2,\"#de77ae\"],[0.3,\"#f1b6da\"],[0.4,\"#fde0ef\"],[0.5,\"#f7f7f7\"],[0.6,\"#e6f5d0\"],[0.7,\"#b8e186\"],[0.8,\"#7fbc41\"],[0.9,\"#4d9221\"],[1,\"#276419\"]],\"sequential\":[[0.0,\"#0d0887\"],[0.1111111111111111,\"#46039f\"],[0.2222222222222222,\"#7201a8\"],[0.3333333333333333,\"#9c179e\"],[0.4444444444444444,\"#bd3786\"],[0.5555555555555556,\"#d8576b\"],[0.6666666666666666,\"#ed7953\"],[0.7777777777777778,\"#fb9f3a\"],[0.8888888888888888,\"#fdca26\"],[1.0,\"#f0f921\"]],\"sequentialminus\":[[0.0,\"#0d0887\"],[0.1111111111111111,\"#46039f\"],[0.2222222222222222,\"#7201a8\"],[0.3333333333333333,\"#9c179e\"],[0.4444444444444444,\"#bd3786\"],[0.5555555555555556,\"#d8576b\"],[0.6666666666666666,\"#ed7953\"],[0.7777777777777778,\"#fb9f3a\"],[0.8888888888888888,\"#fdca26\"],[1.0,\"#f0f921\"]]},\"colorway\":[\"#636efa\",\"#EF553B\",\"#00cc96\",\"#ab63fa\",\"#FFA15A\",\"#19d3f3\",\"#FF6692\",\"#B6E880\",\"#FF97FF\",\"#FECB52\"],\"font\":{\"color\":\"#f2f5fa\"},\"geo\":{\"bgcolor\":\"rgb(17,17,17)\",\"lakecolor\":\"rgb(17,17,17)\",\"landcolor\":\"rgb(17,17,17)\",\"showlakes\":true,\"showland\":true,\"subunitcolor\":\"#506784\"},\"hoverlabel\":{\"align\":\"left\"},\"hovermode\":\"closest\",\"mapbox\":{\"style\":\"dark\"},\"paper_bgcolor\":\"rgb(17,17,17)\",\"plot_bgcolor\":\"rgb(17,17,17)\",\"polar\":{\"angularaxis\":{\"gridcolor\":\"#506784\",\"linecolor\":\"#506784\",\"ticks\":\"\"},\"bgcolor\":\"rgb(17,17,17)\",\"radialaxis\":{\"gridcolor\":\"#506784\",\"linecolor\":\"#506784\",\"ticks\":\"\"}},\"scene\":{\"xaxis\":{\"backgroundcolor\":\"rgb(17,17,17)\",\"gridcolor\":\"#506784\",\"gridwidth\":2,\"linecolor\":\"#506784\",\"showbackground\":true,\"ticks\":\"\",\"zerolinecolor\":\"#C8D4E3\"},\"yaxis\":{\"backgroundcolor\":\"rgb(17,17,17)\",\"gridcolor\":\"#506784\",\"gridwidth\":2,\"linecolor\":\"#506784\",\"showbackground\":true,\"ticks\":\"\",\"zerolinecolor\":\"#C8D4E3\"},\"zaxis\":{\"backgroundcolor\":\"rgb(17,17,17)\",\"gridcolor\":\"#506784\",\"gridwidth\":2,\"linecolor\":\"#506784\",\"showbackground\":true,\"ticks\":\"\",\"zerolinecolor\":\"#C8D4E3\"}},\"shapedefaults\":{\"line\":{\"color\":\"#f2f5fa\"}},\"sliderdefaults\":{\"bgcolor\":\"#C8D4E3\",\"bordercolor\":\"rgb(17,17,17)\",\"borderwidth\":1,\"tickwidth\":0},\"ternary\":{\"aaxis\":{\"gridcolor\":\"#506784\",\"linecolor\":\"#506784\",\"ticks\":\"\"},\"baxis\":{\"gridcolor\":\"#506784\",\"linecolor\":\"#506784\",\"ticks\":\"\"},\"bgcolor\":\"rgb(17,17,17)\",\"caxis\":{\"gridcolor\":\"#506784\",\"linecolor\":\"#506784\",\"ticks\":\"\"}},\"title\":{\"x\":0.05},\"updatemenudefaults\":{\"bgcolor\":\"#506784\",\"borderwidth\":0},\"xaxis\":{\"automargin\":true,\"gridcolor\":\"#283442\",\"linecolor\":\"#506784\",\"ticks\":\"\",\"title\":{\"standoff\":15},\"zerolinecolor\":\"#283442\",\"zerolinewidth\":2},\"yaxis\":{\"automargin\":true,\"gridcolor\":\"#283442\",\"linecolor\":\"#506784\",\"ticks\":\"\",\"title\":{\"standoff\":15},\"zerolinecolor\":\"#283442\",\"zerolinewidth\":2}}},\"polar\":{\"domain\":{\"x\":[0.0,1.0],\"y\":[0.0,1.0]},\"angularaxis\":{\"direction\":\"clockwise\",\"rotation\":90},\"radialaxis\":{\"range\":[0,20]}},\"legend\":{\"title\":{\"text\":\"Year\"},\"tracegroupgap\":0},\"margin\":{\"t\":60},\"updatemenus\":[{\"buttons\":[{\"args\":[null,{\"frame\":{\"duration\":500,\"redraw\":true},\"mode\":\"immediate\",\"fromcurrent\":true,\"transition\":{\"duration\":500,\"easing\":\"linear\"}}],\"label\":\"&#9654;\",\"method\":\"animate\"},{\"args\":[[null],{\"frame\":{\"duration\":0,\"redraw\":true},\"mode\":\"immediate\",\"fromcurrent\":true,\"transition\":{\"duration\":0,\"easing\":\"linear\"}}],\"label\":\"&#9724;\",\"method\":\"animate\"}],\"direction\":\"left\",\"pad\":{\"r\":10,\"t\":70},\"showactive\":false,\"type\":\"buttons\",\"x\":0.1,\"xanchor\":\"right\",\"y\":0,\"yanchor\":\"top\"}],\"sliders\":[{\"active\":0,\"currentvalue\":{\"prefix\":\"Year=\"},\"len\":0.9,\"pad\":{\"b\":10,\"t\":60},\"steps\":[{\"args\":[[\"1864\"],{\"frame\":{\"duration\":0,\"redraw\":true},\"mode\":\"immediate\",\"fromcurrent\":true,\"transition\":{\"duration\":0,\"easing\":\"linear\"}}],\"label\":\"1864\",\"method\":\"animate\"},{\"args\":[[\"1865\"],{\"frame\":{\"duration\":0,\"redraw\":true},\"mode\":\"immediate\",\"fromcurrent\":true,\"transition\":{\"duration\":0,\"easing\":\"linear\"}}],\"label\":\"1865\",\"method\":\"animate\"},{\"args\":[[\"1866\"],{\"frame\":{\"duration\":0,\"redraw\":true},\"mode\":\"immediate\",\"fromcurrent\":true,\"transition\":{\"duration\":0,\"easing\":\"linear\"}}],\"label\":\"1866\",\"method\":\"animate\"},{\"args\":[[\"1867\"],{\"frame\":{\"duration\":0,\"redraw\":true},\"mode\":\"immediate\",\"fromcurrent\":true,\"transition\":{\"duration\":0,\"easing\":\"linear\"}}],\"label\":\"1867\",\"method\":\"animate\"},{\"args\":[[\"1868\"],{\"frame\":{\"duration\":0,\"redraw\":true},\"mode\":\"immediate\",\"fromcurrent\":true,\"transition\":{\"duration\":0,\"easing\":\"linear\"}}],\"label\":\"1868\",\"method\":\"animate\"},{\"args\":[[\"1869\"],{\"frame\":{\"duration\":0,\"redraw\":true},\"mode\":\"immediate\",\"fromcurrent\":true,\"transition\":{\"duration\":0,\"easing\":\"linear\"}}],\"label\":\"1869\",\"method\":\"animate\"},{\"args\":[[\"1870\"],{\"frame\":{\"duration\":0,\"redraw\":true},\"mode\":\"immediate\",\"fromcurrent\":true,\"transition\":{\"duration\":0,\"easing\":\"linear\"}}],\"label\":\"1870\",\"method\":\"animate\"},{\"args\":[[\"1871\"],{\"frame\":{\"duration\":0,\"redraw\":true},\"mode\":\"immediate\",\"fromcurrent\":true,\"transition\":{\"duration\":0,\"easing\":\"linear\"}}],\"label\":\"1871\",\"method\":\"animate\"},{\"args\":[[\"1872\"],{\"frame\":{\"duration\":0,\"redraw\":true},\"mode\":\"immediate\",\"fromcurrent\":true,\"transition\":{\"duration\":0,\"easing\":\"linear\"}}],\"label\":\"1872\",\"method\":\"animate\"},{\"args\":[[\"1873\"],{\"frame\":{\"duration\":0,\"redraw\":true},\"mode\":\"immediate\",\"fromcurrent\":true,\"transition\":{\"duration\":0,\"easing\":\"linear\"}}],\"label\":\"1873\",\"method\":\"animate\"},{\"args\":[[\"1874\"],{\"frame\":{\"duration\":0,\"redraw\":true},\"mode\":\"immediate\",\"fromcurrent\":true,\"transition\":{\"duration\":0,\"easing\":\"linear\"}}],\"label\":\"1874\",\"method\":\"animate\"},{\"args\":[[\"1875\"],{\"frame\":{\"duration\":0,\"redraw\":true},\"mode\":\"immediate\",\"fromcurrent\":true,\"transition\":{\"duration\":0,\"easing\":\"linear\"}}],\"label\":\"1875\",\"method\":\"animate\"},{\"args\":[[\"1876\"],{\"frame\":{\"duration\":0,\"redraw\":true},\"mode\":\"immediate\",\"fromcurrent\":true,\"transition\":{\"duration\":0,\"easing\":\"linear\"}}],\"label\":\"1876\",\"method\":\"animate\"},{\"args\":[[\"1877\"],{\"frame\":{\"duration\":0,\"redraw\":true},\"mode\":\"immediate\",\"fromcurrent\":true,\"transition\":{\"duration\":0,\"easing\":\"linear\"}}],\"label\":\"1877\",\"method\":\"animate\"},{\"args\":[[\"1878\"],{\"frame\":{\"duration\":0,\"redraw\":true},\"mode\":\"immediate\",\"fromcurrent\":true,\"transition\":{\"duration\":0,\"easing\":\"linear\"}}],\"label\":\"1878\",\"method\":\"animate\"},{\"args\":[[\"1879\"],{\"frame\":{\"duration\":0,\"redraw\":true},\"mode\":\"immediate\",\"fromcurrent\":true,\"transition\":{\"duration\":0,\"easing\":\"linear\"}}],\"label\":\"1879\",\"method\":\"animate\"},{\"args\":[[\"1880\"],{\"frame\":{\"duration\":0,\"redraw\":true},\"mode\":\"immediate\",\"fromcurrent\":true,\"transition\":{\"duration\":0,\"easing\":\"linear\"}}],\"label\":\"1880\",\"method\":\"animate\"},{\"args\":[[\"1881\"],{\"frame\":{\"duration\":0,\"redraw\":true},\"mode\":\"immediate\",\"fromcurrent\":true,\"transition\":{\"duration\":0,\"easing\":\"linear\"}}],\"label\":\"1881\",\"method\":\"animate\"},{\"args\":[[\"1882\"],{\"frame\":{\"duration\":0,\"redraw\":true},\"mode\":\"immediate\",\"fromcurrent\":true,\"transition\":{\"duration\":0,\"easing\":\"linear\"}}],\"label\":\"1882\",\"method\":\"animate\"},{\"args\":[[\"1883\"],{\"frame\":{\"duration\":0,\"redraw\":true},\"mode\":\"immediate\",\"fromcurrent\":true,\"transition\":{\"duration\":0,\"easing\":\"linear\"}}],\"label\":\"1883\",\"method\":\"animate\"},{\"args\":[[\"1884\"],{\"frame\":{\"duration\":0,\"redraw\":true},\"mode\":\"immediate\",\"fromcurrent\":true,\"transition\":{\"duration\":0,\"easing\":\"linear\"}}],\"label\":\"1884\",\"method\":\"animate\"},{\"args\":[[\"1885\"],{\"frame\":{\"duration\":0,\"redraw\":true},\"mode\":\"immediate\",\"fromcurrent\":true,\"transition\":{\"duration\":0,\"easing\":\"linear\"}}],\"label\":\"1885\",\"method\":\"animate\"},{\"args\":[[\"1886\"],{\"frame\":{\"duration\":0,\"redraw\":true},\"mode\":\"immediate\",\"fromcurrent\":true,\"transition\":{\"duration\":0,\"easing\":\"linear\"}}],\"label\":\"1886\",\"method\":\"animate\"},{\"args\":[[\"1887\"],{\"frame\":{\"duration\":0,\"redraw\":true},\"mode\":\"immediate\",\"fromcurrent\":true,\"transition\":{\"duration\":0,\"easing\":\"linear\"}}],\"label\":\"1887\",\"method\":\"animate\"},{\"args\":[[\"1888\"],{\"frame\":{\"duration\":0,\"redraw\":true},\"mode\":\"immediate\",\"fromcurrent\":true,\"transition\":{\"duration\":0,\"easing\":\"linear\"}}],\"label\":\"1888\",\"method\":\"animate\"},{\"args\":[[\"1889\"],{\"frame\":{\"duration\":0,\"redraw\":true},\"mode\":\"immediate\",\"fromcurrent\":true,\"transition\":{\"duration\":0,\"easing\":\"linear\"}}],\"label\":\"1889\",\"method\":\"animate\"},{\"args\":[[\"1890\"],{\"frame\":{\"duration\":0,\"redraw\":true},\"mode\":\"immediate\",\"fromcurrent\":true,\"transition\":{\"duration\":0,\"easing\":\"linear\"}}],\"label\":\"1890\",\"method\":\"animate\"},{\"args\":[[\"1891\"],{\"frame\":{\"duration\":0,\"redraw\":true},\"mode\":\"immediate\",\"fromcurrent\":true,\"transition\":{\"duration\":0,\"easing\":\"linear\"}}],\"label\":\"1891\",\"method\":\"animate\"},{\"args\":[[\"1892\"],{\"frame\":{\"duration\":0,\"redraw\":true},\"mode\":\"immediate\",\"fromcurrent\":true,\"transition\":{\"duration\":0,\"easing\":\"linear\"}}],\"label\":\"1892\",\"method\":\"animate\"},{\"args\":[[\"1893\"],{\"frame\":{\"duration\":0,\"redraw\":true},\"mode\":\"immediate\",\"fromcurrent\":true,\"transition\":{\"duration\":0,\"easing\":\"linear\"}}],\"label\":\"1893\",\"method\":\"animate\"},{\"args\":[[\"1894\"],{\"frame\":{\"duration\":0,\"redraw\":true},\"mode\":\"immediate\",\"fromcurrent\":true,\"transition\":{\"duration\":0,\"easing\":\"linear\"}}],\"label\":\"1894\",\"method\":\"animate\"},{\"args\":[[\"1895\"],{\"frame\":{\"duration\":0,\"redraw\":true},\"mode\":\"immediate\",\"fromcurrent\":true,\"transition\":{\"duration\":0,\"easing\":\"linear\"}}],\"label\":\"1895\",\"method\":\"animate\"},{\"args\":[[\"1896\"],{\"frame\":{\"duration\":0,\"redraw\":true},\"mode\":\"immediate\",\"fromcurrent\":true,\"transition\":{\"duration\":0,\"easing\":\"linear\"}}],\"label\":\"1896\",\"method\":\"animate\"},{\"args\":[[\"1897\"],{\"frame\":{\"duration\":0,\"redraw\":true},\"mode\":\"immediate\",\"fromcurrent\":true,\"transition\":{\"duration\":0,\"easing\":\"linear\"}}],\"label\":\"1897\",\"method\":\"animate\"},{\"args\":[[\"1898\"],{\"frame\":{\"duration\":0,\"redraw\":true},\"mode\":\"immediate\",\"fromcurrent\":true,\"transition\":{\"duration\":0,\"easing\":\"linear\"}}],\"label\":\"1898\",\"method\":\"animate\"},{\"args\":[[\"1899\"],{\"frame\":{\"duration\":0,\"redraw\":true},\"mode\":\"immediate\",\"fromcurrent\":true,\"transition\":{\"duration\":0,\"easing\":\"linear\"}}],\"label\":\"1899\",\"method\":\"animate\"},{\"args\":[[\"1900\"],{\"frame\":{\"duration\":0,\"redraw\":true},\"mode\":\"immediate\",\"fromcurrent\":true,\"transition\":{\"duration\":0,\"easing\":\"linear\"}}],\"label\":\"1900\",\"method\":\"animate\"},{\"args\":[[\"1901\"],{\"frame\":{\"duration\":0,\"redraw\":true},\"mode\":\"immediate\",\"fromcurrent\":true,\"transition\":{\"duration\":0,\"easing\":\"linear\"}}],\"label\":\"1901\",\"method\":\"animate\"},{\"args\":[[\"1902\"],{\"frame\":{\"duration\":0,\"redraw\":true},\"mode\":\"immediate\",\"fromcurrent\":true,\"transition\":{\"duration\":0,\"easing\":\"linear\"}}],\"label\":\"1902\",\"method\":\"animate\"},{\"args\":[[\"1903\"],{\"frame\":{\"duration\":0,\"redraw\":true},\"mode\":\"immediate\",\"fromcurrent\":true,\"transition\":{\"duration\":0,\"easing\":\"linear\"}}],\"label\":\"1903\",\"method\":\"animate\"},{\"args\":[[\"1904\"],{\"frame\":{\"duration\":0,\"redraw\":true},\"mode\":\"immediate\",\"fromcurrent\":true,\"transition\":{\"duration\":0,\"easing\":\"linear\"}}],\"label\":\"1904\",\"method\":\"animate\"},{\"args\":[[\"1905\"],{\"frame\":{\"duration\":0,\"redraw\":true},\"mode\":\"immediate\",\"fromcurrent\":true,\"transition\":{\"duration\":0,\"easing\":\"linear\"}}],\"label\":\"1905\",\"method\":\"animate\"},{\"args\":[[\"1906\"],{\"frame\":{\"duration\":0,\"redraw\":true},\"mode\":\"immediate\",\"fromcurrent\":true,\"transition\":{\"duration\":0,\"easing\":\"linear\"}}],\"label\":\"1906\",\"method\":\"animate\"},{\"args\":[[\"1907\"],{\"frame\":{\"duration\":0,\"redraw\":true},\"mode\":\"immediate\",\"fromcurrent\":true,\"transition\":{\"duration\":0,\"easing\":\"linear\"}}],\"label\":\"1907\",\"method\":\"animate\"},{\"args\":[[\"1908\"],{\"frame\":{\"duration\":0,\"redraw\":true},\"mode\":\"immediate\",\"fromcurrent\":true,\"transition\":{\"duration\":0,\"easing\":\"linear\"}}],\"label\":\"1908\",\"method\":\"animate\"},{\"args\":[[\"1909\"],{\"frame\":{\"duration\":0,\"redraw\":true},\"mode\":\"immediate\",\"fromcurrent\":true,\"transition\":{\"duration\":0,\"easing\":\"linear\"}}],\"label\":\"1909\",\"method\":\"animate\"},{\"args\":[[\"1910\"],{\"frame\":{\"duration\":0,\"redraw\":true},\"mode\":\"immediate\",\"fromcurrent\":true,\"transition\":{\"duration\":0,\"easing\":\"linear\"}}],\"label\":\"1910\",\"method\":\"animate\"},{\"args\":[[\"1911\"],{\"frame\":{\"duration\":0,\"redraw\":true},\"mode\":\"immediate\",\"fromcurrent\":true,\"transition\":{\"duration\":0,\"easing\":\"linear\"}}],\"label\":\"1911\",\"method\":\"animate\"},{\"args\":[[\"1912\"],{\"frame\":{\"duration\":0,\"redraw\":true},\"mode\":\"immediate\",\"fromcurrent\":true,\"transition\":{\"duration\":0,\"easing\":\"linear\"}}],\"label\":\"1912\",\"method\":\"animate\"},{\"args\":[[\"1913\"],{\"frame\":{\"duration\":0,\"redraw\":true},\"mode\":\"immediate\",\"fromcurrent\":true,\"transition\":{\"duration\":0,\"easing\":\"linear\"}}],\"label\":\"1913\",\"method\":\"animate\"},{\"args\":[[\"1914\"],{\"frame\":{\"duration\":0,\"redraw\":true},\"mode\":\"immediate\",\"fromcurrent\":true,\"transition\":{\"duration\":0,\"easing\":\"linear\"}}],\"label\":\"1914\",\"method\":\"animate\"},{\"args\":[[\"1915\"],{\"frame\":{\"duration\":0,\"redraw\":true},\"mode\":\"immediate\",\"fromcurrent\":true,\"transition\":{\"duration\":0,\"easing\":\"linear\"}}],\"label\":\"1915\",\"method\":\"animate\"},{\"args\":[[\"1916\"],{\"frame\":{\"duration\":0,\"redraw\":true},\"mode\":\"immediate\",\"fromcurrent\":true,\"transition\":{\"duration\":0,\"easing\":\"linear\"}}],\"label\":\"1916\",\"method\":\"animate\"},{\"args\":[[\"1917\"],{\"frame\":{\"duration\":0,\"redraw\":true},\"mode\":\"immediate\",\"fromcurrent\":true,\"transition\":{\"duration\":0,\"easing\":\"linear\"}}],\"label\":\"1917\",\"method\":\"animate\"},{\"args\":[[\"1918\"],{\"frame\":{\"duration\":0,\"redraw\":true},\"mode\":\"immediate\",\"fromcurrent\":true,\"transition\":{\"duration\":0,\"easing\":\"linear\"}}],\"label\":\"1918\",\"method\":\"animate\"},{\"args\":[[\"1919\"],{\"frame\":{\"duration\":0,\"redraw\":true},\"mode\":\"immediate\",\"fromcurrent\":true,\"transition\":{\"duration\":0,\"easing\":\"linear\"}}],\"label\":\"1919\",\"method\":\"animate\"},{\"args\":[[\"1920\"],{\"frame\":{\"duration\":0,\"redraw\":true},\"mode\":\"immediate\",\"fromcurrent\":true,\"transition\":{\"duration\":0,\"easing\":\"linear\"}}],\"label\":\"1920\",\"method\":\"animate\"},{\"args\":[[\"1921\"],{\"frame\":{\"duration\":0,\"redraw\":true},\"mode\":\"immediate\",\"fromcurrent\":true,\"transition\":{\"duration\":0,\"easing\":\"linear\"}}],\"label\":\"1921\",\"method\":\"animate\"},{\"args\":[[\"1922\"],{\"frame\":{\"duration\":0,\"redraw\":true},\"mode\":\"immediate\",\"fromcurrent\":true,\"transition\":{\"duration\":0,\"easing\":\"linear\"}}],\"label\":\"1922\",\"method\":\"animate\"},{\"args\":[[\"1923\"],{\"frame\":{\"duration\":0,\"redraw\":true},\"mode\":\"immediate\",\"fromcurrent\":true,\"transition\":{\"duration\":0,\"easing\":\"linear\"}}],\"label\":\"1923\",\"method\":\"animate\"},{\"args\":[[\"1924\"],{\"frame\":{\"duration\":0,\"redraw\":true},\"mode\":\"immediate\",\"fromcurrent\":true,\"transition\":{\"duration\":0,\"easing\":\"linear\"}}],\"label\":\"1924\",\"method\":\"animate\"},{\"args\":[[\"1925\"],{\"frame\":{\"duration\":0,\"redraw\":true},\"mode\":\"immediate\",\"fromcurrent\":true,\"transition\":{\"duration\":0,\"easing\":\"linear\"}}],\"label\":\"1925\",\"method\":\"animate\"},{\"args\":[[\"1926\"],{\"frame\":{\"duration\":0,\"redraw\":true},\"mode\":\"immediate\",\"fromcurrent\":true,\"transition\":{\"duration\":0,\"easing\":\"linear\"}}],\"label\":\"1926\",\"method\":\"animate\"},{\"args\":[[\"1927\"],{\"frame\":{\"duration\":0,\"redraw\":true},\"mode\":\"immediate\",\"fromcurrent\":true,\"transition\":{\"duration\":0,\"easing\":\"linear\"}}],\"label\":\"1927\",\"method\":\"animate\"},{\"args\":[[\"1928\"],{\"frame\":{\"duration\":0,\"redraw\":true},\"mode\":\"immediate\",\"fromcurrent\":true,\"transition\":{\"duration\":0,\"easing\":\"linear\"}}],\"label\":\"1928\",\"method\":\"animate\"},{\"args\":[[\"1929\"],{\"frame\":{\"duration\":0,\"redraw\":true},\"mode\":\"immediate\",\"fromcurrent\":true,\"transition\":{\"duration\":0,\"easing\":\"linear\"}}],\"label\":\"1929\",\"method\":\"animate\"},{\"args\":[[\"1930\"],{\"frame\":{\"duration\":0,\"redraw\":true},\"mode\":\"immediate\",\"fromcurrent\":true,\"transition\":{\"duration\":0,\"easing\":\"linear\"}}],\"label\":\"1930\",\"method\":\"animate\"},{\"args\":[[\"1931\"],{\"frame\":{\"duration\":0,\"redraw\":true},\"mode\":\"immediate\",\"fromcurrent\":true,\"transition\":{\"duration\":0,\"easing\":\"linear\"}}],\"label\":\"1931\",\"method\":\"animate\"},{\"args\":[[\"1932\"],{\"frame\":{\"duration\":0,\"redraw\":true},\"mode\":\"immediate\",\"fromcurrent\":true,\"transition\":{\"duration\":0,\"easing\":\"linear\"}}],\"label\":\"1932\",\"method\":\"animate\"},{\"args\":[[\"1933\"],{\"frame\":{\"duration\":0,\"redraw\":true},\"mode\":\"immediate\",\"fromcurrent\":true,\"transition\":{\"duration\":0,\"easing\":\"linear\"}}],\"label\":\"1933\",\"method\":\"animate\"},{\"args\":[[\"1934\"],{\"frame\":{\"duration\":0,\"redraw\":true},\"mode\":\"immediate\",\"fromcurrent\":true,\"transition\":{\"duration\":0,\"easing\":\"linear\"}}],\"label\":\"1934\",\"method\":\"animate\"},{\"args\":[[\"1935\"],{\"frame\":{\"duration\":0,\"redraw\":true},\"mode\":\"immediate\",\"fromcurrent\":true,\"transition\":{\"duration\":0,\"easing\":\"linear\"}}],\"label\":\"1935\",\"method\":\"animate\"},{\"args\":[[\"1936\"],{\"frame\":{\"duration\":0,\"redraw\":true},\"mode\":\"immediate\",\"fromcurrent\":true,\"transition\":{\"duration\":0,\"easing\":\"linear\"}}],\"label\":\"1936\",\"method\":\"animate\"},{\"args\":[[\"1937\"],{\"frame\":{\"duration\":0,\"redraw\":true},\"mode\":\"immediate\",\"fromcurrent\":true,\"transition\":{\"duration\":0,\"easing\":\"linear\"}}],\"label\":\"1937\",\"method\":\"animate\"},{\"args\":[[\"1938\"],{\"frame\":{\"duration\":0,\"redraw\":true},\"mode\":\"immediate\",\"fromcurrent\":true,\"transition\":{\"duration\":0,\"easing\":\"linear\"}}],\"label\":\"1938\",\"method\":\"animate\"},{\"args\":[[\"1939\"],{\"frame\":{\"duration\":0,\"redraw\":true},\"mode\":\"immediate\",\"fromcurrent\":true,\"transition\":{\"duration\":0,\"easing\":\"linear\"}}],\"label\":\"1939\",\"method\":\"animate\"},{\"args\":[[\"1940\"],{\"frame\":{\"duration\":0,\"redraw\":true},\"mode\":\"immediate\",\"fromcurrent\":true,\"transition\":{\"duration\":0,\"easing\":\"linear\"}}],\"label\":\"1940\",\"method\":\"animate\"},{\"args\":[[\"1941\"],{\"frame\":{\"duration\":0,\"redraw\":true},\"mode\":\"immediate\",\"fromcurrent\":true,\"transition\":{\"duration\":0,\"easing\":\"linear\"}}],\"label\":\"1941\",\"method\":\"animate\"},{\"args\":[[\"1942\"],{\"frame\":{\"duration\":0,\"redraw\":true},\"mode\":\"immediate\",\"fromcurrent\":true,\"transition\":{\"duration\":0,\"easing\":\"linear\"}}],\"label\":\"1942\",\"method\":\"animate\"},{\"args\":[[\"1943\"],{\"frame\":{\"duration\":0,\"redraw\":true},\"mode\":\"immediate\",\"fromcurrent\":true,\"transition\":{\"duration\":0,\"easing\":\"linear\"}}],\"label\":\"1943\",\"method\":\"animate\"},{\"args\":[[\"1944\"],{\"frame\":{\"duration\":0,\"redraw\":true},\"mode\":\"immediate\",\"fromcurrent\":true,\"transition\":{\"duration\":0,\"easing\":\"linear\"}}],\"label\":\"1944\",\"method\":\"animate\"},{\"args\":[[\"1945\"],{\"frame\":{\"duration\":0,\"redraw\":true},\"mode\":\"immediate\",\"fromcurrent\":true,\"transition\":{\"duration\":0,\"easing\":\"linear\"}}],\"label\":\"1945\",\"method\":\"animate\"},{\"args\":[[\"1946\"],{\"frame\":{\"duration\":0,\"redraw\":true},\"mode\":\"immediate\",\"fromcurrent\":true,\"transition\":{\"duration\":0,\"easing\":\"linear\"}}],\"label\":\"1946\",\"method\":\"animate\"},{\"args\":[[\"1947\"],{\"frame\":{\"duration\":0,\"redraw\":true},\"mode\":\"immediate\",\"fromcurrent\":true,\"transition\":{\"duration\":0,\"easing\":\"linear\"}}],\"label\":\"1947\",\"method\":\"animate\"},{\"args\":[[\"1948\"],{\"frame\":{\"duration\":0,\"redraw\":true},\"mode\":\"immediate\",\"fromcurrent\":true,\"transition\":{\"duration\":0,\"easing\":\"linear\"}}],\"label\":\"1948\",\"method\":\"animate\"},{\"args\":[[\"1949\"],{\"frame\":{\"duration\":0,\"redraw\":true},\"mode\":\"immediate\",\"fromcurrent\":true,\"transition\":{\"duration\":0,\"easing\":\"linear\"}}],\"label\":\"1949\",\"method\":\"animate\"},{\"args\":[[\"1950\"],{\"frame\":{\"duration\":0,\"redraw\":true},\"mode\":\"immediate\",\"fromcurrent\":true,\"transition\":{\"duration\":0,\"easing\":\"linear\"}}],\"label\":\"1950\",\"method\":\"animate\"},{\"args\":[[\"1951\"],{\"frame\":{\"duration\":0,\"redraw\":true},\"mode\":\"immediate\",\"fromcurrent\":true,\"transition\":{\"duration\":0,\"easing\":\"linear\"}}],\"label\":\"1951\",\"method\":\"animate\"},{\"args\":[[\"1952\"],{\"frame\":{\"duration\":0,\"redraw\":true},\"mode\":\"immediate\",\"fromcurrent\":true,\"transition\":{\"duration\":0,\"easing\":\"linear\"}}],\"label\":\"1952\",\"method\":\"animate\"},{\"args\":[[\"1953\"],{\"frame\":{\"duration\":0,\"redraw\":true},\"mode\":\"immediate\",\"fromcurrent\":true,\"transition\":{\"duration\":0,\"easing\":\"linear\"}}],\"label\":\"1953\",\"method\":\"animate\"},{\"args\":[[\"1954\"],{\"frame\":{\"duration\":0,\"redraw\":true},\"mode\":\"immediate\",\"fromcurrent\":true,\"transition\":{\"duration\":0,\"easing\":\"linear\"}}],\"label\":\"1954\",\"method\":\"animate\"},{\"args\":[[\"1955\"],{\"frame\":{\"duration\":0,\"redraw\":true},\"mode\":\"immediate\",\"fromcurrent\":true,\"transition\":{\"duration\":0,\"easing\":\"linear\"}}],\"label\":\"1955\",\"method\":\"animate\"},{\"args\":[[\"1956\"],{\"frame\":{\"duration\":0,\"redraw\":true},\"mode\":\"immediate\",\"fromcurrent\":true,\"transition\":{\"duration\":0,\"easing\":\"linear\"}}],\"label\":\"1956\",\"method\":\"animate\"},{\"args\":[[\"1957\"],{\"frame\":{\"duration\":0,\"redraw\":true},\"mode\":\"immediate\",\"fromcurrent\":true,\"transition\":{\"duration\":0,\"easing\":\"linear\"}}],\"label\":\"1957\",\"method\":\"animate\"},{\"args\":[[\"1958\"],{\"frame\":{\"duration\":0,\"redraw\":true},\"mode\":\"immediate\",\"fromcurrent\":true,\"transition\":{\"duration\":0,\"easing\":\"linear\"}}],\"label\":\"1958\",\"method\":\"animate\"},{\"args\":[[\"1959\"],{\"frame\":{\"duration\":0,\"redraw\":true},\"mode\":\"immediate\",\"fromcurrent\":true,\"transition\":{\"duration\":0,\"easing\":\"linear\"}}],\"label\":\"1959\",\"method\":\"animate\"},{\"args\":[[\"1960\"],{\"frame\":{\"duration\":0,\"redraw\":true},\"mode\":\"immediate\",\"fromcurrent\":true,\"transition\":{\"duration\":0,\"easing\":\"linear\"}}],\"label\":\"1960\",\"method\":\"animate\"},{\"args\":[[\"1961\"],{\"frame\":{\"duration\":0,\"redraw\":true},\"mode\":\"immediate\",\"fromcurrent\":true,\"transition\":{\"duration\":0,\"easing\":\"linear\"}}],\"label\":\"1961\",\"method\":\"animate\"},{\"args\":[[\"1962\"],{\"frame\":{\"duration\":0,\"redraw\":true},\"mode\":\"immediate\",\"fromcurrent\":true,\"transition\":{\"duration\":0,\"easing\":\"linear\"}}],\"label\":\"1962\",\"method\":\"animate\"},{\"args\":[[\"1963\"],{\"frame\":{\"duration\":0,\"redraw\":true},\"mode\":\"immediate\",\"fromcurrent\":true,\"transition\":{\"duration\":0,\"easing\":\"linear\"}}],\"label\":\"1963\",\"method\":\"animate\"},{\"args\":[[\"1964\"],{\"frame\":{\"duration\":0,\"redraw\":true},\"mode\":\"immediate\",\"fromcurrent\":true,\"transition\":{\"duration\":0,\"easing\":\"linear\"}}],\"label\":\"1964\",\"method\":\"animate\"},{\"args\":[[\"1965\"],{\"frame\":{\"duration\":0,\"redraw\":true},\"mode\":\"immediate\",\"fromcurrent\":true,\"transition\":{\"duration\":0,\"easing\":\"linear\"}}],\"label\":\"1965\",\"method\":\"animate\"},{\"args\":[[\"1966\"],{\"frame\":{\"duration\":0,\"redraw\":true},\"mode\":\"immediate\",\"fromcurrent\":true,\"transition\":{\"duration\":0,\"easing\":\"linear\"}}],\"label\":\"1966\",\"method\":\"animate\"},{\"args\":[[\"1967\"],{\"frame\":{\"duration\":0,\"redraw\":true},\"mode\":\"immediate\",\"fromcurrent\":true,\"transition\":{\"duration\":0,\"easing\":\"linear\"}}],\"label\":\"1967\",\"method\":\"animate\"},{\"args\":[[\"1968\"],{\"frame\":{\"duration\":0,\"redraw\":true},\"mode\":\"immediate\",\"fromcurrent\":true,\"transition\":{\"duration\":0,\"easing\":\"linear\"}}],\"label\":\"1968\",\"method\":\"animate\"},{\"args\":[[\"1969\"],{\"frame\":{\"duration\":0,\"redraw\":true},\"mode\":\"immediate\",\"fromcurrent\":true,\"transition\":{\"duration\":0,\"easing\":\"linear\"}}],\"label\":\"1969\",\"method\":\"animate\"},{\"args\":[[\"1970\"],{\"frame\":{\"duration\":0,\"redraw\":true},\"mode\":\"immediate\",\"fromcurrent\":true,\"transition\":{\"duration\":0,\"easing\":\"linear\"}}],\"label\":\"1970\",\"method\":\"animate\"},{\"args\":[[\"1971\"],{\"frame\":{\"duration\":0,\"redraw\":true},\"mode\":\"immediate\",\"fromcurrent\":true,\"transition\":{\"duration\":0,\"easing\":\"linear\"}}],\"label\":\"1971\",\"method\":\"animate\"},{\"args\":[[\"1972\"],{\"frame\":{\"duration\":0,\"redraw\":true},\"mode\":\"immediate\",\"fromcurrent\":true,\"transition\":{\"duration\":0,\"easing\":\"linear\"}}],\"label\":\"1972\",\"method\":\"animate\"},{\"args\":[[\"1973\"],{\"frame\":{\"duration\":0,\"redraw\":true},\"mode\":\"immediate\",\"fromcurrent\":true,\"transition\":{\"duration\":0,\"easing\":\"linear\"}}],\"label\":\"1973\",\"method\":\"animate\"},{\"args\":[[\"1974\"],{\"frame\":{\"duration\":0,\"redraw\":true},\"mode\":\"immediate\",\"fromcurrent\":true,\"transition\":{\"duration\":0,\"easing\":\"linear\"}}],\"label\":\"1974\",\"method\":\"animate\"},{\"args\":[[\"1975\"],{\"frame\":{\"duration\":0,\"redraw\":true},\"mode\":\"immediate\",\"fromcurrent\":true,\"transition\":{\"duration\":0,\"easing\":\"linear\"}}],\"label\":\"1975\",\"method\":\"animate\"},{\"args\":[[\"1976\"],{\"frame\":{\"duration\":0,\"redraw\":true},\"mode\":\"immediate\",\"fromcurrent\":true,\"transition\":{\"duration\":0,\"easing\":\"linear\"}}],\"label\":\"1976\",\"method\":\"animate\"},{\"args\":[[\"1977\"],{\"frame\":{\"duration\":0,\"redraw\":true},\"mode\":\"immediate\",\"fromcurrent\":true,\"transition\":{\"duration\":0,\"easing\":\"linear\"}}],\"label\":\"1977\",\"method\":\"animate\"},{\"args\":[[\"1978\"],{\"frame\":{\"duration\":0,\"redraw\":true},\"mode\":\"immediate\",\"fromcurrent\":true,\"transition\":{\"duration\":0,\"easing\":\"linear\"}}],\"label\":\"1978\",\"method\":\"animate\"},{\"args\":[[\"1979\"],{\"frame\":{\"duration\":0,\"redraw\":true},\"mode\":\"immediate\",\"fromcurrent\":true,\"transition\":{\"duration\":0,\"easing\":\"linear\"}}],\"label\":\"1979\",\"method\":\"animate\"},{\"args\":[[\"1980\"],{\"frame\":{\"duration\":0,\"redraw\":true},\"mode\":\"immediate\",\"fromcurrent\":true,\"transition\":{\"duration\":0,\"easing\":\"linear\"}}],\"label\":\"1980\",\"method\":\"animate\"},{\"args\":[[\"1981\"],{\"frame\":{\"duration\":0,\"redraw\":true},\"mode\":\"immediate\",\"fromcurrent\":true,\"transition\":{\"duration\":0,\"easing\":\"linear\"}}],\"label\":\"1981\",\"method\":\"animate\"},{\"args\":[[\"1982\"],{\"frame\":{\"duration\":0,\"redraw\":true},\"mode\":\"immediate\",\"fromcurrent\":true,\"transition\":{\"duration\":0,\"easing\":\"linear\"}}],\"label\":\"1982\",\"method\":\"animate\"},{\"args\":[[\"1983\"],{\"frame\":{\"duration\":0,\"redraw\":true},\"mode\":\"immediate\",\"fromcurrent\":true,\"transition\":{\"duration\":0,\"easing\":\"linear\"}}],\"label\":\"1983\",\"method\":\"animate\"},{\"args\":[[\"1984\"],{\"frame\":{\"duration\":0,\"redraw\":true},\"mode\":\"immediate\",\"fromcurrent\":true,\"transition\":{\"duration\":0,\"easing\":\"linear\"}}],\"label\":\"1984\",\"method\":\"animate\"},{\"args\":[[\"1985\"],{\"frame\":{\"duration\":0,\"redraw\":true},\"mode\":\"immediate\",\"fromcurrent\":true,\"transition\":{\"duration\":0,\"easing\":\"linear\"}}],\"label\":\"1985\",\"method\":\"animate\"},{\"args\":[[\"1986\"],{\"frame\":{\"duration\":0,\"redraw\":true},\"mode\":\"immediate\",\"fromcurrent\":true,\"transition\":{\"duration\":0,\"easing\":\"linear\"}}],\"label\":\"1986\",\"method\":\"animate\"},{\"args\":[[\"1987\"],{\"frame\":{\"duration\":0,\"redraw\":true},\"mode\":\"immediate\",\"fromcurrent\":true,\"transition\":{\"duration\":0,\"easing\":\"linear\"}}],\"label\":\"1987\",\"method\":\"animate\"},{\"args\":[[\"1988\"],{\"frame\":{\"duration\":0,\"redraw\":true},\"mode\":\"immediate\",\"fromcurrent\":true,\"transition\":{\"duration\":0,\"easing\":\"linear\"}}],\"label\":\"1988\",\"method\":\"animate\"},{\"args\":[[\"1989\"],{\"frame\":{\"duration\":0,\"redraw\":true},\"mode\":\"immediate\",\"fromcurrent\":true,\"transition\":{\"duration\":0,\"easing\":\"linear\"}}],\"label\":\"1989\",\"method\":\"animate\"},{\"args\":[[\"1990\"],{\"frame\":{\"duration\":0,\"redraw\":true},\"mode\":\"immediate\",\"fromcurrent\":true,\"transition\":{\"duration\":0,\"easing\":\"linear\"}}],\"label\":\"1990\",\"method\":\"animate\"},{\"args\":[[\"1991\"],{\"frame\":{\"duration\":0,\"redraw\":true},\"mode\":\"immediate\",\"fromcurrent\":true,\"transition\":{\"duration\":0,\"easing\":\"linear\"}}],\"label\":\"1991\",\"method\":\"animate\"},{\"args\":[[\"1992\"],{\"frame\":{\"duration\":0,\"redraw\":true},\"mode\":\"immediate\",\"fromcurrent\":true,\"transition\":{\"duration\":0,\"easing\":\"linear\"}}],\"label\":\"1992\",\"method\":\"animate\"},{\"args\":[[\"1993\"],{\"frame\":{\"duration\":0,\"redraw\":true},\"mode\":\"immediate\",\"fromcurrent\":true,\"transition\":{\"duration\":0,\"easing\":\"linear\"}}],\"label\":\"1993\",\"method\":\"animate\"},{\"args\":[[\"1994\"],{\"frame\":{\"duration\":0,\"redraw\":true},\"mode\":\"immediate\",\"fromcurrent\":true,\"transition\":{\"duration\":0,\"easing\":\"linear\"}}],\"label\":\"1994\",\"method\":\"animate\"},{\"args\":[[\"1995\"],{\"frame\":{\"duration\":0,\"redraw\":true},\"mode\":\"immediate\",\"fromcurrent\":true,\"transition\":{\"duration\":0,\"easing\":\"linear\"}}],\"label\":\"1995\",\"method\":\"animate\"},{\"args\":[[\"1996\"],{\"frame\":{\"duration\":0,\"redraw\":true},\"mode\":\"immediate\",\"fromcurrent\":true,\"transition\":{\"duration\":0,\"easing\":\"linear\"}}],\"label\":\"1996\",\"method\":\"animate\"},{\"args\":[[\"1997\"],{\"frame\":{\"duration\":0,\"redraw\":true},\"mode\":\"immediate\",\"fromcurrent\":true,\"transition\":{\"duration\":0,\"easing\":\"linear\"}}],\"label\":\"1997\",\"method\":\"animate\"},{\"args\":[[\"1998\"],{\"frame\":{\"duration\":0,\"redraw\":true},\"mode\":\"immediate\",\"fromcurrent\":true,\"transition\":{\"duration\":0,\"easing\":\"linear\"}}],\"label\":\"1998\",\"method\":\"animate\"},{\"args\":[[\"1999\"],{\"frame\":{\"duration\":0,\"redraw\":true},\"mode\":\"immediate\",\"fromcurrent\":true,\"transition\":{\"duration\":0,\"easing\":\"linear\"}}],\"label\":\"1999\",\"method\":\"animate\"},{\"args\":[[\"2000\"],{\"frame\":{\"duration\":0,\"redraw\":true},\"mode\":\"immediate\",\"fromcurrent\":true,\"transition\":{\"duration\":0,\"easing\":\"linear\"}}],\"label\":\"2000\",\"method\":\"animate\"},{\"args\":[[\"2001\"],{\"frame\":{\"duration\":0,\"redraw\":true},\"mode\":\"immediate\",\"fromcurrent\":true,\"transition\":{\"duration\":0,\"easing\":\"linear\"}}],\"label\":\"2001\",\"method\":\"animate\"},{\"args\":[[\"2002\"],{\"frame\":{\"duration\":0,\"redraw\":true},\"mode\":\"immediate\",\"fromcurrent\":true,\"transition\":{\"duration\":0,\"easing\":\"linear\"}}],\"label\":\"2002\",\"method\":\"animate\"},{\"args\":[[\"2003\"],{\"frame\":{\"duration\":0,\"redraw\":true},\"mode\":\"immediate\",\"fromcurrent\":true,\"transition\":{\"duration\":0,\"easing\":\"linear\"}}],\"label\":\"2003\",\"method\":\"animate\"},{\"args\":[[\"2004\"],{\"frame\":{\"duration\":0,\"redraw\":true},\"mode\":\"immediate\",\"fromcurrent\":true,\"transition\":{\"duration\":0,\"easing\":\"linear\"}}],\"label\":\"2004\",\"method\":\"animate\"},{\"args\":[[\"2005\"],{\"frame\":{\"duration\":0,\"redraw\":true},\"mode\":\"immediate\",\"fromcurrent\":true,\"transition\":{\"duration\":0,\"easing\":\"linear\"}}],\"label\":\"2005\",\"method\":\"animate\"},{\"args\":[[\"2006\"],{\"frame\":{\"duration\":0,\"redraw\":true},\"mode\":\"immediate\",\"fromcurrent\":true,\"transition\":{\"duration\":0,\"easing\":\"linear\"}}],\"label\":\"2006\",\"method\":\"animate\"},{\"args\":[[\"2007\"],{\"frame\":{\"duration\":0,\"redraw\":true},\"mode\":\"immediate\",\"fromcurrent\":true,\"transition\":{\"duration\":0,\"easing\":\"linear\"}}],\"label\":\"2007\",\"method\":\"animate\"},{\"args\":[[\"2008\"],{\"frame\":{\"duration\":0,\"redraw\":true},\"mode\":\"immediate\",\"fromcurrent\":true,\"transition\":{\"duration\":0,\"easing\":\"linear\"}}],\"label\":\"2008\",\"method\":\"animate\"},{\"args\":[[\"2009\"],{\"frame\":{\"duration\":0,\"redraw\":true},\"mode\":\"immediate\",\"fromcurrent\":true,\"transition\":{\"duration\":0,\"easing\":\"linear\"}}],\"label\":\"2009\",\"method\":\"animate\"},{\"args\":[[\"2010\"],{\"frame\":{\"duration\":0,\"redraw\":true},\"mode\":\"immediate\",\"fromcurrent\":true,\"transition\":{\"duration\":0,\"easing\":\"linear\"}}],\"label\":\"2010\",\"method\":\"animate\"},{\"args\":[[\"2011\"],{\"frame\":{\"duration\":0,\"redraw\":true},\"mode\":\"immediate\",\"fromcurrent\":true,\"transition\":{\"duration\":0,\"easing\":\"linear\"}}],\"label\":\"2011\",\"method\":\"animate\"},{\"args\":[[\"2012\"],{\"frame\":{\"duration\":0,\"redraw\":true},\"mode\":\"immediate\",\"fromcurrent\":true,\"transition\":{\"duration\":0,\"easing\":\"linear\"}}],\"label\":\"2012\",\"method\":\"animate\"},{\"args\":[[\"2013\"],{\"frame\":{\"duration\":0,\"redraw\":true},\"mode\":\"immediate\",\"fromcurrent\":true,\"transition\":{\"duration\":0,\"easing\":\"linear\"}}],\"label\":\"2013\",\"method\":\"animate\"},{\"args\":[[\"2014\"],{\"frame\":{\"duration\":0,\"redraw\":true},\"mode\":\"immediate\",\"fromcurrent\":true,\"transition\":{\"duration\":0,\"easing\":\"linear\"}}],\"label\":\"2014\",\"method\":\"animate\"},{\"args\":[[\"2015\"],{\"frame\":{\"duration\":0,\"redraw\":true},\"mode\":\"immediate\",\"fromcurrent\":true,\"transition\":{\"duration\":0,\"easing\":\"linear\"}}],\"label\":\"2015\",\"method\":\"animate\"},{\"args\":[[\"2016\"],{\"frame\":{\"duration\":0,\"redraw\":true},\"mode\":\"immediate\",\"fromcurrent\":true,\"transition\":{\"duration\":0,\"easing\":\"linear\"}}],\"label\":\"2016\",\"method\":\"animate\"},{\"args\":[[\"2017\"],{\"frame\":{\"duration\":0,\"redraw\":true},\"mode\":\"immediate\",\"fromcurrent\":true,\"transition\":{\"duration\":0,\"easing\":\"linear\"}}],\"label\":\"2017\",\"method\":\"animate\"},{\"args\":[[\"2018\"],{\"frame\":{\"duration\":0,\"redraw\":true},\"mode\":\"immediate\",\"fromcurrent\":true,\"transition\":{\"duration\":0,\"easing\":\"linear\"}}],\"label\":\"2018\",\"method\":\"animate\"},{\"args\":[[\"2019\"],{\"frame\":{\"duration\":0,\"redraw\":true},\"mode\":\"immediate\",\"fromcurrent\":true,\"transition\":{\"duration\":0,\"easing\":\"linear\"}}],\"label\":\"2019\",\"method\":\"animate\"},{\"args\":[[\"2020\"],{\"frame\":{\"duration\":0,\"redraw\":true},\"mode\":\"immediate\",\"fromcurrent\":true,\"transition\":{\"duration\":0,\"easing\":\"linear\"}}],\"label\":\"2020\",\"method\":\"animate\"},{\"args\":[[\"2021\"],{\"frame\":{\"duration\":0,\"redraw\":true},\"mode\":\"immediate\",\"fromcurrent\":true,\"transition\":{\"duration\":0,\"easing\":\"linear\"}}],\"label\":\"2021\",\"method\":\"animate\"},{\"args\":[[\"2022\"],{\"frame\":{\"duration\":0,\"redraw\":true},\"mode\":\"immediate\",\"fromcurrent\":true,\"transition\":{\"duration\":0,\"easing\":\"linear\"}}],\"label\":\"2022\",\"method\":\"animate\"},{\"args\":[[\"2023\"],{\"frame\":{\"duration\":0,\"redraw\":true},\"mode\":\"immediate\",\"fromcurrent\":true,\"transition\":{\"duration\":0,\"easing\":\"linear\"}}],\"label\":\"2023\",\"method\":\"animate\"}],\"x\":0.1,\"xanchor\":\"left\",\"y\":0,\"yanchor\":\"top\"}]},                        {\"responsive\": true}                    ).then(function(){\n                            Plotly.addFrames('f0477fba-91d6-496f-89d0-08a04619dcc0', [{\"data\":[{\"hovertemplate\":\"Year=1864<br>Temperature=%{r}<br>prep_months=%{theta}<extra></extra>\",\"legendgroup\":\"1864\",\"line\":{\"color\":\"#f0f921\",\"dash\":\"solid\"},\"marker\":{\"symbol\":\"circle\"},\"mode\":\"lines\",\"name\":\"1864\",\"r\":[-6.6,-1.5,4.5,6.8,12.3,14.7,16.9,15.3,12.9,6.7,2.5,-4.2,-6.6],\"showlegend\":true,\"subplot\":\"polar\",\"theta\":[30.0,60.0,90.0,120.0,150.0,180.0,210.0,240.0,270.0,300.0,330.0,360.0,30.0],\"type\":\"scatterpolar\"}],\"name\":\"1864\"},{\"data\":[{\"hovertemplate\":\"Year=1865<br>Temperature=%{r}<br>prep_months=%{theta}<extra></extra>\",\"legendgroup\":\"1865\",\"line\":{\"color\":\"#fdca26\",\"dash\":\"solid\"},\"marker\":{\"symbol\":\"circle\"},\"mode\":\"lines\",\"name\":\"1865\",\"r\":[0.0,-2.9,-1.2,11.9,15.2,16.0,19.0,15.8,15.4,9.3,4.2,-1.9,0.0],\"showlegend\":true,\"subplot\":\"polar\",\"theta\":[30.0,60.0,90.0,120.0,150.0,180.0,210.0,240.0,270.0,300.0,330.0,360.0,30.0],\"type\":\"scatterpolar\"}],\"name\":\"1865\"},{\"data\":[{\"hovertemplate\":\"Year=1866<br>Temperature=%{r}<br>prep_months=%{theta}<extra></extra>\",\"legendgroup\":\"1866\",\"line\":{\"color\":\"#fb9f3a\",\"dash\":\"solid\"},\"marker\":{\"symbol\":\"circle\"},\"mode\":\"lines\",\"name\":\"1866\",\"r\":[1.7,3.7,3.7,9.1,9.7,17.5,17.4,14.7,14.3,8.0,3.6,1.7,1.7],\"showlegend\":true,\"subplot\":\"polar\",\"theta\":[30.0,60.0,90.0,120.0,150.0,180.0,210.0,240.0,270.0,300.0,330.0,360.0,30.0],\"type\":\"scatterpolar\"}],\"name\":\"1866\"},{\"data\":[{\"hovertemplate\":\"Year=1867<br>Temperature=%{r}<br>prep_months=%{theta}<extra></extra>\",\"legendgroup\":\"1867\",\"line\":{\"color\":\"#ed7953\",\"dash\":\"solid\"},\"marker\":{\"symbol\":\"circle\"},\"mode\":\"lines\",\"name\":\"1867\",\"r\":[-1.2,4.7,3.7,8.2,12.8,15.7,16.3,17.6,14.2,6.7,0.9,-2.6,-1.2],\"showlegend\":true,\"subplot\":\"polar\",\"theta\":[30.0,60.0,90.0,120.0,150.0,180.0,210.0,240.0,270.0,300.0,330.0,360.0,30.0],\"type\":\"scatterpolar\"}],\"name\":\"1867\"},{\"data\":[{\"hovertemplate\":\"Year=1868<br>Temperature=%{r}<br>prep_months=%{theta}<extra></extra>\",\"legendgroup\":\"1868\",\"line\":{\"color\":\"#d8576b\",\"dash\":\"solid\"},\"marker\":{\"symbol\":\"circle\"},\"mode\":\"lines\",\"name\":\"1868\",\"r\":[-2.5,2.3,2.6,7.3,17.6,17.3,18.1,17.5,15.6,8.8,0.6,5.1,-2.5],\"showlegend\":true,\"subplot\":\"polar\",\"theta\":[30.0,60.0,90.0,120.0,150.0,180.0,210.0,240.0,270.0,300.0,330.0,360.0,30.0],\"type\":\"scatterpolar\"}],\"name\":\"1868\"},{\"data\":[{\"hovertemplate\":\"Year=1869<br>Temperature=%{r}<br>prep_months=%{theta}<extra></extra>\",\"legendgroup\":\"1869\",\"line\":{\"color\":\"#bd3786\",\"dash\":\"solid\"},\"marker\":{\"symbol\":\"circle\"},\"mode\":\"lines\",\"name\":\"1869\",\"r\":[-1.7,4.9,0.5,10.1,13.9,13.4,19.6,15.5,14.4,6.0,3.8,-1.9,-1.7],\"showlegend\":true,\"subplot\":\"polar\",\"theta\":[30.0,60.0,90.0,120.0,150.0,180.0,210.0,240.0,270.0,300.0,330.0,360.0,30.0],\"type\":\"scatterpolar\"}],\"name\":\"1869\"},{\"data\":[{\"hovertemplate\":\"Year=1870<br>Temperature=%{r}<br>prep_months=%{theta}<extra></extra>\",\"legendgroup\":\"1870\",\"line\":{\"color\":\"#9c179e\",\"dash\":\"solid\"},\"marker\":{\"symbol\":\"circle\"},\"mode\":\"lines\",\"name\":\"1870\",\"r\":[-2.4,-3.1,1.7,8.0,14.0,16.9,19.7,15.1,11.9,8.1,2.9,-4.3,-2.4],\"showlegend\":true,\"subplot\":\"polar\",\"theta\":[30.0,60.0,90.0,120.0,150.0,180.0,210.0,240.0,270.0,300.0,330.0,360.0,30.0],\"type\":\"scatterpolar\"}],\"name\":\"1870\"},{\"data\":[{\"hovertemplate\":\"Year=1871<br>Temperature=%{r}<br>prep_months=%{theta}<extra></extra>\",\"legendgroup\":\"1871\",\"line\":{\"color\":\"#7201a8\",\"dash\":\"solid\"},\"marker\":{\"symbol\":\"circle\"},\"mode\":\"lines\",\"name\":\"1871\",\"r\":[-5.1,0.9,4.1,8.5,11.6,12.6,18.1,17.5,15.3,6.2,-0.2,-7.2,-5.1],\"showlegend\":true,\"subplot\":\"polar\",\"theta\":[30.0,60.0,90.0,120.0,150.0,180.0,210.0,240.0,270.0,300.0,330.0,360.0,30.0],\"type\":\"scatterpolar\"}],\"name\":\"1871\"},{\"data\":[{\"hovertemplate\":\"Year=1872<br>Temperature=%{r}<br>prep_months=%{theta}<extra></extra>\",\"legendgroup\":\"1872\",\"line\":{\"color\":\"#46039f\",\"dash\":\"solid\"},\"marker\":{\"symbol\":\"circle\"},\"mode\":\"lines\",\"name\":\"1872\",\"r\":[-0.5,0.3,5.3,9.0,11.3,15.1,18.5,15.5,14.1,9.3,5.6,2.2,-0.5],\"showlegend\":true,\"subplot\":\"polar\",\"theta\":[30.0,60.0,90.0,120.0,150.0,180.0,210.0,240.0,270.0,300.0,330.0,360.0,30.0],\"type\":\"scatterpolar\"}],\"name\":\"1872\"},{\"data\":[{\"hovertemplate\":\"Year=1873<br>Temperature=%{r}<br>prep_months=%{theta}<extra></extra>\",\"legendgroup\":\"1873\",\"line\":{\"color\":\"#0d0887\",\"dash\":\"solid\"},\"marker\":{\"symbol\":\"circle\"},\"mode\":\"lines\",\"name\":\"1873\",\"r\":[0.3,-0.1,6.0,6.5,9.8,16.2,19.7,18.5,12.8,9.1,3.5,-1.0,0.3],\"showlegend\":true,\"subplot\":\"polar\",\"theta\":[30.0,60.0,90.0,120.0,150.0,180.0,210.0,240.0,270.0,300.0,330.0,360.0,30.0],\"type\":\"scatterpolar\"}],\"name\":\"1873\"},{\"data\":[{\"hovertemplate\":\"Year=1874<br>Temperature=%{r}<br>prep_months=%{theta}<extra></extra>\",\"legendgroup\":\"1874\",\"line\":{\"color\":\"#f0f921\",\"dash\":\"solid\"},\"marker\":{\"symbol\":\"circle\"},\"mode\":\"lines\",\"name\":\"1874\",\"r\":[-1.0,-0.5,3.6,9.8,9.0,16.5,20.3,15.6,15.1,7.9,0.3,-2.1,-1.0],\"showlegend\":true,\"subplot\":\"polar\",\"theta\":[30.0,60.0,90.0,120.0,150.0,180.0,210.0,240.0,270.0,300.0,330.0,360.0,30.0],\"type\":\"scatterpolar\"}],\"name\":\"1874\"},{\"data\":[{\"hovertemplate\":\"Year=1875<br>Temperature=%{r}<br>prep_months=%{theta}<extra></extra>\",\"legendgroup\":\"1875\",\"line\":{\"color\":\"#fdca26\",\"dash\":\"solid\"},\"marker\":{\"symbol\":\"circle\"},\"mode\":\"lines\",\"name\":\"1875\",\"r\":[1.1,-3.7,1.7,8.4,14.6,16.5,16.4,18.8,14.9,7.3,3.2,-3.2,1.1],\"showlegend\":true,\"subplot\":\"polar\",\"theta\":[30.0,60.0,90.0,120.0,150.0,180.0,210.0,240.0,270.0,300.0,330.0,360.0,30.0],\"type\":\"scatterpolar\"}],\"name\":\"1875\"},{\"data\":[{\"hovertemplate\":\"Year=1876<br>Temperature=%{r}<br>prep_months=%{theta}<extra></extra>\",\"legendgroup\":\"1876\",\"line\":{\"color\":\"#fb9f3a\",\"dash\":\"solid\"},\"marker\":{\"symbol\":\"circle\"},\"mode\":\"lines\",\"name\":\"1876\",\"r\":[-3.2,1.5,3.9,8.0,9.1,15.5,18.9,18.1,12.5,10.5,1.9,3.4,-3.2],\"showlegend\":true,\"subplot\":\"polar\",\"theta\":[30.0,60.0,90.0,120.0,150.0,180.0,210.0,240.0,270.0,300.0,330.0,360.0,30.0],\"type\":\"scatterpolar\"}],\"name\":\"1876\"},{\"data\":[{\"hovertemplate\":\"Year=1877<br>Temperature=%{r}<br>prep_months=%{theta}<extra></extra>\",\"legendgroup\":\"1877\",\"line\":{\"color\":\"#ed7953\",\"dash\":\"solid\"},\"marker\":{\"symbol\":\"circle\"},\"mode\":\"lines\",\"name\":\"1877\",\"r\":[2.0,3.0,2.3,7.3,9.8,18.9,16.9,18.1,11.1,6.3,5.2,0.5,2.0],\"showlegend\":true,\"subplot\":\"polar\",\"theta\":[30.0,60.0,90.0,120.0,150.0,180.0,210.0,240.0,270.0,300.0,330.0,360.0,30.0],\"type\":\"scatterpolar\"}],\"name\":\"1877\"},{\"data\":[{\"hovertemplate\":\"Year=1878<br>Temperature=%{r}<br>prep_months=%{theta}<extra></extra>\",\"legendgroup\":\"1878\",\"line\":{\"color\":\"#d8576b\",\"dash\":\"solid\"},\"marker\":{\"symbol\":\"circle\"},\"mode\":\"lines\",\"name\":\"1878\",\"r\":[-2.9,0.3,2.6,8.0,13.4,15.2,16.8,16.9,13.4,9.2,1.5,-3.0,-2.9],\"showlegend\":true,\"subplot\":\"polar\",\"theta\":[30.0,60.0,90.0,120.0,150.0,180.0,210.0,240.0,270.0,300.0,330.0,360.0,30.0],\"type\":\"scatterpolar\"}],\"name\":\"1878\"},{\"data\":[{\"hovertemplate\":\"Year=1879<br>Temperature=%{r}<br>prep_months=%{theta}<extra></extra>\",\"legendgroup\":\"1879\",\"line\":{\"color\":\"#bd3786\",\"dash\":\"solid\"},\"marker\":{\"symbol\":\"circle\"},\"mode\":\"lines\",\"name\":\"1879\",\"r\":[-1.6,1.2,3.9,6.0,8.1,16.0,14.9,18.4,13.5,6.8,-0.3,-9.0,-1.6],\"showlegend\":true,\"subplot\":\"polar\",\"theta\":[30.0,60.0,90.0,120.0,150.0,180.0,210.0,240.0,270.0,300.0,330.0,360.0,30.0],\"type\":\"scatterpolar\"}],\"name\":\"1879\"},{\"data\":[{\"hovertemplate\":\"Year=1880<br>Temperature=%{r}<br>prep_months=%{theta}<extra></extra>\",\"legendgroup\":\"1880\",\"line\":{\"color\":\"#9c179e\",\"dash\":\"solid\"},\"marker\":{\"symbol\":\"circle\"},\"mode\":\"lines\",\"name\":\"1880\",\"r\":[-5.7,-0.1,6.3,8.3,11.0,14.7,18.7,16.2,14.1,8.4,4.2,4.6,-5.7],\"showlegend\":true,\"subplot\":\"polar\",\"theta\":[30.0,60.0,90.0,120.0,150.0,180.0,210.0,240.0,270.0,300.0,330.0,360.0,30.0],\"type\":\"scatterpolar\"}],\"name\":\"1880\"},{\"data\":[{\"hovertemplate\":\"Year=1881<br>Temperature=%{r}<br>prep_months=%{theta}<extra></extra>\",\"legendgroup\":\"1881\",\"line\":{\"color\":\"#7201a8\",\"dash\":\"solid\"},\"marker\":{\"symbol\":\"circle\"},\"mode\":\"lines\",\"name\":\"1881\",\"r\":[-3.9,1.4,4.9,6.9,11.3,15.2,20.3,17.2,12.0,4.9,4.6,-0.3,-3.9],\"showlegend\":true,\"subplot\":\"polar\",\"theta\":[30.0,60.0,90.0,120.0,150.0,180.0,210.0,240.0,270.0,300.0,330.0,360.0,30.0],\"type\":\"scatterpolar\"}],\"name\":\"1881\"},{\"data\":[{\"hovertemplate\":\"Year=1882<br>Temperature=%{r}<br>prep_months=%{theta}<extra></extra>\",\"legendgroup\":\"1882\",\"line\":{\"color\":\"#46039f\",\"dash\":\"solid\"},\"marker\":{\"symbol\":\"circle\"},\"mode\":\"lines\",\"name\":\"1882\",\"r\":[-1.5,0.3,6.0,7.9,12.7,14.7,15.8,15.1,12.0,9.3,4.6,0.8,-1.5],\"showlegend\":true,\"subplot\":\"polar\",\"theta\":[30.0,60.0,90.0,120.0,150.0,180.0,210.0,240.0,270.0,300.0,330.0,360.0,30.0],\"type\":\"scatterpolar\"}],\"name\":\"1882\"},{\"data\":[{\"hovertemplate\":\"Year=1883<br>Temperature=%{r}<br>prep_months=%{theta}<extra></extra>\",\"legendgroup\":\"1883\",\"line\":{\"color\":\"#0d0887\",\"dash\":\"solid\"},\"marker\":{\"symbol\":\"circle\"},\"mode\":\"lines\",\"name\":\"1883\",\"r\":[0.0,2.4,-0.3,7.2,12.6,15.0,16.1,16.1,12.9,7.2,4.0,-0.3,0.0],\"showlegend\":true,\"subplot\":\"polar\",\"theta\":[30.0,60.0,90.0,120.0,150.0,180.0,210.0,240.0,270.0,300.0,330.0,360.0,30.0],\"type\":\"scatterpolar\"}],\"name\":\"1883\"},{\"data\":[{\"hovertemplate\":\"Year=1884<br>Temperature=%{r}<br>prep_months=%{theta}<extra></extra>\",\"legendgroup\":\"1884\",\"line\":{\"color\":\"#f0f921\",\"dash\":\"solid\"},\"marker\":{\"symbol\":\"circle\"},\"mode\":\"lines\",\"name\":\"1884\",\"r\":[1.6,1.8,5.2,6.9,13.4,12.5,18.4,17.4,13.5,7.8,1.4,0.4,1.6],\"showlegend\":true,\"subplot\":\"polar\",\"theta\":[30.0,60.0,90.0,120.0,150.0,180.0,210.0,240.0,270.0,300.0,330.0,360.0,30.0],\"type\":\"scatterpolar\"}],\"name\":\"1884\"},{\"data\":[{\"hovertemplate\":\"Year=1885<br>Temperature=%{r}<br>prep_months=%{theta}<extra></extra>\",\"legendgroup\":\"1885\",\"line\":{\"color\":\"#fdca26\",\"dash\":\"solid\"},\"marker\":{\"symbol\":\"circle\"},\"mode\":\"lines\",\"name\":\"1885\",\"r\":[-4.4,3.3,3.1,9.0,9.6,17.6,18.4,16.4,12.6,6.8,3.9,-0.5,-4.4],\"showlegend\":true,\"subplot\":\"polar\",\"theta\":[30.0,60.0,90.0,120.0,150.0,180.0,210.0,240.0,270.0,300.0,330.0,360.0,30.0],\"type\":\"scatterpolar\"}],\"name\":\"1885\"},{\"data\":[{\"hovertemplate\":\"Year=1886<br>Temperature=%{r}<br>prep_months=%{theta}<extra></extra>\",\"legendgroup\":\"1886\",\"line\":{\"color\":\"#fb9f3a\",\"dash\":\"solid\"},\"marker\":{\"symbol\":\"circle\"},\"mode\":\"lines\",\"name\":\"1886\",\"r\":[-2.0,-2.8,2.1,9.3,12.6,13.7,17.6,16.9,15.5,9.4,4.1,0.7,-2.0],\"showlegend\":true,\"subplot\":\"polar\",\"theta\":[30.0,60.0,90.0,120.0,150.0,180.0,210.0,240.0,270.0,300.0,330.0,360.0,30.0],\"type\":\"scatterpolar\"}],\"name\":\"1886\"},{\"data\":[{\"hovertemplate\":\"Year=1887<br>Temperature=%{r}<br>prep_months=%{theta}<extra></extra>\",\"legendgroup\":\"1887\",\"line\":{\"color\":\"#ed7953\",\"dash\":\"solid\"},\"marker\":{\"symbol\":\"circle\"},\"mode\":\"lines\",\"name\":\"1887\",\"r\":[-4.3,-2.1,0.5,7.6,9.3,17.1,19.3,16.4,11.7,4.6,1.9,-1.6,-4.3],\"showlegend\":true,\"subplot\":\"polar\",\"theta\":[30.0,60.0,90.0,120.0,150.0,180.0,210.0,240.0,270.0,300.0,330.0,360.0,30.0],\"type\":\"scatterpolar\"}],\"name\":\"1887\"},{\"data\":[{\"hovertemplate\":\"Year=1888<br>Temperature=%{r}<br>prep_months=%{theta}<extra></extra>\",\"legendgroup\":\"1888\",\"line\":{\"color\":\"#d8576b\",\"dash\":\"solid\"},\"marker\":{\"symbol\":\"circle\"},\"mode\":\"lines\",\"name\":\"1888\",\"r\":[-3.4,-1.5,2.4,5.8,13.5,15.9,15.0,15.4,13.4,5.4,3.9,-1.5,-3.4],\"showlegend\":true,\"subplot\":\"polar\",\"theta\":[30.0,60.0,90.0,120.0,150.0,180.0,210.0,240.0,270.0,300.0,330.0,360.0,30.0],\"type\":\"scatterpolar\"}],\"name\":\"1888\"},{\"data\":[{\"hovertemplate\":\"Year=1889<br>Temperature=%{r}<br>prep_months=%{theta}<extra></extra>\",\"legendgroup\":\"1889\",\"line\":{\"color\":\"#bd3786\",\"dash\":\"solid\"},\"marker\":{\"symbol\":\"circle\"},\"mode\":\"lines\",\"name\":\"1889\",\"r\":[-2.8,-1.9,0.9,6.6,13.8,16.9,16.8,15.6,11.7,7.5,2.6,-2.6,-2.8],\"showlegend\":true,\"subplot\":\"polar\",\"theta\":[30.0,60.0,90.0,120.0,150.0,180.0,210.0,240.0,270.0,300.0,330.0,360.0,30.0],\"type\":\"scatterpolar\"}],\"name\":\"1889\"},{\"data\":[{\"hovertemplate\":\"Year=1890<br>Temperature=%{r}<br>prep_months=%{theta}<extra></extra>\",\"legendgroup\":\"1890\",\"line\":{\"color\":\"#9c179e\",\"dash\":\"solid\"},\"marker\":{\"symbol\":\"circle\"},\"mode\":\"lines\",\"name\":\"1890\",\"r\":[0.4,-3.8,3.5,7.1,13.5,14.5,15.6,16.0,12.3,5.9,2.8,-5.8,0.4],\"showlegend\":true,\"subplot\":\"polar\",\"theta\":[30.0,60.0,90.0,120.0,150.0,180.0,210.0,240.0,270.0,300.0,330.0,360.0,30.0],\"type\":\"scatterpolar\"}],\"name\":\"1890\"},{\"data\":[{\"hovertemplate\":\"Year=1891<br>Temperature=%{r}<br>prep_months=%{theta}<extra></extra>\",\"legendgroup\":\"1891\",\"line\":{\"color\":\"#7201a8\",\"dash\":\"solid\"},\"marker\":{\"symbol\":\"circle\"},\"mode\":\"lines\",\"name\":\"1891\",\"r\":[-6.1,-3.0,2.9,5.5,11.8,15.6,15.9,15.4,13.6,8.9,2.2,0.8,-6.1],\"showlegend\":true,\"subplot\":\"polar\",\"theta\":[30.0,60.0,90.0,120.0,150.0,180.0,210.0,240.0,270.0,300.0,330.0,360.0,30.0],\"type\":\"scatterpolar\"}],\"name\":\"1891\"},{\"data\":[{\"hovertemplate\":\"Year=1892<br>Temperature=%{r}<br>prep_months=%{theta}<extra></extra>\",\"legendgroup\":\"1892\",\"line\":{\"color\":\"#46039f\",\"dash\":\"solid\"},\"marker\":{\"symbol\":\"circle\"},\"mode\":\"lines\",\"name\":\"1892\",\"r\":[-1.9,1.1,0.6,7.8,12.6,15.8,17.0,18.3,13.9,7.7,5.1,-2.1,-1.9],\"showlegend\":true,\"subplot\":\"polar\",\"theta\":[30.0,60.0,90.0,120.0,150.0,180.0,210.0,240.0,270.0,300.0,330.0,360.0,30.0],\"type\":\"scatterpolar\"}],\"name\":\"1892\"},{\"data\":[{\"hovertemplate\":\"Year=1893<br>Temperature=%{r}<br>prep_months=%{theta}<extra></extra>\",\"legendgroup\":\"1893\",\"line\":{\"color\":\"#0d0887\",\"dash\":\"solid\"},\"marker\":{\"symbol\":\"circle\"},\"mode\":\"lines\",\"name\":\"1893\",\"r\":[-6.6,1.6,5.1,11.4,12.2,15.8,17.3,18.0,13.7,9.4,2.2,-1.2,-6.6],\"showlegend\":true,\"subplot\":\"polar\",\"theta\":[30.0,60.0,90.0,120.0,150.0,180.0,210.0,240.0,270.0,300.0,330.0,360.0,30.0],\"type\":\"scatterpolar\"}],\"name\":\"1893\"},{\"data\":[{\"hovertemplate\":\"Year=1894<br>Temperature=%{r}<br>prep_months=%{theta}<extra></extra>\",\"legendgroup\":\"1894\",\"line\":{\"color\":\"#f0f921\",\"dash\":\"solid\"},\"marker\":{\"symbol\":\"circle\"},\"mode\":\"lines\",\"name\":\"1894\",\"r\":[-2.8,0.6,4.6,10.2,11.2,14.9,17.8,16.1,11.8,8.6,3.8,-1.1,-2.8],\"showlegend\":true,\"subplot\":\"polar\",\"theta\":[30.0,60.0,90.0,120.0,150.0,180.0,210.0,240.0,270.0,300.0,330.0,360.0,30.0],\"type\":\"scatterpolar\"}],\"name\":\"1894\"},{\"data\":[{\"hovertemplate\":\"Year=1895<br>Temperature=%{r}<br>prep_months=%{theta}<extra></extra>\",\"legendgroup\":\"1895\",\"line\":{\"color\":\"#fdca26\",\"dash\":\"solid\"},\"marker\":{\"symbol\":\"circle\"},\"mode\":\"lines\",\"name\":\"1895\",\"r\":[-5.2,-7.7,1.6,9.0,11.8,15.6,18.1,16.9,16.6,7.4,5.9,1.3,-5.2],\"showlegend\":true,\"subplot\":\"polar\",\"theta\":[30.0,60.0,90.0,120.0,150.0,180.0,210.0,240.0,270.0,300.0,330.0,360.0,30.0],\"type\":\"scatterpolar\"}],\"name\":\"1895\"},{\"data\":[{\"hovertemplate\":\"Year=1896<br>Temperature=%{r}<br>prep_months=%{theta}<extra></extra>\",\"legendgroup\":\"1896\",\"line\":{\"color\":\"#fb9f3a\",\"dash\":\"solid\"},\"marker\":{\"symbol\":\"circle\"},\"mode\":\"lines\",\"name\":\"1896\",\"r\":[-2.2,-2.1,6.3,5.5,10.5,15.9,17.5,14.4,13.1,7.3,1.5,-0.3,-2.2],\"showlegend\":true,\"subplot\":\"polar\",\"theta\":[30.0,60.0,90.0,120.0,150.0,180.0,210.0,240.0,270.0,300.0,330.0,360.0,30.0],\"type\":\"scatterpolar\"}],\"name\":\"1896\"},{\"data\":[{\"hovertemplate\":\"Year=1897<br>Temperature=%{r}<br>prep_months=%{theta}<extra></extra>\",\"legendgroup\":\"1897\",\"line\":{\"color\":\"#ed7953\",\"dash\":\"solid\"},\"marker\":{\"symbol\":\"circle\"},\"mode\":\"lines\",\"name\":\"1897\",\"r\":[-2.3,3.8,6.3,7.8,10.1,17.7,17.9,16.9,12.3,6.8,2.7,-0.6,-2.3],\"showlegend\":true,\"subplot\":\"polar\",\"theta\":[30.0,60.0,90.0,120.0,150.0,180.0,210.0,240.0,270.0,300.0,330.0,360.0,30.0],\"type\":\"scatterpolar\"}],\"name\":\"1897\"},{\"data\":[{\"hovertemplate\":\"Year=1898<br>Temperature=%{r}<br>prep_months=%{theta}<extra></extra>\",\"legendgroup\":\"1898\",\"line\":{\"color\":\"#d8576b\",\"dash\":\"solid\"},\"marker\":{\"symbol\":\"circle\"},\"mode\":\"lines\",\"name\":\"1898\",\"r\":[0.4,0.5,3.0,8.1,11.3,14.5,16.3,18.6,15.0,10.1,4.8,0.6,0.4],\"showlegend\":true,\"subplot\":\"polar\",\"theta\":[30.0,60.0,90.0,120.0,150.0,180.0,210.0,240.0,270.0,300.0,330.0,360.0,30.0],\"type\":\"scatterpolar\"}],\"name\":\"1898\"},{\"data\":[{\"hovertemplate\":\"Year=1899<br>Temperature=%{r}<br>prep_months=%{theta}<extra></extra>\",\"legendgroup\":\"1899\",\"line\":{\"color\":\"#bd3786\",\"dash\":\"solid\"},\"marker\":{\"symbol\":\"circle\"},\"mode\":\"lines\",\"name\":\"1899\",\"r\":[1.7,2.7,4.4,7.4,11.3,15.7,17.6,18.9,13.2,8.6,3.7,-2.7,1.7],\"showlegend\":true,\"subplot\":\"polar\",\"theta\":[30.0,60.0,90.0,120.0,150.0,180.0,210.0,240.0,270.0,300.0,330.0,360.0,30.0],\"type\":\"scatterpolar\"}],\"name\":\"1899\"},{\"data\":[{\"hovertemplate\":\"Year=1900<br>Temperature=%{r}<br>prep_months=%{theta}<extra></extra>\",\"legendgroup\":\"1900\",\"line\":{\"color\":\"#9c179e\",\"dash\":\"solid\"},\"marker\":{\"symbol\":\"circle\"},\"mode\":\"lines\",\"name\":\"1900\",\"r\":[1.0,2.6,0.2,6.9,10.8,16.8,18.7,15.9,15.0,8.8,4.3,1.9,1.0],\"showlegend\":true,\"subplot\":\"polar\",\"theta\":[30.0,60.0,90.0,120.0,150.0,180.0,210.0,240.0,270.0,300.0,330.0,360.0,30.0],\"type\":\"scatterpolar\"}],\"name\":\"1900\"},{\"data\":[{\"hovertemplate\":\"Year=1901<br>Temperature=%{r}<br>prep_months=%{theta}<extra></extra>\",\"legendgroup\":\"1901\",\"line\":{\"color\":\"#7201a8\",\"dash\":\"solid\"},\"marker\":{\"symbol\":\"circle\"},\"mode\":\"lines\",\"name\":\"1901\",\"r\":[-2.5,-4.8,2.3,8.2,13.1,16.2,18.1,16.0,13.5,7.9,1.1,0.5,-2.5],\"showlegend\":true,\"subplot\":\"polar\",\"theta\":[30.0,60.0,90.0,120.0,150.0,180.0,210.0,240.0,270.0,300.0,330.0,360.0,30.0],\"type\":\"scatterpolar\"}],\"name\":\"1901\"},{\"data\":[{\"hovertemplate\":\"Year=1902<br>Temperature=%{r}<br>prep_months=%{theta}<extra></extra>\",\"legendgroup\":\"1902\",\"line\":{\"color\":\"#46039f\",\"dash\":\"solid\"},\"marker\":{\"symbol\":\"circle\"},\"mode\":\"lines\",\"name\":\"1902\",\"r\":[0.6,-0.7,4.1,9.9,8.0,14.7,17.7,16.1,13.0,7.7,2.1,-1.3,0.6],\"showlegend\":true,\"subplot\":\"polar\",\"theta\":[30.0,60.0,90.0,120.0,150.0,180.0,210.0,240.0,270.0,300.0,330.0,360.0,30.0],\"type\":\"scatterpolar\"}],\"name\":\"1902\"},{\"data\":[{\"hovertemplate\":\"Year=1903<br>Temperature=%{r}<br>prep_months=%{theta}<extra></extra>\",\"legendgroup\":\"1903\",\"line\":{\"color\":\"#0d0887\",\"dash\":\"solid\"},\"marker\":{\"symbol\":\"circle\"},\"mode\":\"lines\",\"name\":\"1903\",\"r\":[-1.2,2.1,5.4,4.5,12.4,14.3,16.1,16.6,13.5,9.4,3.7,-1.5,-1.2],\"showlegend\":true,\"subplot\":\"polar\",\"theta\":[30.0,60.0,90.0,120.0,150.0,180.0,210.0,240.0,270.0,300.0,330.0,360.0,30.0],\"type\":\"scatterpolar\"}],\"name\":\"1903\"},{\"data\":[{\"hovertemplate\":\"Year=1904<br>Temperature=%{r}<br>prep_months=%{theta}<extra></extra>\",\"legendgroup\":\"1904\",\"line\":{\"color\":\"#f0f921\",\"dash\":\"solid\"},\"marker\":{\"symbol\":\"circle\"},\"mode\":\"lines\",\"name\":\"1904\",\"r\":[-2.3,1.2,3.7,9.6,13.3,16.4,20.0,18.2,11.6,8.4,2.2,0.9,-2.3],\"showlegend\":true,\"subplot\":\"polar\",\"theta\":[30.0,60.0,90.0,120.0,150.0,180.0,210.0,240.0,270.0,300.0,330.0,360.0,30.0],\"type\":\"scatterpolar\"}],\"name\":\"1904\"},{\"data\":[{\"hovertemplate\":\"Year=1905<br>Temperature=%{r}<br>prep_months=%{theta}<extra></extra>\",\"legendgroup\":\"1905\",\"line\":{\"color\":\"#fdca26\",\"dash\":\"solid\"},\"marker\":{\"symbol\":\"circle\"},\"mode\":\"lines\",\"name\":\"1905\",\"r\":[-3.2,0.7,4.7,7.9,10.8,16.5,20.0,16.8,13.4,3.8,3.0,-0.3,-3.2],\"showlegend\":true,\"subplot\":\"polar\",\"theta\":[30.0,60.0,90.0,120.0,150.0,180.0,210.0,240.0,270.0,300.0,330.0,360.0,30.0],\"type\":\"scatterpolar\"}],\"name\":\"1905\"},{\"data\":[{\"hovertemplate\":\"Year=1906<br>Temperature=%{r}<br>prep_months=%{theta}<extra></extra>\",\"legendgroup\":\"1906\",\"line\":{\"color\":\"#fb9f3a\",\"dash\":\"solid\"},\"marker\":{\"symbol\":\"circle\"},\"mode\":\"lines\",\"name\":\"1906\",\"r\":[-0.1,-0.6,2.8,7.6,12.7,14.5,17.6,17.4,12.8,10.4,4.8,-2.3,-0.1],\"showlegend\":true,\"subplot\":\"polar\",\"theta\":[30.0,60.0,90.0,120.0,150.0,180.0,210.0,240.0,270.0,300.0,330.0,360.0,30.0],\"type\":\"scatterpolar\"}],\"name\":\"1906\"},{\"data\":[{\"hovertemplate\":\"Year=1907<br>Temperature=%{r}<br>prep_months=%{theta}<extra></extra>\",\"legendgroup\":\"1907\",\"line\":{\"color\":\"#ed7953\",\"dash\":\"solid\"},\"marker\":{\"symbol\":\"circle\"},\"mode\":\"lines\",\"name\":\"1907\",\"r\":[-1.9,-2.5,2.7,6.2,12.9,15.2,15.4,17.3,13.7,9.4,4.2,2.2,-1.9],\"showlegend\":true,\"subplot\":\"polar\",\"theta\":[30.0,60.0,90.0,120.0,150.0,180.0,210.0,240.0,270.0,300.0,330.0,360.0,30.0],\"type\":\"scatterpolar\"}],\"name\":\"1907\"},{\"data\":[{\"hovertemplate\":\"Year=1908<br>Temperature=%{r}<br>prep_months=%{theta}<extra></extra>\",\"legendgroup\":\"1908\",\"line\":{\"color\":\"#d8576b\",\"dash\":\"solid\"},\"marker\":{\"symbol\":\"circle\"},\"mode\":\"lines\",\"name\":\"1908\",\"r\":[-3.7,0.2,2.6,5.4,13.8,17.8,17.1,15.3,12.3,7.9,1.6,-0.6,-3.7],\"showlegend\":true,\"subplot\":\"polar\",\"theta\":[30.0,60.0,90.0,120.0,150.0,180.0,210.0,240.0,270.0,300.0,330.0,360.0,30.0],\"type\":\"scatterpolar\"}],\"name\":\"1908\"},{\"data\":[{\"hovertemplate\":\"Year=1909<br>Temperature=%{r}<br>prep_months=%{theta}<extra></extra>\",\"legendgroup\":\"1909\",\"line\":{\"color\":\"#bd3786\",\"dash\":\"solid\"},\"marker\":{\"symbol\":\"circle\"},\"mode\":\"lines\",\"name\":\"1909\",\"r\":[-3.1,-2.2,1.7,9.1,11.4,13.9,15.0,16.2,12.7,9.9,2.1,1.8,-3.1],\"showlegend\":true,\"subplot\":\"polar\",\"theta\":[30.0,60.0,90.0,120.0,150.0,180.0,210.0,240.0,270.0,300.0,330.0,360.0,30.0],\"type\":\"scatterpolar\"}],\"name\":\"1909\"},{\"data\":[{\"hovertemplate\":\"Year=1910<br>Temperature=%{r}<br>prep_months=%{theta}<extra></extra>\",\"legendgroup\":\"1910\",\"line\":{\"color\":\"#9c179e\",\"dash\":\"solid\"},\"marker\":{\"symbol\":\"circle\"},\"mode\":\"lines\",\"name\":\"1910\",\"r\":[0.3,1.4,4.0,7.0,10.7,15.7,15.5,16.2,11.0,9.2,2.9,2.2,0.3],\"showlegend\":true,\"subplot\":\"polar\",\"theta\":[30.0,60.0,90.0,120.0,150.0,180.0,210.0,240.0,270.0,300.0,330.0,360.0,30.0],\"type\":\"scatterpolar\"}],\"name\":\"1910\"},{\"data\":[{\"hovertemplate\":\"Year=1911<br>Temperature=%{r}<br>prep_months=%{theta}<extra></extra>\",\"legendgroup\":\"1911\",\"line\":{\"color\":\"#7201a8\",\"dash\":\"solid\"},\"marker\":{\"symbol\":\"circle\"},\"mode\":\"lines\",\"name\":\"1911\",\"r\":[-4.3,0.5,4.2,7.1,12.5,15.0,20.3,20.4,15.5,8.6,5.3,2.4,-4.3],\"showlegend\":true,\"subplot\":\"polar\",\"theta\":[30.0,60.0,90.0,120.0,150.0,180.0,210.0,240.0,270.0,300.0,330.0,360.0,30.0],\"type\":\"scatterpolar\"}],\"name\":\"1911\"},{\"data\":[{\"hovertemplate\":\"Year=1912<br>Temperature=%{r}<br>prep_months=%{theta}<extra></extra>\",\"legendgroup\":\"1912\",\"line\":{\"color\":\"#46039f\",\"dash\":\"solid\"},\"marker\":{\"symbol\":\"circle\"},\"mode\":\"lines\",\"name\":\"1912\",\"r\":[-0.1,3.6,6.6,7.0,12.9,15.5,16.5,13.7,8.4,6.8,1.4,0.8,-0.1],\"showlegend\":true,\"subplot\":\"polar\",\"theta\":[30.0,60.0,90.0,120.0,150.0,180.0,210.0,240.0,270.0,300.0,330.0,360.0,30.0],\"type\":\"scatterpolar\"}],\"name\":\"1912\"},{\"data\":[{\"hovertemplate\":\"Year=1913<br>Temperature=%{r}<br>prep_months=%{theta}<extra></extra>\",\"legendgroup\":\"1913\",\"line\":{\"color\":\"#0d0887\",\"dash\":\"solid\"},\"marker\":{\"symbol\":\"circle\"},\"mode\":\"lines\",\"name\":\"1913\",\"r\":[0.2,0.3,6.3,7.4,11.8,14.8,14.3,15.4,12.4,9.3,6.6,0.9,0.2],\"showlegend\":true,\"subplot\":\"polar\",\"theta\":[30.0,60.0,90.0,120.0,150.0,180.0,210.0,240.0,270.0,300.0,330.0,360.0,30.0],\"type\":\"scatterpolar\"}],\"name\":\"1913\"},{\"data\":[{\"hovertemplate\":\"Year=1914<br>Temperature=%{r}<br>prep_months=%{theta}<extra></extra>\",\"legendgroup\":\"1914\",\"line\":{\"color\":\"#f0f921\",\"dash\":\"solid\"},\"marker\":{\"symbol\":\"circle\"},\"mode\":\"lines\",\"name\":\"1914\",\"r\":[-4.5,1.3,4.7,10.1,10.0,14.1,15.9,16.6,12.6,7.8,2.5,2.6,-4.5],\"showlegend\":true,\"subplot\":\"polar\",\"theta\":[30.0,60.0,90.0,120.0,150.0,180.0,210.0,240.0,270.0,300.0,330.0,360.0,30.0],\"type\":\"scatterpolar\"}],\"name\":\"1914\"},{\"data\":[{\"hovertemplate\":\"Year=1915<br>Temperature=%{r}<br>prep_months=%{theta}<extra></extra>\",\"legendgroup\":\"1915\",\"line\":{\"color\":\"#fdca26\",\"dash\":\"solid\"},\"marker\":{\"symbol\":\"circle\"},\"mode\":\"lines\",\"name\":\"1915\",\"r\":[0.0,0.1,2.4,6.4,14.2,17.6,16.1,15.3,11.2,6.0,1.1,4.4,0.0],\"showlegend\":true,\"subplot\":\"polar\",\"theta\":[30.0,60.0,90.0,120.0,150.0,180.0,210.0,240.0,270.0,300.0,330.0,360.0,30.0],\"type\":\"scatterpolar\"}],\"name\":\"1915\"},{\"data\":[{\"hovertemplate\":\"Year=1916<br>Temperature=%{r}<br>prep_months=%{theta}<extra></extra>\",\"legendgroup\":\"1916\",\"line\":{\"color\":\"#fb9f3a\",\"dash\":\"solid\"},\"marker\":{\"symbol\":\"circle\"},\"mode\":\"lines\",\"name\":\"1916\",\"r\":[3.1,1.7,4.4,7.7,13.1,12.9,16.3,16.1,11.2,8.4,3.6,1.7,3.1],\"showlegend\":true,\"subplot\":\"polar\",\"theta\":[30.0,60.0,90.0,120.0,150.0,180.0,210.0,240.0,270.0,300.0,330.0,360.0,30.0],\"type\":\"scatterpolar\"}],\"name\":\"1916\"},{\"data\":[{\"hovertemplate\":\"Year=1917<br>Temperature=%{r}<br>prep_months=%{theta}<extra></extra>\",\"legendgroup\":\"1917\",\"line\":{\"color\":\"#ed7953\",\"dash\":\"solid\"},\"marker\":{\"symbol\":\"circle\"},\"mode\":\"lines\",\"name\":\"1917\",\"r\":[-2.4,-2.8,1.4,4.2,15.2,17.8,16.9,16.1,15.4,7.0,3.8,-4.4,-2.4],\"showlegend\":true,\"subplot\":\"polar\",\"theta\":[30.0,60.0,90.0,120.0,150.0,180.0,210.0,240.0,270.0,300.0,330.0,360.0,30.0],\"type\":\"scatterpolar\"}],\"name\":\"1917\"},{\"data\":[{\"hovertemplate\":\"Year=1918<br>Temperature=%{r}<br>prep_months=%{theta}<extra></extra>\",\"legendgroup\":\"1918\",\"line\":{\"color\":\"#d8576b\",\"dash\":\"solid\"},\"marker\":{\"symbol\":\"circle\"},\"mode\":\"lines\",\"name\":\"1918\",\"r\":[-0.6,0.3,4.0,7.7,13.6,12.9,16.9,16.5,13.3,6.6,2.9,3.3,-0.6],\"showlegend\":true,\"subplot\":\"polar\",\"theta\":[30.0,60.0,90.0,120.0,150.0,180.0,210.0,240.0,270.0,300.0,330.0,360.0,30.0],\"type\":\"scatterpolar\"}],\"name\":\"1918\"},{\"data\":[{\"hovertemplate\":\"Year=1919<br>Temperature=%{r}<br>prep_months=%{theta}<extra></extra>\",\"legendgroup\":\"1919\",\"line\":{\"color\":\"#bd3786\",\"dash\":\"solid\"},\"marker\":{\"symbol\":\"circle\"},\"mode\":\"lines\",\"name\":\"1919\",\"r\":[0.1,-0.9,3.7,4.5,11.9,15.8,14.3,18.4,15.2,5.3,1.8,1.3,0.1],\"showlegend\":true,\"subplot\":\"polar\",\"theta\":[30.0,60.0,90.0,120.0,150.0,180.0,210.0,240.0,270.0,300.0,330.0,360.0,30.0],\"type\":\"scatterpolar\"}],\"name\":\"1919\"},{\"data\":[{\"hovertemplate\":\"Year=1920<br>Temperature=%{r}<br>prep_months=%{theta}<extra></extra>\",\"legendgroup\":\"1920\",\"line\":{\"color\":\"#9c179e\",\"dash\":\"solid\"},\"marker\":{\"symbol\":\"circle\"},\"mode\":\"lines\",\"name\":\"1920\",\"r\":[2.4,2.3,5.9,8.5,14.6,15.1,17.0,15.0,13.3,7.8,1.5,0.2,2.4],\"showlegend\":true,\"subplot\":\"polar\",\"theta\":[30.0,60.0,90.0,120.0,150.0,180.0,210.0,240.0,270.0,300.0,330.0,360.0,30.0],\"type\":\"scatterpolar\"}],\"name\":\"1920\"},{\"data\":[{\"hovertemplate\":\"Year=1921<br>Temperature=%{r}<br>prep_months=%{theta}<extra></extra>\",\"legendgroup\":\"1921\",\"line\":{\"color\":\"#7201a8\",\"dash\":\"solid\"},\"marker\":{\"symbol\":\"circle\"},\"mode\":\"lines\",\"name\":\"1921\",\"r\":[3.5,0.4,5.5,6.9,13.4,15.6,19.5,16.8,14.8,10.8,0.3,0.5,3.5],\"showlegend\":true,\"subplot\":\"polar\",\"theta\":[30.0,60.0,90.0,120.0,150.0,180.0,210.0,240.0,270.0,300.0,330.0,360.0,30.0],\"type\":\"scatterpolar\"}],\"name\":\"1921\"},{\"data\":[{\"hovertemplate\":\"Year=1922<br>Temperature=%{r}<br>prep_months=%{theta}<extra></extra>\",\"legendgroup\":\"1922\",\"line\":{\"color\":\"#46039f\",\"dash\":\"solid\"},\"marker\":{\"symbol\":\"circle\"},\"mode\":\"lines\",\"name\":\"1922\",\"r\":[-0.9,-0.5,4.4,5.7,14.2,16.1,15.9,16.3,11.0,6.1,2.0,0.5,-0.9],\"showlegend\":true,\"subplot\":\"polar\",\"theta\":[30.0,60.0,90.0,120.0,150.0,180.0,210.0,240.0,270.0,300.0,330.0,360.0,30.0],\"type\":\"scatterpolar\"}],\"name\":\"1922\"},{\"data\":[{\"hovertemplate\":\"Year=1923<br>Temperature=%{r}<br>prep_months=%{theta}<extra></extra>\",\"legendgroup\":\"1923\",\"line\":{\"color\":\"#0d0887\",\"dash\":\"solid\"},\"marker\":{\"symbol\":\"circle\"},\"mode\":\"lines\",\"name\":\"1923\",\"r\":[-0.5,3.0,4.5,7.6,11.9,11.8,19.3,17.3,13.2,10.5,3.2,0.0,-0.5],\"showlegend\":true,\"subplot\":\"polar\",\"theta\":[30.0,60.0,90.0,120.0,150.0,180.0,210.0,240.0,270.0,300.0,330.0,360.0,30.0],\"type\":\"scatterpolar\"}],\"name\":\"1923\"},{\"data\":[{\"hovertemplate\":\"Year=1924<br>Temperature=%{r}<br>prep_months=%{theta}<extra></extra>\",\"legendgroup\":\"1924\",\"line\":{\"color\":\"#f0f921\",\"dash\":\"solid\"},\"marker\":{\"symbol\":\"circle\"},\"mode\":\"lines\",\"name\":\"1924\",\"r\":[-2.3,-2.4,3.4,7.7,13.2,14.8,16.8,13.7,13.3,9.1,3.2,0.1,-2.3],\"showlegend\":true,\"subplot\":\"polar\",\"theta\":[30.0,60.0,90.0,120.0,150.0,180.0,210.0,240.0,270.0,300.0,330.0,360.0,30.0],\"type\":\"scatterpolar\"}],\"name\":\"1924\"},{\"data\":[{\"hovertemplate\":\"Year=1925<br>Temperature=%{r}<br>prep_months=%{theta}<extra></extra>\",\"legendgroup\":\"1925\",\"line\":{\"color\":\"#fdca26\",\"dash\":\"solid\"},\"marker\":{\"symbol\":\"circle\"},\"mode\":\"lines\",\"name\":\"1925\",\"r\":[1.3,3.1,1.0,7.9,12.5,16.0,16.9,16.1,10.9,8.9,1.9,0.5,1.3],\"showlegend\":true,\"subplot\":\"polar\",\"theta\":[30.0,60.0,90.0,120.0,150.0,180.0,210.0,240.0,270.0,300.0,330.0,360.0,30.0],\"type\":\"scatterpolar\"}],\"name\":\"1925\"},{\"data\":[{\"hovertemplate\":\"Year=1926<br>Temperature=%{r}<br>prep_months=%{theta}<extra></extra>\",\"legendgroup\":\"1926\",\"line\":{\"color\":\"#fb9f3a\",\"dash\":\"solid\"},\"marker\":{\"symbol\":\"circle\"},\"mode\":\"lines\",\"name\":\"1926\",\"r\":[-0.2,4.7,4.5,9.6,10.4,13.0,16.6,16.6,15.4,9.0,5.0,-1.0,-0.2],\"showlegend\":true,\"subplot\":\"polar\",\"theta\":[30.0,60.0,90.0,120.0,150.0,180.0,210.0,240.0,270.0,300.0,330.0,360.0,30.0],\"type\":\"scatterpolar\"}],\"name\":\"1926\"},{\"data\":[{\"hovertemplate\":\"Year=1927<br>Temperature=%{r}<br>prep_months=%{theta}<extra></extra>\",\"legendgroup\":\"1927\",\"line\":{\"color\":\"#ed7953\",\"dash\":\"solid\"},\"marker\":{\"symbol\":\"circle\"},\"mode\":\"lines\",\"name\":\"1927\",\"r\":[0.4,-0.2,4.9,8.3,12.8,15.3,17.4,15.9,13.4,8.1,3.7,-1.0,0.4],\"showlegend\":true,\"subplot\":\"polar\",\"theta\":[30.0,60.0,90.0,120.0,150.0,180.0,210.0,240.0,270.0,300.0,330.0,360.0,30.0],\"type\":\"scatterpolar\"}],\"name\":\"1927\"},{\"data\":[{\"hovertemplate\":\"Year=1928<br>Temperature=%{r}<br>prep_months=%{theta}<extra></extra>\",\"legendgroup\":\"1928\",\"line\":{\"color\":\"#d8576b\",\"dash\":\"solid\"},\"marker\":{\"symbol\":\"circle\"},\"mode\":\"lines\",\"name\":\"1928\",\"r\":[1.9,2.6,4.3,7.9,9.9,15.7,20.6,17.9,13.2,8.4,5.4,0.1,1.9],\"showlegend\":true,\"subplot\":\"polar\",\"theta\":[30.0,60.0,90.0,120.0,150.0,180.0,210.0,240.0,270.0,300.0,330.0,360.0,30.0],\"type\":\"scatterpolar\"}],\"name\":\"1928\"},{\"data\":[{\"hovertemplate\":\"Year=1929<br>Temperature=%{r}<br>prep_months=%{theta}<extra></extra>\",\"legendgroup\":\"1929\",\"line\":{\"color\":\"#bd3786\",\"dash\":\"solid\"},\"marker\":{\"symbol\":\"circle\"},\"mode\":\"lines\",\"name\":\"1929\",\"r\":[-5.1,-7.4,3.6,5.4,12.9,16.4,18.3,16.9,16.4,9.6,4.0,3.3,-5.1],\"showlegend\":true,\"subplot\":\"polar\",\"theta\":[30.0,60.0,90.0,120.0,150.0,180.0,210.0,240.0,270.0,300.0,330.0,360.0,30.0],\"type\":\"scatterpolar\"}],\"name\":\"1929\"},{\"data\":[{\"hovertemplate\":\"Year=1930<br>Temperature=%{r}<br>prep_months=%{theta}<extra></extra>\",\"legendgroup\":\"1930\",\"line\":{\"color\":\"#9c179e\",\"dash\":\"solid\"},\"marker\":{\"symbol\":\"circle\"},\"mode\":\"lines\",\"name\":\"1930\",\"r\":[1.2,-0.3,4.9,8.7,11.0,18.2,15.9,16.3,13.9,8.5,6.4,1.0,1.2],\"showlegend\":true,\"subplot\":\"polar\",\"theta\":[30.0,60.0,90.0,120.0,150.0,180.0,210.0,240.0,270.0,300.0,330.0,360.0,30.0],\"type\":\"scatterpolar\"}],\"name\":\"1930\"},{\"data\":[{\"hovertemplate\":\"Year=1931<br>Temperature=%{r}<br>prep_months=%{theta}<extra></extra>\",\"legendgroup\":\"1931\",\"line\":{\"color\":\"#7201a8\",\"dash\":\"solid\"},\"marker\":{\"symbol\":\"circle\"},\"mode\":\"lines\",\"name\":\"1931\",\"r\":[-0.3,-1.2,0.5,6.8,14.5,17.4,16.3,14.9,9.2,7.3,4.6,-0.9,-0.3],\"showlegend\":true,\"subplot\":\"polar\",\"theta\":[30.0,60.0,90.0,120.0,150.0,180.0,210.0,240.0,270.0,300.0,330.0,360.0,30.0],\"type\":\"scatterpolar\"}],\"name\":\"1931\"},{\"data\":[{\"hovertemplate\":\"Year=1932<br>Temperature=%{r}<br>prep_months=%{theta}<extra></extra>\",\"legendgroup\":\"1932\",\"line\":{\"color\":\"#46039f\",\"dash\":\"solid\"},\"marker\":{\"symbol\":\"circle\"},\"mode\":\"lines\",\"name\":\"1932\",\"r\":[-0.2,-3.6,1.4,6.6,11.2,14.4,16.2,18.8,16.2,8.8,4.3,-0.2,-0.2],\"showlegend\":true,\"subplot\":\"polar\",\"theta\":[30.0,60.0,90.0,120.0,150.0,180.0,210.0,240.0,270.0,300.0,330.0,360.0,30.0],\"type\":\"scatterpolar\"}],\"name\":\"1932\"},{\"data\":[{\"hovertemplate\":\"Year=1933<br>Temperature=%{r}<br>prep_months=%{theta}<extra></extra>\",\"legendgroup\":\"1933\",\"line\":{\"color\":\"#0d0887\",\"dash\":\"solid\"},\"marker\":{\"symbol\":\"circle\"},\"mode\":\"lines\",\"name\":\"1933\",\"r\":[-3.3,0.2,4.9,8.3,10.5,12.9,18.2,18.2,14.0,9.0,2.6,-4.4,-3.3],\"showlegend\":true,\"subplot\":\"polar\",\"theta\":[30.0,60.0,90.0,120.0,150.0,180.0,210.0,240.0,270.0,300.0,330.0,360.0,30.0],\"type\":\"scatterpolar\"}],\"name\":\"1933\"},{\"data\":[{\"hovertemplate\":\"Year=1934<br>Temperature=%{r}<br>prep_months=%{theta}<extra></extra>\",\"legendgroup\":\"1934\",\"line\":{\"color\":\"#f0f921\",\"dash\":\"solid\"},\"marker\":{\"symbol\":\"circle\"},\"mode\":\"lines\",\"name\":\"1934\",\"r\":[-0.9,-0.5,3.7,10.8,14.2,15.7,18.2,15.7,15.1,8.7,2.3,3.9,-0.9],\"showlegend\":true,\"subplot\":\"polar\",\"theta\":[30.0,60.0,90.0,120.0,150.0,180.0,210.0,240.0,270.0,300.0,330.0,360.0,30.0],\"type\":\"scatterpolar\"}],\"name\":\"1934\"},{\"data\":[{\"hovertemplate\":\"Year=1935<br>Temperature=%{r}<br>prep_months=%{theta}<extra></extra>\",\"legendgroup\":\"1935\",\"line\":{\"color\":\"#fdca26\",\"dash\":\"solid\"},\"marker\":{\"symbol\":\"circle\"},\"mode\":\"lines\",\"name\":\"1935\",\"r\":[-2.3,1.6,2.8,6.7,10.7,17.5,18.9,16.0,14.1,8.4,4.7,-1.0,-2.3],\"showlegend\":true,\"subplot\":\"polar\",\"theta\":[30.0,60.0,90.0,120.0,150.0,180.0,210.0,240.0,270.0,300.0,330.0,360.0,30.0],\"type\":\"scatterpolar\"}],\"name\":\"1935\"},{\"data\":[{\"hovertemplate\":\"Year=1936<br>Temperature=%{r}<br>prep_months=%{theta}<extra></extra>\",\"legendgroup\":\"1936\",\"line\":{\"color\":\"#fb9f3a\",\"dash\":\"solid\"},\"marker\":{\"symbol\":\"circle\"},\"mode\":\"lines\",\"name\":\"1936\",\"r\":[3.5,0.9,5.8,7.2,12.6,15.0,16.0,16.2,13.3,5.6,3.8,1.4,3.5],\"showlegend\":true,\"subplot\":\"polar\",\"theta\":[30.0,60.0,90.0,120.0,150.0,180.0,210.0,240.0,270.0,300.0,330.0,360.0,30.0],\"type\":\"scatterpolar\"}],\"name\":\"1936\"},{\"data\":[{\"hovertemplate\":\"Year=1937<br>Temperature=%{r}<br>prep_months=%{theta}<extra></extra>\",\"legendgroup\":\"1937\",\"line\":{\"color\":\"#ed7953\",\"dash\":\"solid\"},\"marker\":{\"symbol\":\"circle\"},\"mode\":\"lines\",\"name\":\"1937\",\"r\":[0.7,3.2,3.0,7.7,14.2,16.6,17.5,16.9,12.7,8.5,3.2,-0.5,0.7],\"showlegend\":true,\"subplot\":\"polar\",\"theta\":[30.0,60.0,90.0,120.0,150.0,180.0,210.0,240.0,270.0,300.0,330.0,360.0,30.0],\"type\":\"scatterpolar\"}],\"name\":\"1937\"},{\"data\":[{\"hovertemplate\":\"Year=1938<br>Temperature=%{r}<br>prep_months=%{theta}<extra></extra>\",\"legendgroup\":\"1938\",\"line\":{\"color\":\"#d8576b\",\"dash\":\"solid\"},\"marker\":{\"symbol\":\"circle\"},\"mode\":\"lines\",\"name\":\"1938\",\"r\":[0.8,0.0,7.0,5.2,10.4,16.6,16.3,16.5,13.9,8.6,5.7,-2.3,0.8],\"showlegend\":true,\"subplot\":\"polar\",\"theta\":[30.0,60.0,90.0,120.0,150.0,180.0,210.0,240.0,270.0,300.0,330.0,360.0,30.0],\"type\":\"scatterpolar\"}],\"name\":\"1938\"},{\"data\":[{\"hovertemplate\":\"Year=1939<br>Temperature=%{r}<br>prep_months=%{theta}<extra></extra>\",\"legendgroup\":\"1939\",\"line\":{\"color\":\"#bd3786\",\"dash\":\"solid\"},\"marker\":{\"symbol\":\"circle\"},\"mode\":\"lines\",\"name\":\"1939\",\"r\":[1.5,0.8,1.4,9.4,9.0,15.6,16.2,17.0,12.5,7.1,5.6,-1.3,1.5],\"showlegend\":true,\"subplot\":\"polar\",\"theta\":[30.0,60.0,90.0,120.0,150.0,180.0,210.0,240.0,270.0,300.0,330.0,360.0,30.0],\"type\":\"scatterpolar\"}],\"name\":\"1939\"},{\"data\":[{\"hovertemplate\":\"Year=1940<br>Temperature=%{r}<br>prep_months=%{theta}<extra></extra>\",\"legendgroup\":\"1940\",\"line\":{\"color\":\"#9c179e\",\"dash\":\"solid\"},\"marker\":{\"symbol\":\"circle\"},\"mode\":\"lines\",\"name\":\"1940\",\"r\":[-6.2,-0.6,3.9,8.4,11.7,15.2,15.7,15.2,13.3,7.8,4.7,-4.0,-6.2],\"showlegend\":true,\"subplot\":\"polar\",\"theta\":[30.0,60.0,90.0,120.0,150.0,180.0,210.0,240.0,270.0,300.0,330.0,360.0,30.0],\"type\":\"scatterpolar\"}],\"name\":\"1940\"},{\"data\":[{\"hovertemplate\":\"Year=1941<br>Temperature=%{r}<br>prep_months=%{theta}<extra></extra>\",\"legendgroup\":\"1941\",\"line\":{\"color\":\"#7201a8\",\"dash\":\"solid\"},\"marker\":{\"symbol\":\"circle\"},\"mode\":\"lines\",\"name\":\"1941\",\"r\":[-3.6,0.9,4.9,6.0,8.6,16.1,18.6,15.3,12.6,7.5,2.2,0.2,-3.6],\"showlegend\":true,\"subplot\":\"polar\",\"theta\":[30.0,60.0,90.0,120.0,150.0,180.0,210.0,240.0,270.0,300.0,330.0,360.0,30.0],\"type\":\"scatterpolar\"}],\"name\":\"1941\"},{\"data\":[{\"hovertemplate\":\"Year=1942<br>Temperature=%{r}<br>prep_months=%{theta}<extra></extra>\",\"legendgroup\":\"1942\",\"line\":{\"color\":\"#46039f\",\"dash\":\"solid\"},\"marker\":{\"symbol\":\"circle\"},\"mode\":\"lines\",\"name\":\"1942\",\"r\":[-5.5,-4.1,4.4,8.3,12.3,15.8,17.1,16.9,15.7,11.2,2.1,0.5,-5.5],\"showlegend\":true,\"subplot\":\"polar\",\"theta\":[30.0,60.0,90.0,120.0,150.0,180.0,210.0,240.0,270.0,300.0,330.0,360.0,30.0],\"type\":\"scatterpolar\"}],\"name\":\"1942\"},{\"data\":[{\"hovertemplate\":\"Year=1943<br>Temperature=%{r}<br>prep_months=%{theta}<extra></extra>\",\"legendgroup\":\"1943\",\"line\":{\"color\":\"#0d0887\",\"dash\":\"solid\"},\"marker\":{\"symbol\":\"circle\"},\"mode\":\"lines\",\"name\":\"1943\",\"r\":[-0.5,2.2,6.3,9.6,13.6,14.3,17.8,18.8,14.4,10.3,2.6,0.6,-0.5],\"showlegend\":true,\"subplot\":\"polar\",\"theta\":[30.0,60.0,90.0,120.0,150.0,180.0,210.0,240.0,270.0,300.0,330.0,360.0,30.0],\"type\":\"scatterpolar\"}],\"name\":\"1943\"},{\"data\":[{\"hovertemplate\":\"Year=1944<br>Temperature=%{r}<br>prep_months=%{theta}<extra></extra>\",\"legendgroup\":\"1944\",\"line\":{\"color\":\"#f0f921\",\"dash\":\"solid\"},\"marker\":{\"symbol\":\"circle\"},\"mode\":\"lines\",\"name\":\"1944\",\"r\":[1.5,-2.4,0.9,10.0,12.3,14.3,17.1,20.3,13.0,7.9,3.6,-0.7,1.5],\"showlegend\":true,\"subplot\":\"polar\",\"theta\":[30.0,60.0,90.0,120.0,150.0,180.0,210.0,240.0,270.0,300.0,330.0,360.0,30.0],\"type\":\"scatterpolar\"}],\"name\":\"1944\"},{\"data\":[{\"hovertemplate\":\"Year=1945<br>Temperature=%{r}<br>prep_months=%{theta}<extra></extra>\",\"legendgroup\":\"1945\",\"line\":{\"color\":\"#fdca26\",\"dash\":\"solid\"},\"marker\":{\"symbol\":\"circle\"},\"mode\":\"lines\",\"name\":\"1945\",\"r\":[-5.4,3.6,5.8,9.9,14.6,18.0,18.7,16.4,14.3,8.7,2.0,1.0,-5.4],\"showlegend\":true,\"subplot\":\"polar\",\"theta\":[30.0,60.0,90.0,120.0,150.0,180.0,210.0,240.0,270.0,300.0,330.0,360.0,30.0],\"type\":\"scatterpolar\"}],\"name\":\"1945\"},{\"data\":[{\"hovertemplate\":\"Year=1946<br>Temperature=%{r}<br>prep_months=%{theta}<extra></extra>\",\"legendgroup\":\"1946\",\"line\":{\"color\":\"#fb9f3a\",\"dash\":\"solid\"},\"marker\":{\"symbol\":\"circle\"},\"mode\":\"lines\",\"name\":\"1946\",\"r\":[-2.5,3.2,5.3,11.0,13.7,14.5,17.9,16.4,14.0,7.3,3.3,-1.4,-2.5],\"showlegend\":true,\"subplot\":\"polar\",\"theta\":[30.0,60.0,90.0,120.0,150.0,180.0,210.0,240.0,270.0,300.0,330.0,360.0,30.0],\"type\":\"scatterpolar\"}],\"name\":\"1946\"},{\"data\":[{\"hovertemplate\":\"Year=1947<br>Temperature=%{r}<br>prep_months=%{theta}<extra></extra>\",\"legendgroup\":\"1947\",\"line\":{\"color\":\"#ed7953\",\"dash\":\"solid\"},\"marker\":{\"symbol\":\"circle\"},\"mode\":\"lines\",\"name\":\"1947\",\"r\":[-3.8,-2.7,4.6,11.1,14.4,17.8,19.4,20.1,16.4,8.7,5.6,1.4,-3.8],\"showlegend\":true,\"subplot\":\"polar\",\"theta\":[30.0,60.0,90.0,120.0,150.0,180.0,210.0,240.0,270.0,300.0,330.0,360.0,30.0],\"type\":\"scatterpolar\"}],\"name\":\"1947\"},{\"data\":[{\"hovertemplate\":\"Year=1948<br>Temperature=%{r}<br>prep_months=%{theta}<extra></extra>\",\"legendgroup\":\"1948\",\"line\":{\"color\":\"#d8576b\",\"dash\":\"solid\"},\"marker\":{\"symbol\":\"circle\"},\"mode\":\"lines\",\"name\":\"1948\",\"r\":[3.1,1.2,7.6,9.0,13.9,14.9,14.6,16.5,13.5,9.4,3.7,-0.3,3.1],\"showlegend\":true,\"subplot\":\"polar\",\"theta\":[30.0,60.0,90.0,120.0,150.0,180.0,210.0,240.0,270.0,300.0,330.0,360.0,30.0],\"type\":\"scatterpolar\"}],\"name\":\"1948\"},{\"data\":[{\"hovertemplate\":\"Year=1949<br>Temperature=%{r}<br>prep_months=%{theta}<extra></extra>\",\"legendgroup\":\"1949\",\"line\":{\"color\":\"#bd3786\",\"dash\":\"solid\"},\"marker\":{\"symbol\":\"circle\"},\"mode\":\"lines\",\"name\":\"1949\",\"r\":[0.0,0.8,2.6,11.3,10.9,15.9,19.4,18.4,16.7,11.3,3.2,2.8,0.0],\"showlegend\":true,\"subplot\":\"polar\",\"theta\":[30.0,60.0,90.0,120.0,150.0,180.0,210.0,240.0,270.0,300.0,330.0,360.0,30.0],\"type\":\"scatterpolar\"}],\"name\":\"1949\"},{\"data\":[{\"hovertemplate\":\"Year=1950<br>Temperature=%{r}<br>prep_months=%{theta}<extra></extra>\",\"legendgroup\":\"1950\",\"line\":{\"color\":\"#9c179e\",\"dash\":\"solid\"},\"marker\":{\"symbol\":\"circle\"},\"mode\":\"lines\",\"name\":\"1950\",\"r\":[-0.8,3.2,5.2,6.6,14.2,18.2,19.9,17.4,13.1,8.4,4.3,-1.9,-0.8],\"showlegend\":true,\"subplot\":\"polar\",\"theta\":[30.0,60.0,90.0,120.0,150.0,180.0,210.0,240.0,270.0,300.0,330.0,360.0,30.0],\"type\":\"scatterpolar\"}],\"name\":\"1950\"},{\"data\":[{\"hovertemplate\":\"Year=1951<br>Temperature=%{r}<br>prep_months=%{theta}<extra></extra>\",\"legendgroup\":\"1951\",\"line\":{\"color\":\"#7201a8\",\"dash\":\"solid\"},\"marker\":{\"symbol\":\"circle\"},\"mode\":\"lines\",\"name\":\"1951\",\"r\":[1.3,1.9,3.2,7.9,11.5,15.1,17.8,16.8,14.4,7.3,6.1,0.3,1.3],\"showlegend\":true,\"subplot\":\"polar\",\"theta\":[30.0,60.0,90.0,120.0,150.0,180.0,210.0,240.0,270.0,300.0,330.0,360.0,30.0],\"type\":\"scatterpolar\"}],\"name\":\"1951\"},{\"data\":[{\"hovertemplate\":\"Year=1952<br>Temperature=%{r}<br>prep_months=%{theta}<extra></extra>\",\"legendgroup\":\"1952\",\"line\":{\"color\":\"#46039f\",\"dash\":\"solid\"},\"marker\":{\"symbol\":\"circle\"},\"mode\":\"lines\",\"name\":\"1952\",\"r\":[-1.0,-1.6,5.0,10.4,13.2,16.7,20.4,18.3,10.7,8.2,2.6,-0.1,-1.0],\"showlegend\":true,\"subplot\":\"polar\",\"theta\":[30.0,60.0,90.0,120.0,150.0,180.0,210.0,240.0,270.0,300.0,330.0,360.0,30.0],\"type\":\"scatterpolar\"}],\"name\":\"1952\"},{\"data\":[{\"hovertemplate\":\"Year=1953<br>Temperature=%{r}<br>prep_months=%{theta}<extra></extra>\",\"legendgroup\":\"1953\",\"line\":{\"color\":\"#0d0887\",\"dash\":\"solid\"},\"marker\":{\"symbol\":\"circle\"},\"mode\":\"lines\",\"name\":\"1953\",\"r\":[-3.0,-1.0,5.3,9.2,13.9,14.5,17.6,17.1,14.2,9.9,2.7,1.5,-3.0],\"showlegend\":true,\"subplot\":\"polar\",\"theta\":[30.0,60.0,90.0,120.0,150.0,180.0,210.0,240.0,270.0,300.0,330.0,360.0,30.0],\"type\":\"scatterpolar\"}],\"name\":\"1953\"},{\"data\":[{\"hovertemplate\":\"Year=1954<br>Temperature=%{r}<br>prep_months=%{theta}<extra></extra>\",\"legendgroup\":\"1954\",\"line\":{\"color\":\"#f0f921\",\"dash\":\"solid\"},\"marker\":{\"symbol\":\"circle\"},\"mode\":\"lines\",\"name\":\"1954\",\"r\":[-2.9,-1.6,5.8,6.0,11.4,15.8,15.2,15.6,14.0,9.2,4.6,2.8,-2.9],\"showlegend\":true,\"subplot\":\"polar\",\"theta\":[30.0,60.0,90.0,120.0,150.0,180.0,210.0,240.0,270.0,300.0,330.0,360.0,30.0],\"type\":\"scatterpolar\"}],\"name\":\"1954\"},{\"data\":[{\"hovertemplate\":\"Year=1955<br>Temperature=%{r}<br>prep_months=%{theta}<extra></extra>\",\"legendgroup\":\"1955\",\"line\":{\"color\":\"#fdca26\",\"dash\":\"solid\"},\"marker\":{\"symbol\":\"circle\"},\"mode\":\"lines\",\"name\":\"1955\",\"r\":[-0.4,0.2,1.8,8.4,11.4,15.5,17.0,16.2,13.1,7.5,2.4,3.5,-0.4],\"showlegend\":true,\"subplot\":\"polar\",\"theta\":[30.0,60.0,90.0,120.0,150.0,180.0,210.0,240.0,270.0,300.0,330.0,360.0,30.0],\"type\":\"scatterpolar\"}],\"name\":\"1955\"},{\"data\":[{\"hovertemplate\":\"Year=1956<br>Temperature=%{r}<br>prep_months=%{theta}<extra></extra>\",\"legendgroup\":\"1956\",\"line\":{\"color\":\"#fb9f3a\",\"dash\":\"solid\"},\"marker\":{\"symbol\":\"circle\"},\"mode\":\"lines\",\"name\":\"1956\",\"r\":[1.8,-8.9,4.2,6.6,12.7,13.0,16.8,14.6,14.3,7.3,1.6,0.9,1.8],\"showlegend\":true,\"subplot\":\"polar\",\"theta\":[30.0,60.0,90.0,120.0,150.0,180.0,210.0,240.0,270.0,300.0,330.0,360.0,30.0],\"type\":\"scatterpolar\"}],\"name\":\"1956\"},{\"data\":[{\"hovertemplate\":\"Year=1957<br>Temperature=%{r}<br>prep_months=%{theta}<extra></extra>\",\"legendgroup\":\"1957\",\"line\":{\"color\":\"#ed7953\",\"dash\":\"solid\"},\"marker\":{\"symbol\":\"circle\"},\"mode\":\"lines\",\"name\":\"1957\",\"r\":[-1.4,4.0,8.2,8.3,9.4,16.2,17.3,15.6,12.6,8.6,3.4,0.4,-1.4],\"showlegend\":true,\"subplot\":\"polar\",\"theta\":[30.0,60.0,90.0,120.0,150.0,180.0,210.0,240.0,270.0,300.0,330.0,360.0,30.0],\"type\":\"scatterpolar\"}],\"name\":\"1957\"},{\"data\":[{\"hovertemplate\":\"Year=1958<br>Temperature=%{r}<br>prep_months=%{theta}<extra></extra>\",\"legendgroup\":\"1958\",\"line\":{\"color\":\"#d8576b\",\"dash\":\"solid\"},\"marker\":{\"symbol\":\"circle\"},\"mode\":\"lines\",\"name\":\"1958\",\"r\":[-0.2,3.5,0.6,5.4,14.3,15.0,17.7,17.5,15.1,8.0,3.4,2.5,-0.2],\"showlegend\":true,\"subplot\":\"polar\",\"theta\":[30.0,60.0,90.0,120.0,150.0,180.0,210.0,240.0,270.0,300.0,330.0,360.0,30.0],\"type\":\"scatterpolar\"}],\"name\":\"1958\"},{\"data\":[{\"hovertemplate\":\"Year=1959<br>Temperature=%{r}<br>prep_months=%{theta}<extra></extra>\",\"legendgroup\":\"1959\",\"line\":{\"color\":\"#bd3786\",\"dash\":\"solid\"},\"marker\":{\"symbol\":\"circle\"},\"mode\":\"lines\",\"name\":\"1959\",\"r\":[-0.1,1.4,7.0,9.5,13.0,16.1,19.3,16.7,14.7,8.5,2.0,2.5,-0.1],\"showlegend\":true,\"subplot\":\"polar\",\"theta\":[30.0,60.0,90.0,120.0,150.0,180.0,210.0,240.0,270.0,300.0,330.0,360.0,30.0],\"type\":\"scatterpolar\"}],\"name\":\"1959\"},{\"data\":[{\"hovertemplate\":\"Year=1960<br>Temperature=%{r}<br>prep_months=%{theta}<extra></extra>\",\"legendgroup\":\"1960\",\"line\":{\"color\":\"#9c179e\",\"dash\":\"solid\"},\"marker\":{\"symbol\":\"circle\"},\"mode\":\"lines\",\"name\":\"1960\",\"r\":[-0.3,1.9,5.9,7.9,13.6,16.5,15.1,16.3,11.9,8.4,6.1,0.4,-0.3],\"showlegend\":true,\"subplot\":\"polar\",\"theta\":[30.0,60.0,90.0,120.0,150.0,180.0,210.0,240.0,270.0,300.0,330.0,360.0,30.0],\"type\":\"scatterpolar\"}],\"name\":\"1960\"},{\"data\":[{\"hovertemplate\":\"Year=1961<br>Temperature=%{r}<br>prep_months=%{theta}<extra></extra>\",\"legendgroup\":\"1961\",\"line\":{\"color\":\"#7201a8\",\"dash\":\"solid\"},\"marker\":{\"symbol\":\"circle\"},\"mode\":\"lines\",\"name\":\"1961\",\"r\":[-0.3,5.0,6.6,11.1,10.7,16.0,16.3,16.3,17.3,10.1,3.6,0.9,-0.3],\"showlegend\":true,\"subplot\":\"polar\",\"theta\":[30.0,60.0,90.0,120.0,150.0,180.0,210.0,240.0,270.0,300.0,330.0,360.0,30.0],\"type\":\"scatterpolar\"}],\"name\":\"1961\"},{\"data\":[{\"hovertemplate\":\"Year=1962<br>Temperature=%{r}<br>prep_months=%{theta}<extra></extra>\",\"legendgroup\":\"1962\",\"line\":{\"color\":\"#46039f\",\"dash\":\"solid\"},\"marker\":{\"symbol\":\"circle\"},\"mode\":\"lines\",\"name\":\"1962\",\"r\":[1.2,-0.1,0.9,8.5,10.2,14.8,16.8,18.4,13.3,9.2,1.7,-3.5,1.2],\"showlegend\":true,\"subplot\":\"polar\",\"theta\":[30.0,60.0,90.0,120.0,150.0,180.0,210.0,240.0,270.0,300.0,330.0,360.0,30.0],\"type\":\"scatterpolar\"}],\"name\":\"1962\"},{\"data\":[{\"hovertemplate\":\"Year=1963<br>Temperature=%{r}<br>prep_months=%{theta}<extra></extra>\",\"legendgroup\":\"1963\",\"line\":{\"color\":\"#0d0887\",\"dash\":\"solid\"},\"marker\":{\"symbol\":\"circle\"},\"mode\":\"lines\",\"name\":\"1963\",\"r\":[-6.3,-4.3,2.9,9.0,11.3,15.4,18.4,15.6,13.9,8.6,7.2,-3.1,-6.3],\"showlegend\":true,\"subplot\":\"polar\",\"theta\":[30.0,60.0,90.0,120.0,150.0,180.0,210.0,240.0,270.0,300.0,330.0,360.0,30.0],\"type\":\"scatterpolar\"}],\"name\":\"1963\"},{\"data\":[{\"hovertemplate\":\"Year=1964<br>Temperature=%{r}<br>prep_months=%{theta}<extra></extra>\",\"legendgroup\":\"1964\",\"line\":{\"color\":\"#f0f921\",\"dash\":\"solid\"},\"marker\":{\"symbol\":\"circle\"},\"mode\":\"lines\",\"name\":\"1964\",\"r\":[-3.4,1.8,2.1,9.4,13.8,16.9,19.3,16.2,14.1,7.1,4.7,-0.6,-3.4],\"showlegend\":true,\"subplot\":\"polar\",\"theta\":[30.0,60.0,90.0,120.0,150.0,180.0,210.0,240.0,270.0,300.0,330.0,360.0,30.0],\"type\":\"scatterpolar\"}],\"name\":\"1964\"},{\"data\":[{\"hovertemplate\":\"Year=1965<br>Temperature=%{r}<br>prep_months=%{theta}<extra></extra>\",\"legendgroup\":\"1965\",\"line\":{\"color\":\"#fdca26\",\"dash\":\"solid\"},\"marker\":{\"symbol\":\"circle\"},\"mode\":\"lines\",\"name\":\"1965\",\"r\":[0.7,-3.3,3.5,6.3,11.1,15.8,15.5,15.5,11.7,8.1,3.0,2.7,0.7],\"showlegend\":true,\"subplot\":\"polar\",\"theta\":[30.0,60.0,90.0,120.0,150.0,180.0,210.0,240.0,270.0,300.0,330.0,360.0,30.0],\"type\":\"scatterpolar\"}],\"name\":\"1965\"},{\"data\":[{\"hovertemplate\":\"Year=1966<br>Temperature=%{r}<br>prep_months=%{theta}<extra></extra>\",\"legendgroup\":\"1966\",\"line\":{\"color\":\"#fb9f3a\",\"dash\":\"solid\"},\"marker\":{\"symbol\":\"circle\"},\"mode\":\"lines\",\"name\":\"1966\",\"r\":[-2.4,5.6,3.3,9.7,12.7,16.5,15.3,14.9,14.6,11.5,1.8,1.4,-2.4],\"showlegend\":true,\"subplot\":\"polar\",\"theta\":[30.0,60.0,90.0,120.0,150.0,180.0,210.0,240.0,270.0,300.0,330.0,360.0,30.0],\"type\":\"scatterpolar\"}],\"name\":\"1966\"},{\"data\":[{\"hovertemplate\":\"Year=1967<br>Temperature=%{r}<br>prep_months=%{theta}<extra></extra>\",\"legendgroup\":\"1967\",\"line\":{\"color\":\"#ed7953\",\"dash\":\"solid\"},\"marker\":{\"symbol\":\"circle\"},\"mode\":\"lines\",\"name\":\"1967\",\"r\":[0.0,2.2,5.2,7.0,12.1,14.3,19.3,16.5,13.1,11.6,3.9,-1.2,0.0],\"showlegend\":true,\"subplot\":\"polar\",\"theta\":[30.0,60.0,90.0,120.0,150.0,180.0,210.0,240.0,270.0,300.0,330.0,360.0,30.0],\"type\":\"scatterpolar\"}],\"name\":\"1967\"},{\"data\":[{\"hovertemplate\":\"Year=1968<br>Temperature=%{r}<br>prep_months=%{theta}<extra></extra>\",\"legendgroup\":\"1968\",\"line\":{\"color\":\"#d8576b\",\"dash\":\"solid\"},\"marker\":{\"symbol\":\"circle\"},\"mode\":\"lines\",\"name\":\"1968\",\"r\":[-1.1,1.4,4.6,9.3,11.3,15.4,16.7,15.2,12.6,10.7,3.6,-1.4,-1.1],\"showlegend\":true,\"subplot\":\"polar\",\"theta\":[30.0,60.0,90.0,120.0,150.0,180.0,210.0,240.0,270.0,300.0,330.0,360.0,30.0],\"type\":\"scatterpolar\"}],\"name\":\"1968\"},{\"data\":[{\"hovertemplate\":\"Year=1969<br>Temperature=%{r}<br>prep_months=%{theta}<extra></extra>\",\"legendgroup\":\"1969\",\"line\":{\"color\":\"#bd3786\",\"dash\":\"solid\"},\"marker\":{\"symbol\":\"circle\"},\"mode\":\"lines\",\"name\":\"1969\",\"r\":[0.2,-1.2,3.4,7.3,13.6,13.4,18.3,15.9,14.3,9.6,4.7,-4.0,0.2],\"showlegend\":true,\"subplot\":\"polar\",\"theta\":[30.0,60.0,90.0,120.0,150.0,180.0,210.0,240.0,270.0,300.0,330.0,360.0,30.0],\"type\":\"scatterpolar\"}],\"name\":\"1969\"},{\"data\":[{\"hovertemplate\":\"Year=1970<br>Temperature=%{r}<br>prep_months=%{theta}<extra></extra>\",\"legendgroup\":\"1970\",\"line\":{\"color\":\"#9c179e\",\"dash\":\"solid\"},\"marker\":{\"symbol\":\"circle\"},\"mode\":\"lines\",\"name\":\"1970\",\"r\":[-0.7,0.4,1.4,5.5,10.9,16.6,16.9,16.9,14.0,8.4,5.7,-1.0,-0.7],\"showlegend\":true,\"subplot\":\"polar\",\"theta\":[30.0,60.0,90.0,120.0,150.0,180.0,210.0,240.0,270.0,300.0,330.0,360.0,30.0],\"type\":\"scatterpolar\"}],\"name\":\"1970\"},{\"data\":[{\"hovertemplate\":\"Year=1971<br>Temperature=%{r}<br>prep_months=%{theta}<extra></extra>\",\"legendgroup\":\"1971\",\"line\":{\"color\":\"#7201a8\",\"dash\":\"solid\"},\"marker\":{\"symbol\":\"circle\"},\"mode\":\"lines\",\"name\":\"1971\",\"r\":[-1.8,-0.3,0.4,10.6,13.8,13.7,18.6,17.8,12.7,9.8,2.8,1.2,-1.8],\"showlegend\":true,\"subplot\":\"polar\",\"theta\":[30.0,60.0,90.0,120.0,150.0,180.0,210.0,240.0,270.0,300.0,330.0,360.0,30.0],\"type\":\"scatterpolar\"}],\"name\":\"1971\"},{\"data\":[{\"hovertemplate\":\"Year=1972<br>Temperature=%{r}<br>prep_months=%{theta}<extra></extra>\",\"legendgroup\":\"1972\",\"line\":{\"color\":\"#46039f\",\"dash\":\"solid\"},\"marker\":{\"symbol\":\"circle\"},\"mode\":\"lines\",\"name\":\"1972\",\"r\":[-0.3,3.0,6.4,7.2,11.2,14.0,16.8,15.7,10.5,6.8,4.2,-0.7,-0.3],\"showlegend\":true,\"subplot\":\"polar\",\"theta\":[30.0,60.0,90.0,120.0,150.0,180.0,210.0,240.0,270.0,300.0,330.0,360.0,30.0],\"type\":\"scatterpolar\"}],\"name\":\"1972\"},{\"data\":[{\"hovertemplate\":\"Year=1973<br>Temperature=%{r}<br>prep_months=%{theta}<extra></extra>\",\"legendgroup\":\"1973\",\"line\":{\"color\":\"#0d0887\",\"dash\":\"solid\"},\"marker\":{\"symbol\":\"circle\"},\"mode\":\"lines\",\"name\":\"1973\",\"r\":[-1.2,-0.4,2.8,5.0,13.3,16.0,16.9,18.5,14.6,7.3,3.4,0.2,-1.2],\"showlegend\":true,\"subplot\":\"polar\",\"theta\":[30.0,60.0,90.0,120.0,150.0,180.0,210.0,240.0,270.0,300.0,330.0,360.0,30.0],\"type\":\"scatterpolar\"}],\"name\":\"1973\"},{\"data\":[{\"hovertemplate\":\"Year=1974<br>Temperature=%{r}<br>prep_months=%{theta}<extra></extra>\",\"legendgroup\":\"1974\",\"line\":{\"color\":\"#f0f921\",\"dash\":\"solid\"},\"marker\":{\"symbol\":\"circle\"},\"mode\":\"lines\",\"name\":\"1974\",\"r\":[2.8,2.7,6.8,8.3,11.2,14.2,16.9,17.8,13.3,4.5,4.1,4.0,2.8],\"showlegend\":true,\"subplot\":\"polar\",\"theta\":[30.0,60.0,90.0,120.0,150.0,180.0,210.0,240.0,270.0,300.0,330.0,360.0,30.0],\"type\":\"scatterpolar\"}],\"name\":\"1974\"},{\"data\":[{\"hovertemplate\":\"Year=1975<br>Temperature=%{r}<br>prep_months=%{theta}<extra></extra>\",\"legendgroup\":\"1975\",\"line\":{\"color\":\"#fdca26\",\"dash\":\"solid\"},\"marker\":{\"symbol\":\"circle\"},\"mode\":\"lines\",\"name\":\"1975\",\"r\":[3.5,1.6,3.3,7.5,12.3,13.9,17.6,17.3,15.8,7.4,4.2,-0.7,3.5],\"showlegend\":true,\"subplot\":\"polar\",\"theta\":[30.0,60.0,90.0,120.0,150.0,180.0,210.0,240.0,270.0,300.0,330.0,360.0,30.0],\"type\":\"scatterpolar\"}],\"name\":\"1975\"},{\"data\":[{\"hovertemplate\":\"Year=1976<br>Temperature=%{r}<br>prep_months=%{theta}<extra></extra>\",\"legendgroup\":\"1976\",\"line\":{\"color\":\"#fb9f3a\",\"dash\":\"solid\"},\"marker\":{\"symbol\":\"circle\"},\"mode\":\"lines\",\"name\":\"1976\",\"r\":[1.2,0.9,3.4,7.8,13.0,17.9,18.8,15.4,12.2,10.2,4.3,-1.7,1.2],\"showlegend\":true,\"subplot\":\"polar\",\"theta\":[30.0,60.0,90.0,120.0,150.0,180.0,210.0,240.0,270.0,300.0,330.0,360.0,30.0],\"type\":\"scatterpolar\"}],\"name\":\"1976\"},{\"data\":[{\"hovertemplate\":\"Year=1977<br>Temperature=%{r}<br>prep_months=%{theta}<extra></extra>\",\"legendgroup\":\"1977\",\"line\":{\"color\":\"#ed7953\",\"dash\":\"solid\"},\"marker\":{\"symbol\":\"circle\"},\"mode\":\"lines\",\"name\":\"1977\",\"r\":[0.6,4.6,7.3,6.1,11.3,14.9,16.9,15.6,12.2,10.5,5.0,1.5,0.6],\"showlegend\":true,\"subplot\":\"polar\",\"theta\":[30.0,60.0,90.0,120.0,150.0,180.0,210.0,240.0,270.0,300.0,330.0,360.0,30.0],\"type\":\"scatterpolar\"}],\"name\":\"1977\"},{\"data\":[{\"hovertemplate\":\"Year=1978<br>Temperature=%{r}<br>prep_months=%{theta}<extra></extra>\",\"legendgroup\":\"1978\",\"line\":{\"color\":\"#d8576b\",\"dash\":\"solid\"},\"marker\":{\"symbol\":\"circle\"},\"mode\":\"lines\",\"name\":\"1978\",\"r\":[0.0,-0.5,4.8,7.2,10.8,14.2,16.2,15.5,13.2,8.2,3.2,1.7,0.0],\"showlegend\":true,\"subplot\":\"polar\",\"theta\":[30.0,60.0,90.0,120.0,150.0,180.0,210.0,240.0,270.0,300.0,330.0,360.0,30.0],\"type\":\"scatterpolar\"}],\"name\":\"1978\"},{\"data\":[{\"hovertemplate\":\"Year=1979<br>Temperature=%{r}<br>prep_months=%{theta}<extra></extra>\",\"legendgroup\":\"1979\",\"line\":{\"color\":\"#bd3786\",\"dash\":\"solid\"},\"marker\":{\"symbol\":\"circle\"},\"mode\":\"lines\",\"name\":\"1979\",\"r\":[-3.0,1.9,5.0,6.0,12.3,16.0,17.1,15.5,13.7,9.6,3.6,3.7,-3.0],\"showlegend\":true,\"subplot\":\"polar\",\"theta\":[30.0,60.0,90.0,120.0,150.0,180.0,210.0,240.0,270.0,300.0,330.0,360.0,30.0],\"type\":\"scatterpolar\"}],\"name\":\"1979\"},{\"data\":[{\"hovertemplate\":\"Year=1980<br>Temperature=%{r}<br>prep_months=%{theta}<extra></extra>\",\"legendgroup\":\"1980\",\"line\":{\"color\":\"#9c179e\",\"dash\":\"solid\"},\"marker\":{\"symbol\":\"circle\"},\"mode\":\"lines\",\"name\":\"1980\",\"r\":[-1.3,3.2,4.7,5.8,10.7,13.9,14.9,17.7,14.8,8.2,2.8,-0.6,-1.3],\"showlegend\":true,\"subplot\":\"polar\",\"theta\":[30.0,60.0,90.0,120.0,150.0,180.0,210.0,240.0,270.0,300.0,330.0,360.0,30.0],\"type\":\"scatterpolar\"}],\"name\":\"1980\"},{\"data\":[{\"hovertemplate\":\"Year=1981<br>Temperature=%{r}<br>prep_months=%{theta}<extra></extra>\",\"legendgroup\":\"1981\",\"line\":{\"color\":\"#7201a8\",\"dash\":\"solid\"},\"marker\":{\"symbol\":\"circle\"},\"mode\":\"lines\",\"name\":\"1981\",\"r\":[-2.1,-1.1,7.4,9.5,12.0,15.6,16.2,17.5,13.9,9.1,4.6,0.5,-2.1],\"showlegend\":true,\"subplot\":\"polar\",\"theta\":[30.0,60.0,90.0,120.0,150.0,180.0,210.0,240.0,270.0,300.0,330.0,360.0,30.0],\"type\":\"scatterpolar\"}],\"name\":\"1981\"},{\"data\":[{\"hovertemplate\":\"Year=1982<br>Temperature=%{r}<br>prep_months=%{theta}<extra></extra>\",\"legendgroup\":\"1982\",\"line\":{\"color\":\"#46039f\",\"dash\":\"solid\"},\"marker\":{\"symbol\":\"circle\"},\"mode\":\"lines\",\"name\":\"1982\",\"r\":[0.2,0.6,4.0,7.2,12.8,16.6,19.0,16.6,15.8,9.2,5.8,2.7,0.2],\"showlegend\":true,\"subplot\":\"polar\",\"theta\":[30.0,60.0,90.0,120.0,150.0,180.0,210.0,240.0,270.0,300.0,330.0,360.0,30.0],\"type\":\"scatterpolar\"}],\"name\":\"1982\"},{\"data\":[{\"hovertemplate\":\"Year=1983<br>Temperature=%{r}<br>prep_months=%{theta}<extra></extra>\",\"legendgroup\":\"1983\",\"line\":{\"color\":\"#0d0887\",\"dash\":\"solid\"},\"marker\":{\"symbol\":\"circle\"},\"mode\":\"lines\",\"name\":\"1983\",\"r\":[2.8,-1.6,5.5,9.0,10.5,16.8,22.0,18.1,14.4,9.7,3.0,0.9,2.8],\"showlegend\":true,\"subplot\":\"polar\",\"theta\":[30.0,60.0,90.0,120.0,150.0,180.0,210.0,240.0,270.0,300.0,330.0,360.0,30.0],\"type\":\"scatterpolar\"}],\"name\":\"1983\"},{\"data\":[{\"hovertemplate\":\"Year=1984<br>Temperature=%{r}<br>prep_months=%{theta}<extra></extra>\",\"legendgroup\":\"1984\",\"line\":{\"color\":\"#f0f921\",\"dash\":\"solid\"},\"marker\":{\"symbol\":\"circle\"},\"mode\":\"lines\",\"name\":\"1984\",\"r\":[0.8,-0.6,2.4,7.1,9.8,15.1,17.8,16.8,12.6,10.1,5.7,1.7,0.8],\"showlegend\":true,\"subplot\":\"polar\",\"theta\":[30.0,60.0,90.0,120.0,150.0,180.0,210.0,240.0,270.0,300.0,330.0,360.0,30.0],\"type\":\"scatterpolar\"}],\"name\":\"1984\"},{\"data\":[{\"hovertemplate\":\"Year=1985<br>Temperature=%{r}<br>prep_months=%{theta}<extra></extra>\",\"legendgroup\":\"1985\",\"line\":{\"color\":\"#fdca26\",\"dash\":\"solid\"},\"marker\":{\"symbol\":\"circle\"},\"mode\":\"lines\",\"name\":\"1985\",\"r\":[-5.4,-0.6,3.0,8.5,12.6,14.1,19.1,17.2,15.4,9.5,1.2,3.6,-5.4],\"showlegend\":true,\"subplot\":\"polar\",\"theta\":[30.0,60.0,90.0,120.0,150.0,180.0,210.0,240.0,270.0,300.0,330.0,360.0,30.0],\"type\":\"scatterpolar\"}],\"name\":\"1985\"},{\"data\":[{\"hovertemplate\":\"Year=1986<br>Temperature=%{r}<br>prep_months=%{theta}<extra></extra>\",\"legendgroup\":\"1986\",\"line\":{\"color\":\"#fb9f3a\",\"dash\":\"solid\"},\"marker\":{\"symbol\":\"circle\"},\"mode\":\"lines\",\"name\":\"1986\",\"r\":[0.9,-5.2,3.5,6.0,14.1,15.8,17.4,16.9,13.6,10.7,5.4,1.6,0.9],\"showlegend\":true,\"subplot\":\"polar\",\"theta\":[30.0,60.0,90.0,120.0,150.0,180.0,210.0,240.0,270.0,300.0,330.0,360.0,30.0],\"type\":\"scatterpolar\"}],\"name\":\"1986\"},{\"data\":[{\"hovertemplate\":\"Year=1987<br>Temperature=%{r}<br>prep_months=%{theta}<extra></extra>\",\"legendgroup\":\"1987\",\"line\":{\"color\":\"#ed7953\",\"dash\":\"solid\"},\"marker\":{\"symbol\":\"circle\"},\"mode\":\"lines\",\"name\":\"1987\",\"r\":[-4.3,0.6,1.0,9.9,9.8,14.0,18.0,16.9,16.7,10.0,5.0,2.3,-4.3],\"showlegend\":true,\"subplot\":\"polar\",\"theta\":[30.0,60.0,90.0,120.0,150.0,180.0,210.0,240.0,270.0,300.0,330.0,360.0,30.0],\"type\":\"scatterpolar\"}],\"name\":\"1987\"},{\"data\":[{\"hovertemplate\":\"Year=1988<br>Temperature=%{r}<br>prep_months=%{theta}<extra></extra>\",\"legendgroup\":\"1988\",\"line\":{\"color\":\"#d8576b\",\"dash\":\"solid\"},\"marker\":{\"symbol\":\"circle\"},\"mode\":\"lines\",\"name\":\"1988\",\"r\":[3.4,1.7,3.4,9.3,14.2,15.4,17.7,17.7,13.9,10.7,2.9,2.7,3.4],\"showlegend\":true,\"subplot\":\"polar\",\"theta\":[30.0,60.0,90.0,120.0,150.0,180.0,210.0,240.0,270.0,300.0,330.0,360.0,30.0],\"type\":\"scatterpolar\"}],\"name\":\"1988\"},{\"data\":[{\"hovertemplate\":\"Year=1989<br>Temperature=%{r}<br>prep_months=%{theta}<extra></extra>\",\"legendgroup\":\"1989\",\"line\":{\"color\":\"#bd3786\",\"dash\":\"solid\"},\"marker\":{\"symbol\":\"circle\"},\"mode\":\"lines\",\"name\":\"1989\",\"r\":[1.0,3.0,8.3,7.1,14.2,15.1,18.2,17.4,13.9,10.3,2.4,2.3,1.0],\"showlegend\":true,\"subplot\":\"polar\",\"theta\":[30.0,60.0,90.0,120.0,150.0,180.0,210.0,240.0,270.0,300.0,330.0,360.0,30.0],\"type\":\"scatterpolar\"}],\"name\":\"1989\"},{\"data\":[{\"hovertemplate\":\"Year=1990<br>Temperature=%{r}<br>prep_months=%{theta}<extra></extra>\",\"legendgroup\":\"1990\",\"line\":{\"color\":\"#9c179e\",\"dash\":\"solid\"},\"marker\":{\"symbol\":\"circle\"},\"mode\":\"lines\",\"name\":\"1990\",\"r\":[0.6,6.5,7.4,7.0,14.6,15.0,18.2,18.8,13.2,11.0,4.2,-0.1,0.6],\"showlegend\":true,\"subplot\":\"polar\",\"theta\":[30.0,60.0,90.0,120.0,150.0,180.0,210.0,240.0,270.0,300.0,330.0,360.0,30.0],\"type\":\"scatterpolar\"}],\"name\":\"1990\"},{\"data\":[{\"hovertemplate\":\"Year=1991<br>Temperature=%{r}<br>prep_months=%{theta}<extra></extra>\",\"legendgroup\":\"1991\",\"line\":{\"color\":\"#7201a8\",\"dash\":\"solid\"},\"marker\":{\"symbol\":\"circle\"},\"mode\":\"lines\",\"name\":\"1991\",\"r\":[0.8,-1.1,7.1,7.6,9.6,14.6,19.7,19.8,16.4,8.5,3.9,-0.5,0.8],\"showlegend\":true,\"subplot\":\"polar\",\"theta\":[30.0,60.0,90.0,120.0,150.0,180.0,210.0,240.0,270.0,300.0,330.0,360.0,30.0],\"type\":\"scatterpolar\"}],\"name\":\"1991\"},{\"data\":[{\"hovertemplate\":\"Year=1992<br>Temperature=%{r}<br>prep_months=%{theta}<extra></extra>\",\"legendgroup\":\"1992\",\"line\":{\"color\":\"#46039f\",\"dash\":\"solid\"},\"marker\":{\"symbol\":\"circle\"},\"mode\":\"lines\",\"name\":\"1992\",\"r\":[-0.8,1.7,6.1,8.2,14.7,15.6,18.8,20.7,14.4,7.7,6.3,0.6,-0.8],\"showlegend\":true,\"subplot\":\"polar\",\"theta\":[30.0,60.0,90.0,120.0,150.0,180.0,210.0,240.0,270.0,300.0,330.0,360.0,30.0],\"type\":\"scatterpolar\"}],\"name\":\"1992\"},{\"data\":[{\"hovertemplate\":\"Year=1993<br>Temperature=%{r}<br>prep_months=%{theta}<extra></extra>\",\"legendgroup\":\"1993\",\"line\":{\"color\":\"#0d0887\",\"dash\":\"solid\"},\"marker\":{\"symbol\":\"circle\"},\"mode\":\"lines\",\"name\":\"1993\",\"r\":[3.5,-0.4,4.3,10.6,14.5,16.8,16.7,17.5,13.0,7.9,1.0,3.9,3.5],\"showlegend\":true,\"subplot\":\"polar\",\"theta\":[30.0,60.0,90.0,120.0,150.0,180.0,210.0,240.0,270.0,300.0,330.0,360.0,30.0],\"type\":\"scatterpolar\"}],\"name\":\"1993\"},{\"data\":[{\"hovertemplate\":\"Year=1994<br>Temperature=%{r}<br>prep_months=%{theta}<extra></extra>\",\"legendgroup\":\"1994\",\"line\":{\"color\":\"#f0f921\",\"dash\":\"solid\"},\"marker\":{\"symbol\":\"circle\"},\"mode\":\"lines\",\"name\":\"1994\",\"r\":[2.5,2.1,9.1,7.2,12.9,16.8,21.4,19.2,13.7,9.3,7.8,3.6,2.5],\"showlegend\":true,\"subplot\":\"polar\",\"theta\":[30.0,60.0,90.0,120.0,150.0,180.0,210.0,240.0,270.0,300.0,330.0,360.0,30.0],\"type\":\"scatterpolar\"}],\"name\":\"1994\"},{\"data\":[{\"hovertemplate\":\"Year=1995<br>Temperature=%{r}<br>prep_months=%{theta}<extra></extra>\",\"legendgroup\":\"1995\",\"line\":{\"color\":\"#fdca26\",\"dash\":\"solid\"},\"marker\":{\"symbol\":\"circle\"},\"mode\":\"lines\",\"name\":\"1995\",\"r\":[0.0,5.1,3.7,8.9,12.9,14.3,20.5,17.5,11.9,12.7,3.6,-0.3,0.0],\"showlegend\":true,\"subplot\":\"polar\",\"theta\":[30.0,60.0,90.0,120.0,150.0,180.0,210.0,240.0,270.0,300.0,330.0,360.0,30.0],\"type\":\"scatterpolar\"}],\"name\":\"1995\"},{\"data\":[{\"hovertemplate\":\"Year=1996<br>Temperature=%{r}<br>prep_months=%{theta}<extra></extra>\",\"legendgroup\":\"1996\",\"line\":{\"color\":\"#fb9f3a\",\"dash\":\"solid\"},\"marker\":{\"symbol\":\"circle\"},\"mode\":\"lines\",\"name\":\"1996\",\"r\":[-0.7,-0.9,2.9,9.3,12.1,17.1,17.1,16.6,10.8,9.3,4.7,-0.8,-0.7],\"showlegend\":true,\"subplot\":\"polar\",\"theta\":[30.0,60.0,90.0,120.0,150.0,180.0,210.0,240.0,270.0,300.0,330.0,360.0,30.0],\"type\":\"scatterpolar\"}],\"name\":\"1996\"},{\"data\":[{\"hovertemplate\":\"Year=1997<br>Temperature=%{r}<br>prep_months=%{theta}<extra></extra>\",\"legendgroup\":\"1997\",\"line\":{\"color\":\"#ed7953\",\"dash\":\"solid\"},\"marker\":{\"symbol\":\"circle\"},\"mode\":\"lines\",\"name\":\"1997\",\"r\":[-1.9,4.3,7.6,7.7,13.3,15.5,16.8,19.3,14.9,8.9,4.5,2.4,-1.9],\"showlegend\":true,\"subplot\":\"polar\",\"theta\":[30.0,60.0,90.0,120.0,150.0,180.0,210.0,240.0,270.0,300.0,330.0,360.0,30.0],\"type\":\"scatterpolar\"}],\"name\":\"1997\"},{\"data\":[{\"hovertemplate\":\"Year=1998<br>Temperature=%{r}<br>prep_months=%{theta}<extra></extra>\",\"legendgroup\":\"1998\",\"line\":{\"color\":\"#d8576b\",\"dash\":\"solid\"},\"marker\":{\"symbol\":\"circle\"},\"mode\":\"lines\",\"name\":\"1998\",\"r\":[1.8,3.6,5.4,8.5,14.6,17.2,18.3,18.4,13.2,9.9,1.9,1.1,1.8],\"showlegend\":true,\"subplot\":\"polar\",\"theta\":[30.0,60.0,90.0,120.0,150.0,180.0,210.0,240.0,270.0,300.0,330.0,360.0,30.0],\"type\":\"scatterpolar\"}],\"name\":\"1998\"},{\"data\":[{\"hovertemplate\":\"Year=1999<br>Temperature=%{r}<br>prep_months=%{theta}<extra></extra>\",\"legendgroup\":\"1999\",\"line\":{\"color\":\"#bd3786\",\"dash\":\"solid\"},\"marker\":{\"symbol\":\"circle\"},\"mode\":\"lines\",\"name\":\"1999\",\"r\":[2.0,-0.5,6.0,8.9,14.9,15.0,18.6,17.8,16.6,9.3,1.9,1.8,2.0],\"showlegend\":true,\"subplot\":\"polar\",\"theta\":[30.0,60.0,90.0,120.0,150.0,180.0,210.0,240.0,270.0,300.0,330.0,360.0,30.0],\"type\":\"scatterpolar\"}],\"name\":\"1999\"},{\"data\":[{\"hovertemplate\":\"Year=2000<br>Temperature=%{r}<br>prep_months=%{theta}<extra></extra>\",\"legendgroup\":\"2000\",\"line\":{\"color\":\"#9c179e\",\"dash\":\"solid\"},\"marker\":{\"symbol\":\"circle\"},\"mode\":\"lines\",\"name\":\"2000\",\"r\":[-0.1,4.0,6.0,10.2,15.0,17.8,15.7,18.8,14.9,10.2,5.8,3.7,-0.1],\"showlegend\":true,\"subplot\":\"polar\",\"theta\":[30.0,60.0,90.0,120.0,150.0,180.0,210.0,240.0,270.0,300.0,330.0,360.0,30.0],\"type\":\"scatterpolar\"}],\"name\":\"2000\"},{\"data\":[{\"hovertemplate\":\"Year=2001<br>Temperature=%{r}<br>prep_months=%{theta}<extra></extra>\",\"legendgroup\":\"2001\",\"line\":{\"color\":\"#7201a8\",\"dash\":\"solid\"},\"marker\":{\"symbol\":\"circle\"},\"mode\":\"lines\",\"name\":\"2001\",\"r\":[1.5,3.4,6.7,6.8,15.3,15.0,18.5,19.0,11.5,13.1,2.7,-0.3,1.5],\"showlegend\":true,\"subplot\":\"polar\",\"theta\":[30.0,60.0,90.0,120.0,150.0,180.0,210.0,240.0,270.0,300.0,330.0,360.0,30.0],\"type\":\"scatterpolar\"}],\"name\":\"2001\"},{\"data\":[{\"hovertemplate\":\"Year=2002<br>Temperature=%{r}<br>prep_months=%{theta}<extra></extra>\",\"legendgroup\":\"2002\",\"line\":{\"color\":\"#46039f\",\"dash\":\"solid\"},\"marker\":{\"symbol\":\"circle\"},\"mode\":\"lines\",\"name\":\"2002\",\"r\":[0.6,5.5,7.0,8.9,12.8,19.1,18.0,17.5,12.8,9.9,6.5,3.7,0.6],\"showlegend\":true,\"subplot\":\"polar\",\"theta\":[30.0,60.0,90.0,120.0,150.0,180.0,210.0,240.0,270.0,300.0,330.0,360.0,30.0],\"type\":\"scatterpolar\"}],\"name\":\"2002\"},{\"data\":[{\"hovertemplate\":\"Year=2003<br>Temperature=%{r}<br>prep_months=%{theta}<extra></extra>\",\"legendgroup\":\"2003\",\"line\":{\"color\":\"#0d0887\",\"dash\":\"solid\"},\"marker\":{\"symbol\":\"circle\"},\"mode\":\"lines\",\"name\":\"2003\",\"r\":[0.0,-2.0,7.4,9.2,14.6,22.3,19.8,22.7,14.5,6.4,5.4,1.2,0.0],\"showlegend\":true,\"subplot\":\"polar\",\"theta\":[30.0,60.0,90.0,120.0,150.0,180.0,210.0,240.0,270.0,300.0,330.0,360.0,30.0],\"type\":\"scatterpolar\"}],\"name\":\"2003\"},{\"data\":[{\"hovertemplate\":\"Year=2004<br>Temperature=%{r}<br>prep_months=%{theta}<extra></extra>\",\"legendgroup\":\"2004\",\"line\":{\"color\":\"#f0f921\",\"dash\":\"solid\"},\"marker\":{\"symbol\":\"circle\"},\"mode\":\"lines\",\"name\":\"2004\",\"r\":[0.9,2.1,4.4,9.6,11.9,16.4,17.8,18.7,15.2,11.4,4.3,0.7,0.9],\"showlegend\":true,\"subplot\":\"polar\",\"theta\":[30.0,60.0,90.0,120.0,150.0,180.0,210.0,240.0,270.0,300.0,330.0,360.0,30.0],\"type\":\"scatterpolar\"}],\"name\":\"2004\"},{\"data\":[{\"hovertemplate\":\"Year=2005<br>Temperature=%{r}<br>prep_months=%{theta}<extra></extra>\",\"legendgroup\":\"2005\",\"line\":{\"color\":\"#fdca26\",\"dash\":\"solid\"},\"marker\":{\"symbol\":\"circle\"},\"mode\":\"lines\",\"name\":\"2005\",\"r\":[0.5,-1.1,5.6,9.3,13.7,18.3,18.3,16.3,15.6,11.0,3.9,-0.4,0.5],\"showlegend\":true,\"subplot\":\"polar\",\"theta\":[30.0,60.0,90.0,120.0,150.0,180.0,210.0,240.0,270.0,300.0,330.0,360.0,30.0],\"type\":\"scatterpolar\"}],\"name\":\"2005\"},{\"data\":[{\"hovertemplate\":\"Year=2006<br>Temperature=%{r}<br>prep_months=%{theta}<extra></extra>\",\"legendgroup\":\"2006\",\"line\":{\"color\":\"#fb9f3a\",\"dash\":\"solid\"},\"marker\":{\"symbol\":\"circle\"},\"mode\":\"lines\",\"name\":\"2006\",\"r\":[-2.2,0.0,3.1,8.8,13.3,17.7,22.5,14.7,16.9,12.7,7.0,2.5,-2.2],\"showlegend\":true,\"subplot\":\"polar\",\"theta\":[30.0,60.0,90.0,120.0,150.0,180.0,210.0,240.0,270.0,300.0,330.0,360.0,30.0],\"type\":\"scatterpolar\"}],\"name\":\"2006\"},{\"data\":[{\"hovertemplate\":\"Year=2007<br>Temperature=%{r}<br>prep_months=%{theta}<extra></extra>\",\"legendgroup\":\"2007\",\"line\":{\"color\":\"#ed7953\",\"dash\":\"solid\"},\"marker\":{\"symbol\":\"circle\"},\"mode\":\"lines\",\"name\":\"2007\",\"r\":[4.5,4.8,5.7,13.9,14.6,17.2,17.6,17.0,13.0,9.3,2.9,0.6,4.5],\"showlegend\":true,\"subplot\":\"polar\",\"theta\":[30.0,60.0,90.0,120.0,150.0,180.0,210.0,240.0,270.0,300.0,330.0,360.0,30.0],\"type\":\"scatterpolar\"}],\"name\":\"2007\"},{\"data\":[{\"hovertemplate\":\"Year=2008<br>Temperature=%{r}<br>prep_months=%{theta}<extra></extra>\",\"legendgroup\":\"2008\",\"line\":{\"color\":\"#d8576b\",\"dash\":\"solid\"},\"marker\":{\"symbol\":\"circle\"},\"mode\":\"lines\",\"name\":\"2008\",\"r\":[3.1,3.9,4.7,7.9,15.4,17.3,18.4,17.7,12.3,10.0,4.3,0.5,3.1],\"showlegend\":true,\"subplot\":\"polar\",\"theta\":[30.0,60.0,90.0,120.0,150.0,180.0,210.0,240.0,270.0,300.0,330.0,360.0,30.0],\"type\":\"scatterpolar\"}],\"name\":\"2008\"},{\"data\":[{\"hovertemplate\":\"Year=2009<br>Temperature=%{r}<br>prep_months=%{theta}<extra></extra>\",\"legendgroup\":\"2009\",\"line\":{\"color\":\"#bd3786\",\"dash\":\"solid\"},\"marker\":{\"symbol\":\"circle\"},\"mode\":\"lines\",\"name\":\"2009\",\"r\":[-1.9,0.4,4.2,12.0,15.4,16.5,18.6,19.9,15.4,9.6,7.2,1.1,-1.9],\"showlegend\":true,\"subplot\":\"polar\",\"theta\":[30.0,60.0,90.0,120.0,150.0,180.0,210.0,240.0,270.0,300.0,330.0,360.0,30.0],\"type\":\"scatterpolar\"}],\"name\":\"2009\"},{\"data\":[{\"hovertemplate\":\"Year=2010<br>Temperature=%{r}<br>prep_months=%{theta}<extra></extra>\",\"legendgroup\":\"2010\",\"line\":{\"color\":\"#9c179e\",\"dash\":\"solid\"},\"marker\":{\"symbol\":\"circle\"},\"mode\":\"lines\",\"name\":\"2010\",\"r\":[-1.9,0.9,4.6,10.1,11.5,16.9,20.0,17.2,13.2,8.7,5.3,-0.8,-1.9],\"showlegend\":true,\"subplot\":\"polar\",\"theta\":[30.0,60.0,90.0,120.0,150.0,180.0,210.0,240.0,270.0,300.0,330.0,360.0,30.0],\"type\":\"scatterpolar\"}],\"name\":\"2010\"},{\"data\":[{\"hovertemplate\":\"Year=2011<br>Temperature=%{r}<br>prep_months=%{theta}<extra></extra>\",\"legendgroup\":\"2011\",\"line\":{\"color\":\"#7201a8\",\"dash\":\"solid\"},\"marker\":{\"symbol\":\"circle\"},\"mode\":\"lines\",\"name\":\"2011\",\"r\":[1.2,2.7,6.6,12.7,15.3,16.8,16.5,19.2,16.4,9.5,5.1,3.6,1.2],\"showlegend\":true,\"subplot\":\"polar\",\"theta\":[30.0,60.0,90.0,120.0,150.0,180.0,210.0,240.0,270.0,300.0,330.0,360.0,30.0],\"type\":\"scatterpolar\"}],\"name\":\"2011\"},{\"data\":[{\"hovertemplate\":\"Year=2012<br>Temperature=%{r}<br>prep_months=%{theta}<extra></extra>\",\"legendgroup\":\"2012\",\"line\":{\"color\":\"#46039f\",\"dash\":\"solid\"},\"marker\":{\"symbol\":\"circle\"},\"mode\":\"lines\",\"name\":\"2012\",\"r\":[2.0,-3.5,8.2,9.0,14.2,17.5,17.9,19.5,14.2,9.7,5.8,2.0,2.0],\"showlegend\":true,\"subplot\":\"polar\",\"theta\":[30.0,60.0,90.0,120.0,150.0,180.0,210.0,240.0,270.0,300.0,330.0,360.0,30.0],\"type\":\"scatterpolar\"}],\"name\":\"2012\"},{\"data\":[{\"hovertemplate\":\"Year=2013<br>Temperature=%{r}<br>prep_months=%{theta}<extra></extra>\",\"legendgroup\":\"2013\",\"line\":{\"color\":\"#0d0887\",\"dash\":\"solid\"},\"marker\":{\"symbol\":\"circle\"},\"mode\":\"lines\",\"name\":\"2013\",\"r\":[0.6,-1.3,2.5,8.8,10.9,16.1,20.7,18.7,14.7,11.3,4.0,1.7,0.6],\"showlegend\":true,\"subplot\":\"polar\",\"theta\":[30.0,60.0,90.0,120.0,150.0,180.0,210.0,240.0,270.0,300.0,330.0,360.0,30.0],\"type\":\"scatterpolar\"}],\"name\":\"2013\"},{\"data\":[{\"hovertemplate\":\"Year=2014<br>Temperature=%{r}<br>prep_months=%{theta}<extra></extra>\",\"legendgroup\":\"2014\",\"line\":{\"color\":\"#f0f921\",\"dash\":\"solid\"},\"marker\":{\"symbol\":\"circle\"},\"mode\":\"lines\",\"name\":\"2014\",\"r\":[3.1,4.1,7.3,10.9,12.6,18.0,17.6,16.4,15.2,12.4,6.6,3.1,3.1],\"showlegend\":true,\"subplot\":\"polar\",\"theta\":[30.0,60.0,90.0,120.0,150.0,180.0,210.0,240.0,270.0,300.0,330.0,360.0,30.0],\"type\":\"scatterpolar\"}],\"name\":\"2014\"},{\"data\":[{\"hovertemplate\":\"Year=2015<br>Temperature=%{r}<br>prep_months=%{theta}<extra></extra>\",\"legendgroup\":\"2015\",\"line\":{\"color\":\"#fdca26\",\"dash\":\"solid\"},\"marker\":{\"symbol\":\"circle\"},\"mode\":\"lines\",\"name\":\"2015\",\"r\":[1.9,-0.5,6.4,10.1,13.8,17.9,22.2,20.4,13.2,9.2,7.8,4.4,1.9],\"showlegend\":true,\"subplot\":\"polar\",\"theta\":[30.0,60.0,90.0,120.0,150.0,180.0,210.0,240.0,270.0,300.0,330.0,360.0,30.0],\"type\":\"scatterpolar\"}],\"name\":\"2015\"},{\"data\":[{\"hovertemplate\":\"Year=2016<br>Temperature=%{r}<br>prep_months=%{theta}<extra></extra>\",\"legendgroup\":\"2016\",\"line\":{\"color\":\"#fb9f3a\",\"dash\":\"solid\"},\"marker\":{\"symbol\":\"circle\"},\"mode\":\"lines\",\"name\":\"2016\",\"r\":[2.8,3.9,4.7,8.9,12.8,16.4,19.4,19.0,16.8,8.5,4.9,0.7,2.8],\"showlegend\":true,\"subplot\":\"polar\",\"theta\":[30.0,60.0,90.0,120.0,150.0,180.0,210.0,240.0,270.0,300.0,330.0,360.0,30.0],\"type\":\"scatterpolar\"}],\"name\":\"2016\"},{\"data\":[{\"hovertemplate\":\"Year=2017<br>Temperature=%{r}<br>prep_months=%{theta}<extra></extra>\",\"legendgroup\":\"2017\",\"line\":{\"color\":\"#ed7953\",\"dash\":\"solid\"},\"marker\":{\"symbol\":\"circle\"},\"mode\":\"lines\",\"name\":\"2017\",\"r\":[-3.0,3.7,8.5,8.8,14.8,19.9,19.2,19.5,13.1,11.3,4.8,1.3,-3.0],\"showlegend\":true,\"subplot\":\"polar\",\"theta\":[30.0,60.0,90.0,120.0,150.0,180.0,210.0,240.0,270.0,300.0,330.0,360.0,30.0],\"type\":\"scatterpolar\"}],\"name\":\"2017\"},{\"data\":[{\"hovertemplate\":\"Year=2018<br>Temperature=%{r}<br>prep_months=%{theta}<extra></extra>\",\"legendgroup\":\"2018\",\"line\":{\"color\":\"#d8576b\",\"dash\":\"solid\"},\"marker\":{\"symbol\":\"circle\"},\"mode\":\"lines\",\"name\":\"2018\",\"r\":[4.8,-1.5,3.8,13.5,15.4,18.5,21.2,20.8,16.4,11.2,5.4,3.5,4.8],\"showlegend\":true,\"subplot\":\"polar\",\"theta\":[30.0,60.0,90.0,120.0,150.0,180.0,210.0,240.0,270.0,300.0,330.0,360.0,30.0],\"type\":\"scatterpolar\"}],\"name\":\"2018\"},{\"data\":[{\"hovertemplate\":\"Year=2019<br>Temperature=%{r}<br>prep_months=%{theta}<extra></extra>\",\"legendgroup\":\"2019\",\"line\":{\"color\":\"#bd3786\",\"dash\":\"solid\"},\"marker\":{\"symbol\":\"circle\"},\"mode\":\"lines\",\"name\":\"2019\",\"r\":[0.1,3.9,7.2,9.3,10.6,19.6,20.7,18.9,15.0,11.6,5.5,3.8,0.1],\"showlegend\":true,\"subplot\":\"polar\",\"theta\":[30.0,60.0,90.0,120.0,150.0,180.0,210.0,240.0,270.0,300.0,330.0,360.0,30.0],\"type\":\"scatterpolar\"}],\"name\":\"2019\"},{\"data\":[{\"hovertemplate\":\"Year=2020<br>Temperature=%{r}<br>prep_months=%{theta}<extra></extra>\",\"legendgroup\":\"2020\",\"line\":{\"color\":\"#9c179e\",\"dash\":\"solid\"},\"marker\":{\"symbol\":\"circle\"},\"mode\":\"lines\",\"name\":\"2020\",\"r\":[2.6,6.2,5.9,12.9,13.6,16.3,20.0,19.7,16.1,9.5,5.9,2.1,2.6],\"showlegend\":true,\"subplot\":\"polar\",\"theta\":[30.0,60.0,90.0,120.0,150.0,180.0,210.0,240.0,270.0,300.0,330.0,360.0,30.0],\"type\":\"scatterpolar\"}],\"name\":\"2020\"},{\"data\":[{\"hovertemplate\":\"Year=2021<br>Temperature=%{r}<br>prep_months=%{theta}<extra></extra>\",\"legendgroup\":\"2021\",\"line\":{\"color\":\"#7201a8\",\"dash\":\"solid\"},\"marker\":{\"symbol\":\"circle\"},\"mode\":\"lines\",\"name\":\"2021\",\"r\":[0.6,4.0,5.6,8.1,10.9,18.9,17.8,17.2,16.1,9.5,3.8,2.7,0.6],\"showlegend\":true,\"subplot\":\"polar\",\"theta\":[30.0,60.0,90.0,120.0,150.0,180.0,210.0,240.0,270.0,300.0,330.0,360.0,30.0],\"type\":\"scatterpolar\"}],\"name\":\"2021\"},{\"data\":[{\"hovertemplate\":\"Year=2022<br>Temperature=%{r}<br>prep_months=%{theta}<extra></extra>\",\"legendgroup\":\"2022\",\"line\":{\"color\":\"#46039f\",\"dash\":\"solid\"},\"marker\":{\"symbol\":\"circle\"},\"mode\":\"lines\",\"name\":\"2022\",\"r\":[1.7,4.5,7.2,9.2,16.0,19.5,21.3,20.4,14.3,13.7,7.3,2.7,1.7],\"showlegend\":true,\"subplot\":\"polar\",\"theta\":[30.0,60.0,90.0,120.0,150.0,180.0,210.0,240.0,270.0,300.0,330.0,360.0,30.0],\"type\":\"scatterpolar\"}],\"name\":\"2022\"},{\"data\":[{\"hovertemplate\":\"Year=2023<br>Temperature=%{r}<br>prep_months=%{theta}<extra></extra>\",\"legendgroup\":\"2023\",\"line\":{\"color\":\"#0d0887\",\"dash\":\"solid\"},\"marker\":{\"symbol\":\"circle\"},\"mode\":\"lines\",\"name\":\"2023\",\"r\":[2.9,3.5,7.0,8.2,13.8,20.0,2.9],\"showlegend\":true,\"subplot\":\"polar\",\"theta\":[30.0,60.0,90.0,120.0,150.0,180.0,30.0],\"type\":\"scatterpolar\"}],\"name\":\"2023\"}]);\n                        }).then(function(){\n                            \nvar gd = document.getElementById('f0477fba-91d6-496f-89d0-08a04619dcc0');\nvar x = new MutationObserver(function (mutations, observer) {{\n        var display = window.getComputedStyle(gd).display;\n        if (!display || display === 'none') {{\n            console.log([gd, 'removed!']);\n            Plotly.purge(gd);\n            observer.disconnect();\n        }}\n}});\n\n// Listen for the removal of the full notebook cells\nvar notebookContainer = gd.closest('#notebook-container');\nif (notebookContainer) {{\n    x.observe(notebookContainer, {childList: true});\n}}\n\n// Listen for the clearing of the current output cell\nvar outputEl = gd.closest('.output');\nif (outputEl) {{\n    x.observe(outputEl, {childList: true});\n}}\n\n                        })                };                });            </script>        </div>"
     },
     "metadata": {},
     "output_type": "display_data"
    }
   ],
   "source": [
    "# Jahresuhr der Temperatur\n",
    "fig = px.line_polar(df, r=\"Temperature\", range_r = [0,20], theta=\"prep_months\", color=\"Year\", line_close=True,animation_frame=\"Year\",\n",
    "                    color_discrete_sequence=px.colors.sequential.Plasma_r,\n",
    "                    template=\"plotly_dark\",)\n",
    "fig.show()"
   ],
   "metadata": {
    "collapsed": false,
    "pycharm": {
     "name": "#%%\n"
    }
   }
  },
  {
   "cell_type": "code",
   "execution_count": null,
   "outputs": [],
   "source": [],
   "metadata": {
    "collapsed": false,
    "pycharm": {
     "name": "#%%\n"
    }
   }
  }
 ],
 "metadata": {
  "kernelspec": {
   "display_name": "Python 3",
   "language": "python",
   "name": "python3"
  },
  "language_info": {
   "codemirror_mode": {
    "name": "ipython",
    "version": 2
   },
   "file_extension": ".py",
   "mimetype": "text/x-python",
   "name": "python",
   "nbconvert_exporter": "python",
   "pygments_lexer": "ipython2",
   "version": "2.7.6"
  }
 },
 "nbformat": 4,
 "nbformat_minor": 0
}